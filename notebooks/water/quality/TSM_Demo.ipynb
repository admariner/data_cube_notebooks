{
 "cells": [
  {
   "cell_type": "markdown",
   "metadata": {},
   "source": [
    "<a id=\"TSM_Demo_top\"></a>\n",
    "# TSM Demo\n",
    "\n",
    "<hr>\n",
    "\n",
    "# Notebook Summary\n",
    "\n",
    "TSM stands for \"Total Suspended Matter\" - also called TSS which stands for \"Total Suspended Solids\". It is the dry-weight of particles suspended (not dissolved) in a body of water. It is a proxy of water quality.\n",
    "\n",
    "<hr>\n",
    "\n",
    "# Index\n",
    "\n",
    "* [Import Dependencies and Connect to the Data Cube](#TSM_Demo_import)\n",
    "* [Choose Platforms and Products](#TSM_Demo_plat_prod)\n",
    "* [Get the Extents of the Cube](#TSM_Demo_extents)\n",
    "* [Define the Extents of the Analysis](#TSM_Demo_define_extents)\n",
    "* [Load Data from the Data Cube](#TSM_Demo_load_data)\n",
    "    * Mask out clouds and create a median composite\n",
    "    * Show false-color RGB image of the composite\n",
    "* [Obtain TSM](#TSM_Demo_obtain_tsm)\n",
    "    * Mask out everything but water and calculate TSM\n",
    "    * Show the water composite\n",
    "    * Show mean TSM\n",
    "    * Show maximum TSM\n",
    "    * Show minimum TSM"
   ]
  },
  {
   "cell_type": "markdown",
   "metadata": {},
   "source": [
    "## <span id=\"TSM_Demo_import\">Import Dependencies and Connect to the Data Cube [&#9652;](#TSM_Demo_top)</span>"
   ]
  },
  {
   "cell_type": "code",
   "execution_count": null,
   "metadata": {
    "execution": {
     "iopub.execute_input": "2020-09-29T01:09:25.693826Z",
     "iopub.status.busy": "2020-09-29T01:09:25.693321Z",
     "iopub.status.idle": "2020-09-29T01:09:27.397201Z",
     "shell.execute_reply": "2020-09-29T01:09:27.396684Z"
    }
   },
   "outputs": [],
   "source": [
    "import sys\n",
    "import os\n",
    "sys.path.append(os.environ.get('NOTEBOOK_ROOT'))\n",
    "\n",
    "import warnings\n",
    "\n",
    "import matplotlib.pyplot as plt\n",
    "%matplotlib inline\n",
    "import numpy as np  \n",
    "import xarray as xr  \n",
    "\n",
    "from utils.data_cube_utilities.clean_mask import landsat_clean_mask_full \n",
    "from utils.data_cube_utilities.dc_load import get_product_extents\n",
    "from utils.data_cube_utilities.dc_time import dt_to_str\n",
    "from utils.data_cube_utilities.dc_display_map import display_map\n",
    "from utils.data_cube_utilities.dc_rgb import rgb\n",
    "from utils.data_cube_utilities.plotter_utils import figure_ratio\n",
    "from utils.data_cube_utilities.dc_water_quality import tsm\n",
    "from utils.data_cube_utilities.dc_water_classifier import wofs_classify\n",
    "\n",
    "from datacube.utils.aws import configure_s3_access\n",
    "configure_s3_access(requester_pays=True)\n",
    "\n",
    "import utils.data_cube_utilities.data_access_api as dc_api\n",
    "api = dc_api.DataAccessApi()\n",
    "dc = api.dc"
   ]
  },
  {
   "cell_type": "markdown",
   "metadata": {},
   "source": [
    "## <span id=\"TSM_Demo_plat_prod\">Choose Platforms and Products [&#9652;](#TSM_Demo_top)</span>"
   ]
  },
  {
   "cell_type": "markdown",
   "metadata": {},
   "source": [
    "**List available products for each platform**"
   ]
  },
  {
   "cell_type": "code",
   "execution_count": null,
   "metadata": {
    "execution": {
     "iopub.execute_input": "2020-09-29T01:09:27.405403Z",
     "iopub.status.busy": "2020-09-29T01:09:27.404889Z",
     "iopub.status.idle": "2020-09-29T01:09:27.437223Z",
     "shell.execute_reply": "2020-09-29T01:09:27.437597Z"
    },
    "jupyter": {
     "outputs_hidden": false
    },
    "pycharm": {
     "name": "#%%\n"
    }
   },
   "outputs": [],
   "source": [
    "# Get available products\n",
    "products_info = dc.list_products()\n",
    "\n",
    "# List Landsat 7 products\n",
    "print(\"Landsat 7 Products:\")\n",
    "products_info[[\"platform\", \"name\"]][products_info.platform == \"LANDSAT_7\"]"
   ]
  },
  {
   "cell_type": "code",
   "execution_count": null,
   "metadata": {
    "execution": {
     "iopub.execute_input": "2020-09-29T01:09:27.445154Z",
     "iopub.status.busy": "2020-09-29T01:09:27.444654Z",
     "iopub.status.idle": "2020-09-29T01:09:27.448099Z",
     "shell.execute_reply": "2020-09-29T01:09:27.447645Z"
    },
    "jupyter": {
     "outputs_hidden": false
    },
    "pycharm": {
     "name": "#%%\n"
    }
   },
   "outputs": [],
   "source": [
    "# List Landsat 8 products\n",
    "print(\"Landsat 8 Products:\")\n",
    "products_info[[\"platform\", \"name\"]][products_info.platform == \"LANDSAT_8\"]"
   ]
  },
  {
   "cell_type": "markdown",
   "metadata": {},
   "source": [
    "**Choose products**"
   ]
  },
  {
   "cell_type": "code",
   "execution_count": null,
   "metadata": {
    "execution": {
     "iopub.execute_input": "2020-09-29T01:09:27.451172Z",
     "iopub.status.busy": "2020-09-29T01:09:27.450754Z",
     "iopub.status.idle": "2020-09-29T01:09:27.452448Z",
     "shell.execute_reply": "2020-09-29T01:09:27.452868Z"
    }
   },
   "outputs": [],
   "source": [
    "# Select a product and platform\n",
    "# Examples: ghana, kenya, tanzania, sierra_leone, senegal\n",
    "\n",
    "product = 'ls8_usgs_sr_scene'\n",
    "platform = 'LANDSAT_8'\n",
    "collection = 'c1'\n",
    "level = 'l2'"
   ]
  },
  {
   "cell_type": "markdown",
   "metadata": {},
   "source": [
    "## <span id=\"TSM_Demo_extents\">Get the Extents of the Cube [&#9652;](#TSM_Demo_top)</span>"
   ]
  },
  {
   "cell_type": "code",
   "execution_count": null,
   "metadata": {
    "execution": {
     "iopub.execute_input": "2020-09-29T01:09:27.456962Z",
     "iopub.status.busy": "2020-09-29T01:09:27.456397Z",
     "iopub.status.idle": "2020-09-29T01:09:39.210091Z",
     "shell.execute_reply": "2020-09-29T01:09:39.209604Z"
    }
   },
   "outputs": [],
   "source": [
    "full_lat, full_lon, min_max_dates = get_product_extents(api, platform, product)\n",
    "\n",
    "# Print the extents of the data.\n",
    "print(\"Latitude Extents:\", full_lat)\n",
    "print(\"Longitude Extents:\", full_lon)\n",
    "print(\"Time Extents:\", list(map(dt_to_str, min_max_dates)))"
   ]
  },
  {
   "cell_type": "markdown",
   "metadata": {},
   "source": [
    "**Visualize the available area**"
   ]
  },
  {
   "cell_type": "code",
   "execution_count": null,
   "metadata": {
    "execution": {
     "iopub.execute_input": "2020-09-29T01:09:39.214512Z",
     "iopub.status.busy": "2020-09-29T01:09:39.213842Z",
     "iopub.status.idle": "2020-09-29T01:09:39.222067Z",
     "shell.execute_reply": "2020-09-29T01:09:39.222491Z"
    },
    "jupyter": {
     "outputs_hidden": false
    },
    "pycharm": {
     "name": "#%%\n"
    }
   },
   "outputs": [],
   "source": [
    "display_map(full_lat, full_lon)"
   ]
  },
  {
   "cell_type": "markdown",
   "metadata": {},
   "source": [
    "## <span id=\"TSM_Demo_define_extents\">Define the Extents of the Analysis [&#9652;](#TSM_Demo_top)</span>"
   ]
  },
  {
   "cell_type": "code",
   "execution_count": null,
   "metadata": {
    "execution": {
     "iopub.execute_input": "2020-09-29T01:09:39.225934Z",
     "iopub.status.busy": "2020-09-29T01:09:39.225478Z",
     "iopub.status.idle": "2020-09-29T01:09:39.227275Z",
     "shell.execute_reply": "2020-09-29T01:09:39.227691Z"
    }
   },
   "outputs": [],
   "source": [
    "# Select an analysis region (Lat-Lon) within the extents listed above. \n",
    "# Select a time period (Min-Max) within the extents listed above (Year-Month-Day)\n",
    "# This region and time period will be used for the cloud assessment\n",
    "\n",
    "# Weija Reservoir, Ghana\n",
    "# lat = (5.5487, 5.6203) \n",
    "# lon = (-0.4028, -0.3326)\n",
    "\n",
    "# Lake Manyara, Tanzania\n",
    "lat = (-3.8505, -3.3886) \n",
    "lon = (35.7184, 35.9271)\n",
    "\n",
    "# Delta du Saloum - Senegal\n",
    "# lat = (13.65, 13.7550)\n",
    "# lon = (-16.70, -16.65)\n",
    "\n",
    "# Time Period\n",
    "time_extents = ('2018-01-01', '2018-12-31')"
   ]
  },
  {
   "cell_type": "markdown",
   "metadata": {
    "pycharm": {
     "name": "#%% md\n"
    }
   },
   "source": [
    "**Visualize the selected area**"
   ]
  },
  {
   "cell_type": "code",
   "execution_count": null,
   "metadata": {
    "execution": {
     "iopub.execute_input": "2020-09-29T01:09:39.231184Z",
     "iopub.status.busy": "2020-09-29T01:09:39.230775Z",
     "iopub.status.idle": "2020-09-29T01:09:39.238216Z",
     "shell.execute_reply": "2020-09-29T01:09:39.238637Z"
    },
    "jupyter": {
     "outputs_hidden": false
    },
    "pycharm": {
     "name": "#%%\n"
    }
   },
   "outputs": [],
   "source": [
    "display_map(lat, lon)"
   ]
  },
  {
   "cell_type": "markdown",
   "metadata": {},
   "source": [
    "## <span id=\"TSM_Demo_load_data\">Load Data from the Data Cube [&#9652;](#TSM_Demo_top)</span>"
   ]
  },
  {
   "cell_type": "markdown",
   "metadata": {},
   "source": [
    "### Mask out clouds and create a median mosaic"
   ]
  },
  {
   "cell_type": "code",
   "execution_count": null,
   "metadata": {
    "execution": {
     "iopub.execute_input": "2020-09-29T01:09:39.243521Z",
     "iopub.status.busy": "2020-09-29T01:09:39.242855Z",
     "iopub.status.idle": "2020-09-29T01:09:41.204350Z",
     "shell.execute_reply": "2020-09-29T01:09:41.203862Z"
    }
   },
   "outputs": [],
   "source": [
    "load_params = \\\n",
    "    dict(latitude = lat,\n",
    "         longitude = lon,\n",
    "         platform = platform,\n",
    "         time = time_extents,\n",
    "         product = product,\n",
    "         group_by='solar_day',\n",
    "         dask_chunks={'latitude':1000,'longitude':1000,\n",
    "                      'time':10})\n",
    "landsat_ds = \\\n",
    "    dc.load(**load_params,\n",
    "            measurements = ['red', 'green', 'blue', \n",
    "                            'nir', 'swir1', 'swir2', 'pixel_qa'])"
   ]
  },
  {
   "cell_type": "code",
   "execution_count": null,
   "metadata": {},
   "outputs": [],
   "source": [
    "max_px_x_y = 1000 # Max resolution in either x or y dimension.\n",
    "lat_stride = int(max(1, np.ceil(len(landsat_ds.latitude)/max_px_x_y)))\n",
    "lon_stride = int(max(1, np.ceil(len(landsat_ds.longitude)/max_px_x_y)))"
   ]
  },
  {
   "cell_type": "code",
   "execution_count": null,
   "metadata": {},
   "outputs": [],
   "source": [
    "landsat_ds = landsat_ds.isel(latitude=slice(0, len(landsat_ds.latitude), lat_stride),\n",
    "                             longitude=slice(0, len(landsat_ds.longitude), lon_stride))"
   ]
  },
  {
   "cell_type": "markdown",
   "metadata": {},
   "source": [
    "**Mask unclean data**"
   ]
  },
  {
   "cell_type": "code",
   "execution_count": null,
   "metadata": {
    "execution": {
     "iopub.execute_input": "2020-09-29T01:09:41.222324Z",
     "iopub.status.busy": "2020-09-29T01:09:41.207272Z",
     "iopub.status.idle": "2020-09-29T01:09:41.251714Z",
     "shell.execute_reply": "2020-09-29T01:09:41.252151Z"
    }
   },
   "outputs": [],
   "source": [
    "clean_mask = landsat_clean_mask_full(dc, landsat_ds, product=product, platform=platform,\n",
    "                                     collection=collection, level=level)"
   ]
  },
  {
   "cell_type": "code",
   "execution_count": null,
   "metadata": {
    "execution": {
     "iopub.execute_input": "2020-09-29T01:09:41.266248Z",
     "iopub.status.busy": "2020-09-29T01:09:41.265743Z",
     "iopub.status.idle": "2020-09-29T01:09:41.267879Z",
     "shell.execute_reply": "2020-09-29T01:09:41.267437Z"
    }
   },
   "outputs": [],
   "source": [
    "landsat_ds = landsat_ds.where(clean_mask).persist()"
   ]
  },
  {
   "cell_type": "markdown",
   "metadata": {},
   "source": [
    "**Create a median composite**"
   ]
  },
  {
   "cell_type": "code",
   "execution_count": null,
   "metadata": {
    "execution": {
     "iopub.execute_input": "2020-09-29T01:09:41.276607Z",
     "iopub.status.busy": "2020-09-29T01:09:41.274530Z",
     "iopub.status.idle": "2020-09-29T01:10:20.520946Z",
     "shell.execute_reply": "2020-09-29T01:10:20.520409Z"
    }
   },
   "outputs": [],
   "source": [
    "median_composite = landsat_ds.median('time').persist()"
   ]
  },
  {
   "cell_type": "markdown",
   "metadata": {},
   "source": [
    "### Show false-color RGB image of the land and water composite"
   ]
  },
  {
   "cell_type": "code",
   "execution_count": null,
   "metadata": {
    "execution": {
     "iopub.execute_input": "2020-09-29T01:10:20.536796Z",
     "iopub.status.busy": "2020-09-29T01:10:20.534873Z",
     "iopub.status.idle": "2020-09-29T01:10:20.982282Z",
     "shell.execute_reply": "2020-09-29T01:10:20.982746Z"
    }
   },
   "outputs": [],
   "source": [
    "# RGB image options\n",
    "# Standard RGB = 321 = Red, Green, Blue\n",
    "# False Color = 543 = SWIR1, NIR, Red\n",
    "# False Color (Landsat Mosaic) = 742 = SWIR2, NIR, Green\n",
    "\n",
    "std_figsize = figure_ratio(median_composite, fixed_width=8)\n",
    "fig = plt.figure(figsize=std_figsize)\n",
    "median_composite[['swir2', 'nir', 'green']].to_array()\\\n",
    "    .plot.imshow(vmin=0, vmax=4000)\n",
    "plt.show()"
   ]
  },
  {
   "cell_type": "markdown",
   "metadata": {},
   "source": [
    "## <span id=\"TSM_Demo_obtain_tsm\">Obtain TSM [&#9652;](#TSM_Demo_top)</span>"
   ]
  },
  {
   "cell_type": "markdown",
   "metadata": {},
   "source": [
    "### Mask out everything but water and calculate TSM"
   ]
  },
  {
   "cell_type": "code",
   "execution_count": null,
   "metadata": {
    "execution": {
     "iopub.execute_input": "2020-09-29T01:10:21.130141Z",
     "iopub.status.busy": "2020-09-29T01:10:21.129019Z",
     "iopub.status.idle": "2020-09-29T01:10:48.485524Z",
     "shell.execute_reply": "2020-09-29T01:10:48.486014Z"
    }
   },
   "outputs": [],
   "source": [
    "# Ignore innocuous warnings about division by zero and NaNs.\n",
    "with warnings.catch_warnings():\n",
    "    warnings.simplefilter('ignore')\n",
    "    water = wofs_classify(landsat_ds, no_data=0.0).wofs\n",
    "    water_mask = water.astype(np.bool)\n",
    "    water_composite = water.max('time', skipna=True).persist()"
   ]
  },
  {
   "cell_type": "code",
   "execution_count": null,
   "metadata": {
    "execution": {
     "iopub.execute_input": "2020-09-29T01:10:48.520547Z",
     "iopub.status.busy": "2020-09-29T01:10:48.499057Z",
     "iopub.status.idle": "2020-09-29T01:11:16.516412Z",
     "shell.execute_reply": "2020-09-29T01:11:16.515900Z"
    }
   },
   "outputs": [],
   "source": [
    "tsm_da = tsm(landsat_ds[['red', 'green']], water_mask).tsm.persist()"
   ]
  },
  {
   "cell_type": "code",
   "execution_count": null,
   "metadata": {
    "execution": {
     "iopub.execute_input": "2020-09-29T01:11:16.529537Z",
     "iopub.status.busy": "2020-09-29T01:11:16.528679Z",
     "iopub.status.idle": "2020-09-29T01:11:16.867663Z",
     "shell.execute_reply": "2020-09-29T01:11:16.867160Z"
    }
   },
   "outputs": [],
   "source": [
    "tsm_min = tsm_da.min('time', skipna=True).persist()\n",
    "tsm_mean = tsm_da.mean('time', skipna=True).persist()\n",
    "tsm_max = tsm_da.max('time', skipna=True).persist()\n",
    "del tsm_da"
   ]
  },
  {
   "cell_type": "markdown",
   "metadata": {},
   "source": [
    "### Show the water composite"
   ]
  },
  {
   "cell_type": "code",
   "execution_count": null,
   "metadata": {
    "execution": {
     "iopub.execute_input": "2020-09-29T01:11:16.872167Z",
     "iopub.status.busy": "2020-09-29T01:11:16.871730Z",
     "iopub.status.idle": "2020-09-29T01:11:17.224562Z",
     "shell.execute_reply": "2020-09-29T01:11:17.225040Z"
    }
   },
   "outputs": [],
   "source": [
    "fig = plt.figure(figsize=std_figsize)\n",
    "water_composite.plot.imshow()\n",
    "plt.show()"
   ]
  },
  {
   "cell_type": "markdown",
   "metadata": {
    "pycharm": {
     "name": "#%% md\n"
    }
   },
   "source": [
    "### Show mean TSM\n",
    "\n",
    "> Note that the color scale is different for these images. The color scale for each is determined by its distribution of values, so examine the color scales carefully to determine the estimated mass of suspended matter for a given color in each one."
   ]
  },
  {
   "cell_type": "code",
   "execution_count": null,
   "metadata": {
    "execution": {
     "iopub.execute_input": "2020-09-29T01:11:17.230203Z",
     "iopub.status.busy": "2020-09-29T01:11:17.229768Z",
     "iopub.status.idle": "2020-09-29T01:11:17.596357Z",
     "shell.execute_reply": "2020-09-29T01:11:17.596808Z"
    }
   },
   "outputs": [],
   "source": [
    "plt.figure(figsize=std_figsize)\n",
    "mean_tsm_plot = tsm_mean.plot.imshow(cmap = \"hot\", robust=True)\n",
    "plt.title('Mean Total Suspended Matter (TSM)')\n",
    "plt.xlabel('Longitude (degrees east)')\n",
    "plt.ylabel('Latitude (degrees north)')\n",
    "mean_tsm_plot.colorbar.set_label('g \\ L')\n",
    "plt.show()"
   ]
  },
  {
   "cell_type": "markdown",
   "metadata": {},
   "source": [
    "### Show maximum TSM"
   ]
  },
  {
   "cell_type": "code",
   "execution_count": null,
   "metadata": {
    "execution": {
     "iopub.execute_input": "2020-09-29T01:11:17.602060Z",
     "iopub.status.busy": "2020-09-29T01:11:17.601613Z",
     "iopub.status.idle": "2020-09-29T01:11:17.948164Z",
     "shell.execute_reply": "2020-09-29T01:11:17.948604Z"
    }
   },
   "outputs": [],
   "source": [
    "plt.figure(figsize=std_figsize)\n",
    "max_tsm_plot = tsm_max.plot.imshow(cmap = \"hot\", robust=True)\n",
    "plt.title('Maximum Total Suspended Matter (TSM)')\n",
    "plt.xlabel('Longitude (degrees east)')\n",
    "plt.ylabel('Latitude (degrees north)')\n",
    "max_tsm_plot.colorbar.set_label('g \\ L')\n",
    "plt.show()"
   ]
  },
  {
   "cell_type": "markdown",
   "metadata": {},
   "source": [
    "### Show minimum TSM"
   ]
  },
  {
   "cell_type": "code",
   "execution_count": null,
   "metadata": {
    "execution": {
     "iopub.execute_input": "2020-09-29T01:11:17.953648Z",
     "iopub.status.busy": "2020-09-29T01:11:17.953197Z",
     "iopub.status.idle": "2020-09-29T01:11:18.232850Z",
     "shell.execute_reply": "2020-09-29T01:11:18.232391Z"
    }
   },
   "outputs": [],
   "source": [
    "plt.figure(figsize=std_figsize)\n",
    "minimum_tsm_plot = tsm_min.plot.imshow(cmap = \"hot\", robust=True)\n",
    "plt.title('Minimum Total Suspended Matter (TSM)')\n",
    "plt.xlabel('Longitude (degrees east)')\n",
    "plt.ylabel('Latitude (degrees north)')\n",
    "minimum_tsm_plot.colorbar.set_label('g \\ L')\n",
    "plt.show()"
   ]
  }
 ],
 "metadata": {
  "kernelspec": {
   "display_name": "Python 3",
   "language": "python",
   "name": "python3"
  },
  "language_info": {
   "codemirror_mode": {
    "name": "ipython",
    "version": 3
   },
   "file_extension": ".py",
   "mimetype": "text/x-python",
   "name": "python",
   "nbconvert_exporter": "python",
   "pygments_lexer": "ipython3",
   "version": "3.6.9"
  },
  "pycharm": {
   "stem_cell": {
    "cell_type": "raw",
    "metadata": {
     "collapsed": false
    },
    "source": []
   }
  }
 },
 "nbformat": 4,
 "nbformat_minor": 4
}
