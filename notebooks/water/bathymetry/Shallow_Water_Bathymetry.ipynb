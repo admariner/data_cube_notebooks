{
 "cells": [
  {
   "cell_type": "markdown",
   "metadata": {},
   "source": [
    "<a id=\"Shallow_Water_Bathymetry_top\"></a>\n",
    "# Shallow Water Bathymetry\n",
    "### Visualizing Differences in Depth With Spectral Analysis\n",
    "<hr>\n",
    "\n",
    "# Notebook Summary\n",
    "\n",
    "* Import data from LANDSAT 8\n",
    "* A bathymetry index is calculated\n",
    "* Contrast is adjusted to make a more interpretable visualization.\n",
    ">Citation: [Stumpf, Richard P., Kristine Holderied, and Mark Sinclair. \"Determination of water depth with high‐resolution satellite imagery over variable bottom types.\" Limnology and Oceanography 48.1part2 (2003): 547-556.](https://www.slideshare.net/fernandojeffersonprudencioparedes/stumpf-et-al-2003)\n",
    "<hr>\n",
    "\n",
    "# Index  \n",
    "\n",
    "* [Import Dependencies and Connect to the Data Cube](#Shallow_Water_Bathymetry_import)\n",
    "* [Choose the Platform and Product](#Shallow_Water_Bathymetry_plat_prod)\n",
    "* [Define the Extents of the Analysis](#Shallow_Water_Bathymetry_define_extents)\n",
    "* [Retrieve the Data](#Shallow_Water_Bathymetry_retrieve_data)\n",
    "* [Calculate the Bathymetry and NDWI Indices](#Shallow_Water_Bathymetry_bathymetry)\n",
    "* [Export Unmasked GeoTIFF](#Shallow_Water_Bathymetry_export_unmasked)\n",
    "* [Mask the Dataset Using the Quality Column and NDWI](#Shallow_Water_Bathymetry_mask)\n",
    "* [Create a Visualization Function](#Shallow_Water_Bathymetry_vis_func)\n",
    "* [Visualize the Bathymetry](#Shallow_Water_Bathymetry_bath_vis)\n",
    "* [Visualize the Bathymetry With Adjusted Contrast](#Shallow_Water_Bathymetry_bath_vis_better)"
   ]
  },
  {
   "cell_type": "markdown",
   "metadata": {},
   "source": [
    "<hr>\n",
    "\n",
    "# How It Works\n",
    "\n",
    "Bathymetry is the measurement of depth in bodies of water(Oceans, Seas or Lakes).  This notebook illustrates a technique for deriving depth of shallow water areas using purely optical features from Landsat Collection 1 imagery and draws heavily from the publication [Determination of water depth with high-resolution satelite imagery over variable bottom types](https://www.slideshare.net/fernandojeffersonprudencioparedes/stumpf-et-al-2003)."
   ]
  },
  {
   "cell_type": "markdown",
   "metadata": {},
   "source": [
    "<br>\n",
    "\n",
    "**Bathymetry Index**  \n",
    "  \n",
    "This bathymetry index uses optical `green` and `blue` values on a logarithmic scale with two tunable coefficients `m0` and `m1`.\n",
    "  \n",
    "\n",
    "$$ BATH =  m_0*\\frac{ln(blue)}{ln(green)} -m_1$$  \n",
    "\n",
    "Where: \n",
    "- `m0` is a tunable scaling factor to tune the ratio to depth <br>\n",
    "- `m1` is the offset for a depth of 0 meters.\n",
    "\n",
    "<br>\n",
    "<div class=\"alert-info\"><br>\n",
    "<b>Note: </b> that for our purposes, $m_0$ and $m_1$ are equal to <b>1</b> and <b>0</b> respectively, since we cannot determine the baseline nor the offset from spectral reflectance alone. This effectively simplifies the formula to: $$\\frac{ln(blue)}{ln(green)}$$\n",
    "<br>\n",
    "\n",
    "</div>\n"
   ]
  },
  {
   "cell_type": "markdown",
   "metadata": {},
   "source": [
    "#### Bathymetry Index Function"
   ]
  },
  {
   "cell_type": "code",
   "execution_count": null,
   "metadata": {
    "execution": {
     "iopub.execute_input": "2020-09-28T19:42:24.251637Z",
     "iopub.status.busy": "2020-09-28T19:42:24.251203Z",
     "iopub.status.idle": "2020-09-28T19:42:25.042756Z",
     "shell.execute_reply": "2020-09-28T19:42:25.043229Z"
    }
   },
   "outputs": [],
   "source": [
    "import sys\n",
    "import os\n",
    "sys.path.append(os.environ.get('NOTEBOOK_ROOT'))\n",
    "\n",
    "import numpy as np\n",
    "import pandas as pd\n",
    "import matplotlib.pyplot as plt\n",
    "import seaborn as sns\n",
    "\n",
    "def bathymetry_index(df, m0 = 1, m1 = 0):\n",
    "    return m0*(np.log(df.blue)/np.log(df.green))+m1"
   ]
  },
  {
   "cell_type": "markdown",
   "metadata": {},
   "source": [
    "## <span id=\"Shallow_Water_Bathymetry_import\">Import Dependencies and Connect to the Data Cube [&#9652;](#Shallow_Water_Bathymetry_top)</span>  "
   ]
  },
  {
   "cell_type": "code",
   "execution_count": null,
   "metadata": {
    "execution": {
     "iopub.execute_input": "2020-09-28T19:42:25.046641Z",
     "iopub.status.busy": "2020-09-28T19:42:25.045952Z",
     "iopub.status.idle": "2020-09-28T19:42:26.049173Z",
     "shell.execute_reply": "2020-09-28T19:42:26.049639Z"
    }
   },
   "outputs": [],
   "source": [
    "from datacube.utils.aws import configure_s3_access\n",
    "configure_s3_access(requester_pays=True)\n",
    "\n",
    "import datacube\n",
    "dc = datacube.Datacube()"
   ]
  },
  {
   "cell_type": "markdown",
   "metadata": {},
   "source": [
    "## <span id=\"Shallow_Water_Bathymetry_plat_prod\">Choose the Platform and Product [&#9652;](#Shallow_Water_Bathymetry_top)</span>"
   ]
  },
  {
   "cell_type": "code",
   "execution_count": null,
   "metadata": {
    "execution": {
     "iopub.execute_input": "2020-09-28T19:42:26.058186Z",
     "iopub.status.busy": "2020-09-28T19:42:26.057442Z",
     "iopub.status.idle": "2020-09-28T19:42:26.104847Z",
     "shell.execute_reply": "2020-09-28T19:42:26.105266Z"
    }
   },
   "outputs": [],
   "source": [
    "#List the products available on this server/device\n",
    "dc.list_products()"
   ]
  },
  {
   "cell_type": "code",
   "execution_count": null,
   "metadata": {
    "execution": {
     "iopub.execute_input": "2020-09-28T19:42:26.108370Z",
     "iopub.status.busy": "2020-09-28T19:42:26.107961Z",
     "iopub.status.idle": "2020-09-28T19:42:26.110140Z",
     "shell.execute_reply": "2020-09-28T19:42:26.109704Z"
    }
   },
   "outputs": [],
   "source": [
    "#create a list of the desired platforms\n",
    "platform = 'LANDSAT_8'\n",
    "product = 'ls8_level1_usgs'"
   ]
  },
  {
   "cell_type": "markdown",
   "metadata": {},
   "source": [
    "## <span id=\"Shallow_Water_Bathymetry_define_extents\">Define the Extents of the Analysis [&#9652;](#Shallow_Water_Bathymetry_top)</span>"
   ]
  },
  {
   "cell_type": "markdown",
   "metadata": {},
   "source": [
    "### Region bounds"
   ]
  },
  {
   "cell_type": "code",
   "execution_count": null,
   "metadata": {
    "execution": {
     "iopub.execute_input": "2020-09-28T19:42:26.113351Z",
     "iopub.status.busy": "2020-09-28T19:42:26.112921Z",
     "iopub.status.idle": "2020-09-28T19:42:26.114618Z",
     "shell.execute_reply": "2020-09-28T19:42:26.115031Z"
    }
   },
   "outputs": [],
   "source": [
    "# East Coast of Australia\n",
    "lat_subsect = (-31.7, -32.2)\n",
    "lon_subsect = (152.4, 152.9)"
   ]
  },
  {
   "cell_type": "code",
   "execution_count": null,
   "metadata": {
    "execution": {
     "iopub.execute_input": "2020-09-28T19:42:26.118750Z",
     "iopub.status.busy": "2020-09-28T19:42:26.118237Z",
     "iopub.status.idle": "2020-09-28T19:42:26.120931Z",
     "shell.execute_reply": "2020-09-28T19:42:26.120500Z"
    }
   },
   "outputs": [],
   "source": [
    "print('''\n",
    "Latitude:\\t{0}\\t\\tRange:\\t{2} degrees\n",
    "Longitude:\\t{1}\\t\\tRange:\\t{3} degrees\n",
    "'''.format(lat_subsect,\n",
    "           lon_subsect,\n",
    "           max(lat_subsect)-min(lat_subsect),\n",
    "           max(lon_subsect)-min(lon_subsect)))"
   ]
  },
  {
   "cell_type": "markdown",
   "metadata": {},
   "source": [
    "### Display"
   ]
  },
  {
   "cell_type": "code",
   "execution_count": null,
   "metadata": {
    "execution": {
     "iopub.execute_input": "2020-09-28T19:42:26.123797Z",
     "iopub.status.busy": "2020-09-28T19:42:26.123389Z",
     "iopub.status.idle": "2020-09-28T19:42:26.307005Z",
     "shell.execute_reply": "2020-09-28T19:42:26.307418Z"
    }
   },
   "outputs": [],
   "source": [
    "from utils.data_cube_utilities.dc_display_map import display_map      \n",
    "display_map(latitude = lat_subsect,longitude = lon_subsect)"
   ]
  },
  {
   "cell_type": "markdown",
   "metadata": {},
   "source": [
    "## <span id=\"Shallow_Water_Bathymetry_retrieve_data\">Retrieve the Data [&#9652;](#Shallow_Water_Bathymetry_top)</span>"
   ]
  },
  {
   "cell_type": "markdown",
   "metadata": {},
   "source": [
    "#### Load and integrate datasets"
   ]
  },
  {
   "cell_type": "code",
   "execution_count": null,
   "metadata": {
    "execution": {
     "iopub.execute_input": "2020-09-28T19:42:26.311830Z",
     "iopub.status.busy": "2020-09-28T19:42:26.311409Z",
     "iopub.status.idle": "2020-09-28T19:42:26.433977Z",
     "shell.execute_reply": "2020-09-28T19:42:26.434421Z"
    }
   },
   "outputs": [],
   "source": [
    "%%time\n",
    "ds = dc.load(lat = lat_subsect,\n",
    "             lon = lon_subsect,\n",
    "             platform = platform,\n",
    "             product = product,\n",
    "             output_crs = \"EPSG:32756\",\n",
    "             measurements = [\"red\",\"blue\",\"green\",\"nir\",\"quality\"],\n",
    "             resolution = (-30,30))"
   ]
  },
  {
   "cell_type": "code",
   "execution_count": null,
   "metadata": {
    "execution": {
     "iopub.execute_input": "2020-09-28T19:42:26.437478Z",
     "iopub.status.busy": "2020-09-28T19:42:26.437022Z",
     "iopub.status.idle": "2020-09-28T19:42:26.446098Z",
     "shell.execute_reply": "2020-09-28T19:42:26.445077Z"
    }
   },
   "outputs": [],
   "source": [
    "ds"
   ]
  },
  {
   "cell_type": "markdown",
   "metadata": {},
   "source": [
    "#### Preview the Data"
   ]
  },
  {
   "cell_type": "code",
   "execution_count": null,
   "metadata": {
    "scrolled": false
   },
   "outputs": [],
   "source": [
    "from utils.data_cube_utilities.dc_rgb import rgb\n",
    "rgb(ds.isel(time=6), x_coord='x', y_coord='y')\n",
    "plt.show()"
   ]
  },
  {
   "cell_type": "markdown",
   "metadata": {},
   "source": [
    "## <span id=\"Shallow_Water_Bathymetry_bathymetry\">Calculate the Bathymetry and NDWI Indices [&#9652;](#Shallow_Water_Bathymetry_top)</span>\n",
    "> * The bathymetry function is located at the top of this notebook."
   ]
  },
  {
   "cell_type": "code",
   "execution_count": null,
   "metadata": {
    "scrolled": false
   },
   "outputs": [],
   "source": [
    "# Create Bathemtry Index column\n",
    "ds[\"bathymetry\"] = bathymetry_index(ds)"
   ]
  },
  {
   "cell_type": "code",
   "execution_count": null,
   "metadata": {},
   "outputs": [],
   "source": [
    "from utils.data_cube_utilities.dc_water_classifier import NDWI\n",
    "# (green - nir) / (green + nir)\n",
    "ds[\"ndwi\"] = NDWI(ds, band_pair=1)"
   ]
  },
  {
   "cell_type": "markdown",
   "metadata": {},
   "source": [
    "<hr>\n",
    "\n",
    "#### Preview Combined Dataset"
   ]
  },
  {
   "cell_type": "code",
   "execution_count": null,
   "metadata": {
    "scrolled": true
   },
   "outputs": [],
   "source": [
    "ds"
   ]
  },
  {
   "cell_type": "markdown",
   "metadata": {},
   "source": [
    "## <span id=\"Shallow_Water_Bathymetry_export_unmasked\">Export Unmasked GeoTIFF [&#9652;](#Shallow_Water_Bathymetry_top)</span>"
   ]
  },
  {
   "cell_type": "code",
   "execution_count": null,
   "metadata": {
    "scrolled": false
   },
   "outputs": [],
   "source": [
    "import os\n",
    "from utils.data_cube_utilities.import_export import export_xarray_to_multiple_geotiffs\n",
    "\n",
    "unmasked_dir = \"geotiffs/landsat8/unmasked\"\n",
    "if not os.path.exists(unmasked_dir):\n",
    "    os.makedirs(unmasked_dir)\n",
    "export_xarray_to_multiple_geotiffs(ds, unmasked_dir + \"/unmasked.tif\",\n",
    "                                   x_coord='x', y_coord='y')"
   ]
  },
  {
   "cell_type": "markdown",
   "metadata": {},
   "source": [
    "## <span id=\"Shallow_Water_Bathymetry_mask\">Mask the Dataset Using the Quality Column and NDWI [&#9652;](#Shallow_Water_Bathymetry_top)</span>"
   ]
  },
  {
   "cell_type": "code",
   "execution_count": null,
   "metadata": {},
   "outputs": [],
   "source": [
    "# preview values\n",
    "np.unique(ds[\"quality\"])"
   ]
  },
  {
   "cell_type": "markdown",
   "metadata": {},
   "source": [
    "#### Use NDWI to Mask Out Land\n",
    "> The threshold can be tuned if need be to better fit the RGB image above. <br>\n",
    "> Unfortunately our existing WOFS algorithm is designed to work with Surface Reflectance (SR) and does not work with this data yet but with a few modifications it could be made to do so.  We will approximate the WOFs mask with `NDWI` for now."
   ]
  },
  {
   "cell_type": "code",
   "execution_count": null,
   "metadata": {},
   "outputs": [],
   "source": [
    "# Tunable threshold for masking the land out\n",
    "threshold = .05\n",
    "\n",
    "water = (ds.ndwi>threshold).values"
   ]
  },
  {
   "cell_type": "code",
   "execution_count": null,
   "metadata": {},
   "outputs": [],
   "source": [
    "#preview one time slice to determine the effectiveness of the NDWI masking\n",
    "rgb(ds.where(water).isel(time=6), x_coord='x', y_coord='y')\n",
    "plt.show()"
   ]
  },
  {
   "cell_type": "code",
   "execution_count": null,
   "metadata": {},
   "outputs": [],
   "source": [
    "from utils.data_cube_utilities.dc_mosaic import ls8_oli_unpack_qa\n",
    "clear_xarray  = ls8_oli_unpack_qa(ds.quality, \"clear\")"
   ]
  },
  {
   "cell_type": "code",
   "execution_count": null,
   "metadata": {},
   "outputs": [],
   "source": [
    "full_mask = np.logical_and(clear_xarray, water)\n",
    "\n",
    "ds = ds.where(full_mask)"
   ]
  },
  {
   "cell_type": "markdown",
   "metadata": {},
   "source": [
    "## <span id=\"Shallow_Water_Bathymetry_vis_func\">Create a Visualization Function [&#9652;](#Shallow_Water_Bathymetry_top)</span>"
   ]
  },
  {
   "cell_type": "markdown",
   "metadata": {},
   "source": [
    "#### Visualize the distribution of the bathymetry index for the water pixels"
   ]
  },
  {
   "cell_type": "code",
   "execution_count": null,
   "metadata": {},
   "outputs": [],
   "source": [
    "plt.figure(figsize=[15,5])\n",
    "\n",
    "#Visualize the distribution of the remaining data\n",
    "sns.boxplot(ds['bathymetry'])\n",
    "plt.show()"
   ]
  },
  {
   "cell_type": "markdown",
   "metadata": {},
   "source": [
    "> <b>Interpretation: </b> We can see that most of the values fall within a very short range.  We can scale our plot's cmap limits to fit the specific quantile ranges for the bathymetry index so we can achieve better contrast from our plots."
   ]
  },
  {
   "cell_type": "code",
   "execution_count": null,
   "metadata": {},
   "outputs": [],
   "source": [
    "#set the quantile range in either direction from the median value\n",
    "def get_quantile_range(col, quantile_range = .25):\n",
    "    low = ds[col].quantile(.5 - quantile_range,[\"time\",\"y\",\"x\"]).values\n",
    "    high = ds[col].quantile(.5 + quantile_range,[\"time\",\"y\",\"x\"]).values\n",
    "    return low,high"
   ]
  },
  {
   "cell_type": "code",
   "execution_count": null,
   "metadata": {},
   "outputs": [],
   "source": [
    "#Custom function for a color mapping object\n",
    "from matplotlib.colors import LinearSegmentedColormap\n",
    "\n",
    "def custom_color_mapper(name = \"custom\", val_range = (1.96,1.96), colors = \"RdGnBu\"):\n",
    "    custom_cmap = LinearSegmentedColormap.from_list(name,colors=colors)\n",
    "    \n",
    "    min, max = val_range\n",
    "    step = max/10.0\n",
    "    Z = [min,0],[0,max]\n",
    "    levels = np.arange(min,max+step,step)\n",
    "    cust_map = plt.contourf(Z, 100, cmap=custom_cmap)\n",
    "    plt.clf()\n",
    "    return cust_map.cmap"
   ]
  },
  {
   "cell_type": "code",
   "execution_count": null,
   "metadata": {},
   "outputs": [],
   "source": [
    "def mean_value_visual(ds, col, figsize = [15,15], cmap = \"GnBu\", low=None, high=None):\n",
    "    if low is None: low = np.min(ds[col]).values\n",
    "    if high is None: high = np.max(ds[col]).values\n",
    "    ds.reduce(np.nanmean,dim=[\"time\"])[col].plot.imshow(figsize = figsize, cmap=cmap,  \n",
    "                                                        vmin=low, vmax=high)"
   ]
  },
  {
   "cell_type": "markdown",
   "metadata": {},
   "source": [
    "## <span id=\"Shallow_Water_Bathymetry_bath_vis\">Visualize the Bathymetry [&#9652;](#Shallow_Water_Bathymetry_top)</span>"
   ]
  },
  {
   "cell_type": "code",
   "execution_count": null,
   "metadata": {
    "scrolled": false
   },
   "outputs": [],
   "source": [
    "mean_value_visual(ds, \"bathymetry\", cmap=\"GnBu\")"
   ]
  },
  {
   "cell_type": "markdown",
   "metadata": {},
   "source": [
    "## <span id=\"Shallow_Water_Bathymetry_bath_vis_better\">Visualize the Bathymetry With Adjusted Contrast [&#9652;](#Shallow_Water_Bathymetry_top)</span>\n",
    "\n",
    "> If we clamp the range of the plot using different quantile ranges we can see relative differences in higher contrast."
   ]
  },
  {
   "cell_type": "code",
   "execution_count": null,
   "metadata": {},
   "outputs": [],
   "source": [
    "# create range using the 10th and 90th quantile\n",
    "low, high = get_quantile_range(\"bathymetry\", .40)\n",
    "\n",
    "\n",
    "custom = custom_color_mapper(val_range=(low,high),\n",
    "                             colors=[\"darkred\",\"red\",\"orange\",\"yellow\",\"green\",\n",
    "                                     \"blue\",\"darkblue\",\"black\"])\n",
    "\n",
    "mean_value_visual(ds, \"bathymetry\", cmap=custom, low=low, high=high)"
   ]
  },
  {
   "cell_type": "code",
   "execution_count": null,
   "metadata": {},
   "outputs": [],
   "source": [
    "# create range using the 5th and 95th quantile\n",
    "low, high = get_quantile_range(\"bathymetry\", .45)\n",
    "\n",
    "\n",
    "custom = custom_color_mapper(val_range=(low,high),\n",
    "                             colors=[\"darkred\",\"red\",\"orange\",\"yellow\",\"green\",\n",
    "                                     \"blue\",\"darkblue\",\"black\"])\n",
    "\n",
    "mean_value_visual(ds, \"bathymetry\", cmap = custom, low=low, high = high)"
   ]
  },
  {
   "cell_type": "code",
   "execution_count": null,
   "metadata": {},
   "outputs": [],
   "source": [
    "# create range using the 2nd and 98th quantile\n",
    "low, high = get_quantile_range(\"bathymetry\", .48)\n",
    "\n",
    "\n",
    "custom = custom_color_mapper(val_range=(low,high),\n",
    "                             colors=[\"darkred\",\"red\",\"orange\",\"yellow\",\"green\",\n",
    "                                     \"blue\",\"darkblue\",\"black\"])\n",
    "\n",
    "mean_value_visual(ds, \"bathymetry\", cmap=custom, low=low, high=high)"
   ]
  },
  {
   "cell_type": "code",
   "execution_count": null,
   "metadata": {
    "scrolled": false
   },
   "outputs": [],
   "source": [
    "# create range using the 1st and 99th quantile\n",
    "low, high = get_quantile_range(\"bathymetry\", .49)\n",
    "\n",
    "\n",
    "custom = custom_color_mapper(val_range=(low,high),\n",
    "                             colors=[\"darkred\",\"red\",\"orange\",\"yellow\",\"green\",\n",
    "                                     \"blue\",\"darkblue\",\"black\"])\n",
    "\n",
    "mean_value_visual(ds, \"bathymetry\", cmap=custom, low=low, high=high)"
   ]
  }
 ],
 "metadata": {
  "kernelspec": {
   "display_name": "Python 3",
   "language": "python",
   "name": "python3"
  },
  "language_info": {
   "codemirror_mode": {
    "name": "ipython",
    "version": 3
   },
   "file_extension": ".py",
   "mimetype": "text/x-python",
   "name": "python",
   "nbconvert_exporter": "python",
   "pygments_lexer": "ipython3",
   "version": "3.6.9"
  },
  "pycharm": {
   "stem_cell": {
    "cell_type": "raw",
    "metadata": {
     "collapsed": false
    },
    "source": []
   }
  }
 },
 "nbformat": 4,
 "nbformat_minor": 2
}
