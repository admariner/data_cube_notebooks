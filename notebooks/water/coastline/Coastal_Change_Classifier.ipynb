{
 "cells": [
  {
   "cell_type": "markdown",
   "metadata": {},
   "source": [
    "<a id=\"coastal_change_classifier_top\"></a>\n",
    "\n",
    "# Coastal Change\n",
    "\n",
    "*****\n",
    "### This Notebook:  \n",
    "\n",
    "- Highlights a simple method for detecting coastal change between two timeframes\n",
    "- Visualizes water classification for two timeframes\n",
    "- Visualizes water classification changes between timeframes\n",
    "------  \n",
    "### Motivation:  \n",
    "\n",
    "International agencies like World Bank, UNEP, and USAID are currently reporting and addressing the problem of coastal erosion near Lomé, Togo.  The links listed below are references from these agencies regarding coastal erosion in Togo and coastal erosion as a world wide phenomena.  \n",
    "\n",
    "- *\"West Africa Coastal Erosion Project launched in Togo\" (2016) *  [- link](http://www.ndf.fi/news/west-africa-coastal-erosion-project-launched-togo)\n",
    "- *Agreement to Erosion Adaptation Project* (2016)  [- link](http://pubdocs.worldbank.org/en/493191479316551864/WACA-Lom%C3%A9-Communiqu%C3%A9-2016-English.pdf)\n",
    "- World Bank WACA program brochure (2015)  [- link](http://pubdocs.worldbank.org/en/622041448394069174/1606426-WACA-Brochure.pdf)\n",
    "- UNEP - Technologies for climate change adaption (2010)  [- link](http://www.unep.org/pdf/TNAhandbook_CoastalErosionFlooding.pdf)  \n",
    "- USAID - Adapting to Coastal Climate Change (2009) -  [- link](http://www.crc.uri.edu/download/CoastalAdaptationGuide.pdf)  \n",
    "- UNEP - Coastal Erosion and Climate Change in Western Africa(2002) -  [- link](http://www.unep.org/dewa/africa/publications/aeo-1/121.htm)\n",
    "  \n",
    "-------\n",
    "### Algorithmic Profile:  \n",
    "  \n",
    "- This algorithm generates a water change product.\n",
    "- The product is derived from Landsat7 Collection 1, Tier 2 sr imagery taken from USGS data holdings.    \n",
    "- Utilizes WOFS for water detection.\n",
    "-------  \n",
    "### Process:  \n",
    "\n",
    "- Load in a year's worth of data for years `y1` and `y2`, \n",
    "- Reduce noise by temporal compositing of both `y1` and `y2` to yield `y1_composite` and `y2_composite` .(This removes clouds, scanline errors, and statistical anomalies)      \n",
    "- Run WOFS water classifier on `y1_composite` and `y2_composite`, to yield `y1_water` and `y2_water`. These outputs contain a 1 for water, and 0 for not water.     \n",
    "- Subtract `y1_water` from `y2_water` to yield a `coastal_change` product. Where 0 represents no change, 1 represents water gain, and -1 represents water loss. \n",
    "*****  \n",
    "\n",
    "> **Flow Diagram**\n",
    "![](diagrams/rainy_demo/algo_nb3.png)\n",
    "\n",
    "<hr>\n",
    "\n",
    "# Index\n",
    "\n",
    "* [Import Dependencies and Connect to the Data Cube](#coastal_change_classifier_import)\n",
    "* [Choose Platform and Product](#coastal_change_classifier_plat_prod)\n",
    "* [Define the Extents of the Analysis](#coastal_change_classifier_define_extents) (selecting too much can make the acquisition process slow)\n",
    "* [Load Data from the Data Cube and Create Composites](#coastal_change_classifier_retrieve_data)\n",
    "* [Obtain Water Classifications and Coastal Change](#coastal_change_classifier_water_cls_and_coastal_change)"
   ]
  },
  {
   "cell_type": "markdown",
   "metadata": {},
   "source": [
    "## <span id=\"coastal_change_classifier_import\">Import Dependencies and Connect to the Data Cube [&#9652;](#coastal_change_classifier_top)</span>"
   ]
  },
  {
   "cell_type": "code",
   "execution_count": null,
   "metadata": {
    "execution": {
     "iopub.execute_input": "2020-09-29T01:07:49.606869Z",
     "iopub.status.busy": "2020-09-29T01:07:49.606438Z",
     "iopub.status.idle": "2020-09-29T01:07:51.087737Z",
     "shell.execute_reply": "2020-09-29T01:07:51.088113Z"
    }
   },
   "outputs": [],
   "source": [
    "import sys\n",
    "import os\n",
    "sys.path.append(os.environ.get('NOTEBOOK_ROOT'))\n",
    "\n",
    "%matplotlib inline\n",
    "\n",
    "from datetime import datetime\n",
    "import numpy as np\n",
    "\n",
    "import utils.data_cube_utilities.dc_utilities as utils\n",
    "\n",
    "from utils.data_cube_utilities.clean_mask import landsat_qa_clean_mask\n",
    "from utils.data_cube_utilities.dc_mosaic import create_mosaic#, ls8_unpack_qa\n",
    "from utils.data_cube_utilities.dc_water_classifier import wofs_classify\n",
    "\n",
    "from datacube.utils.aws import configure_s3_access\n",
    "configure_s3_access(requester_pays=True)\n",
    "\n",
    "# Initialize data cube object\n",
    "import datacube\n",
    "dc = datacube.Datacube(app='dc-coastal-erosion')"
   ]
  },
  {
   "cell_type": "code",
   "execution_count": null,
   "metadata": {
    "execution": {
     "iopub.execute_input": "2020-09-29T01:07:51.091443Z",
     "iopub.status.busy": "2020-09-29T01:07:51.091007Z",
     "iopub.status.idle": "2020-09-29T01:07:51.093240Z",
     "shell.execute_reply": "2020-09-29T01:07:51.093685Z"
    },
    "scrolled": true
   },
   "outputs": [],
   "source": [
    "start_time = datetime.now()\n",
    "print(\"Start time: \" + str(start_time))"
   ]
  },
  {
   "cell_type": "markdown",
   "metadata": {},
   "source": [
    "## <span id=\"coastal_change_classifier_plat_prod\">Choose Platform and Product [&#9652;](#coastal_change_classifier_top)</span>"
   ]
  },
  {
   "cell_type": "code",
   "execution_count": null,
   "metadata": {
    "execution": {
     "iopub.execute_input": "2020-09-29T01:07:51.096539Z",
     "iopub.status.busy": "2020-09-29T01:07:51.096122Z",
     "iopub.status.idle": "2020-09-29T01:07:51.097764Z",
     "shell.execute_reply": "2020-09-29T01:07:51.098177Z"
    }
   },
   "outputs": [],
   "source": [
    "# Set query parameters\n",
    "platform = 'LANDSAT_8'\n",
    "product  = 'ls8_usgs_sr_scene'\n",
    "collection = 'c1'\n",
    "level = 'l2'"
   ]
  },
  {
   "cell_type": "markdown",
   "metadata": {},
   "source": [
    "## <span id=\"coastal_change_classifier_define_extents\">Define the Extents of the Analysis [&#9652;](#coastal_change_classifier_top)</span>"
   ]
  },
  {
   "cell_type": "code",
   "execution_count": null,
   "metadata": {
    "execution": {
     "iopub.execute_input": "2020-09-29T01:07:51.101812Z",
     "iopub.status.busy": "2020-09-29T01:07:51.101276Z",
     "iopub.status.idle": "2020-09-29T01:07:51.103414Z",
     "shell.execute_reply": "2020-09-29T01:07:51.102969Z"
    }
   },
   "outputs": [],
   "source": [
    "# Select minimum and maximum longitudes and latitudes and the time range.\n",
    "\n",
    "# Ghana\n",
    "# Coastline east of Accra\n",
    "lon = (0.0520, 0.3458)\n",
    "lat = (5.6581, 5.8113)\n",
    "first_year = 2013\n",
    "first_time_range = (f'{first_year}-01-01', f'{first_year}-12-31')\n",
    "last_year = 2014\n",
    "second_time_range = (f'{last_year}-01-01', f'{last_year}-12-31')"
   ]
  },
  {
   "cell_type": "markdown",
   "metadata": {},
   "source": [
    "**Visualize the selected area**"
   ]
  },
  {
   "cell_type": "code",
   "execution_count": null,
   "metadata": {
    "execution": {
     "iopub.execute_input": "2020-09-29T01:07:51.106310Z",
     "iopub.status.busy": "2020-09-29T01:07:51.105890Z",
     "iopub.status.idle": "2020-09-29T01:07:51.286029Z",
     "shell.execute_reply": "2020-09-29T01:07:51.286456Z"
    }
   },
   "outputs": [],
   "source": [
    "from utils.data_cube_utilities.dc_display_map import display_map\n",
    "display_map(lat, lon)"
   ]
  },
  {
   "cell_type": "markdown",
   "metadata": {},
   "source": [
    "## <span id=\"coastal_change_classifier_retrieve_data\">Load Data from the Data Cube and Create Composites [&#9652;](#coastal_change_classifier_top)</span>"
   ]
  },
  {
   "cell_type": "code",
   "execution_count": null,
   "metadata": {},
   "outputs": [],
   "source": [
    "measurements = ['red', 'green', 'blue', 'nir', 'swir1', 'swir2', 'pixel_qa']\n",
    "common_load_params = dict(platform=platform, product=product,\n",
    "                          lon=lon, lat=lat, measurements=measurements,\n",
    "                          dask_chunks={'time':1, 'latitude':1000, 'longitude':1000})"
   ]
  },
  {
   "cell_type": "code",
   "execution_count": null,
   "metadata": {
    "execution": {
     "iopub.execute_input": "2020-09-29T01:07:51.303328Z",
     "iopub.status.busy": "2020-09-29T01:07:51.302615Z",
     "iopub.status.idle": "2020-09-29T01:07:54.382865Z",
     "shell.execute_reply": "2020-09-29T01:07:54.383390Z"
    }
   },
   "outputs": [],
   "source": [
    "# Retrieve data from Data Cube\n",
    "first_dataset = dc.load(time=first_time_range, **common_load_params)"
   ]
  },
  {
   "cell_type": "code",
   "execution_count": null,
   "metadata": {
    "execution": {
     "iopub.execute_input": "2020-09-29T01:07:54.390081Z",
     "iopub.status.busy": "2020-09-29T01:07:54.389250Z",
     "iopub.status.idle": "2020-09-29T01:07:57.462915Z",
     "shell.execute_reply": "2020-09-29T01:07:57.462193Z"
    }
   },
   "outputs": [],
   "source": [
    "# Retrieve data from Data Cube\n",
    "second_dataset = dc.load(time=second_time_range, **common_load_params)"
   ]
  },
  {
   "cell_type": "code",
   "execution_count": null,
   "metadata": {
    "execution": {
     "iopub.execute_input": "2020-09-29T01:07:57.471123Z",
     "iopub.status.busy": "2020-09-29T01:07:57.470677Z",
     "iopub.status.idle": "2020-09-29T01:07:58.942794Z",
     "shell.execute_reply": "2020-09-29T01:07:58.943240Z"
    }
   },
   "outputs": [],
   "source": [
    "from utils.data_cube_utilities.dc_utilities import ignore_warnings\n",
    "\n",
    "plt_col_lvl_params = dict(platform=platform, collection=collection, level=level)\n",
    "\n",
    "# Only keep pixels that are clear or have water.\n",
    "first_clean_mask = landsat_qa_clean_mask(first_dataset, **plt_col_lvl_params)\n",
    "second_clean_mask = landsat_qa_clean_mask(second_dataset, **plt_col_lvl_params)\n",
    "\n",
    "# Remove noise from images by using appropriate data within the dataset to replace \"dirty\" data.\n",
    "first_mosaic = ignore_warnings(create_mosaic, first_dataset, clean_mask=first_clean_mask)\n",
    "second_mosaic = ignore_warnings(create_mosaic, second_dataset, clean_mask=second_clean_mask)"
   ]
  },
  {
   "cell_type": "markdown",
   "metadata": {},
   "source": [
    "## <span id=\"coastal_change_classifier_water_cls_and_coastal_change\">Obtain Water Classifications and Coastal Change [&#9652;](#coastal_change_classifier_top)</span>"
   ]
  },
  {
   "cell_type": "code",
   "execution_count": null,
   "metadata": {
    "execution": {
     "iopub.execute_input": "2020-09-29T01:07:58.947019Z",
     "iopub.status.busy": "2020-09-29T01:07:58.946604Z",
     "iopub.status.idle": "2020-09-29T01:07:59.148067Z",
     "shell.execute_reply": "2020-09-29T01:07:59.147579Z"
    }
   },
   "outputs": [],
   "source": [
    "first_water_class = \\\n",
    "    ignore_warnings(wofs_classify, first_mosaic, mosaic=True, no_data=np.nan)\n",
    "second_water_class = \\\n",
    "    ignore_warnings(wofs_classify, second_mosaic, mosaic=True, no_data=np.nan)\n",
    "\n",
    "first_wofs = first_water_class.wofs.values\n",
    "second_wofs = second_water_class.wofs.values"
   ]
  },
  {
   "cell_type": "code",
   "execution_count": null,
   "metadata": {
    "execution": {
     "iopub.execute_input": "2020-09-29T01:07:59.152913Z",
     "iopub.status.busy": "2020-09-29T01:07:59.151605Z",
     "iopub.status.idle": "2020-09-29T01:07:59.156784Z",
     "shell.execute_reply": "2020-09-29T01:07:59.156342Z"
    }
   },
   "outputs": [],
   "source": [
    "coastal_change = second_water_class - first_water_class"
   ]
  },
  {
   "cell_type": "code",
   "execution_count": null,
   "metadata": {
    "execution": {
     "iopub.execute_input": "2020-09-29T01:07:59.160434Z",
     "iopub.status.busy": "2020-09-29T01:07:59.159934Z",
     "iopub.status.idle": "2020-09-29T01:07:59.162066Z",
     "shell.execute_reply": "2020-09-29T01:07:59.161631Z"
    }
   },
   "outputs": [],
   "source": [
    "import matplotlib.pyplot as plt \n",
    "def plot_data_array_with_aspect(da):\n",
    "    fig, ax = plt.subplots(figsize=(15,8))\n",
    "    ax.set_aspect('equal')\n",
    "    da.plot()"
   ]
  },
  {
   "cell_type": "markdown",
   "metadata": {},
   "source": [
    "**Show the coastal change**"
   ]
  },
  {
   "cell_type": "code",
   "execution_count": null,
   "metadata": {
    "execution": {
     "iopub.execute_input": "2020-09-29T01:07:59.178770Z",
     "iopub.status.busy": "2020-09-29T01:07:59.177102Z",
     "iopub.status.idle": "2020-09-29T01:07:59.688134Z",
     "shell.execute_reply": "2020-09-29T01:07:59.688576Z"
    }
   },
   "outputs": [],
   "source": [
    "# -1 -> water to coast\n",
    "#  0 -> no change\n",
    "#  1 -> coast to water (Coastal Erosion)\n",
    "\n",
    "plot_data_array_with_aspect( coastal_change.wofs )"
   ]
  },
  {
   "cell_type": "markdown",
   "metadata": {},
   "source": [
    "**Obtain the coastlines for the first and second time periods**"
   ]
  },
  {
   "cell_type": "code",
   "execution_count": null,
   "metadata": {
    "execution": {
     "iopub.execute_input": "2020-09-29T01:07:59.694978Z",
     "iopub.status.busy": "2020-09-29T01:07:59.694537Z",
     "iopub.status.idle": "2020-09-29T01:08:17.186998Z",
     "shell.execute_reply": "2020-09-29T01:08:17.187473Z"
    }
   },
   "outputs": [],
   "source": [
    "first_coastline = np.zeros(first_wofs.shape)\n",
    "\n",
    "for i in range(first_wofs.shape[0]):\n",
    "    for j in range(first_wofs.shape[1]):\n",
    "        pixel = first_wofs[i,j]\n",
    "        if pixel == 0 and np.nansum(first_wofs[i-1:i+2, j-1:j+2]) >= 1 and np.nansum(first_wofs[i-1:i+2, j-1:j+2]) <= 5:\n",
    "            first_wofs[i,j] = 1\n",
    "            \n",
    "second_coastline = np.zeros(second_wofs.shape)\n",
    "\n",
    "for i in range(second_wofs.shape[0]):\n",
    "    for j in range(second_wofs.shape[1]):\n",
    "        pixel = second_wofs[i,j]\n",
    "        if pixel == 0 and np.nansum(second_wofs[i-1:i+2, j-1:j+2]) >= 1 and np.nansum(second_wofs[i-1:i+2, j-1:j+2]) <= 5:\n",
    "            second_wofs[i,j] = 1"
   ]
  },
  {
   "cell_type": "markdown",
   "metadata": {},
   "source": [
    "**Show the water classifications for the first and second time periods**"
   ]
  },
  {
   "cell_type": "code",
   "execution_count": null,
   "metadata": {
    "execution": {
     "iopub.execute_input": "2020-09-29T01:08:17.190783Z",
     "iopub.status.busy": "2020-09-29T01:08:17.190353Z",
     "iopub.status.idle": "2020-09-29T01:08:17.192408Z",
     "shell.execute_reply": "2020-09-29T01:08:17.191976Z"
    }
   },
   "outputs": [],
   "source": [
    "import matplotlib.pyplot as plt\n",
    "import matplotlib.image as mpimg"
   ]
  },
  {
   "cell_type": "code",
   "execution_count": null,
   "metadata": {
    "execution": {
     "iopub.execute_input": "2020-09-29T01:08:17.195280Z",
     "iopub.status.busy": "2020-09-29T01:08:17.194849Z",
     "iopub.status.idle": "2020-09-29T01:08:17.199689Z",
     "shell.execute_reply": "2020-09-29T01:08:17.199263Z"
    }
   },
   "outputs": [],
   "source": [
    "from pylab import imshow"
   ]
  },
  {
   "cell_type": "code",
   "execution_count": null,
   "metadata": {
    "execution": {
     "iopub.execute_input": "2020-09-29T01:08:17.220863Z",
     "iopub.status.busy": "2020-09-29T01:08:17.216421Z",
     "iopub.status.idle": "2020-09-29T01:08:17.842116Z",
     "shell.execute_reply": "2020-09-29T01:08:17.841664Z"
    }
   },
   "outputs": [],
   "source": [
    "fig = plt.figure(figsize =  (15,8))\n",
    "a=fig.add_subplot(1,2,1) \n",
    "\n",
    "imgplot = plt.imshow(first_wofs, cmap='Blues',\n",
    "                     extent=[first_water_class.longitude.values.min(), \n",
    "                             first_water_class.longitude.values.max(),\n",
    "                             first_water_class.latitude.values.min(),\n",
    "                             first_water_class.latitude.values.max()])\n",
    "a.set_title(f'wofs - {first_year}')\n",
    "plt.colorbar(ticks=[0,1], orientation ='horizontal')\n",
    "a=fig.add_subplot(1,2,2)\n",
    "imgplot = plt.imshow(second_wofs, cmap='Blues',\n",
    "                     extent=[second_water_class.longitude.values.min(), \n",
    "                             second_water_class.longitude.values.max(),\n",
    "                             second_water_class.latitude.values.min(),\n",
    "                             second_water_class.latitude.values.max()])\n",
    "#imgplot.set_clim(0.0,1.0)\n",
    "a.set_title(f'wofs - {last_year}')\n",
    "plt.colorbar(ticks=[0,1], orientation='horizontal')\n",
    "plt.savefig('wofs_compare.png')"
   ]
  },
  {
   "cell_type": "markdown",
   "metadata": {},
   "source": [
    "**Show the coastline for the first time period**"
   ]
  },
  {
   "cell_type": "code",
   "execution_count": null,
   "metadata": {
    "execution": {
     "iopub.execute_input": "2020-09-29T01:08:17.854326Z",
     "iopub.status.busy": "2020-09-29T01:08:17.851426Z",
     "iopub.status.idle": "2020-09-29T01:08:18.067081Z",
     "shell.execute_reply": "2020-09-29T01:08:18.066611Z"
    }
   },
   "outputs": [],
   "source": [
    "fig = plt.figure(figsize =  (15,8))\n",
    "plt.imshow(first_coastline, cmap='Greens')"
   ]
  },
  {
   "cell_type": "markdown",
   "metadata": {},
   "source": [
    "**Show the coastline for the second time period**"
   ]
  },
  {
   "cell_type": "code",
   "execution_count": null,
   "metadata": {
    "execution": {
     "iopub.execute_input": "2020-09-29T01:08:18.081019Z",
     "iopub.status.busy": "2020-09-29T01:08:18.079640Z",
     "iopub.status.idle": "2020-09-29T01:08:18.296048Z",
     "shell.execute_reply": "2020-09-29T01:08:18.295584Z"
    }
   },
   "outputs": [],
   "source": [
    "fig = plt.figure(figsize =  (15,8))\n",
    "plt.imshow(second_coastline, cmap='Purples')"
   ]
  }
 ],
 "metadata": {
  "kernelspec": {
   "display_name": "Python 3",
   "language": "python",
   "name": "python3"
  },
  "language_info": {
   "codemirror_mode": {
    "name": "ipython",
    "version": 3
   },
   "file_extension": ".py",
   "mimetype": "text/x-python",
   "name": "python",
   "nbconvert_exporter": "python",
   "pygments_lexer": "ipython3",
   "version": "3.6.9"
  }
 },
 "nbformat": 4,
 "nbformat_minor": 4
}
