{
 "cells": [
  {
   "cell_type": "markdown",
   "metadata": {},
   "source": [
    "<a id='Urbanization_Using_NDBI_top'></a>\n",
    "# Urbanization Using NDBI\n",
    "<hr>\n",
    "\n",
    "## Background\n",
    "Among the many urbanization indices, the Normalized Difference Built-Up Index (NDBI) is one of the most commonly used. This notebook shows how to use NDBI in the context of the Open Data Cube.\n",
    "\n",
    "The formula for NDBI for Landsat is as follows:\n",
    "\n",
    "$$ NDBI =  \\frac{(SWIR - NIR)}{(SWIR + NIR)}$$  \n",
    "\n",
    "Note that for arid environments, the Dry Built-Up Index (DBI) may perform better than NDBI, which struggles with arid environments and some kinds of buildings. DBI requires the TIR band of Landsat 8.\n",
    "\n",
    "<br>\n",
    "\n",
    "## Index\n",
    "\n",
    "* [Import Dependencies and Connect to the Data Cube](#Urbanization_Using_NDBI_import)\n",
    "* [Choose Platform and Product](#Urbanization_Using_NDBI_plat_prod)\n",
    "* [Define the Extents of the Analysis](#Urbanization_Using_NDBI_define_extents)\n",
    "* [Load Data from the Data Cube](#Urbanization_Using_NDBI_retrieve_data)\n",
    "* [Show RGB Representation of the Area](#Urbanization_Using_NDBI_rgb)\n",
    "* [Urbanization Analysis](#Urbanization_Using_NDBI_analysis)"
   ]
  },
  {
   "cell_type": "markdown",
   "metadata": {},
   "source": [
    "## <span id=\"Urbanization_Using_NDBI_import\">Import Dependencies and Connect to the Data Cube [&#9652;](#Urbanization_Using_NDBI_top)</span>"
   ]
  },
  {
   "cell_type": "code",
   "execution_count": null,
   "metadata": {
    "execution": {
     "iopub.execute_input": "2020-09-29T01:01:51.355999Z",
     "iopub.status.busy": "2020-09-29T01:01:51.355558Z",
     "iopub.status.idle": "2020-09-29T01:01:53.053095Z",
     "shell.execute_reply": "2020-09-29T01:01:53.053604Z"
    },
    "scrolled": true
   },
   "outputs": [],
   "source": [
    "import sys\n",
    "import os\n",
    "sys.path.append(os.environ.get('NOTEBOOK_ROOT'))\n",
    "\n",
    "import matplotlib.pyplot as plt\n",
    "import xarray as xr\n",
    "\n",
    "from utils.data_cube_utilities.dc_display_map import display_map\n",
    "from utils.data_cube_utilities.dc_rgb import rgb\n",
    "\n",
    "from utils.data_cube_utilities.urbanization import NDBI\n",
    "from utils.data_cube_utilities.vegetation import NDVI\n",
    "from utils.data_cube_utilities.dc_water_classifier import NDWI\n",
    "\n",
    "from datacube.utils.aws import configure_s3_access\n",
    "configure_s3_access(requester_pays=True)\n",
    "\n",
    "import datacube\n",
    "dc = datacube.Datacube()"
   ]
  },
  {
   "cell_type": "markdown",
   "metadata": {},
   "source": [
    "## <span id=\"Urbanization_Using_NDBI_plat_prod\">Choose Platform and Product [&#9652;](#Urbanization_Using_NDBI_top)</span>"
   ]
  },
  {
   "cell_type": "code",
   "execution_count": null,
   "metadata": {
    "execution": {
     "iopub.execute_input": "2020-09-29T01:01:53.061185Z",
     "iopub.status.busy": "2020-09-29T01:01:53.060756Z",
     "iopub.status.idle": "2020-09-29T01:01:53.080020Z",
     "shell.execute_reply": "2020-09-29T01:01:53.079550Z"
    }
   },
   "outputs": [],
   "source": [
    "# Get available products\n",
    "products_info = dc.list_products()"
   ]
  },
  {
   "cell_type": "code",
   "execution_count": null,
   "metadata": {
    "execution": {
     "iopub.execute_input": "2020-09-29T01:01:53.093075Z",
     "iopub.status.busy": "2020-09-29T01:01:53.092365Z",
     "iopub.status.idle": "2020-09-29T01:01:53.099144Z",
     "shell.execute_reply": "2020-09-29T01:01:53.098707Z"
    },
    "scrolled": false
   },
   "outputs": [],
   "source": [
    "print(\"LANDSAT 7 Products:\")\n",
    "products_info[[\"platform\", \"name\"]][products_info.platform == \"LANDSAT_7\"]"
   ]
  },
  {
   "cell_type": "code",
   "execution_count": null,
   "metadata": {
    "execution": {
     "iopub.execute_input": "2020-09-29T01:01:53.106264Z",
     "iopub.status.busy": "2020-09-29T01:01:53.105840Z",
     "iopub.status.idle": "2020-09-29T01:01:53.108698Z",
     "shell.execute_reply": "2020-09-29T01:01:53.109122Z"
    }
   },
   "outputs": [],
   "source": [
    "print(\"LANDSAT 8 Products:\")\n",
    "products_info[[\"platform\", \"name\"]][products_info.platform == \"LANDSAT_8\"]"
   ]
  },
  {
   "cell_type": "markdown",
   "metadata": {},
   "source": [
    "**Choose the platforms and products**"
   ]
  },
  {
   "cell_type": "code",
   "execution_count": null,
   "metadata": {
    "execution": {
     "iopub.execute_input": "2020-09-29T01:01:53.112108Z",
     "iopub.status.busy": "2020-09-29T01:01:53.111696Z",
     "iopub.status.idle": "2020-09-29T01:01:53.113588Z",
     "shell.execute_reply": "2020-09-29T01:01:53.114017Z"
    }
   },
   "outputs": [],
   "source": [
    "# These are the platforms (satellites) and products (datacube sets) \n",
    "# used for this demonstration.\n",
    "\n",
    "platform = 'LANDSAT_8'\n",
    "product = 'ls8_usgs_sr_scene'\n",
    "collection = 'c1'\n",
    "level = 'l2'"
   ]
  },
  {
   "cell_type": "markdown",
   "metadata": {},
   "source": [
    "## <span id=\"Urbanization_Using_NDBI_define_extents\">Define the Extents of the Analysis [&#9652;](#Urbanization_Using_NDBI_top)</span>"
   ]
  },
  {
   "cell_type": "code",
   "execution_count": null,
   "metadata": {
    "execution": {
     "iopub.execute_input": "2020-09-29T01:01:53.117273Z",
     "iopub.status.busy": "2020-09-29T01:01:53.116867Z",
     "iopub.status.idle": "2020-09-29T01:01:53.119111Z",
     "shell.execute_reply": "2020-09-29T01:01:53.118676Z"
    }
   },
   "outputs": [],
   "source": [
    "# Kumasi, Ghana\n",
    "# lat = (6.597724,6.781856)\n",
    "# lon = (-1.727843,-1.509147)\n",
    "\n",
    "# Accra, Ghana\n",
    "lat = (5.5162, 5.6338)\n",
    "lon = (-0.2657, -0.1373)\n",
    "\n",
    "time_range = (\"2019-01-01\", \"2019-12-31\")"
   ]
  },
  {
   "cell_type": "markdown",
   "metadata": {},
   "source": [
    "**Visualize the selected area**"
   ]
  },
  {
   "cell_type": "code",
   "execution_count": null,
   "metadata": {
    "execution": {
     "iopub.execute_input": "2020-09-29T01:01:53.122810Z",
     "iopub.status.busy": "2020-09-29T01:01:53.122409Z",
     "iopub.status.idle": "2020-09-29T01:01:53.130132Z",
     "shell.execute_reply": "2020-09-29T01:01:53.130540Z"
    }
   },
   "outputs": [],
   "source": [
    "display_map(lat, lon)"
   ]
  },
  {
   "cell_type": "markdown",
   "metadata": {},
   "source": [
    "## <span id=\"Urbanization_Using_NDBI_retrieve_data\">Load Data from the Data Cube [&#9652;](#Urbanization_Using_NDBI_top)</span>"
   ]
  },
  {
   "cell_type": "code",
   "execution_count": null,
   "metadata": {
    "execution": {
     "iopub.execute_input": "2020-09-29T01:01:53.134952Z",
     "iopub.status.busy": "2020-09-29T01:01:53.134524Z",
     "iopub.status.idle": "2020-09-29T01:01:57.248157Z",
     "shell.execute_reply": "2020-09-29T01:01:57.247646Z"
    }
   },
   "outputs": [],
   "source": [
    "desired_bands = ['red','green','nir','swir1', 'swir2', 'pixel_qa']  # needed by ndvi, ndwi, ndbi and cloud masking\n",
    "desired_bands = desired_bands + ['blue'] # blue is needed for a true color visualization purposes\n",
    "\n",
    "landsat_ds = dc.load(product = product,\n",
    "                     platform = platform,\n",
    "                     lat = lat,\n",
    "                     lon = lon,\n",
    "                     time = time_range,\n",
    "                     measurements = desired_bands,\n",
    "                     dask_chunks={'time':1, 'latitude':1000, 'longitude':1000})"
   ]
  },
  {
   "cell_type": "code",
   "execution_count": null,
   "metadata": {
    "execution": {
     "iopub.execute_input": "2020-09-29T01:01:57.253278Z",
     "iopub.status.busy": "2020-09-29T01:01:57.252846Z",
     "iopub.status.idle": "2020-09-29T01:01:57.382004Z",
     "shell.execute_reply": "2020-09-29T01:01:57.382472Z"
    }
   },
   "outputs": [],
   "source": [
    "from utils.data_cube_utilities.clean_mask import landsat_clean_mask_full\n",
    "\n",
    "clean_mask = landsat_clean_mask_full(dc, landsat_ds, product=product, platform=platform, \n",
    "                                     collection=collection, level=level)"
   ]
  },
  {
   "cell_type": "code",
   "execution_count": null,
   "metadata": {
    "execution": {
     "iopub.execute_input": "2020-09-29T01:01:57.387660Z",
     "iopub.status.busy": "2020-09-29T01:01:57.387217Z",
     "iopub.status.idle": "2020-09-29T01:01:57.587958Z",
     "shell.execute_reply": "2020-09-29T01:01:57.587449Z"
    }
   },
   "outputs": [],
   "source": [
    "landsat_ds = landsat_ds.where(clean_mask)"
   ]
  },
  {
   "cell_type": "markdown",
   "metadata": {},
   "source": [
    "## <span id=\"Urbanization_Using_NDBI_rgb\">Show RGB Representation of the Area [&#9652;](#Urbanization_Using_NDBI_top)</span>"
   ]
  },
  {
   "cell_type": "code",
   "execution_count": null,
   "metadata": {
    "execution": {
     "iopub.execute_input": "2020-09-29T01:01:57.591347Z",
     "iopub.status.busy": "2020-09-29T01:01:57.590918Z",
     "iopub.status.idle": "2020-09-29T01:01:57.709136Z",
     "shell.execute_reply": "2020-09-29T01:01:57.709621Z"
    }
   },
   "outputs": [],
   "source": [
    "median_composite = landsat_ds.median('time')"
   ]
  },
  {
   "cell_type": "code",
   "execution_count": null,
   "metadata": {
    "execution": {
     "iopub.execute_input": "2020-09-29T01:01:57.714474Z",
     "iopub.status.busy": "2020-09-29T01:01:57.714037Z",
     "iopub.status.idle": "2020-09-29T01:01:57.994840Z",
     "shell.execute_reply": "2020-09-29T01:01:57.995309Z"
    },
    "scrolled": false
   },
   "outputs": [],
   "source": [
    "plt.figure(figsize=(8,8))\n",
    "median_composite[['red', 'green', 'blue']].to_array().plot.imshow(vmin=0, vmax=2500)\n",
    "plt.show()"
   ]
  },
  {
   "cell_type": "markdown",
   "metadata": {},
   "source": [
    "## <span id=\"Urbanization_Using_NDBI_analysis\">Urbanization Analysis [&#9652;](#Urbanization_Using_NDBI_top)</span>\n",
    "\n",
    "> **NDWI, NDVI, NDBI**  \n",
    "You will very rarely have urban classification and water classifications apply to the same pixel. For urban analysis, it may make sense to compute not just urban classes, but classes that are unlikely to co-occur with urbanization, such as vegetation (e.g. NDVI) or water (e.g. NDWI)."
   ]
  },
  {
   "cell_type": "code",
   "execution_count": null,
   "metadata": {
    "execution": {
     "iopub.execute_input": "2020-09-29T01:01:57.999398Z",
     "iopub.status.busy": "2020-09-29T01:01:57.998970Z",
     "iopub.status.idle": "2020-09-29T01:01:58.009870Z",
     "shell.execute_reply": "2020-09-29T01:01:58.010306Z"
    },
    "scrolled": false
   },
   "outputs": [],
   "source": [
    "ndbi = NDBI(median_composite) # Urbanization\n",
    "ndvi = NDVI(median_composite) # Dense Vegetation\n",
    "ndwi = NDWI(median_composite) # High Concentrations of Water"
   ]
  },
  {
   "cell_type": "code",
   "execution_count": null,
   "metadata": {
    "execution": {
     "iopub.execute_input": "2020-09-29T01:01:58.014541Z",
     "iopub.status.busy": "2020-09-29T01:01:58.014110Z",
     "iopub.status.idle": "2020-09-29T01:01:58.385225Z",
     "shell.execute_reply": "2020-09-29T01:01:58.385679Z"
    },
    "scrolled": false
   },
   "outputs": [],
   "source": [
    "plt.figure(figsize=(8,8))\n",
    "ndvi.plot(cmap = \"Greens\")\n",
    "plt.show()"
   ]
  },
  {
   "cell_type": "code",
   "execution_count": null,
   "metadata": {
    "execution": {
     "iopub.execute_input": "2020-09-29T01:01:58.390853Z",
     "iopub.status.busy": "2020-09-29T01:01:58.390054Z",
     "iopub.status.idle": "2020-09-29T01:01:58.750541Z",
     "shell.execute_reply": "2020-09-29T01:01:58.750995Z"
    },
    "scrolled": false
   },
   "outputs": [],
   "source": [
    "plt.figure(figsize=(8,8))\n",
    "ndwi.plot(cmap = \"Blues\")\n",
    "plt.show()"
   ]
  },
  {
   "cell_type": "code",
   "execution_count": null,
   "metadata": {
    "execution": {
     "iopub.execute_input": "2020-09-29T01:01:58.755380Z",
     "iopub.status.busy": "2020-09-29T01:01:58.754964Z",
     "iopub.status.idle": "2020-09-29T01:01:59.118925Z",
     "shell.execute_reply": "2020-09-29T01:01:59.119367Z"
    },
    "scrolled": false
   },
   "outputs": [],
   "source": [
    "plt.figure(figsize=(8,8))\n",
    "ndbi.plot(cmap = \"Reds\")\n",
    "plt.show()"
   ]
  },
  {
   "cell_type": "markdown",
   "metadata": {},
   "source": [
    "> **Merge into one Dataset**  \n",
    "> If your data-arrays share the same set of coordinates, and you feel that you'll be using these values together in the future, you should consider merging them into an `xarray.Dataset`."
   ]
  },
  {
   "cell_type": "code",
   "execution_count": null,
   "metadata": {
    "execution": {
     "iopub.execute_input": "2020-09-29T01:01:59.124793Z",
     "iopub.status.busy": "2020-09-29T01:01:59.124355Z",
     "iopub.status.idle": "2020-09-29T01:01:59.126639Z",
     "shell.execute_reply": "2020-09-29T01:01:59.126196Z"
    }
   },
   "outputs": [],
   "source": [
    "urbanization_dataset = xr.merge((ndvi.rename('NDVI'), ndwi.rename('NDWI'), ndbi.rename('NDBI')))"
   ]
  },
  {
   "cell_type": "code",
   "execution_count": null,
   "metadata": {
    "execution": {
     "iopub.execute_input": "2020-09-29T01:01:59.132114Z",
     "iopub.status.busy": "2020-09-29T01:01:59.130571Z",
     "iopub.status.idle": "2020-09-29T01:01:59.146084Z",
     "shell.execute_reply": "2020-09-29T01:01:59.145636Z"
    },
    "scrolled": true
   },
   "outputs": [],
   "source": [
    "urbanization_dataset"
   ]
  },
  {
   "cell_type": "markdown",
   "metadata": {},
   "source": [
    ">**Building a False Color Composite**  \n",
    "> If you have three lowly correlated measurements, place the measurement on red, green, and blue channels and visualize them. "
   ]
  },
  {
   "cell_type": "code",
   "execution_count": null,
   "metadata": {
    "execution": {
     "iopub.execute_input": "2020-09-29T01:01:59.150876Z",
     "iopub.status.busy": "2020-09-29T01:01:59.150083Z",
     "iopub.status.idle": "2020-09-29T01:01:59.440374Z",
     "shell.execute_reply": "2020-09-29T01:01:59.440843Z"
    }
   },
   "outputs": [],
   "source": [
    "plt.figure(figsize=(8,8))\n",
    "urbanization_dataset[[\"NDBI\", \"NDVI\", \"NDWI\"]].to_array().plot.imshow(vmin=0, vmax=1)\n",
    "plt.show()"
   ]
  },
  {
   "cell_type": "markdown",
   "metadata": {},
   "source": [
    ">**Analyze The False Color Image**  \n",
    "> Values that adhere strongly to individual classes adhere to their own color channel. In this example, NDVI adheres to green, NDWI adheres to blue, and NDBI adheres to red.  "
   ]
  },
  {
   "cell_type": "markdown",
   "metadata": {},
   "source": [
    "> **Validate urbanization using other imagery**  \n",
    "> Double check results using high-resolution imagery.  Compare to the false color mosaic\n",
    "<br>"
   ]
  },
  {
   "cell_type": "code",
   "execution_count": null,
   "metadata": {
    "execution": {
     "iopub.execute_input": "2020-09-29T01:01:59.444955Z",
     "iopub.status.busy": "2020-09-29T01:01:59.444544Z",
     "iopub.status.idle": "2020-09-29T01:01:59.452685Z",
     "shell.execute_reply": "2020-09-29T01:01:59.452246Z"
    },
    "scrolled": false
   },
   "outputs": [],
   "source": [
    "display_map(latitude = lat ,longitude = lon)  "
   ]
  }
 ],
 "metadata": {
  "kernelspec": {
   "display_name": "Python 3",
   "language": "python",
   "name": "python3"
  },
  "language_info": {
   "codemirror_mode": {
    "name": "ipython",
    "version": 3
   },
   "file_extension": ".py",
   "mimetype": "text/x-python",
   "name": "python",
   "nbconvert_exporter": "python",
   "pygments_lexer": "ipython3",
   "version": "3.6.9"
  }
 },
 "nbformat": 4,
 "nbformat_minor": 4
}
