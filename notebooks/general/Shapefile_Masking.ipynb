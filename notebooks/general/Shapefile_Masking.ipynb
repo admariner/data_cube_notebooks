{
 "cells": [
  {
   "cell_type": "markdown",
   "metadata": {},
   "source": [
    "<a name=\"composites_and_shapefiles_top\"></a>\n",
    "\n",
    "# Cloud-Filtered Mosaics and Shapefile Region Selection\n",
    "\n",
    "<hr>\n",
    "\n",
    "This notebook can be used to create Landsat cloud-filtered mosaics for any time period and location. Selecting regions with shapefiles is also demonstrated. The mosaics can be output as GeoTIFF products for analysis in external GIS tools. \n",
    "\n",
    "The following mosaics are possible:\n",
    "* Median = midpoint of spectral data\n",
    "* Geomedian = Australian median product with improved spectral consistency\n",
    "* Most-Recent = most recent clear pixel\n",
    "* Least-Recent = least recent clear pixel\n",
    "* Max-NDVI = maximum vegetation response\n",
    "* Min-NDVI = minimum vegetation response\n",
    "\n",
    "Users should review the \"Cloud_Statistics\" notebook for more information about the cloud statistics for any given temporal and spatial combination. An understanding of the underlying data is important for creating a valid mosaic for further analyses.\n",
    "\n",
    "<hr>\n",
    "\n",
    "# Index\n",
    "\n",
    "* [Import Dependencies and Connect to the Data Cube](#composites_and_shapefiles_import)\n",
    "* [Choose Platform and Product](#composites_and_shapefiles_plat_prod)\n",
    "* [Define the Extents of the Analysis](#composites_and_shapefiles_define_extents)\n",
    "* [Get the Regions Bounded by the Shapefiles](#composites_and_shapefiles_shapefiles_region_bounded)\n",
    "* [Specify the Shapefile Region and Time Range to Load](#composites_and_shapefiles_shapefiles_region_select)\n",
    "* [Load the Data and Create the Composite](#composites_and_shapefiles_retrieve_data)\n",
    "* [Visualize the Composite](#composites_and_shapefiles_visualize_composite)\n",
    "* [Export to GeoTIFF](#composites_and_shapefiles_export_to_geotiff)"
   ]
  },
  {
   "cell_type": "markdown",
   "metadata": {},
   "source": [
    "## <a id=\"composites_and_shapefiles_import\"></a>Import Dependencies and Connect to the Data Cube [&#9652;](#composites_and_shapefiles_top)"
   ]
  },
  {
   "cell_type": "code",
   "execution_count": null,
   "metadata": {
    "execution": {
     "iopub.execute_input": "2020-09-29T00:59:42.600232Z",
     "iopub.status.busy": "2020-09-29T00:59:42.599819Z",
     "iopub.status.idle": "2020-09-29T00:59:44.084802Z",
     "shell.execute_reply": "2020-09-29T00:59:44.085273Z"
    }
   },
   "outputs": [],
   "source": [
    "import sys\n",
    "import os\n",
    "sys.path.append(os.environ.get('NOTEBOOK_ROOT'))\n",
    "\n",
    "import matplotlib.pyplot as plt\n",
    "%matplotlib inline\n",
    "\n",
    "from datacube.utils.aws import configure_s3_access\n",
    "configure_s3_access(requester_pays=True)\n",
    "\n",
    "# Import Data Cube API\n",
    "import utils.data_cube_utilities.data_access_api as dc_api  \n",
    "api = dc_api.DataAccessApi()\n",
    "dc = api.dc"
   ]
  },
  {
   "cell_type": "markdown",
   "metadata": {},
   "source": [
    "## <span id=\"composites_and_shapefiles_plat_prod\">Choose Platform and Product [&#9652;](#composites_and_shapefiles_top)</span>"
   ]
  },
  {
   "cell_type": "code",
   "execution_count": null,
   "metadata": {
    "execution": {
     "iopub.execute_input": "2020-09-29T00:59:44.088818Z",
     "iopub.status.busy": "2020-09-29T00:59:44.088374Z",
     "iopub.status.idle": "2020-09-29T00:59:44.090044Z",
     "shell.execute_reply": "2020-09-29T00:59:44.090456Z"
    }
   },
   "outputs": [],
   "source": [
    "# CHANGE HERE >>>>>>>>>>>>>>>>>\n",
    "\n",
    "# Select a Product and Platform\n",
    "# Examples: ghana, kenya, tanzania, sierra_leone, senegal\n",
    "\n",
    "product = 'ls8_usgs_sr_scene'\n",
    "platform = 'LANDSAT_8'\n",
    "collection = 'c1'\n",
    "level = 'l2'\n",
    "\n",
    "# Specify Mosaic Parameters\n",
    "# The mosaic method to use when creating the final composite.\n",
    "# One of ['median', 'geomedian', 'most_recent', 'least_recent', 'max_ndvi', 'min_ndvi']\n",
    "# The options 'max' and 'min' require a spectral index to be calculated.\n",
    "mosaic_method = 'median'"
   ]
  },
  {
   "cell_type": "markdown",
   "metadata": {},
   "source": [
    "## <span id=\"composites_and_shapefiles_define_extents\">Define the Extents of the Analysis [&#9652;](#composites_and_shapefiles_top)</span>"
   ]
  },
  {
   "cell_type": "code",
   "execution_count": null,
   "metadata": {
    "execution": {
     "iopub.execute_input": "2020-09-29T00:59:44.103731Z",
     "iopub.status.busy": "2020-09-29T00:59:44.103044Z",
     "iopub.status.idle": "2020-09-29T00:59:48.205690Z",
     "shell.execute_reply": "2020-09-29T00:59:48.206044Z"
    }
   },
   "outputs": [],
   "source": [
    "# Get product extents\n",
    "prod_extents = api.get_query_metadata(platform=platform, product=product, measurements=[])\n",
    "\n",
    "full_lat = prod_extents['lat_extents']\n",
    "print(\"Lat bounds:\", full_lat)\n",
    "full_lon = prod_extents['lon_extents']\n",
    "print(\"Lon bounds:\", full_lon)\n",
    "time_extents = list(map(lambda time: time.strftime('%Y-%m-%d'), prod_extents['time_extents']))\n",
    "print(\"Time bounds:\", time_extents)"
   ]
  },
  {
   "cell_type": "code",
   "execution_count": null,
   "metadata": {
    "execution": {
     "iopub.execute_input": "2020-09-29T00:59:48.209179Z",
     "iopub.status.busy": "2020-09-29T00:59:48.208762Z",
     "iopub.status.idle": "2020-09-29T00:59:48.385322Z",
     "shell.execute_reply": "2020-09-29T00:59:48.385788Z"
    }
   },
   "outputs": [],
   "source": [
    "# The code below renders a map that can be used to view the region.\n",
    "from utils.data_cube_utilities.dc_display_map import display_map\n",
    "display_map(full_lat, full_lon)"
   ]
  },
  {
   "cell_type": "markdown",
   "metadata": {},
   "source": [
    "## <span id=\"composites_and_shapefiles_shapefiles_region_bounded\">Get the Regions Bounded by the Shapefiles [&#9652;](#composites_and_shapefiles_top)</span>"
   ]
  },
  {
   "cell_type": "code",
   "execution_count": null,
   "metadata": {
    "execution": {
     "iopub.execute_input": "2020-09-29T00:59:48.392741Z",
     "iopub.status.busy": "2020-09-29T00:59:48.392309Z",
     "iopub.status.idle": "2020-09-29T00:59:48.418882Z",
     "shell.execute_reply": "2020-09-29T00:59:48.418399Z"
    }
   },
   "outputs": [],
   "source": [
    "import fiona\n",
    "import rasterio\n",
    "import rasterio.mask\n",
    "from shapely.geometry import shape\n",
    "\n",
    "input_shp_root_pth = '../data/Ghana/smallest_biggest_district/'\n",
    "big_distr_shp_pth = input_shp_root_pth + 'biggest_district.shp'\n",
    "sml_distr_shp_pth = input_shp_root_pth + 'smallest_district.shp'"
   ]
  },
  {
   "cell_type": "markdown",
   "metadata": {},
   "source": [
    "**Showing First Shapefile Region ('biggest_district.shp')**"
   ]
  },
  {
   "cell_type": "code",
   "execution_count": null,
   "metadata": {
    "execution": {
     "iopub.execute_input": "2020-09-29T00:59:48.429450Z",
     "iopub.status.busy": "2020-09-29T00:59:48.428763Z",
     "iopub.status.idle": "2020-09-29T00:59:48.437699Z",
     "shell.execute_reply": "2020-09-29T00:59:48.437227Z"
    },
    "scrolled": false
   },
   "outputs": [],
   "source": [
    "from utils.data_cube_utilities.dc_display_map import display_map\n",
    "with fiona.open(big_distr_shp_pth, 'r') as src:\n",
    "    # create a shapely geometry\n",
    "    geometry = shape(src[0]['geometry'])\n",
    "\n",
    "    # get the bounding box of the shapefile geometry\n",
    "    latitude, longitude = [[None]*2, [None]*2]\n",
    "    longitude[0], latitude[0] = geometry.bounds[0:2]\n",
    "    longitude[1], latitude[1] = geometry.bounds[2:4]\n",
    "display_map(latitude,longitude)"
   ]
  },
  {
   "cell_type": "markdown",
   "metadata": {},
   "source": [
    "**Showing Second Shapefile Region ('smallest_district.shp')**"
   ]
  },
  {
   "cell_type": "code",
   "execution_count": null,
   "metadata": {
    "execution": {
     "iopub.execute_input": "2020-09-29T00:59:48.442866Z",
     "iopub.status.busy": "2020-09-29T00:59:48.442441Z",
     "iopub.status.idle": "2020-09-29T00:59:48.450336Z",
     "shell.execute_reply": "2020-09-29T00:59:48.450748Z"
    }
   },
   "outputs": [],
   "source": [
    "with fiona.open(sml_distr_shp_pth, 'r') as src:\n",
    "    # create a shapely geometry\n",
    "    geometry = shape(src[0]['geometry'])\n",
    "\n",
    "    # get the bounding box of the shapefile geometry\n",
    "    latitude, longitude = [[None]*2, [None]*2]\n",
    "    longitude[0], latitude[0] = geometry.bounds[0:2]\n",
    "    longitude[1], latitude[1] = geometry.bounds[2:4]\n",
    "display_map(latitude,longitude)"
   ]
  },
  {
   "cell_type": "markdown",
   "metadata": {},
   "source": [
    "## <span id=\"composites_and_shapefiles_shapefiles_region_select\">Specify the Shapefile Region and Time Range to Load [&#9652;](#composites_and_shapefiles_top)</span>"
   ]
  },
  {
   "cell_type": "code",
   "execution_count": null,
   "metadata": {
    "execution": {
     "iopub.execute_input": "2020-09-29T00:59:48.453775Z",
     "iopub.status.busy": "2020-09-29T00:59:48.453312Z",
     "iopub.status.idle": "2020-09-29T00:59:48.455375Z",
     "shell.execute_reply": "2020-09-29T00:59:48.454941Z"
    }
   },
   "outputs": [],
   "source": [
    "# Path to shapefile to load data for - one of [big_distr_shp_pth, sml_distr_shp_pth].\n",
    "# Note that `big_distr_shp_pth` is very resource intensive to process because it is a large area.\n",
    "shp_file_pth_to_load = sml_distr_shp_pth\n",
    "\n",
    "# Time period\n",
    "time_extents = ('2017-01-01', '2017-12-31')"
   ]
  },
  {
   "cell_type": "markdown",
   "metadata": {},
   "source": [
    "## <span id=\"composites_and_shapefiles_retrieve_data\">Load the Data and Create the Composite [&#9652;](#composites_and_shapefiles_top)</span>"
   ]
  },
  {
   "cell_type": "code",
   "execution_count": null,
   "metadata": {
    "execution": {
     "iopub.execute_input": "2020-09-29T00:59:48.466933Z",
     "iopub.status.busy": "2020-09-29T00:59:48.466418Z",
     "iopub.status.idle": "2020-09-29T00:59:51.477349Z",
     "shell.execute_reply": "2020-09-29T00:59:51.476854Z"
    }
   },
   "outputs": [],
   "source": [
    "import numpy as np\n",
    "import warnings\n",
    "\n",
    "with fiona.open(shp_file_pth_to_load, 'r') as src:\n",
    "    # create a shapely geometry\n",
    "    # this is done for the convenience for the .bounds property only\n",
    "    shp_geom = shape(src[0]['geometry'])\n",
    "\n",
    "    # get the bounding box of the shapefile geometry\n",
    "    latitude, longitude = [[None]*2, [None]*2]\n",
    "    longitude[0], latitude[0] = shp_geom.bounds[0:2]\n",
    "    longitude[1], latitude[1] = shp_geom.bounds[2:4]\n",
    "    \n",
    "    # load data for the bounding box of the shapefile geometry\n",
    "    measurements = ['red', 'green', 'blue', 'pixel_qa']\n",
    "    if mosaic_method in ['max_ndvi', 'min_ndvi']:\n",
    "        measurements += ['nir']\n",
    "    dataset = dc.load(latitude = latitude,\n",
    "                      longitude = longitude,\n",
    "                      platform = platform,\n",
    "                      time = time_extents,\n",
    "                      product = product,\n",
    "                      measurements = measurements,\n",
    "                      dask_chunks={'time':1, 'latitude':1000, 'longitude':1000})\n",
    "\n",
    "    # mask out clouds and invalid data\n",
    "    from utils.data_cube_utilities.clean_mask import landsat_clean_mask_full\n",
    "    clean_mask = landsat_clean_mask_full(dc, dataset, product=product, platform=platform,\n",
    "                                         collection=collection, level=level)\n",
    "    cleaned_dataset = dataset.where(clean_mask)\n",
    "\n",
    "    # rasterize the shapefile geometry to a boolean mask\n",
    "    from datacube.utils import geometry\n",
    "    src_crs = src.crs_wkt if src.crs_wkt != '' else \"EPSG:4326\"\n",
    "    crs = geometry.CRS(src_crs)\n",
    "    \n",
    "    first_geometry = src[0]['geometry']\n",
    "    geom = geometry.Geometry(first_geometry, crs=crs)\n",
    "    geobox = dataset.geobox\n",
    "    shp_mask = rasterio.features.geometry_mask(\n",
    "        [geom.to_crs(geobox.crs)],\n",
    "        out_shape=geobox.shape,\n",
    "        transform=geobox.affine,\n",
    "        all_touched=True,\n",
    "        invert=True)\n",
    "    \n",
    "# Create the final composite.\n",
    "final_dataset = cleaned_dataset.where(shp_mask)\n",
    "with warnings.catch_warnings():\n",
    "    warnings.simplefilter(\"ignore\")\n",
    "    if mosaic_method == 'median':\n",
    "        from utils.data_cube_utilities.dc_mosaic import create_median_mosaic\n",
    "        composite = create_median_mosaic(cleaned_dataset, clean_mask)\n",
    "    elif mosaic_method == 'geomedian':\n",
    "        from utils.data_cube_utilities.dc_mosaic import create_hdmedians_multiple_band_mosaic\n",
    "        composite = create_hdmedians_multiple_band_mosaic(cleaned_dataset, clean_mask)\n",
    "    elif mosaic_method == 'most_recent':\n",
    "        from utils.data_cube_utilities.dc_mosaic import create_mosaic\n",
    "        composite = create_mosaic(cleaned_dataset, clean_mask)\n",
    "    elif mosaic_method == 'least_recent':\n",
    "        from utils.data_cube_utilities.dc_mosaic import create_mosaic\n",
    "        composite = create_mosaic(cleaned_dataset, clean_mask, reverse_time=True)\n",
    "    elif mosaic_method == 'max_ndvi':\n",
    "        from utils.data_cube_utilities.dc_mosaic import create_max_ndvi_mosaic\n",
    "        composite = create_max_ndvi_mosaic(cleaned_dataset, clean_mask)\n",
    "    elif mosaic_method == 'min_ndvi':\n",
    "        from utils.data_cube_utilities.dc_mosaic import create_min_ndvi_mosaic\n",
    "        composite = create_min_ndvi_mosaic(cleaned_dataset, clean_mask)\n",
    "    \n",
    "final_composite = composite.where(shp_mask)"
   ]
  },
  {
   "cell_type": "markdown",
   "metadata": {},
   "source": [
    "## <span id=\"composites_and_shapefiles_visualize_composite\">Visualize the Composite [&#9652;](#composites_and_shapefiles_top)</span>"
   ]
  },
  {
   "cell_type": "code",
   "execution_count": null,
   "metadata": {
    "execution": {
     "iopub.execute_input": "2020-09-29T00:59:51.481847Z",
     "iopub.status.busy": "2020-09-29T00:59:51.480466Z",
     "iopub.status.idle": "2020-09-29T00:59:51.806028Z",
     "shell.execute_reply": "2020-09-29T00:59:51.806467Z"
    }
   },
   "outputs": [],
   "source": [
    "from utils.data_cube_utilities.dc_rgb import rgb\n",
    "fig = plt.figure(figsize=(10,10))\n",
    "rgb(final_composite, fig=fig)\n",
    "plt.show()"
   ]
  },
  {
   "cell_type": "markdown",
   "metadata": {},
   "source": [
    "## <span id=\"composites_and_shapefiles_export_to_geotiff\">Export to GeoTIFF [&#9652;](#composites_and_shapefiles_top)</span>"
   ]
  },
  {
   "cell_type": "code",
   "execution_count": null,
   "metadata": {
    "execution": {
     "iopub.execute_input": "2020-09-29T00:59:51.810496Z",
     "iopub.status.busy": "2020-09-29T00:59:51.810019Z",
     "iopub.status.idle": "2020-09-29T00:59:51.830433Z",
     "shell.execute_reply": "2020-09-29T00:59:51.830869Z"
    }
   },
   "outputs": [],
   "source": [
    "from utils.data_cube_utilities.import_export import export_slice_to_geotiff\n",
    "size_str = 'small_dist' if shp_file_pth_to_load == sml_distr_shp_pth else 'big_dist'\n",
    "output_dir = 'output/geotiffs/DCAL_Custom_Mosaics_and_Shapefiles'\n",
    "if not os.path.exists(output_dir):\n",
    "    os.makedirs(output_dir)\n",
    "export_slice_to_geotiff(composite, output_dir + '/{}_{}_composite.tif'.format(size_str, mosaic_method))"
   ]
  },
  {
   "cell_type": "code",
   "execution_count": null,
   "metadata": {
    "execution": {
     "iopub.execute_input": "2020-09-29T00:59:51.834491Z",
     "iopub.status.busy": "2020-09-29T00:59:51.834033Z",
     "iopub.status.idle": "2020-09-29T00:59:52.423025Z",
     "shell.execute_reply": "2020-09-29T00:59:52.423475Z"
    },
    "scrolled": true
   },
   "outputs": [],
   "source": [
    "!ls -lah output/geotiffs/DCAL_Custom_Mosaics_and_Shapefiles"
   ]
  }
 ],
 "metadata": {
  "kernelspec": {
   "display_name": "Python 3",
   "language": "python",
   "name": "python3"
  },
  "language_info": {
   "codemirror_mode": {
    "name": "ipython",
    "version": 3
   },
   "file_extension": ".py",
   "mimetype": "text/x-python",
   "name": "python",
   "nbconvert_exporter": "python",
   "pygments_lexer": "ipython3",
   "version": "3.6.9"
  }
 },
 "nbformat": 4,
 "nbformat_minor": 4
}
