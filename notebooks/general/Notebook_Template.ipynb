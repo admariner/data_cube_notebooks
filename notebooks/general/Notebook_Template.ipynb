{
 "cells": [
  {
   "cell_type": "markdown",
   "metadata": {},
   "source": [
    "<a id=\"notebook_template_top\"></a>\n",
    "\n",
    "# Notebook Title (Set to title of notebook)\n",
    "\n",
    "<hr>\n",
    "\n",
    "# Notebook Summary\n",
    "\n",
    "This section of the introduction should provide an overview of the notebook's context and intent. It should explain why the notebook exists (its goal), what it does (its \"algorithm\"), and why it does what it does (how it achieves or progresses toward the goal).\n",
    "\n",
    "<hr>\n",
    "\n",
    "# Index\n",
    "\n",
    "* [Import Dependencies and Connect to the Data Cube](#notebook_template_import)\n",
    "* [Choose Platforms and Products](#notebook_template_plat_prod)\n",
    "* [Get the Extents of the Cube](#notebook_template_extents)\n",
    "* [Define the Analysis Parameters](#notebook_template_parameters)\n",
    "* [Load and Clean Data from the Data Cube](#notebook_template_load)\n",
    "* [Visualization](#notebook_template_visualize)\n",
    "\n",
    "As we will see below, every section in the index must have a matching heading in the body, and primary sections (level 1 - e.g. \"Choose Platforms and Products\") must by hyperlinked to their headings in the body.\n",
    "\n",
    "Remember to check that (1) section headings in the index successfully link to the headings in the body and (2) the arrows by the headings in the body successfully link to the top of the notebook (see the `<a>` tag at the top of this cell)."
   ]
  },
  {
   "cell_type": "markdown",
   "metadata": {},
   "source": [
    "## <a id=\"notebook_template_import\"></a> Import Dependencies and Connect to the Data Cube [&#9652;](#notebook_template_top)"
   ]
  },
  {
   "cell_type": "markdown",
   "metadata": {},
   "source": [
    "**Option 1: Simpler - typically intended for internal use, quickly creating a first version of a notebook without widgets**"
   ]
  },
  {
   "cell_type": "code",
   "execution_count": null,
   "metadata": {
    "execution": {
     "iopub.execute_input": "2020-09-29T00:58:17.510529Z",
     "iopub.status.busy": "2020-09-29T00:58:17.510103Z",
     "iopub.status.idle": "2020-09-29T00:58:18.930920Z",
     "shell.execute_reply": "2020-09-29T00:58:18.931430Z"
    }
   },
   "outputs": [],
   "source": [
    "# Enable importing of our utilities.\n",
    "import sys\n",
    "import os\n",
    "sys.path.append(os.environ.get('NOTEBOOK_ROOT'))\n",
    "\n",
    "# Import the most commonly used packages in our notebooks.\n",
    "import datacube # Facilitates loading data from the Data Cube\n",
    "import numpy as np # Numerical processing, including time\n",
    "import pandas as pd # Tabular data structures - used for data analysis\n",
    "import xarray as xr # Coordinate indexed arrays\n",
    "import matplotlib.pyplot as plt\n",
    "\n",
    "from datacube.utils.aws import configure_s3_access\n",
    "configure_s3_access(requester_pays=True)\n",
    "\n",
    "# Connect to the Data Cube.\n",
    "dc = datacube.Datacube(app='notebook_name')"
   ]
  },
  {
   "cell_type": "markdown",
   "metadata": {},
   "source": [
    "**Option 2: User-friendly - allowing users to set notebook parameters with widgets**"
   ]
  },
  {
   "cell_type": "code",
   "execution_count": null,
   "metadata": {
    "execution": {
     "iopub.execute_input": "2020-09-29T00:58:18.935660Z",
     "iopub.status.busy": "2020-09-29T00:58:18.935232Z",
     "iopub.status.idle": "2020-09-29T00:58:19.611430Z",
     "shell.execute_reply": "2020-09-29T00:58:19.611889Z"
    }
   },
   "outputs": [],
   "source": [
    "# Enable importing of our utilities.\n",
    "import sys\n",
    "sys.path.append(os.environ.get('NOTEBOOK_ROOT'))\n",
    "\n",
    "# Import the most commonly used packages in our notebooks.\n",
    "import datacube\n",
    "import numpy as np\n",
    "import pandas as pd\n",
    "import xarray as xr\n",
    "import matplotlib.pyplot as plt\n",
    "\n",
    "# Import extra widget and plotting libraries.\n",
    "import bokeh\n",
    "import holoviews as hv\n",
    "import panel as pn\n",
    "\n",
    "from datacube.utils.aws import configure_s3_access\n",
    "configure_s3_access(requester_pays=True)\n",
    "\n",
    "# Connect to the Data Cube.\n",
    "dc = datacube.Datacube(app='notebook_name')"
   ]
  },
  {
   "cell_type": "code",
   "execution_count": null,
   "metadata": {
    "execution": {
     "iopub.execute_input": "2020-09-29T00:58:19.628755Z",
     "iopub.status.busy": "2020-09-29T00:58:19.628104Z",
     "iopub.status.idle": "2020-09-29T00:58:20.117470Z",
     "shell.execute_reply": "2020-09-29T00:58:20.117943Z"
    }
   },
   "outputs": [],
   "source": [
    "# Configure visualization libraries.\n",
    "pn.extension()\n",
    "# Use the bokeh backend for HoloViews.\n",
    "hv.extension('bokeh')\n",
    "bokeh.io.output_notebook() "
   ]
  },
  {
   "cell_type": "markdown",
   "metadata": {},
   "source": [
    "## <a id=\"notebook_template_plat_prod\"></a> Choose Platforms and Products [&#9652;](#notebook_template_top)"
   ]
  },
  {
   "cell_type": "markdown",
   "metadata": {},
   "source": [
    "**Option 1: Simpler - Show available platforms and products, choose with text**"
   ]
  },
  {
   "cell_type": "code",
   "execution_count": null,
   "metadata": {
    "execution": {
     "iopub.execute_input": "2020-09-29T00:58:20.122510Z",
     "iopub.status.busy": "2020-09-29T00:58:20.122084Z",
     "iopub.status.idle": "2020-09-29T00:58:20.155288Z",
     "shell.execute_reply": "2020-09-29T00:58:20.155709Z"
    }
   },
   "outputs": [],
   "source": [
    "# Get available products\n",
    "products_info = dc.list_products()\n",
    "\n",
    "# List LANDSAT 7 products\n",
    "print(\"LANDSAT 7 Products:\")\n",
    "products_info[[\"platform\", \"name\"]][products_info.platform == \"LANDSAT_7\"]"
   ]
  },
  {
   "cell_type": "code",
   "execution_count": null,
   "metadata": {
    "execution": {
     "iopub.execute_input": "2020-09-29T00:58:20.163251Z",
     "iopub.status.busy": "2020-09-29T00:58:20.162714Z",
     "iopub.status.idle": "2020-09-29T00:58:20.166034Z",
     "shell.execute_reply": "2020-09-29T00:58:20.165601Z"
    }
   },
   "outputs": [],
   "source": [
    "# List LANDSAT 8 products\n",
    "print(\"LANDSAT 8 Products:\")\n",
    "products_info[[\"platform\", \"name\"]][products_info.platform == \"LANDSAT_8\"]"
   ]
  },
  {
   "cell_type": "code",
   "execution_count": null,
   "metadata": {
    "execution": {
     "iopub.execute_input": "2020-09-29T00:58:20.168916Z",
     "iopub.status.busy": "2020-09-29T00:58:20.168454Z",
     "iopub.status.idle": "2020-09-29T00:58:20.170608Z",
     "shell.execute_reply": "2020-09-29T00:58:20.170168Z"
    }
   },
   "outputs": [],
   "source": [
    "platform = 'LANDSAT_8'\n",
    "product = 'ls8_usgs_sr_scene'\n",
    "collection = 'c1'\n",
    "level = 'l2'"
   ]
  },
  {
   "cell_type": "markdown",
   "metadata": {},
   "source": [
    "**Option 2: User-friendly - Allow selection of platforms and products with widgets**"
   ]
  },
  {
   "cell_type": "code",
   "execution_count": null,
   "metadata": {
    "execution": {
     "iopub.execute_input": "2020-09-29T00:58:20.176290Z",
     "iopub.status.busy": "2020-09-29T00:58:20.175880Z",
     "iopub.status.idle": "2020-09-29T00:58:20.192975Z",
     "shell.execute_reply": "2020-09-29T00:58:20.192535Z"
    }
   },
   "outputs": [],
   "source": [
    "def get_prods_for_platform(platform):\n",
    "    prod_info = dc.list_products()\n",
    "    return list(prod_info.loc[prod_info.platform == platform].name)\n",
    "\n",
    "platforms = [\"LANDSAT_7\", \"LANDSAT_8\"]\n",
    "platform_wgt = pn.widgets.Select(name='platform', value='LANDSAT_8', options=platforms)\n",
    "prod_wgt = pn.widgets.Select(name='product', value=\"ls8_usgs_sr_scene\", options=get_prods_for_platform(platform_wgt.value))\n",
    "\n",
    "@pn.depends(platform_wgt.param.value, watch=True)\n",
    "def update_prod_list(platform):\n",
    "    prods = get_prods_for_platform(platform)\n",
    "    prod_wgt.options = prods\n",
    "    prod_wgt.value = prods[0] if len(prods) > 0 else None\n",
    "\n",
    "def update_collection_level(product):\n",
    "    collection, level = [None]*2\n",
    "    if product in ['ls7_usgs_sr_scene', 'ls8_usgs_sr_scene']:\n",
    "        collection = 'c1'\n",
    "        level = 'l2'\n",
    "    return collection, level\n",
    "\n",
    "pn.Row(platform_wgt, prod_wgt)"
   ]
  },
  {
   "cell_type": "code",
   "execution_count": null,
   "metadata": {},
   "outputs": [],
   "source": [
    "collection, level = update_collection_level(prod_wgt.value)"
   ]
  },
  {
   "cell_type": "markdown",
   "metadata": {},
   "source": [
    "## <a id=\"notebook_template_extents\"></a> Get the Extents of the Cube [&#9652;](#notebook_template_top)"
   ]
  },
  {
   "cell_type": "code",
   "execution_count": null,
   "metadata": {
    "execution": {
     "iopub.execute_input": "2020-09-29T00:58:20.196110Z",
     "iopub.status.busy": "2020-09-29T00:58:20.195708Z",
     "iopub.status.idle": "2020-09-29T00:58:20.197542Z",
     "shell.execute_reply": "2020-09-29T00:58:20.197953Z"
    }
   },
   "outputs": [],
   "source": [
    "common_load_params = dict(output_crs=\"EPSG:4326\", \n",
    "                          resolution=(-0.00027,-0.00027))"
   ]
  },
  {
   "cell_type": "markdown",
   "metadata": {},
   "source": [
    "**Option 1: Simpler - if no widgets were used above**"
   ]
  },
  {
   "cell_type": "code",
   "execution_count": null,
   "metadata": {
    "execution": {
     "iopub.execute_input": "2020-09-29T00:58:20.202358Z",
     "iopub.status.busy": "2020-09-29T00:58:20.201949Z",
     "iopub.status.idle": "2020-09-29T00:58:28.169719Z",
     "shell.execute_reply": "2020-09-29T00:58:28.170222Z"
    }
   },
   "outputs": [],
   "source": [
    "from utils.data_cube_utilities.dc_time import dt_to_str\n",
    "\n",
    "metadata = dc.load(platform=platform, \n",
    "                   product=product, \n",
    "                   measurements=[], \n",
    "                   **common_load_params)\n",
    "\n",
    "full_lat = metadata.latitude.values[[-1,0]]\n",
    "full_lon = metadata.longitude.values[[0,-1]]\n",
    "min_max_dates = list(map(dt_to_str, map(pd.to_datetime, metadata.time.values[[0,-1]])))\n",
    "\n",
    "# Print the extents of the combined data.\n",
    "print(\"Latitude Extents:\", full_lat)\n",
    "print(\"Longitude Extents:\", full_lon)\n",
    "print(\"Time Extents:\", min_max_dates)"
   ]
  },
  {
   "cell_type": "markdown",
   "metadata": {},
   "source": [
    "**Option 2: User-friendly - if widgets were used above**"
   ]
  },
  {
   "cell_type": "code",
   "execution_count": null,
   "metadata": {
    "execution": {
     "iopub.execute_input": "2020-09-29T00:58:28.176298Z",
     "iopub.status.busy": "2020-09-29T00:58:28.175627Z",
     "iopub.status.idle": "2020-09-29T00:58:35.991724Z",
     "shell.execute_reply": "2020-09-29T00:58:35.992178Z"
    }
   },
   "outputs": [],
   "source": [
    "from utils.data_cube_utilities.dc_time import dt_to_str\n",
    "\n",
    "metadata = dc.load(platform=platform_wgt.value, \n",
    "                   product=prod_wgt.value, \n",
    "                   measurements=[], \n",
    "                   **common_load_params)\n",
    "\n",
    "full_lat = metadata.latitude.values[[-1,0]]\n",
    "full_lon = metadata.longitude.values[[0,-1]]\n",
    "min_max_dates = list(map(dt_to_str, map(pd.to_datetime, metadata.time.values[[0,-1]])))\n",
    "\n",
    "# Print the extents of the combined data.\n",
    "print(\"Latitude Extents:\", full_lat)\n",
    "print(\"Longitude Extents:\", full_lon)\n",
    "print(\"Time Extents:\", min_max_dates)"
   ]
  },
  {
   "cell_type": "markdown",
   "metadata": {},
   "source": [
    "**Visualize the available area**"
   ]
  },
  {
   "cell_type": "code",
   "execution_count": null,
   "metadata": {
    "execution": {
     "iopub.execute_input": "2020-09-29T00:58:35.995370Z",
     "iopub.status.busy": "2020-09-29T00:58:35.994950Z",
     "iopub.status.idle": "2020-09-29T00:58:36.151355Z",
     "shell.execute_reply": "2020-09-29T00:58:36.151775Z"
    }
   },
   "outputs": [],
   "source": [
    "from utils.data_cube_utilities.dc_display_map import display_map\n",
    "display_map(full_lat, full_lon)"
   ]
  },
  {
   "cell_type": "markdown",
   "metadata": {},
   "source": [
    "## <a id=\"notebook_template_parameters\"></a> Define the Analysis Parameters [&#9652;](#notebook_template_top)"
   ]
  },
  {
   "cell_type": "markdown",
   "metadata": {},
   "source": [
    "### Analysis parameters\n",
    "\n",
    "An *optional* section to inform the user of any parameters they'll need to configure to run the notebook, such as spatial and temporal extents (latitude, longitude, easting, northing, time), although those may be considered simple and common enough to omit here:\n",
    "\n",
    "* `param_name_1`: Simple description (e.g. `example_value`). Advice about appropriate values to choose for this parameter.\n",
    "* `param_name_2`: Simple description (e.g. `example_value`). Advice about appropriate values to choose for this parameter.\n"
   ]
  },
  {
   "cell_type": "markdown",
   "metadata": {},
   "source": [
    "**Option 1: Simpler - Allow selection of location and time by uncommenting a location's `lat`, `lon`, and `time_extents` variable assignments and commenting those for other locations**"
   ]
  },
  {
   "cell_type": "code",
   "execution_count": null,
   "metadata": {
    "execution": {
     "iopub.execute_input": "2020-09-29T00:58:36.155294Z",
     "iopub.status.busy": "2020-09-29T00:58:36.154878Z",
     "iopub.status.idle": "2020-09-29T00:58:36.156585Z",
     "shell.execute_reply": "2020-09-29T00:58:36.156988Z"
    }
   },
   "outputs": [],
   "source": [
    "# Mombasa, Kenya\n",
    "lat = (-4.1131, -3.9853)\n",
    "lon = (39.5445, 39.7420)\n",
    "time_extents = (\"2014-01-01\", \"2014-12-31\")\n",
    "\n",
    "# Freetown, Sierra Leone\n",
    "# lat = (8.3267, 8.5123)\n",
    "# lon = (-13.3109, -13.1197)\n",
    "# time_extents = (\"2014-01-01\", \"2014-12-31\")\n",
    "\n",
    "# Tano-Offin Forest - Ghana\n",
    "# lat = (6.5814, 6.8978)\n",
    "# lon = (-2.2955, -1.9395)\n",
    "# time_extents = (\"2014-01-01\", \"2014-12-31\")"
   ]
  },
  {
   "cell_type": "markdown",
   "metadata": {},
   "source": [
    "**Option 2: User-friendly - Allow selection of location and time with widgets**"
   ]
  },
  {
   "cell_type": "code",
   "execution_count": null,
   "metadata": {
    "execution": {
     "iopub.execute_input": "2020-09-29T00:58:36.184614Z",
     "iopub.status.busy": "2020-09-29T00:58:36.171087Z",
     "iopub.status.idle": "2020-09-29T00:58:36.271004Z",
     "shell.execute_reply": "2020-09-29T00:58:36.270551Z"
    }
   },
   "outputs": [],
   "source": [
    "from time import sleep\n",
    "import datetime\n",
    "\n",
    "def str_date_to_dt(date):\n",
    "    return datetime.datetime.strptime(date, '%Y-%m-%d')\n",
    "\n",
    "# Select an analysis region (Lat-Lon) within the extents listed above. \n",
    "# HINT: Keep your region small (<0.5 deg square) to avoid memory overload issues\n",
    "# Select a time period (Min-Max) within the extents\n",
    "\n",
    "## Location, date, and spatial slider widgets ##\n",
    "\n",
    "locations = {'Mombasa, Kenya': {'lat': (-4.1131, -3.9853), 'lon': (39.5445, 39.7420)},\n",
    "         'Freetown, Sierra Leone': {'lat': (8.3267, 8.5123), 'lon': (-13.3109, -13.1197)},\n",
    "         'Tano-Offin Forest - Ghana': {'lat': (6.5814, 6.8978), 'lon': (-2.2955, -1.9395)},\n",
    "         'Weija Reservoir, Ghana': {'lon': (-0.4, -0.3), 'lat': (5.54, 5.62)},\n",
    "         'Kasoa, Ghana': {'lat': (5.4154, 5.6252), 'lon': (-0.5150, -0.2647)},\n",
    "         'Custom': {}}\n",
    "location_wgt = pn.widgets.Select(name='Location', value='Mombasa, Kenya', options=list(locations.keys()))\n",
    "date_wgt = pn.widgets.DateRangeSlider(name='Time Range', \n",
    "                                      start=str_date_to_dt(min_max_dates[0]), \n",
    "                                      end=str_date_to_dt(min_max_dates[1]), \n",
    "                                      value=(datetime.datetime(2017,1,1), datetime.datetime(2017,12,31)))\n",
    "lat_wgt = pn.widgets.RangeSlider(name='Latitude', start=full_lat[0], end=full_lat[1], step=0.1,\n",
    "                                 value=locations[location_wgt.value]['lat'])\n",
    "lon_wgt = pn.widgets.RangeSlider(name='Longitude', start=full_lon[0], end=full_lon[1], step=0.1,\n",
    "                                 value=locations[location_wgt.value]['lon'])\n",
    "\n",
    "# If true, denotes that changes in lat/lon are caused by a location widget change,\n",
    "# not a change in one of the 4 float widgets (lat min, lat max, lon min, lon max).\n",
    "location_changed = [False]\n",
    "@pn.depends(location_wgt.param.value, watch=True)\n",
    "def location_handler(location, location_changed=location_changed):\n",
    "    # Update the lat/lon sliders with the values for the selected location.\n",
    "    if location != 'Custom':\n",
    "        location_changed[0] = True\n",
    "        lat_wgt.value = locations[location].get('lat', lat_wgt.value)\n",
    "        lon_wgt.value = locations[location].get('lon', lon_wgt.value)\n",
    "        location_changed[0] = False\n",
    "\n",
    "@pn.depends(lat_wgt.param.value, lon_wgt.param.value, watch=True)\n",
    "def lat_lon_sliders_handler(lat, lon, location_changed=location_changed):\n",
    "    sleep(0.01)\n",
    "    # If the latitude or longitude are changed other than due to a newly\n",
    "    # selected location (location widget), note that this is a custom location.\n",
    "    if not location_changed[0]:\n",
    "        location_wgt.value = 'Custom'\n",
    "\n",
    "## End location, date, and spatial slider widgets ##\n",
    "\n",
    "## Spatial extents float widgets ##\n",
    "\n",
    "# Using the `panel.depends` decorator with these widgets in Panel version 0.8.3 does not work.\n",
    "def set_lat_min_by_flt(evt):\n",
    "    try:\n",
    "        lat_min = float(evt.new)\n",
    "        lat_wgt.value = (lat_min, lat_wgt.value[1])\n",
    "    except:\n",
    "        return\n",
    "lat_min_flt_wgt = pn.widgets.LiteralInput(name='Latitude Min', value=lat_wgt.value[0], type=float)\n",
    "lat_min_flt_wgt.param.watch(set_lat_min_by_flt, 'value')\n",
    "\n",
    "def set_lat_max_by_flt(evt):\n",
    "    try:\n",
    "        lat_max = float(evt.new)\n",
    "        lat_wgt.value = (lat_wgt.value[0], lat_max)\n",
    "    except:\n",
    "        return\n",
    "lat_max_flt_wgt = pn.widgets.LiteralInput(name='Latitude Max', value=lat_wgt.value[1], type=float)\n",
    "lat_max_flt_wgt.param.watch(set_lat_max_by_flt, 'value')\n",
    "\n",
    "def set_lon_min_by_flt(evt):\n",
    "    try:\n",
    "        lon_min = float(evt.new)\n",
    "        lon_wgt.value = (lon_min, lon_wgt.value[1])\n",
    "    except:\n",
    "        return\n",
    "lon_min_flt_wgt = pn.widgets.LiteralInput(name='Longitude Min', value=lon_wgt.value[0], type=float)\n",
    "lon_min_flt_wgt.param.watch(set_lon_min_by_flt, 'value')\n",
    "\n",
    "def set_lon_max_by_flt(evt):\n",
    "    try:\n",
    "        lon_max = float(evt.new)\n",
    "        lon_wgt.value = (lon_wgt.value[0], lon_max)\n",
    "    except:\n",
    "        return\n",
    "lon_max_flt_wgt = pn.widgets.LiteralInput(name='Longitude Max', value=lon_wgt.value[1], type=float)\n",
    "lon_max_flt_wgt.param.watch(set_lon_max_by_flt, 'value')\n",
    "\n",
    "## End spatial extents float widgets ##\n",
    "std_height = 50\n",
    "std_width = 50\n",
    "widgets_row_fmt = dict(width=6*std_width)\n",
    "pn.Row(\n",
    "    pn.WidgetBox(\n",
    "        pn.Row(location_wgt, \n",
    "               **widgets_row_fmt, height=std_height), \n",
    "        pn.Row(date_wgt, \n",
    "               **widgets_row_fmt, height=std_height),\n",
    "        pn.Row(lat_min_flt_wgt, lat_max_flt_wgt, \n",
    "               **widgets_row_fmt, height=std_height),\n",
    "        pn.Row(lat_wgt, \n",
    "               **widgets_row_fmt, height=std_height), \n",
    "        pn.Row(lon_min_flt_wgt, lon_max_flt_wgt, \n",
    "               **widgets_row_fmt, height=std_height),\n",
    "        pn.Row(lon_wgt, \n",
    "               **widgets_row_fmt, height=std_height)),\n",
    "    pn.WidgetBox(\"\"\"\n",
    "       ## Information\n",
    "       Select a location to set the latitude and longitude sliders. <br><br>\n",
    "       You can set the area with the numeric widgets. <br><br>\n",
    "       You can also drag the lower (left) and upper (right) values in the sliders to set the time range and area.\"\"\", \n",
    "                 **widgets_row_fmt))"
   ]
  },
  {
   "cell_type": "markdown",
   "metadata": {},
   "source": [
    "**Visualize the selected area**"
   ]
  },
  {
   "cell_type": "markdown",
   "metadata": {},
   "source": [
    "**Option 1: Simpler - if no widgets were used above**"
   ]
  },
  {
   "cell_type": "code",
   "execution_count": null,
   "metadata": {
    "execution": {
     "iopub.execute_input": "2020-09-29T00:58:36.275239Z",
     "iopub.status.busy": "2020-09-29T00:58:36.274584Z",
     "iopub.status.idle": "2020-09-29T00:58:36.282259Z",
     "shell.execute_reply": "2020-09-29T00:58:36.282668Z"
    }
   },
   "outputs": [],
   "source": [
    "display_map(lat,lon)"
   ]
  },
  {
   "cell_type": "markdown",
   "metadata": {},
   "source": [
    "**Option 2: User-friendly - if widgets were used above**"
   ]
  },
  {
   "cell_type": "code",
   "execution_count": null,
   "metadata": {
    "execution": {
     "iopub.execute_input": "2020-09-29T00:58:36.286610Z",
     "iopub.status.busy": "2020-09-29T00:58:36.285954Z",
     "iopub.status.idle": "2020-09-29T00:58:36.293556Z",
     "shell.execute_reply": "2020-09-29T00:58:36.293982Z"
    }
   },
   "outputs": [],
   "source": [
    "display_map(lat_wgt.value,lon_wgt.value)"
   ]
  },
  {
   "cell_type": "markdown",
   "metadata": {},
   "source": [
    "## <a id=\"notebook_template_load\"></a> Load and Clean Data from the Data Cube [&#9652;](#notebook_template_top)"
   ]
  },
  {
   "cell_type": "markdown",
   "metadata": {},
   "source": [
    "**Option 1: Simple - load normally, using NumPy**\n",
    "\n",
    "**This is a fairly fast and reliable way to process the data - once it is loaded.\n",
    "All of the data is loaded together, so you will enconter memory limits for large queries, but\n",
    "NumPy is more widely supported and generally easier to work with than the alternative in option 2.\n",
    "Try getting a notebook working with this option first.**"
   ]
  },
  {
   "cell_type": "code",
   "execution_count": null,
   "metadata": {
    "execution": {
     "iopub.execute_input": "2020-09-29T00:58:36.298416Z",
     "iopub.status.busy": "2020-09-29T00:58:36.298007Z",
     "iopub.status.idle": "2020-09-29T00:58:40.090999Z",
     "shell.execute_reply": "2020-09-29T00:58:40.090248Z"
    }
   },
   "outputs": [],
   "source": [
    "measurements = ['red', 'green', 'blue', 'nir', 'swir1', 'swir2', 'pixel_qa']\n",
    "# The `dask_chunks={'time':1}` serves to speed up queries from S3 \n",
    "# through parallel downloads using Dask. But calling `.compute()` converts\n",
    "# the data in the data variables in the returned `xarray.Dataset` to NumPy arrays\n",
    "# instead of Dask arrays, so the result is the same as not loading with Dask.\n",
    "landsat_dataset = dc.load(platform = platform,\n",
    "                          product = product,\n",
    "                          latitude = lat,\n",
    "                          longitude = lon,\n",
    "                          time = time_extents,\n",
    "                          measurements = measurements,\n",
    "                          group_by='solar_day', \n",
    "                          dask_chunks={'time':1},\n",
    "                          **common_load_params).compute()"
   ]
  },
  {
   "cell_type": "markdown",
   "metadata": {},
   "source": [
    "**Mask out clouds**"
   ]
  },
  {
   "cell_type": "code",
   "execution_count": null,
   "metadata": {
    "execution": {
     "iopub.execute_input": "2020-09-29T00:58:40.096190Z",
     "iopub.status.busy": "2020-09-29T00:58:40.095415Z",
     "iopub.status.idle": "2020-09-29T00:58:40.511797Z",
     "shell.execute_reply": "2020-09-29T00:58:40.511295Z"
    }
   },
   "outputs": [],
   "source": [
    "from utils.data_cube_utilities.clean_mask import landsat_clean_mask_full\n",
    "\n",
    "cloud_mask = landsat_clean_mask_full(dc, landsat_dataset, product=product, platform=platform,\n",
    "                                     collection=collection, level=level)\n",
    "landsat_dataset = landsat_dataset.where(cloud_mask).drop('pixel_qa')"
   ]
  },
  {
   "cell_type": "markdown",
   "metadata": {},
   "source": [
    "**Option 2: Scalable - load with Dask**\n",
    "\n",
    "**This is an even faster and much more scalable way to process the data. \n",
    "Chunks of the data are loaded and processed in a stream of tasks in parallel.\n",
    "Dask will avoid running out of memory within its ability. Simply provide it with a reasonable chunk size - about 200 MiB per chunk, though that will vary with the performance characteristics of the functions being applied to the data. Note that not all tasks that work with option 1 work with option 2.**"
   ]
  },
  {
   "cell_type": "code",
   "execution_count": null,
   "metadata": {
    "execution": {
     "iopub.execute_input": "2020-09-29T00:58:40.517627Z",
     "iopub.status.busy": "2020-09-29T00:58:40.517169Z",
     "iopub.status.idle": "2020-09-29T00:58:40.564082Z",
     "shell.execute_reply": "2020-09-29T00:58:40.563618Z"
    }
   },
   "outputs": [],
   "source": [
    "measurements = ['red', 'green', 'blue', 'nir', 'swir1', 'swir2', 'pixel_qa']\n",
    "landsat_dataset = dc.load(latitude = lat_wgt.value,\n",
    "                          longitude = lon_wgt.value,\n",
    "                          platform = platform_wgt.value,\n",
    "                          time = date_wgt.value,\n",
    "                          product = prod_wgt.value,\n",
    "                          measurements = measurements,\n",
    "                          group_by='solar_day', \n",
    "                          dask_chunks={'latitude':1500, 'longitude':1500, 'time':1})"
   ]
  },
  {
   "cell_type": "markdown",
   "metadata": {},
   "source": [
    "**Mask out clouds**"
   ]
  },
  {
   "cell_type": "code",
   "execution_count": null,
   "metadata": {
    "execution": {
     "iopub.execute_input": "2020-09-29T00:58:40.592176Z",
     "iopub.status.busy": "2020-09-29T00:58:40.584939Z",
     "iopub.status.idle": "2020-09-29T00:58:40.623356Z",
     "shell.execute_reply": "2020-09-29T00:58:40.622898Z"
    }
   },
   "outputs": [],
   "source": [
    "from utils.data_cube_utilities.clean_mask import landsat_clean_mask_full\n",
    "\n",
    "cloud_mask = landsat_clean_mask_full(dc, landsat_dataset, product=product, platform=platform,\n",
    "                                     collection=collection, level=level)\n",
    "landsat_dataset = landsat_dataset.where(cloud_mask).drop('pixel_qa')"
   ]
  },
  {
   "cell_type": "code",
   "execution_count": null,
   "metadata": {
    "execution": {
     "iopub.execute_input": "2020-09-29T00:58:40.652374Z",
     "iopub.status.busy": "2020-09-29T00:58:40.650201Z",
     "iopub.status.idle": "2020-09-29T00:58:48.606613Z",
     "shell.execute_reply": "2020-09-29T00:58:48.606106Z"
    }
   },
   "outputs": [],
   "source": [
    "cloud_mask = cloud_mask.persist()\n",
    "landsat_dataset = landsat_dataset.persist()"
   ]
  },
  {
   "cell_type": "markdown",
   "metadata": {},
   "source": [
    "## <a id=\"notebook_template_visualize\"></a> Visualization [&#9652;](#notebook_template_top)"
   ]
  },
  {
   "cell_type": "markdown",
   "metadata": {},
   "source": [
    "**Create a mosaic for the sake of demonstration**"
   ]
  },
  {
   "cell_type": "code",
   "execution_count": null,
   "metadata": {
    "execution": {
     "iopub.execute_input": "2020-09-29T00:58:48.614344Z",
     "iopub.status.busy": "2020-09-29T00:58:48.613882Z",
     "iopub.status.idle": "2020-09-29T00:59:35.845047Z",
     "shell.execute_reply": "2020-09-29T00:59:35.845534Z"
    }
   },
   "outputs": [],
   "source": [
    "from utils.data_cube_utilities.dc_mosaic import create_hdmedians_multiple_band_mosaic\n",
    "from utils.data_cube_utilities.plotter_utils import figure_ratio\n",
    "\n",
    "mosaic = create_hdmedians_multiple_band_mosaic(landsat_dataset[['red', 'green', 'blue']], cloud_mask)\n",
    "rgb = mosaic.to_array().transpose('latitude', 'longitude', 'variable')\n",
    "rgb_scaled = ((rgb - rgb.min()) / (rgb.max() - rgb.min())).persist()\n",
    "\n",
    "# Define the size of the plots.\n",
    "width, height = figure_ratio(landsat_dataset, fixed_width=12)\n",
    "width, height = int(width), int(height)"
   ]
  },
  {
   "cell_type": "markdown",
   "metadata": {},
   "source": [
    "**Option 1: Simple - Matplotlib, Seaborn, Plotly**\n",
    "\n",
    "* Matplotlib is most useful for quick, simple plotting \n",
    "* Seaborn is most useful for plotting pandas data (tabular datasets)\n",
    "* Plotly is most useful for interactive visualizations"
   ]
  },
  {
   "cell_type": "code",
   "execution_count": null,
   "metadata": {
    "execution": {
     "iopub.execute_input": "2020-09-29T00:59:35.850752Z",
     "iopub.status.busy": "2020-09-29T00:59:35.849329Z",
     "iopub.status.idle": "2020-09-29T00:59:36.201757Z",
     "shell.execute_reply": "2020-09-29T00:59:36.202211Z"
    }
   },
   "outputs": [],
   "source": [
    "# Plot a particular time using the xarray object (which uses matplotlib).\n",
    "rgb_scaled.compute().plot.imshow(figsize=(width, height))\n",
    "plt.title('Plotting with Xarray (matplotlib)')\n",
    "plt.show()"
   ]
  },
  {
   "cell_type": "markdown",
   "metadata": {},
   "source": [
    "**Option 2: Scalable, Beautiful - HoloViews, Datashader - prefer if option 2 was used in loading (Dask)**\n",
    "\n",
    "* HoloViews is a scalable, interactive plotting library that has a different style of code than matplotlib and a different set of capabilities\n",
    "* Datashader allows efficient visualization of large datasets (pixel binning)\n",
    "\n",
    "**These libraries are part of the PyViz ecosystem, which has become increasingly popular. They are needed to plot very large rasters. If the raster below is large enough, you will notice that the resolution is upscaled when zooming in and vice versa. You can zoom in by clicking the icon of the magnifying glass in a box on the right and then dragging an area over the map with left-click. To zoom out, click the cycle button (two arrows forming a loop)**"
   ]
  },
  {
   "cell_type": "code",
   "execution_count": null,
   "metadata": {
    "execution": {
     "iopub.execute_input": "2020-09-29T00:59:36.206409Z",
     "iopub.status.busy": "2020-09-29T00:59:36.205993Z",
     "iopub.status.idle": "2020-09-29T00:59:39.106912Z",
     "shell.execute_reply": "2020-09-29T00:59:39.107349Z"
    }
   },
   "outputs": [],
   "source": [
    "from xarray.ufuncs import isnan as xr_nan\n",
    "from holoviews.operation.datashader import rasterize\n",
    "\n",
    "# Format the RGB image.\n",
    "rgb_scaled = rgb_scaled.where(~xr_nan(rgb_scaled), 0) # Set NaN to 0.\n",
    "\n",
    "pn.Column(rasterize(hv.RGB(rgb_scaled, kdims=['longitude', 'latitude'])).opts(height=65*height, width=65*width))"
   ]
  }
 ],
 "metadata": {
  "kernelspec": {
   "display_name": "Python 3",
   "language": "python",
   "name": "python3"
  },
  "language_info": {
   "codemirror_mode": {
    "name": "ipython",
    "version": 3
   },
   "file_extension": ".py",
   "mimetype": "text/x-python",
   "name": "python",
   "nbconvert_exporter": "python",
   "pygments_lexer": "ipython3",
   "version": "3.6.9"
  },
  "widgets": {
   "application/vnd.jupyter.widget-state+json": {
    "state": {},
    "version_major": 2,
    "version_minor": 0
   }
  }
 },
 "nbformat": 4,
 "nbformat_minor": 4
}
