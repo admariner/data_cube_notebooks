{
 "cells": [
  {
   "cell_type": "markdown",
   "metadata": {},
   "source": [
    "<a id=\"top\"></a>\n",
    "# Export Notebook  \n",
    "\n",
    "<hr>\n",
    "\n",
    "# Notebook Summary\n",
    "\n",
    "The code in this notebook subsets a data cube, selects a specific set of variables, generates some additional data from those and then outputs that data into a GeoTIFF file. The goal is to be able to do external analyses of this data using other data analysis tools or GIS tools. The files would be reasonable in size, since we would restrict the region and parameters in the output.\n",
    "\n",
    "<hr>\n",
    "\n",
    "# Index\n",
    "\n",
    "* [Import Dependencies and Connect to the Data Cube](#import)\n",
    "* [Choose Platforms and Products](#plat_prod)\n",
    "* [Get the Extents of the Cube](#extents)\n",
    "* [Define the Extents of the Analysis](#define_extents)\n",
    "* [Load Data from the Datacube](#retrieve_data)\n",
    "* [Derive Products](#derive_products)\n",
    "* [Combine Data](#combine_data)\n",
    "* [Export Data](#export)\n",
    "    * [Export to GeoTIFF](#export_geotiff)\n",
    "    * [Export to NetCDF](#export_netcdf)\n",
    "    \n",
    "<hr>"
   ]
  },
  {
   "cell_type": "markdown",
   "metadata": {},
   "source": [
    "## <span id=\"import\">Import Dependencies and Connect to the Data Cube [&#9652;](#top)</span> "
   ]
  },
  {
   "cell_type": "code",
   "execution_count": null,
   "metadata": {
    "execution": {
     "iopub.execute_input": "2020-09-29T14:46:17.504425Z",
     "iopub.status.busy": "2020-09-29T14:46:17.503998Z",
     "iopub.status.idle": "2020-09-29T14:46:18.445008Z",
     "shell.execute_reply": "2020-09-29T14:46:18.444513Z"
    },
    "scrolled": true
   },
   "outputs": [],
   "source": [
    "import sys\n",
    "import os\n",
    "sys.path.append(os.environ.get('NOTEBOOK_ROOT'))\n",
    "\n",
    "import xarray as xr  \n",
    "import numpy as np\n",
    "import datacube\n",
    "from utils.data_cube_utilities.data_access_api import DataAccessApi"
   ]
  },
  {
   "cell_type": "code",
   "execution_count": null,
   "metadata": {
    "execution": {
     "iopub.execute_input": "2020-09-29T14:46:18.449052Z",
     "iopub.status.busy": "2020-09-29T14:46:18.448377Z",
     "iopub.status.idle": "2020-09-29T14:46:18.749473Z",
     "shell.execute_reply": "2020-09-29T14:46:18.749970Z"
    }
   },
   "outputs": [],
   "source": [
    "from datacube.utils.aws import configure_s3_access\n",
    "configure_s3_access(requester_pays=True)\n",
    "\n",
    "api = DataAccessApi()\n",
    "dc = api.dc"
   ]
  },
  {
   "cell_type": "markdown",
   "metadata": {},
   "source": [
    "## <span id=\"plat_prod\">Choose Platforms and Products [&#9652;](#top)</span>"
   ]
  },
  {
   "cell_type": "markdown",
   "metadata": {},
   "source": [
    "**List available products for each platform**"
   ]
  },
  {
   "cell_type": "code",
   "execution_count": null,
   "metadata": {
    "execution": {
     "iopub.execute_input": "2020-09-29T14:46:18.753791Z",
     "iopub.status.busy": "2020-09-29T14:46:18.753346Z",
     "iopub.status.idle": "2020-09-29T14:46:18.802932Z",
     "shell.execute_reply": "2020-09-29T14:46:18.802480Z"
    }
   },
   "outputs": [],
   "source": [
    "list_of_products = dc.list_products()\n",
    "list_of_products"
   ]
  },
  {
   "cell_type": "markdown",
   "metadata": {},
   "source": [
    "**Choose product**"
   ]
  },
  {
   "cell_type": "code",
   "execution_count": null,
   "metadata": {
    "execution": {
     "iopub.execute_input": "2020-09-29T14:46:18.805882Z",
     "iopub.status.busy": "2020-09-29T14:46:18.805367Z",
     "iopub.status.idle": "2020-09-29T14:46:18.807552Z",
     "shell.execute_reply": "2020-09-29T14:46:18.807961Z"
    },
    "scrolled": true
   },
   "outputs": [],
   "source": [
    "platform = 'LANDSAT_7'\n",
    "product = 'ls7_usgs_sr_scene'\n",
    "collection = 'c1'\n",
    "level = 'l2'"
   ]
  },
  {
   "cell_type": "markdown",
   "metadata": {},
   "source": [
    "## <span id=\"extents\">Get the Extents of the Cube [&#9652;](#top)</span>"
   ]
  },
  {
   "cell_type": "code",
   "execution_count": null,
   "metadata": {
    "execution": {
     "iopub.execute_input": "2020-09-29T14:46:18.811676Z",
     "iopub.status.busy": "2020-09-29T14:46:18.811244Z",
     "iopub.status.idle": "2020-09-29T14:46:26.295864Z",
     "shell.execute_reply": "2020-09-29T14:46:26.296294Z"
    }
   },
   "outputs": [],
   "source": [
    "from utils.data_cube_utilities.dc_load import get_product_extents\n",
    "from utils.data_cube_utilities.dc_time import dt_to_str\n",
    "\n",
    "full_lat, full_lon, min_max_dates = get_product_extents(api, platform, product)\n",
    "\n",
    "# Print the extents of the combined data.\n",
    "print(\"Latitude Extents:\", full_lat)\n",
    "print(\"Longitude Extents:\", full_lon)\n",
    "print(\"Time Extents:\", list(map(dt_to_str, min_max_dates)))"
   ]
  },
  {
   "cell_type": "code",
   "execution_count": null,
   "metadata": {
    "execution": {
     "iopub.execute_input": "2020-09-29T14:46:26.299949Z",
     "iopub.status.busy": "2020-09-29T14:46:26.299277Z",
     "iopub.status.idle": "2020-09-29T14:46:26.473352Z",
     "shell.execute_reply": "2020-09-29T14:46:26.473820Z"
    }
   },
   "outputs": [],
   "source": [
    "## The code below renders a map that can be used to orient yourself with the region.\n",
    "from utils.data_cube_utilities.dc_display_map import display_map\n",
    "display_map(full_lat, full_lon)"
   ]
  },
  {
   "cell_type": "markdown",
   "metadata": {},
   "source": [
    "## <span id=\"define_extents\">Define the Extents of the Analysis [&#9652;](#top)</span>"
   ]
  },
  {
   "cell_type": "code",
   "execution_count": null,
   "metadata": {
    "execution": {
     "iopub.execute_input": "2020-09-29T14:46:26.477062Z",
     "iopub.status.busy": "2020-09-29T14:46:26.476653Z",
     "iopub.status.idle": "2020-09-29T14:46:26.478514Z",
     "shell.execute_reply": "2020-09-29T14:46:26.478924Z"
    }
   },
   "outputs": [],
   "source": [
    "######### Ghana - Pambros Salt Ponds ################## \n",
    "lon = (-0.3013, -0.2671)\n",
    "lat = (5.5155, 5.5617)\n",
    "\n",
    "time_extents = ('2015-01-01', '2015-12-31')"
   ]
  },
  {
   "cell_type": "code",
   "execution_count": null,
   "metadata": {
    "execution": {
     "iopub.execute_input": "2020-09-29T14:46:26.482671Z",
     "iopub.status.busy": "2020-09-29T14:46:26.482000Z",
     "iopub.status.idle": "2020-09-29T14:46:26.489460Z",
     "shell.execute_reply": "2020-09-29T14:46:26.489903Z"
    }
   },
   "outputs": [],
   "source": [
    "from utils.data_cube_utilities.dc_display_map import display_map\n",
    "display_map(lat, lon)"
   ]
  },
  {
   "cell_type": "markdown",
   "metadata": {},
   "source": [
    "## <span id=\"retrieve_data\">Load Data from the Data Cube [&#9652;](#top)</span>"
   ]
  },
  {
   "cell_type": "code",
   "execution_count": null,
   "metadata": {
    "execution": {
     "iopub.execute_input": "2020-09-29T14:46:26.494245Z",
     "iopub.status.busy": "2020-09-29T14:46:26.493574Z",
     "iopub.status.idle": "2020-09-29T14:46:29.247643Z",
     "shell.execute_reply": "2020-09-29T14:46:29.248194Z"
    }
   },
   "outputs": [],
   "source": [
    "landsat_dataset = dc.load(latitude = lat,\n",
    "                          longitude = lon,\n",
    "                          platform = platform,\n",
    "                          time = time_extents,\n",
    "                          product = product,\n",
    "                          measurements = ['red', 'green', 'blue', 'nir', 'swir1', 'swir2', 'pixel_qa'],\n",
    "                          dask_chunks={'time':1, 'latitude':1000, 'longitude':1000})"
   ]
  },
  {
   "cell_type": "markdown",
   "metadata": {},
   "source": [
    "## <span id=\"derive_products\">Derive Products [&#9652;](#top)</span> "
   ]
  },
  {
   "cell_type": "markdown",
   "metadata": {},
   "source": [
    "> ### Masks"
   ]
  },
  {
   "cell_type": "code",
   "execution_count": null,
   "metadata": {
    "execution": {
     "iopub.execute_input": "2020-09-29T14:46:29.316239Z",
     "iopub.status.busy": "2020-09-29T14:46:29.315766Z",
     "iopub.status.idle": "2020-09-29T14:46:29.343927Z",
     "shell.execute_reply": "2020-09-29T14:46:29.344335Z"
    }
   },
   "outputs": [],
   "source": [
    "from utils.data_cube_utilities.clean_mask import landsat_qa_clean_mask\n",
    "\n",
    "plt_col_lvl_params = dict(platform=platform, collection=collection, level=level)\n",
    "clear_xarray = landsat_qa_clean_mask(landsat_dataset, cover_types=['clear'], **plt_col_lvl_params)\n",
    "water_xarray = landsat_qa_clean_mask(landsat_dataset, cover_types=['water'], **plt_col_lvl_params)\n",
    "shadow_xarray = landsat_qa_clean_mask(landsat_dataset, cover_types=['cld_shd'], **plt_col_lvl_params)\n",
    "\n",
    "# clean_xarray = xr.ufuncs.logical_or(clear_xarray, water_xarray).rename(\"clean_mask\")\n",
    "clean_xarray = (clear_xarray | water_xarray).rename(\"clean_mask\")\n",
    "\n",
    "# landsat_qa_clean_mask(cover_types=[])"
   ]
  },
  {
   "cell_type": "markdown",
   "metadata": {},
   "source": [
    "> ### Water Classification"
   ]
  },
  {
   "cell_type": "code",
   "execution_count": null,
   "metadata": {
    "execution": {
     "iopub.execute_input": "2020-09-29T14:46:29.348728Z",
     "iopub.status.busy": "2020-09-29T14:46:29.347513Z",
     "iopub.status.idle": "2020-09-29T14:46:29.419704Z",
     "shell.execute_reply": "2020-09-29T14:46:29.419227Z"
    }
   },
   "outputs": [],
   "source": [
    "from utils.data_cube_utilities.dc_water_classifier import wofs_classify\n",
    "\n",
    "water_classification = wofs_classify(landsat_dataset,\n",
    "                                     clean_mask = clean_xarray, \n",
    "                                     mosaic = False) "
   ]
  },
  {
   "cell_type": "code",
   "execution_count": null,
   "metadata": {
    "execution": {
     "iopub.execute_input": "2020-09-29T14:46:29.422949Z",
     "iopub.status.busy": "2020-09-29T14:46:29.422535Z",
     "iopub.status.idle": "2020-09-29T14:46:29.424167Z",
     "shell.execute_reply": "2020-09-29T14:46:29.424576Z"
    }
   },
   "outputs": [],
   "source": [
    "wofs_xarray = water_classification.wofs"
   ]
  },
  {
   "cell_type": "markdown",
   "metadata": {},
   "source": [
    "> ###  Normalized Indices  "
   ]
  },
  {
   "cell_type": "code",
   "execution_count": null,
   "metadata": {
    "execution": {
     "iopub.execute_input": "2020-09-29T14:46:29.427829Z",
     "iopub.status.busy": "2020-09-29T14:46:29.427380Z",
     "iopub.status.idle": "2020-09-29T14:46:29.429045Z",
     "shell.execute_reply": "2020-09-29T14:46:29.429452Z"
    }
   },
   "outputs": [],
   "source": [
    "def NDVI(dataset):\n",
    "    return ((dataset.nir - dataset.red)/(dataset.nir + dataset.red)).rename(\"NDVI\")"
   ]
  },
  {
   "cell_type": "code",
   "execution_count": null,
   "metadata": {
    "execution": {
     "iopub.execute_input": "2020-09-29T14:46:29.432537Z",
     "iopub.status.busy": "2020-09-29T14:46:29.432126Z",
     "iopub.status.idle": "2020-09-29T14:46:29.434203Z",
     "shell.execute_reply": "2020-09-29T14:46:29.433773Z"
    }
   },
   "outputs": [],
   "source": [
    "def NDWI(dataset):\n",
    "    return ((dataset.green - dataset.nir)/(dataset.green + dataset.nir)).rename(\"NDWI\")"
   ]
  },
  {
   "cell_type": "code",
   "execution_count": null,
   "metadata": {
    "execution": {
     "iopub.execute_input": "2020-09-29T14:46:29.437215Z",
     "iopub.status.busy": "2020-09-29T14:46:29.436804Z",
     "iopub.status.idle": "2020-09-29T14:46:29.438460Z",
     "shell.execute_reply": "2020-09-29T14:46:29.438867Z"
    }
   },
   "outputs": [],
   "source": [
    "def NDBI(dataset):\n",
    "        return ((dataset.swir2 - dataset.nir)/(dataset.swir2 + dataset.nir)).rename(\"NDBI\")"
   ]
  },
  {
   "cell_type": "code",
   "execution_count": null,
   "metadata": {
    "execution": {
     "iopub.execute_input": "2020-09-29T14:46:29.442192Z",
     "iopub.status.busy": "2020-09-29T14:46:29.441784Z",
     "iopub.status.idle": "2020-09-29T14:46:29.452132Z",
     "shell.execute_reply": "2020-09-29T14:46:29.451715Z"
    }
   },
   "outputs": [],
   "source": [
    "ndbi_xarray = NDBI(landsat_dataset)  # Urbanization - Reds\n",
    "ndvi_xarray = NDVI(landsat_dataset)  # Dense Vegetation - Greens\n",
    "ndwi_xarray = NDWI(landsat_dataset)  # High Concentrations of Water - Blues  "
   ]
  },
  {
   "cell_type": "markdown",
   "metadata": {},
   "source": [
    ">### TSM  "
   ]
  },
  {
   "cell_type": "code",
   "execution_count": null,
   "metadata": {
    "execution": {
     "iopub.execute_input": "2020-09-29T14:46:29.455599Z",
     "iopub.status.busy": "2020-09-29T14:46:29.454925Z",
     "iopub.status.idle": "2020-09-29T14:46:29.475098Z",
     "shell.execute_reply": "2020-09-29T14:46:29.475515Z"
    }
   },
   "outputs": [],
   "source": [
    "from utils.data_cube_utilities.dc_water_quality import tsm\n",
    "\n",
    "tsm_xarray = tsm(landsat_dataset, clean_mask = wofs_xarray.values.astype(bool) ).tsm"
   ]
  },
  {
   "cell_type": "markdown",
   "metadata": {},
   "source": [
    "> ### EVI  "
   ]
  },
  {
   "cell_type": "code",
   "execution_count": null,
   "metadata": {
    "execution": {
     "iopub.execute_input": "2020-09-29T14:46:29.479326Z",
     "iopub.status.busy": "2020-09-29T14:46:29.478837Z",
     "iopub.status.idle": "2020-09-29T14:46:29.480902Z",
     "shell.execute_reply": "2020-09-29T14:46:29.480474Z"
    }
   },
   "outputs": [],
   "source": [
    "def EVI(dataset, c1 = None, c2 = None, L = None):\n",
    "        return ((dataset.nir - dataset.red)/((dataset.nir  + (c1 * dataset.red) - (c2 *dataset.blue) + L))).rename(\"EVI\")"
   ]
  },
  {
   "cell_type": "code",
   "execution_count": null,
   "metadata": {
    "execution": {
     "iopub.execute_input": "2020-09-29T14:46:29.484558Z",
     "iopub.status.busy": "2020-09-29T14:46:29.483753Z",
     "iopub.status.idle": "2020-09-29T14:46:29.490877Z",
     "shell.execute_reply": "2020-09-29T14:46:29.490451Z"
    }
   },
   "outputs": [],
   "source": [
    "evi_xarray = EVI(landsat_dataset, c1 = 6, c2 = 7.5, L = 1 )"
   ]
  },
  {
   "cell_type": "markdown",
   "metadata": {},
   "source": [
    "## <span id=\"combine_data\">Combine Data [&#9652;](#top)</span>  "
   ]
  },
  {
   "cell_type": "code",
   "execution_count": null,
   "metadata": {
    "execution": {
     "iopub.execute_input": "2020-09-29T14:46:29.502698Z",
     "iopub.status.busy": "2020-09-29T14:46:29.501029Z",
     "iopub.status.idle": "2020-09-29T14:46:29.553475Z",
     "shell.execute_reply": "2020-09-29T14:46:29.553922Z"
    }
   },
   "outputs": [],
   "source": [
    "combined_dataset = xr.merge([landsat_dataset,\n",
    "          ## <span id=\"combine_data\">Combine Data [&#9652;](#top)</span>  clean_xarray,\n",
    "          clear_xarray,\n",
    "          water_xarray,\n",
    "          shadow_xarray,\n",
    "          evi_xarray,\n",
    "          ndbi_xarray,\n",
    "          ndvi_xarray,\n",
    "          ndwi_xarray,\n",
    "          wofs_xarray,\n",
    "          tsm_xarray])\n",
    "\n",
    "# Copy original crs to merged dataset \n",
    "combined_dataset = combined_dataset.assign_attrs(landsat_dataset.attrs)\n",
    "\n",
    "combined_dataset"
   ]
  },
  {
   "cell_type": "markdown",
   "metadata": {},
   "source": [
    "## <span id=\"export\">Export Data [&#9652;](#top)</span>  "
   ]
  },
  {
   "cell_type": "markdown",
   "metadata": {},
   "source": [
    "### <span id=\"export_geotiff\">Export to GeoTIFF [&#9652;](#top)</span>  "
   ]
  },
  {
   "cell_type": "markdown",
   "metadata": {},
   "source": [
    "Export each acquisition as a GeoTIFF."
   ]
  },
  {
   "cell_type": "code",
   "execution_count": null,
   "metadata": {
    "execution": {
     "iopub.execute_input": "2020-09-29T14:46:29.559815Z",
     "iopub.status.busy": "2020-09-29T14:46:29.559185Z",
     "iopub.status.idle": "2020-09-29T14:46:30.276344Z",
     "shell.execute_reply": "2020-09-29T14:46:30.275852Z"
    }
   },
   "outputs": [],
   "source": [
    "from utils.data_cube_utilities.import_export import export_xarray_to_multiple_geotiffs\n",
    "\n",
    "# Ensure the output directory exists before writing to it.\n",
    "if platform == 'LANDSAT_7':\n",
    "    !mkdir -p output/geotiffs/landsat7\n",
    "else:\n",
    "    !mkdir -p output/geotiffs/landsat8\n",
    "\n",
    "output_path = \"output/geotiffs/landsat{0}/landsat{0}\".format(7 if platform=='LANDSAT_7' else 8)\n",
    "\n",
    "export_xarray_to_multiple_geotiffs(combined_dataset, output_path)"
   ]
  },
  {
   "cell_type": "markdown",
   "metadata": {},
   "source": [
    "Check to see what files were exported. The size of these files is also shown."
   ]
  },
  {
   "cell_type": "code",
   "execution_count": null,
   "metadata": {
    "execution": {
     "iopub.execute_input": "2020-09-29T14:46:30.281003Z",
     "iopub.status.busy": "2020-09-29T14:46:30.280554Z",
     "iopub.status.idle": "2020-09-29T14:46:30.868084Z",
     "shell.execute_reply": "2020-09-29T14:46:30.867597Z"
    }
   },
   "outputs": [],
   "source": [
    "if platform == 'LANDSAT_7':\n",
    "    !ls -lah output/geotiffs/landsat7/*.tif\n",
    "else:\n",
    "    !ls -lah output/geotiffs/landsat8/*.tif"
   ]
  },
  {
   "cell_type": "markdown",
   "metadata": {},
   "source": [
    "Sanity check using `gdalinfo` to make sure that all of our bands exist    ."
   ]
  },
  {
   "cell_type": "code",
   "execution_count": null,
   "metadata": {
    "execution": {
     "iopub.execute_input": "2020-09-29T14:46:30.873033Z",
     "iopub.status.busy": "2020-09-29T14:46:30.872589Z",
     "iopub.status.idle": "2020-09-29T14:46:31.484303Z",
     "shell.execute_reply": "2020-09-29T14:46:31.484757Z"
    }
   },
   "outputs": [],
   "source": [
    "if platform == 'LANDSAT_7':\n",
    "    !gdalinfo output/geotiffs/landsat7/landsat7_2015_01_09_03_06_13.tif\n",
    "else:\n",
    "    !gdalinfo output/geotiffs/landsat8/landsat8_2015_01_01_03_07_41.tif"
   ]
  },
  {
   "cell_type": "markdown",
   "metadata": {},
   "source": [
    "Zip all GeoTIFFs."
   ]
  },
  {
   "cell_type": "code",
   "execution_count": null,
   "metadata": {
    "execution": {
     "iopub.execute_input": "2020-09-29T14:46:31.490001Z",
     "iopub.status.busy": "2020-09-29T14:46:31.489560Z",
     "iopub.status.idle": "2020-09-29T14:46:32.757909Z",
     "shell.execute_reply": "2020-09-29T14:46:32.758381Z"
    }
   },
   "outputs": [],
   "source": [
    "if platform == 'LANDSAT_7':\n",
    "    !tar -cvzf output/geotiffs/landsat7/landsat_7.tar.gz output/geotiffs/landsat7/*.tif\n",
    "else:\n",
    "    !tar -cvzf output/geotiffs/landsat8/landsat_8.tar.gz output/geotiffs/landsat8/*.tif"
   ]
  },
  {
   "cell_type": "markdown",
   "metadata": {},
   "source": [
    "### <span id=\"export_netcdf\">Export to NetCDF [&#9652;](#top)</span>  "
   ]
  },
  {
   "cell_type": "markdown",
   "metadata": {},
   "source": [
    "Export all acquisitions together as a single NetCDF."
   ]
  },
  {
   "cell_type": "code",
   "execution_count": null,
   "metadata": {
    "execution": {
     "iopub.execute_input": "2020-09-29T14:46:32.765963Z",
     "iopub.status.busy": "2020-09-29T14:46:32.763861Z",
     "iopub.status.idle": "2020-09-29T14:46:32.817389Z",
     "shell.execute_reply": "2020-09-29T14:46:32.817903Z"
    }
   },
   "outputs": [],
   "source": [
    "combined_dataset"
   ]
  },
  {
   "cell_type": "code",
   "execution_count": null,
   "metadata": {
    "execution": {
     "iopub.execute_input": "2020-09-29T14:46:32.829245Z",
     "iopub.status.busy": "2020-09-29T14:46:32.822224Z",
     "iopub.status.idle": "2020-09-29T14:46:32.835223Z",
     "shell.execute_reply": "2020-09-29T14:46:32.834712Z"
    }
   },
   "outputs": [],
   "source": [
    "import os\n",
    "import pathlib\n",
    "from utils.data_cube_utilities.import_export import export_xarray_to_netcdf\n",
    "\n",
    "# Ensure the output directory exists before writing to it.\n",
    "ls_num = 7 if platform=='LANDSAT_7' else 8\n",
    "output_dir = f\"output/netcdfs/landsat{ls_num}\"\n",
    "pathlib.Path(output_dir).mkdir(parents=True, exist_ok=True)\n",
    "\n",
    "output_file_path = output_dir + f\"/ls{ls_num}_netcdf_example.nc\"\n",
    "export_xarray_to_netcdf(combined_dataset.red, output_file_path)"
   ]
  }
 ],
 "metadata": {
  "kernelspec": {
   "display_name": "Python 3",
   "language": "python",
   "name": "python3"
  },
  "language_info": {
   "codemirror_mode": {
    "name": "ipython",
    "version": 3
   },
   "file_extension": ".py",
   "mimetype": "text/x-python",
   "name": "python",
   "nbconvert_exporter": "python",
   "pygments_lexer": "ipython3",
   "version": "3.6.9"
  }
 },
 "nbformat": 4,
 "nbformat_minor": 4
}
