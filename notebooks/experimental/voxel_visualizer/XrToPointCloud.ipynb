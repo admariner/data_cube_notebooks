{
 "cells": [
  {
   "cell_type": "code",
   "execution_count": 2,
   "metadata": {},
   "outputs": [
    {
     "name": "stderr",
     "output_type": "stream",
     "text": [
      "Matplotlib created a temporary config/cache directory at /tmp/matplotlib-zdoi8kvc because the default path (/home/jovyan/.config/matplotlib) is not a writable directory; it is highly recommended to set the MPLCONFIGDIR environment variable to a writable directory, in particular to speed up the import of Matplotlib and to better support multiprocessing.\n"
     ]
    }
   ],
   "source": [
    "import os\n",
    "import sys\n",
    "sys.path.append(os.environ.get('NOTEBOOK_ROOT'))\n",
    "\n",
    "import xarray as xr\n",
    "import numpy as np\n",
    "import pandas as pd\n",
    "\n",
    "# Ensure string casts of NumPy arrays \n",
    "# print as much as possible (no '...').\n",
    "np.set_printoptions(threshold=sys.maxsize)\n",
    "\n",
    "import matplotlib.pyplot as plt"
   ]
  },
  {
   "cell_type": "code",
   "execution_count": 3,
   "metadata": {},
   "outputs": [],
   "source": [
    "from odc_gee.earthengine import Datacube as GEE_Datacube\n",
    "dc = GEE_Datacube()"
   ]
  },
  {
   "cell_type": "code",
   "execution_count": 4,
   "metadata": {},
   "outputs": [
    {
     "data": {
      "text/html": [
       "<div>\n",
       "<style scoped>\n",
       "    .dataframe tbody tr th:only-of-type {\n",
       "        vertical-align: middle;\n",
       "    }\n",
       "\n",
       "    .dataframe tbody tr th {\n",
       "        vertical-align: top;\n",
       "    }\n",
       "\n",
       "    .dataframe thead th {\n",
       "        text-align: right;\n",
       "    }\n",
       "</style>\n",
       "<table border=\"1\" class=\"dataframe\">\n",
       "  <thead>\n",
       "    <tr style=\"text-align: right;\">\n",
       "      <th></th>\n",
       "      <th>name</th>\n",
       "      <th>description</th>\n",
       "      <th>format</th>\n",
       "      <th>creation_time</th>\n",
       "      <th>product_family</th>\n",
       "      <th>platform</th>\n",
       "      <th>time</th>\n",
       "      <th>lon</th>\n",
       "      <th>instrument</th>\n",
       "      <th>region_code</th>\n",
       "      <th>label</th>\n",
       "      <th>lat</th>\n",
       "      <th>dataset_maturity</th>\n",
       "      <th>crs</th>\n",
       "      <th>resolution</th>\n",
       "      <th>tile_size</th>\n",
       "      <th>spatial_dimensions</th>\n",
       "    </tr>\n",
       "    <tr>\n",
       "      <th>id</th>\n",
       "      <th></th>\n",
       "      <th></th>\n",
       "      <th></th>\n",
       "      <th></th>\n",
       "      <th></th>\n",
       "      <th></th>\n",
       "      <th></th>\n",
       "      <th></th>\n",
       "      <th></th>\n",
       "      <th></th>\n",
       "      <th></th>\n",
       "      <th></th>\n",
       "      <th></th>\n",
       "      <th></th>\n",
       "      <th></th>\n",
       "      <th></th>\n",
       "      <th></th>\n",
       "    </tr>\n",
       "  </thead>\n",
       "  <tbody>\n",
       "    <tr>\n",
       "      <th>2</th>\n",
       "      <td>ls8_l2_c1_t1_google</td>\n",
       "      <td>Landsat 8 Collection 1 Level 2 Surface Reflect...</td>\n",
       "      <td>None</td>\n",
       "      <td>None</td>\n",
       "      <td>None</td>\n",
       "      <td>None</td>\n",
       "      <td>None</td>\n",
       "      <td>None</td>\n",
       "      <td>None</td>\n",
       "      <td>None</td>\n",
       "      <td>None</td>\n",
       "      <td>None</td>\n",
       "      <td>None</td>\n",
       "      <td>EPSG:4326</td>\n",
       "      <td>(-0.00027777777778, 0.00027777777778)</td>\n",
       "      <td>None</td>\n",
       "      <td>(latitude, longitude)</td>\n",
       "    </tr>\n",
       "    <tr>\n",
       "      <th>1</th>\n",
       "      <td>ls8_l2_c1_t2_google</td>\n",
       "      <td>Landsat 8 Collection 1 Level 2 Surface Reflect...</td>\n",
       "      <td>None</td>\n",
       "      <td>None</td>\n",
       "      <td>None</td>\n",
       "      <td>None</td>\n",
       "      <td>None</td>\n",
       "      <td>None</td>\n",
       "      <td>None</td>\n",
       "      <td>None</td>\n",
       "      <td>None</td>\n",
       "      <td>None</td>\n",
       "      <td>None</td>\n",
       "      <td>EPSG:4326</td>\n",
       "      <td>(-0.00027777777778, 0.00027777777778)</td>\n",
       "      <td>None</td>\n",
       "      <td>(latitude, longitude)</td>\n",
       "    </tr>\n",
       "  </tbody>\n",
       "</table>\n",
       "</div>"
      ],
      "text/plain": [
       "                   name                                        description  \\\n",
       "id                                                                           \n",
       "2   ls8_l2_c1_t1_google  Landsat 8 Collection 1 Level 2 Surface Reflect...   \n",
       "1   ls8_l2_c1_t2_google  Landsat 8 Collection 1 Level 2 Surface Reflect...   \n",
       "\n",
       "   format creation_time product_family platform  time   lon instrument  \\\n",
       "id                                                                       \n",
       "2    None          None           None     None  None  None       None   \n",
       "1    None          None           None     None  None  None       None   \n",
       "\n",
       "   region_code label   lat dataset_maturity        crs  \\\n",
       "id                                                       \n",
       "2         None  None  None             None  EPSG:4326   \n",
       "1         None  None  None             None  EPSG:4326   \n",
       "\n",
       "                               resolution tile_size     spatial_dimensions  \n",
       "id                                                                          \n",
       "2   (-0.00027777777778, 0.00027777777778)      None  (latitude, longitude)  \n",
       "1   (-0.00027777777778, 0.00027777777778)      None  (latitude, longitude)  "
      ]
     },
     "execution_count": 4,
     "metadata": {},
     "output_type": "execute_result"
    }
   ],
   "source": [
    "dc.list_products()"
   ]
  },
  {
   "cell_type": "code",
   "execution_count": 5,
   "metadata": {},
   "outputs": [],
   "source": [
    "ds = dc.load(product='ls8_l2_c1_t1_google',\n",
    "             lat=(36.894872, 36.969353),\n",
    "             lon=(-76.394949,-76.260025),\n",
    "             time=('2014-01-01', '2014-06-30'),\n",
    "             measurements=['pixel_qa'])"
   ]
  },
  {
   "cell_type": "code",
   "execution_count": 17,
   "metadata": {},
   "outputs": [],
   "source": [
    "from utils.data_cube_utilities.clean_mask import landsat_qa_clean_mask\n",
    "\n",
    "clean_da = \\\n",
    "    landsat_qa_clean_mask(ds, 'LANDSAT_8', collection='c1', level='l2')"
   ]
  },
  {
   "cell_type": "code",
   "execution_count": 14,
   "metadata": {},
   "outputs": [],
   "source": [
    "import os\n",
    "\n",
    "from jinja2 import Template\n",
    "from IPython.display import HTML\n",
    "\n",
    "import psutil\n",
    "\n",
    "from utils.data_cube_utilities.dc_time import _n64_to_datetime, dt_to_str\n",
    "\n",
    "VOXEL_VIS_WEB_SVR_CMD = 'python3 server.py &'\n",
    "\n",
    "class VoxelVisualizer():\n",
    "    def _launch_server_if_not_running(self):\n",
    "        # Determine if the server is running.\n",
    "        process_cmds = (p.cmdline() for p in psutil.process_iter())\n",
    "        cmd_found = False\n",
    "        for cmd in process_cmds:\n",
    "            for token in VOXEL_VIS_WEB_SVR_CMD.split():\n",
    "                if token != '&' and token not in cmd:\n",
    "                    break\n",
    "                cmd_found = True\n",
    "                break\n",
    "            if cmd_found:\n",
    "                break\n",
    "        # If the server is not running, start it.\n",
    "        if not cmd_found:\n",
    "            os.system(VOXEL_VIS_WEB_SVR_CMD)\n",
    "    \n",
    "    def __init__(self):\n",
    "        # Launch the webserver.    \n",
    "        self._launch_server_if_not_running()\n",
    "        fs = open('template.html','r')\n",
    "        self.template = Template(fs.read())\n",
    "        fs.close()\n",
    "    \n",
    "#     def draw(self):\n",
    "#         if not da.dtype == 'boolean':\n",
    "#             raise Exception(\"You need to pass a boolean xarray.DataArray to use this.\")\n",
    "        \n",
    "#         filled_template = self.template.render() #data = str_rep)\n",
    "#         self.save(filled_template, 'out1.html')\n",
    "#         vox_vis_server_port = os.environ['VOXEL_VISUALIZER_PORT']\n",
    "#         self.iframe = HTML(f\"\"\"\n",
    "#         <iframe id='iframe' width=600, height=350></iframe>\n",
    "#         <script>\n",
    "#           var hostname = window.location.hostname;\n",
    "#           var url = 'http://' + hostname + ':{vox_vis_server_port}/static/out1.html'\n",
    "#           console.log(url);\n",
    "#           document.getElementById('iframe').src = url;\n",
    "#         </script>\"\"\")\n",
    "#         return self.iframe\n",
    "\n",
    "    def draw(self, da: xr.DataArray):\n",
    "#         if not np.array_equal(arr, arr.astype(bool)):\n",
    "#             raise Exception(\"You need to pass a boolean array to use this\")\n",
    "        if not da.dtype == 'bool':\n",
    "            raise Exception(\"You need to pass a boolean xarray.DataArray to use this.\")\n",
    "        \n",
    "        da = da.astype(np.int8)\n",
    "        \n",
    "        da_str = str(da.values.tolist())#.replace('array(', '').replace(')', '')#.replace('\\n', ',').replace(',,', ',')\n",
    "#         print(f'da_str: {da_str[-1000:]}')\n",
    "#         times_str = da.time.values\n",
    "        times_str = str([dt_to_str(_n64_to_datetime(time), fmt='%Y-%m-%dT%H:%M:%S.%f') \n",
    "                         for time in clean_da.time.values]).replace(',', ',\\n')\n",
    "#         print(f'times_str: {times_str}')\n",
    "        filled_template = self.template.render(data_array=da_str, times=times_str)\n",
    "        self.save(filled_template, 'out1.html')\n",
    "        vox_vis_server_port = os.environ['VOXEL_VISUALIZER_PORT']\n",
    "        self.iframe = HTML(f\"\"\"\n",
    "        <iframe id='iframe' width=600, height=350></iframe>\n",
    "        <script>\n",
    "          var hostname = window.location.hostname;\n",
    "          var url = 'http://' + hostname + ':{vox_vis_server_port}/static/out1.html'\n",
    "          console.log(url);\n",
    "          document.getElementById('iframe').src = url;\n",
    "        </script>\"\"\")\n",
    "        return self.iframe\n",
    "\n",
    "    def save(self, data, location):\n",
    "        fs = open(location, \"w\")\n",
    "        fs.write(data)\n",
    "        fs.close()\n",
    "        return "
   ]
  },
  {
   "cell_type": "code",
   "execution_count": 19,
   "metadata": {},
   "outputs": [
    {
     "data": {
      "text/plain": [
       "True"
      ]
     },
     "execution_count": 19,
     "metadata": {},
     "output_type": "execute_result"
    }
   ],
   "source": [
    "clean_da.dtype == 'bool'"
   ]
  },
  {
   "cell_type": "code",
   "execution_count": 15,
   "metadata": {
    "tags": []
   },
   "outputs": [],
   "source": [
    "voxel_visualizer = VoxelVisualizer()"
   ]
  },
  {
   "cell_type": "code",
   "execution_count": 16,
   "metadata": {},
   "outputs": [
    {
     "data": {
      "text/html": [
       "\n",
       "        <iframe id='iframe' width=600, height=350></iframe>\n",
       "        <script>\n",
       "          var hostname = window.location.hostname;\n",
       "          var url = 'http://' + hostname + ':8100/static/out1.html'\n",
       "          console.log(url);\n",
       "          document.getElementById('iframe').src = url;\n",
       "        </script>"
      ],
      "text/plain": [
       "<IPython.core.display.HTML object>"
      ]
     },
     "execution_count": 16,
     "metadata": {},
     "output_type": "execute_result"
    }
   ],
   "source": [
    "voxel_visualizer.draw(clean_da)"
   ]
  }
 ],
 "metadata": {
  "kernelspec": {
   "display_name": "Python 3",
   "language": "python",
   "name": "python3"
  },
  "language_info": {
   "codemirror_mode": {
    "name": "ipython",
    "version": 3
   },
   "file_extension": ".py",
   "mimetype": "text/x-python",
   "name": "python",
   "nbconvert_exporter": "python",
   "pygments_lexer": "ipython3",
   "version": "3.6.9"
  }
 },
 "nbformat": 4,
 "nbformat_minor": 4
}
