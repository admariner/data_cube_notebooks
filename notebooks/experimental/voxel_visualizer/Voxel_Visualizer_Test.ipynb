{
 "cells": [
  {
   "cell_type": "code",
   "execution_count": null,
   "metadata": {},
   "outputs": [],
   "source": [
    "import os\n",
    "import sys\n",
    "sys.path.append(os.environ.get('NOTEBOOK_ROOT'))\n",
    "\n",
    "import xarray as xr\n",
    "import numpy as np\n",
    "import pandas as pd\n",
    "\n",
    "# Ensure string casts of NumPy arrays \n",
    "# print as much as possible (no '...').\n",
    "np.set_printoptions(threshold=sys.maxsize)\n",
    "\n",
    "import matplotlib.pyplot as plt"
   ]
  },
  {
   "cell_type": "code",
   "execution_count": null,
   "metadata": {},
   "outputs": [],
   "source": [
    "from odc_gee.earthengine import Datacube as GEE_Datacube\n",
    "dc = GEE_Datacube()"
   ]
  },
  {
   "cell_type": "code",
   "execution_count": null,
   "metadata": {},
   "outputs": [],
   "source": [
    "dc.list_products()"
   ]
  },
  {
   "cell_type": "code",
   "execution_count": null,
   "metadata": {},
   "outputs": [],
   "source": [
    "ds = dc.load(product='ls8_l2_c1_t1_google',\n",
    "             # Elizabeth River, VA (sml tst)\n",
    "#              lat=(36.89, 36.895),\n",
    "#              lon=(-76.40,-76.395),\n",
    "#              time=('2014-01-01', '2014-01-31'),\n",
    "             # Elizabeth River, VA\n",
    "             lat=(36.894872, 36.969353),\n",
    "             lon=(-76.394949,-76.260025),\n",
    "             time=('2014-01-01', '2014-06-30'),\n",
    "             # Prospect Lake, CO\n",
    "#              lat = (38.822297, 38.827771),\n",
    "#              lon = (-104.804378, -104.793997),\n",
    "             # Pueblo Reservoir, CO\n",
    "#              lat = (38.23319252391589, 38.28728420493292),\n",
    "#              lon = (-104.80201949531988, -104.72186163717585),\n",
    "#              time=('2013-01-01', '2019-12-31'),\n",
    "             measurements=['pixel_qa'],\n",
    "             group_by='solar_day')"
   ]
  },
  {
   "cell_type": "code",
   "execution_count": null,
   "metadata": {},
   "outputs": [],
   "source": [
    "from utils.data_cube_utilities.clean_mask import landsat_qa_clean_mask\n",
    "\n",
    "clean_da = \\\n",
    "    landsat_qa_clean_mask(ds, 'LANDSAT_8', collection='c1', level='l2')"
   ]
  },
  {
   "cell_type": "code",
   "execution_count": null,
   "metadata": {},
   "outputs": [],
   "source": [
    "# clean_da.mean('time').plot()"
   ]
  },
  {
   "cell_type": "code",
   "execution_count": null,
   "metadata": {
    "tags": []
   },
   "outputs": [],
   "source": [
    "import importlib\n",
    "from utils.data_cube_utilities.voxel_visualizer import voxel_visualizer\n",
    "importlib.reload(voxel_visualizer)\n",
    "from utils.data_cube_utilities.voxel_visualizer.voxel_visualizer import voxel_visualize\n",
    "\n",
    "voxel_visualize(clean_da, \n",
    "                # Voxel distances\n",
    "                x_scale=1, y_scale=1, z_scale=2, distance_scale=2, \n",
    "                # Voxel size\n",
    "                voxel_size=4,\n",
    "#                 show_stats=True,\n",
    "#                 show_controls=False\n",
    "               )"
   ]
  },
  {
   "cell_type": "code",
   "execution_count": null,
   "metadata": {},
   "outputs": [],
   "source": []
  }
 ],
 "metadata": {
  "kernelspec": {
   "display_name": "Python 3",
   "language": "python",
   "name": "python3"
  },
  "language_info": {
   "codemirror_mode": {
    "name": "ipython",
    "version": 3
   },
   "file_extension": ".py",
   "mimetype": "text/x-python",
   "name": "python",
   "nbconvert_exporter": "python",
   "pygments_lexer": "ipython3",
   "version": "3.6.9"
  }
 },
 "nbformat": 4,
 "nbformat_minor": 4
}
