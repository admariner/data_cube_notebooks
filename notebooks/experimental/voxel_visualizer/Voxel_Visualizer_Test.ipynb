{
 "cells": [
  {
   "cell_type": "code",
   "execution_count": 1,
   "metadata": {},
   "outputs": [],
   "source": [
    "import os\n",
    "import sys\n",
    "sys.path.append(os.environ.get('NOTEBOOK_ROOT'))\n",
    "\n",
    "import xarray as xr\n",
    "import numpy as np\n",
    "import pandas as pd\n",
    "\n",
    "# Ensure string casts of NumPy arrays \n",
    "# print as much as possible (no '...').\n",
    "np.set_printoptions(threshold=sys.maxsize)\n",
    "\n",
    "import matplotlib.pyplot as plt"
   ]
  },
  {
   "cell_type": "code",
   "execution_count": 2,
   "metadata": {},
   "outputs": [],
   "source": [
    "from odc_gee.earthengine import Datacube as GEE_Datacube\n",
    "dc = GEE_Datacube()"
   ]
  },
  {
   "cell_type": "code",
   "execution_count": 3,
   "metadata": {},
   "outputs": [
    {
     "data": {
      "text/html": [
       "<div>\n",
       "<style scoped>\n",
       "    .dataframe tbody tr th:only-of-type {\n",
       "        vertical-align: middle;\n",
       "    }\n",
       "\n",
       "    .dataframe tbody tr th {\n",
       "        vertical-align: top;\n",
       "    }\n",
       "\n",
       "    .dataframe thead th {\n",
       "        text-align: right;\n",
       "    }\n",
       "</style>\n",
       "<table border=\"1\" class=\"dataframe\">\n",
       "  <thead>\n",
       "    <tr style=\"text-align: right;\">\n",
       "      <th></th>\n",
       "      <th>name</th>\n",
       "      <th>description</th>\n",
       "      <th>lat</th>\n",
       "      <th>instrument</th>\n",
       "      <th>region_code</th>\n",
       "      <th>lon</th>\n",
       "      <th>product_family</th>\n",
       "      <th>platform</th>\n",
       "      <th>format</th>\n",
       "      <th>creation_time</th>\n",
       "      <th>time</th>\n",
       "      <th>label</th>\n",
       "      <th>dataset_maturity</th>\n",
       "      <th>crs</th>\n",
       "      <th>resolution</th>\n",
       "      <th>tile_size</th>\n",
       "      <th>spatial_dimensions</th>\n",
       "    </tr>\n",
       "    <tr>\n",
       "      <th>id</th>\n",
       "      <th></th>\n",
       "      <th></th>\n",
       "      <th></th>\n",
       "      <th></th>\n",
       "      <th></th>\n",
       "      <th></th>\n",
       "      <th></th>\n",
       "      <th></th>\n",
       "      <th></th>\n",
       "      <th></th>\n",
       "      <th></th>\n",
       "      <th></th>\n",
       "      <th></th>\n",
       "      <th></th>\n",
       "      <th></th>\n",
       "      <th></th>\n",
       "      <th></th>\n",
       "    </tr>\n",
       "  </thead>\n",
       "  <tbody>\n",
       "    <tr>\n",
       "      <th>2</th>\n",
       "      <td>ls8_l2_c1_t1_google</td>\n",
       "      <td>Landsat 8 Collection 1 Level 2 Surface Reflect...</td>\n",
       "      <td>None</td>\n",
       "      <td>None</td>\n",
       "      <td>None</td>\n",
       "      <td>None</td>\n",
       "      <td>None</td>\n",
       "      <td>None</td>\n",
       "      <td>None</td>\n",
       "      <td>None</td>\n",
       "      <td>None</td>\n",
       "      <td>None</td>\n",
       "      <td>None</td>\n",
       "      <td>EPSG:4326</td>\n",
       "      <td>(-0.00027777777778, 0.00027777777778)</td>\n",
       "      <td>None</td>\n",
       "      <td>(latitude, longitude)</td>\n",
       "    </tr>\n",
       "    <tr>\n",
       "      <th>1</th>\n",
       "      <td>ls8_l2_c1_t2_google</td>\n",
       "      <td>Landsat 8 Collection 1 Level 2 Surface Reflect...</td>\n",
       "      <td>None</td>\n",
       "      <td>None</td>\n",
       "      <td>None</td>\n",
       "      <td>None</td>\n",
       "      <td>None</td>\n",
       "      <td>None</td>\n",
       "      <td>None</td>\n",
       "      <td>None</td>\n",
       "      <td>None</td>\n",
       "      <td>None</td>\n",
       "      <td>None</td>\n",
       "      <td>EPSG:4326</td>\n",
       "      <td>(-0.00027777777778, 0.00027777777778)</td>\n",
       "      <td>None</td>\n",
       "      <td>(latitude, longitude)</td>\n",
       "    </tr>\n",
       "  </tbody>\n",
       "</table>\n",
       "</div>"
      ],
      "text/plain": [
       "                   name                                        description  \\\n",
       "id                                                                           \n",
       "2   ls8_l2_c1_t1_google  Landsat 8 Collection 1 Level 2 Surface Reflect...   \n",
       "1   ls8_l2_c1_t2_google  Landsat 8 Collection 1 Level 2 Surface Reflect...   \n",
       "\n",
       "     lat instrument region_code   lon product_family platform format  \\\n",
       "id                                                                     \n",
       "2   None       None        None  None           None     None   None   \n",
       "1   None       None        None  None           None     None   None   \n",
       "\n",
       "   creation_time  time label dataset_maturity        crs  \\\n",
       "id                                                         \n",
       "2           None  None  None             None  EPSG:4326   \n",
       "1           None  None  None             None  EPSG:4326   \n",
       "\n",
       "                               resolution tile_size     spatial_dimensions  \n",
       "id                                                                          \n",
       "2   (-0.00027777777778, 0.00027777777778)      None  (latitude, longitude)  \n",
       "1   (-0.00027777777778, 0.00027777777778)      None  (latitude, longitude)  "
      ]
     },
     "execution_count": 3,
     "metadata": {},
     "output_type": "execute_result"
    }
   ],
   "source": [
    "dc.list_products()"
   ]
  },
  {
   "cell_type": "code",
   "execution_count": 4,
   "metadata": {},
   "outputs": [],
   "source": [
    "ds = dc.load(product='ls8_l2_c1_t1_google',\n",
    "             # Lake Mead\n",
    "#              lat = (36.384826, 36.445486),\n",
    "#              lon = (-114.400928, -114.326445),\n",
    "#              time= ('2020-06-01', '2021-06-30'),\n",
    "             # Elizabeth River, VA (sml tst)\n",
    "             lat=(36.89, 36.895),\n",
    "             lon=(-76.40,-76.395),\n",
    "             time=('2014-01-01', '2014-06-30'),\n",
    "             # Elizabeth River, VA\n",
    "#              lat=(36.894872, 36.969353),\n",
    "#              lon=(-76.394949,-76.260025),\n",
    "#              time=('2014-01-01', '2014-06-30'),\n",
    "             # Prospect Lake, CO\n",
    "#              lat = (38.822297, 38.827771),\n",
    "#              lon = (-104.804378, -104.793997),\n",
    "             # Pueblo Reservoir, CO\n",
    "#              lat = (38.23319252391589, 38.28728420493292),\n",
    "#              lon = (-104.80201949531988, -104.72186163717585),\n",
    "#              time=('2013-01-01', '2019-12-31'),\n",
    "             measurements=['pixel_qa'],\n",
    "             group_by='solar_day')"
   ]
  },
  {
   "cell_type": "code",
   "execution_count": 5,
   "metadata": {},
   "outputs": [],
   "source": [
    "from utils.data_cube_utilities.clean_mask import landsat_qa_clean_mask\n",
    "\n",
    "clean_da = \\\n",
    "    landsat_qa_clean_mask(ds, 'LANDSAT_8', collection='c1', level='l2')"
   ]
  },
  {
   "cell_type": "code",
   "execution_count": 6,
   "metadata": {},
   "outputs": [],
   "source": [
    "from skimage.morphology import remove_small_objects\n",
    "clean_da.values = remove_small_objects(clean_da.values, min_size=64)"
   ]
  },
  {
   "cell_type": "code",
   "execution_count": 7,
   "metadata": {},
   "outputs": [],
   "source": [
    "# clean_da_filtered = xr.DataArray(clean_da_filtered)"
   ]
  },
  {
   "cell_type": "code",
   "execution_count": 8,
   "metadata": {},
   "outputs": [],
   "source": [
    "# clean_da_filtered.mean('dim_0').plot()"
   ]
  },
  {
   "cell_type": "code",
   "execution_count": 9,
   "metadata": {},
   "outputs": [
    {
     "data": {
      "text/plain": [
       "<matplotlib.collections.QuadMesh at 0x7f9d84e9bf28>"
      ]
     },
     "execution_count": 9,
     "metadata": {},
     "output_type": "execute_result"
    },
    {
     "data": {
      "image/png": "[encoded data removed]",
      "text/plain": [
       "<Figure size 432x288 with 2 Axes>"
      ]
     },
     "metadata": {
      "needs_background": "light"
     },
     "output_type": "display_data"
    }
   ],
   "source": [
    "clean_da.mean('time').plot()"
   ]
  },
  {
   "cell_type": "code",
   "execution_count": 101,
   "metadata": {
    "tags": []
   },
   "outputs": [
    {
     "data": {
      "text/html": [
       "\n",
       "    <div id='wrap', style='width:100%; aspect-ratio:2;'>\n",
       "        <iframe id='voxel_vis_iframe', sandbox='allow-same-origin allow-scripts',\n",
       "            style='display: block; \n",
       "                height:100%; width:99%;' scrolling='no';\n",
       "                transform-origin: top left>\n",
       "        </iframe>\n",
       "    </div>\n",
       "    <script>\n",
       "      var hostname = window.location.hostname;\n",
       "      var static_url = 'http://' + hostname + ':8100/static';\n",
       "      var srcdoc = '<!DOCTYPE html><html lang=\\'en\\' style=\\'width:100%; height:100%\\'>  <!-- Jinja2 -->  <head>    <title>Point Cloud Visualizer</title>    <meta charset=\\'utf-8\\' />    <!-- <meta      name=\\'viewport\\'      content=\\'width=device-width, height=device-height, user-scalable=no, minimum-scale=1.0, maximum-scale=1.0\\'    /> -->    <script src=\\'https://cdn.jsdelivr.net/gh/nicolaspanel/numjs@0.15.1/dist/numjs.min.js\\'><' + '/script>    <script src=\\'https://cdnjs.cloudflare.com/ajax/libs/chroma-js/2.1.0/chroma.min.js\\'><' + '/script>    <script src=\\'https://cdnjs.cloudflare.com/ajax/libs/moment.js/2.29.1/moment.min.js\\'><' + '/script>    <link href=\\'https://fonts.googleapis.com/css?family=Roboto\\' rel=\\'stylesheet\\' />    <style>      body {        background-color: #333333;        color: white;        font-family: \\'Roboto\\';        font-size: 22px;        width: 100%;        height: 100%;        margin: 0      }      a {        color: #08f;      }      img {        width: 100%;        height: 100%;      }      #date_and_slider_holder {        position: absolute;        left: 0%;        top:  10%;      }            /* Formatting for the vertical sliders (for now, just the date slider). */      input[type=\\'range\\'][orient=\\'vertical\\'] {        writing-mode: bt-lr; /* IE */        -webkit-appearance: slider-vertical; /* WebKit */        width: 8px;        height: 30%;        padding: 0;      }      #button_controls_holder {        position: absolute;        right: 0%;        bottom: 10%;      }      .control_button {          /* width: 30px;          height: 30px; */          width: 6vw;          height: 6vw;          padding: 0px;      }      #button_controls_hider {        width: 100%;        height: 3vw;        font-size: 1.6vw;      }      /* Formatting for the element containing the date string. */      #date_text {        font-size: 80%;        height: 4%;        color: #efefef;        margin-bottom: 0      }    </style>  </head>  <body id=\\'container\\'>    <canvas></canvas>    <div id=\\'date_and_slider_holder\\'>      <!-- No bottom margin to flush with slider. -->      <p id=\\'date_text\\'></p>      <div style=\\'float:left; padding-right:1vw\\'>          <label style=\\'display:block\\'><input id=\\'sliderModeRangeOpt\\' name=\\'sliderMode\\' type=\\'radio\\' value=\\'Range\\' checked>Range</label>          <label style=\\'display:block\\'><input id=\\'sliderModeSelectOpt\\' name=\\'sliderMode\\' type=\\'radio\\' value=\\'Select\\'>Select</label>      </div>      <input id=\\'slider\\' type=\\'range\\' orient=\\'vertical\\' min=\\'0\\' max=\\'100\\' value=\\'100\\'/>    </div>    <div id=\\'button_controls_holder\\'>      <div id=\\'button_controls_button_holder\\'>        <div id=\\'top_buttons_div\\'>          <button class=\\'control_button\\' id=\\'zoom_in_button\\'>            <img src=\\'static_url/imgs/zoom-in-icon.png\\'/>          </button>          <button class=\\'control_button\\' id=\\'up_button\\'>            <img src=\\'static_url/imgs/arrow-up-icon.png\\'/>          </button>          <button class=\\'control_button\\' id=\\'zoom_out_button\\'>            <img src=\\'static_url/imgs/zoom-out-icon.png\\'/>          </button>        </div>        <div id=\\'bottom_buttons_div\\'>          <button class=\\'control_button\\' id=\\'left_button\\'>            <img src=\\'static_url/imgs/arrow-left-icon.png\\'/>          </button>          <button class=\\'control_button\\' id=\\'down_button\\'>            <img src=\\'static_url/imgs/arrow-down-icon.png\\'/>          </button>          <button class=\\'control_button\\' id=\\'right_button\\'>            <img src=\\'static_url/imgs/arrow-right-icon.png\\'/>          </button>        </div>      </div>      <button id=\\'button_controls_hider\\'></button>    </div>    <script type=\\'module\\'>      var x_scale_arg = 1;      var y_scale_arg = 1;      var z_scale_arg = 1;      var distance_scale = 1;      var voxel_size = 4;      var voxel_opacity = 1;      import * as THREE from \\'static_url/js/lib/threejs/three.module.js\\';      import { OrbitControls } from \\'static_url/js/lib/threejs/OrbitControls.js\\';            var data_array = [[[0, 0, 0, 0, 0, 0, 0, 0, 0, 0, 0, 0, 0, 0, 0, 0, 0, 0], [0, 0, 0, 0, 0, 0, 0, 0, 0, 0, 0, 0, 0, 0, 0, 0, 0, 0], [0, 0, 0, 0, 0, 0, 0, 0, 0, 0, 0, 0, 0, 0, 0, 0, 0, 0], [0, 0, 0, 0, 0, 0, 0, 0, 0, 0, 0, 0, 0, 0, 0, 0, 0, 0], [0, 0, 0, 0, 0, 0, 0, 0, 0, 0, 0, 0, 0, 0, 0, 0, 0, 0], [0, 0, 0, 0, 0, 0, 0, 0, 0, 0, 0, 0, 0, 0, 0, 0, 0, 0], [0, 0, 0, 0, 0, 0, 0, 0, 0, 0, 0, 0, 0, 0, 0, 0, 0, 0], [0, 0, 0, 0, 0, 0, 0, 0, 0, 0, 0, 0, 0, 0, 0, 0, 0, 0], [0, 0, 0, 0, 0, 0, 0, 0, 0, 0, 0, 0, 0, 0, 0, 0, 0, 0], [0, 0, 0, 0, 0, 0, 0, 0, 0, 0, 0, 0, 0, 0, 0, 0, 0, 0], [0, 0, 0, 0, 0, 0, 0, 0, 0, 0, 0, 0, 0, 0, 0, 0, 0, 0], [0, 0, 0, 0, 0, 0, 0, 0, 0, 0, 0, 0, 0, 0, 0, 0, 0, 0], [0, 0, 0, 0, 0, 0, 0, 0, 0, 0, 0, 0, 0, 0, 0, 0, 0, 0], [0, 0, 0, 0, 0, 0, 0, 0, 0, 0, 0, 0, 0, 0, 0, 0, 0, 0], [0, 0, 0, 0, 0, 0, 0, 0, 0, 0, 0, 0, 0, 0, 0, 0, 0, 0], [0, 0, 0, 0, 0, 0, 0, 0, 0, 0, 0, 0, 0, 0, 0, 0, 0, 0], [0, 0, 0, 0, 0, 0, 0, 0, 0, 0, 0, 0, 0, 0, 0, 0, 0, 0], [0, 0, 0, 0, 0, 0, 0, 0, 0, 0, 0, 0, 0, 0, 0, 0, 0, 0]], [[0, 0, 0, 0, 0, 0, 0, 0, 0, 0, 0, 0, 0, 0, 0, 0, 0, 0], [0, 0, 0, 0, 0, 0, 0, 0, 0, 0, 0, 0, 0, 0, 0, 0, 0, 0], [0, 0, 0, 0, 0, 0, 0, 0, 0, 0, 0, 0, 0, 0, 0, 0, 0, 0], [0, 0, 0, 0, 0, 0, 0, 0, 0, 0, 0, 0, 0, 0, 0, 0, 0, 0], [0, 0, 0, 0, 0, 0, 0, 0, 0, 0, 0, 0, 0, 0, 0, 0, 0, 0], [0, 0, 0, 0, 0, 0, 0, 0, 0, 0, 0, 0, 0, 0, 0, 0, 0, 0], [0, 0, 0, 0, 0, 0, 0, 0, 0, 0, 0, 0, 0, 0, 0, 0, 0, 0], [0, 0, 0, 0, 0, 0, 0, 0, 0, 0, 0, 0, 0, 0, 0, 0, 0, 0], [0, 0, 0, 0, 0, 0, 0, 0, 0, 0, 0, 0, 0, 0, 0, 0, 0, 0], [0, 0, 0, 0, 0, 0, 0, 0, 0, 0, 0, 0, 0, 0, 0, 0, 0, 0], [0, 0, 0, 0, 0, 0, 0, 0, 0, 0, 0, 0, 0, 0, 0, 0, 0, 0], [0, 0, 0, 0, 0, 0, 0, 0, 0, 0, 0, 0, 0, 0, 0, 0, 0, 0], [0, 0, 0, 0, 0, 0, 0, 0, 0, 0, 0, 0, 0, 0, 0, 0, 0, 0], [0, 0, 0, 0, 0, 0, 0, 0, 0, 0, 0, 0, 0, 0, 0, 0, 0, 0], [0, 0, 0, 0, 0, 0, 0, 0, 0, 0, 0, 0, 0, 0, 0, 0, 0, 0], [0, 0, 0, 0, 0, 0, 0, 0, 0, 0, 0, 0, 0, 0, 0, 0, 0, 0], [0, 0, 0, 0, 0, 0, 0, 0, 0, 0, 0, 0, 0, 0, 0, 0, 0, 0], [0, 0, 0, 0, 0, 0, 0, 0, 0, 0, 0, 0, 0, 0, 0, 0, 0, 0]], [[0, 0, 0, 0, 0, 0, 0, 0, 0, 0, 0, 0, 0, 0, 0, 0, 0, 0], [0, 0, 0, 0, 0, 0, 0, 0, 0, 0, 0, 0, 0, 0, 0, 0, 0, 0], [0, 0, 0, 0, 0, 0, 0, 0, 0, 0, 0, 0, 0, 0, 0, 0, 0, 0], [0, 0, 1, 1, 1, 1, 1, 1, 1, 1, 1, 1, 1, 1, 1, 1, 1, 1], [0, 0, 0, 0, 1, 1, 1, 1, 1, 1, 1, 1, 1, 1, 1, 1, 1, 1], [0, 0, 0, 0, 1, 1, 1, 1, 1, 1, 1, 1, 1, 1, 1, 1, 1, 1], [0, 0, 1, 1, 1, 1, 1, 1, 1, 1, 1, 1, 1, 1, 1, 1, 1, 1], [0, 0, 0, 1, 1, 1, 1, 1, 1, 1, 1, 1, 1, 1, 1, 1, 1, 1], [0, 0, 0, 1, 1, 1, 1, 1, 1, 1, 1, 1, 1, 1, 1, 1, 1, 1], [0, 0, 1, 1, 1, 1, 1, 1, 1, 1, 1, 1, 1, 1, 1, 1, 1, 1], [0, 0, 0, 1, 1, 1, 1, 1, 1, 1, 1, 1, 1, 1, 1, 1, 1, 1], [0, 0, 0, 1, 1, 1, 1, 1, 1, 1, 1, 1, 1, 1, 1, 1, 1, 1], [0, 0, 0, 0, 0, 0, 1, 1, 1, 1, 1, 1, 1, 1, 1, 1, 1, 1], [0, 0, 0, 0, 0, 0, 0, 1, 1, 1, 1, 1, 1, 1, 1, 1, 1, 1], [0, 0, 0, 0, 0, 0, 0, 1, 1, 1, 1, 1, 1, 1, 1, 1, 1, 1], [0, 0, 0, 0, 0, 0, 1, 1, 1, 1, 1, 1, 1, 1, 0, 0, 0, 1], [0, 0, 0, 0, 0, 0, 0, 1, 1, 1, 1, 1, 1, 1, 0, 0, 0, 0], [0, 0, 0, 0, 0, 0, 0, 1, 1, 1, 1, 1, 1, 1, 0, 0, 0, 0]], [[0, 0, 0, 0, 0, 0, 0, 0, 0, 0, 0, 0, 0, 0, 0, 0, 0, 0], [0, 0, 0, 0, 0, 0, 0, 0, 0, 0, 0, 0, 0, 0, 0, 0, 0, 0], [0, 0, 0, 0, 0, 0, 0, 0, 0, 0, 0, 0, 0, 0, 0, 0, 0, 0], [0, 0, 0, 0, 0, 0, 0, 0, 0, 0, 0, 0, 0, 0, 0, 0, 0, 0], [0, 0, 0, 0, 0, 0, 0, 0, 0, 0, 0, 0, 0, 0, 0, 0, 0, 0], [0, 0, 0, 0, 0, 0, 0, 0, 0, 0, 0, 0, 0, 0, 0, 0, 0, 0], [0, 0, 0, 0, 0, 0, 0, 0, 0, 0, 0, 0, 0, 0, 0, 0, 0, 0], [0, 0, 0, 0, 0, 0, 0, 0, 0, 0, 0, 0, 0, 0, 0, 0, 0, 0], [0, 0, 0, 0, 0, 0, 0, 0, 0, 0, 0, 0, 0, 0, 0, 0, 0, 0], [0, 0, 0, 0, 0, 0, 0, 0, 0, 0, 0, 0, 0, 0, 0, 0, 0, 0], [0, 0, 0, 0, 0, 0, 0, 0, 0, 0, 0, 0, 0, 0, 0, 0, 0, 0], [0, 0, 0, 0, 0, 0, 0, 0, 0, 0, 0, 0, 0, 0, 0, 0, 0, 0], [0, 0, 0, 0, 0, 0, 0, 0, 0, 0, 0, 0, 0, 0, 0, 0, 0, 0], [0, 0, 0, 0, 0, 0, 0, 0, 0, 0, 0, 0, 0, 0, 0, 0, 0, 0], [0, 0, 0, 0, 0, 0, 0, 0, 0, 0, 0, 0, 0, 0, 0, 0, 0, 0], [0, 0, 0, 0, 0, 0, 0, 0, 0, 0, 0, 0, 0, 0, 0, 0, 0, 0], [0, 0, 0, 0, 0, 0, 0, 0, 0, 0, 0, 0, 0, 0, 0, 0, 0, 0], [0, 0, 0, 0, 0, 0, 0, 0, 0, 0, 0, 0, 0, 0, 0, 0, 0, 0]], [[0, 0, 0, 0, 0, 0, 0, 0, 0, 0, 0, 0, 0, 0, 0, 0, 0, 0], [0, 0, 0, 0, 0, 0, 0, 0, 0, 0, 0, 0, 0, 0, 0, 0, 0, 0], [0, 0, 0, 0, 0, 0, 0, 0, 0, 0, 0, 0, 0, 0, 0, 0, 0, 0], [0, 0, 0, 0, 0, 0, 0, 0, 0, 0, 0, 0, 0, 0, 0, 0, 0, 0], [0, 0, 0, 0, 0, 0, 0, 0, 0, 0, 0, 0, 0, 0, 1, 1, 1, 1], [0, 0, 0, 0, 0, 0, 0, 0, 0, 0, 0, 0, 0, 0, 1, 1, 1, 1], [0, 0, 0, 0, 0, 0, 0, 0, 0, 0, 0, 0, 0, 0, 1, 1, 1, 1], [0, 0, 0, 1, 1, 0, 0, 0, 0, 0, 0, 0, 0, 0, 0, 0, 1, 1], [0, 0, 0, 1, 1, 1, 1, 1, 1, 1, 0, 0, 0, 0, 0, 0, 1, 1], [0, 0, 1, 1, 1, 1, 1, 1, 1, 1, 1, 0, 0, 0, 0, 0, 1, 1], [0, 0, 0, 1, 1, 1, 1, 1, 1, 1, 1, 1, 0, 0, 1, 1, 1, 1], [0, 0, 0, 1, 1, 1, 1, 1, 1, 1, 1, 1, 1, 1, 1, 1, 1, 1], [0, 0, 0, 0, 0, 0, 1, 0, 0, 1, 1, 0, 0, 1, 0, 0, 0, 1], [0, 0, 0, 0, 0, 0, 0, 0, 0, 0, 0, 0, 0, 0, 0, 0, 0, 0], [0, 0, 0, 0, 0, 0, 0, 0, 0, 0, 0, 0, 0, 0, 0, 0, 0, 0], [0, 0, 0, 0, 0, 0, 0, 0, 0, 0, 0, 0, 0, 0, 0, 0, 0, 0], [0, 0, 0, 0, 0, 0, 0, 0, 0, 0, 0, 0, 0, 0, 0, 0, 0, 0], [0, 0, 0, 0, 0, 0, 0, 0, 0, 0, 0, 0, 0, 0, 0, 0, 0, 0]], [[0, 0, 0, 0, 0, 0, 0, 0, 0, 0, 0, 0, 0, 0, 0, 0, 0, 0], [0, 0, 0, 0, 0, 0, 0, 0, 0, 0, 0, 0, 0, 0, 0, 0, 0, 0], [0, 0, 0, 0, 0, 0, 0, 0, 0, 0, 0, 0, 0, 0, 0, 0, 0, 0], [0, 0, 0, 0, 0, 0, 0, 0, 0, 0, 0, 0, 0, 0, 0, 0, 0, 0], [0, 0, 0, 0, 0, 0, 0, 0, 0, 0, 0, 0, 0, 0, 0, 0, 0, 0], [0, 0, 0, 0, 0, 0, 0, 0, 0, 0, 0, 0, 0, 0, 0, 0, 0, 0], [0, 0, 0, 0, 0, 0, 0, 0, 0, 0, 0, 0, 0, 0, 0, 0, 0, 0], [0, 0, 0, 0, 0, 0, 0, 0, 0, 0, 0, 0, 0, 0, 0, 0, 0, 0], [0, 0, 0, 0, 0, 0, 0, 0, 0, 0, 0, 0, 0, 0, 0, 0, 0, 0], [0, 0, 0, 0, 0, 0, 0, 0, 0, 0, 0, 0, 0, 0, 0, 0, 0, 0], [0, 0, 0, 0, 0, 0, 0, 0, 0, 0, 0, 0, 0, 0, 0, 0, 0, 0], [0, 0, 0, 0, 0, 0, 0, 0, 0, 0, 0, 0, 0, 0, 0, 0, 0, 0], [0, 0, 0, 0, 0, 0, 0, 0, 0, 0, 0, 0, 0, 0, 0, 0, 0, 0], [0, 0, 0, 0, 0, 0, 0, 0, 0, 0, 0, 0, 0, 0, 0, 0, 0, 0], [0, 0, 0, 0, 0, 0, 0, 0, 0, 0, 0, 0, 0, 0, 0, 0, 0, 0], [0, 0, 0, 0, 0, 0, 0, 0, 0, 0, 0, 0, 0, 0, 0, 0, 0, 0], [0, 0, 0, 0, 0, 0, 0, 0, 0, 0, 0, 0, 0, 0, 0, 0, 0, 0], [0, 0, 0, 0, 0, 0, 0, 0, 0, 0, 0, 0, 0, 0, 0, 0, 0, 0]], [[0, 0, 0, 0, 0, 0, 0, 0, 0, 0, 0, 0, 0, 0, 0, 0, 0, 0], [0, 0, 0, 0, 0, 0, 0, 0, 0, 0, 0, 0, 0, 0, 0, 0, 0, 0], [0, 0, 0, 0, 0, 0, 0, 0, 0, 0, 0, 0, 0, 0, 0, 0, 0, 0], [0, 0, 0, 0, 1, 1, 1, 1, 1, 1, 1, 1, 1, 1, 1, 1, 1, 1], [0, 0, 0, 0, 0, 1, 1, 1, 1, 1, 1, 1, 1, 1, 1, 1, 1, 1], [0, 0, 0, 0, 0, 1, 1, 1, 1, 1, 1, 1, 1, 1, 1, 1, 1, 1], [0, 0, 0, 1, 1, 1, 1, 1, 1, 1, 1, 1, 1, 1, 1, 1, 1, 1], [0, 0, 0, 0, 0, 1, 1, 1, 1, 1, 1, 1, 1, 1, 1, 1, 1, 1], [0, 0, 0, 0, 0, 1, 1, 1, 1, 1, 1, 1, 1, 1, 1, 1, 1, 1], [0, 0, 0, 1, 1, 1, 1, 1, 1, 1, 1, 1, 1, 1, 1, 1, 1, 1], [0, 0, 0, 0, 0, 1, 1, 1, 1, 1, 1, 1, 1, 1, 1, 1, 1, 1], [0, 0, 0, 0, 0, 1, 1, 1, 1, 1, 1, 1, 1, 1, 1, 1, 1, 1], [0, 0, 0, 0, 0, 0, 0, 1, 0, 0, 0, 1, 0, 0, 1, 1, 0, 0], [0, 0, 0, 0, 0, 0, 0, 0, 0, 0, 0, 0, 0, 0, 0, 0, 0, 0], [0, 0, 0, 0, 0, 0, 0, 0, 0, 0, 0, 0, 0, 0, 0, 0, 0, 0], [0, 0, 0, 0, 0, 0, 0, 0, 0, 0, 0, 0, 0, 0, 0, 0, 0, 0], [0, 0, 0, 0, 0, 0, 0, 0, 0, 0, 0, 0, 0, 0, 0, 0, 0, 0], [0, 0, 0, 0, 0, 0, 0, 0, 0, 0, 0, 0, 0, 0, 0, 0, 0, 0]], [[0, 0, 0, 0, 0, 0, 0, 0, 0, 0, 0, 0, 0, 0, 0, 0, 0, 0], [0, 0, 0, 0, 0, 0, 0, 0, 0, 0, 0, 0, 0, 0, 0, 0, 0, 0], [0, 0, 0, 0, 0, 0, 0, 0, 0, 0, 0, 0, 0, 0, 0, 0, 0, 0], [0, 0, 1, 1, 1, 1, 1, 1, 1, 1, 1, 1, 1, 1, 1, 1, 1, 1], [0, 0, 0, 0, 1, 1, 1, 1, 1, 1, 1, 1, 1, 1, 1, 1, 1, 1], [0, 0, 0, 0, 1, 1, 1, 1, 1, 1, 1, 1, 1, 1, 1, 1, 1, 1], [0, 0, 1, 1, 1, 1, 1, 1, 1, 1, 1, 1, 1, 1, 1, 1, 1, 1], [0, 0, 0, 1, 1, 1, 1, 1, 1, 1, 1, 1, 1, 1, 1, 1, 1, 1], [0, 0, 0, 1, 1, 1, 1, 1, 1, 1, 1, 1, 1, 1, 1, 1, 1, 1], [0, 0, 1, 1, 1, 1, 1, 1, 1, 1, 1, 1, 1, 1, 1, 1, 1, 1], [0, 0, 0, 1, 1, 1, 1, 1, 1, 1, 1, 1, 1, 1, 1, 1, 1, 1], [0, 0, 0, 1, 1, 1, 1, 1, 1, 1, 1, 1, 1, 1, 1, 1, 1, 1], [0, 0, 0, 0, 0, 0, 1, 0, 0, 1, 1, 0, 0, 1, 0, 0, 0, 1], [0, 0, 0, 0, 0, 0, 0, 0, 0, 0, 0, 0, 0, 0, 0, 0, 0, 0], [0, 0, 0, 0, 0, 0, 0, 0, 0, 0, 0, 0, 0, 0, 0, 0, 0, 0], [0, 0, 0, 0, 0, 0, 0, 0, 0, 0, 0, 0, 0, 0, 0, 0, 0, 0], [0, 0, 0, 0, 0, 0, 0, 0, 0, 0, 0, 0, 0, 0, 0, 0, 0, 0], [0, 0, 0, 0, 0, 0, 0, 0, 0, 0, 0, 0, 0, 0, 0, 0, 0, 0]], [[0, 0, 0, 0, 0, 0, 0, 0, 0, 0, 0, 0, 0, 0, 0, 0, 0, 0], [0, 0, 0, 0, 0, 0, 0, 0, 0, 0, 0, 0, 0, 0, 0, 0, 0, 0], [0, 0, 0, 0, 0, 0, 0, 0, 0, 0, 0, 0, 0, 0, 0, 0, 0, 0], [0, 0, 0, 0, 1, 1, 1, 1, 1, 1, 1, 1, 1, 1, 1, 1, 1, 1], [0, 0, 0, 0, 0, 1, 1, 1, 1, 1, 1, 1, 1, 1, 1, 1, 1, 1], [0, 0, 0, 0, 0, 1, 1, 1, 1, 1, 1, 1, 1, 1, 1, 1, 1, 1], [0, 0, 0, 1, 1, 1, 1, 1, 1, 1, 1, 1, 1, 1, 1, 1, 1, 1], [0, 0, 0, 0, 0, 1, 1, 1, 1, 1, 1, 1, 1, 1, 1, 1, 1, 1], [0, 0, 0, 0, 0, 1, 1, 1, 1, 1, 1, 1, 1, 1, 1, 1, 1, 1], [0, 0, 0, 1, 1, 1, 1, 1, 1, 1, 1, 1, 1, 1, 1, 1, 1, 1], [0, 0, 0, 0, 0, 1, 1, 1, 1, 1, 1, 1, 1, 1, 1, 1, 1, 1], [0, 0, 0, 0, 0, 1, 1, 1, 1, 1, 1, 1, 1, 1, 1, 1, 1, 1], [0, 0, 0, 0, 0, 0, 0, 1, 0, 0, 0, 1, 0, 0, 1, 1, 0, 0], [0, 0, 0, 0, 0, 0, 0, 0, 0, 0, 0, 0, 0, 0, 0, 0, 0, 0], [0, 0, 0, 0, 0, 0, 0, 0, 0, 0, 0, 0, 0, 0, 0, 0, 0, 0], [0, 0, 0, 0, 0, 0, 0, 0, 0, 0, 0, 0, 0, 0, 0, 0, 0, 0], [0, 0, 0, 0, 0, 0, 0, 0, 0, 0, 0, 0, 0, 0, 0, 0, 0, 0], [0, 0, 0, 0, 0, 0, 0, 0, 0, 0, 0, 0, 0, 0, 0, 0, 0, 0]], [[0, 0, 0, 0, 0, 0, 0, 0, 0, 0, 0, 0, 0, 0, 0, 0, 0, 0], [0, 0, 0, 0, 0, 0, 0, 0, 0, 0, 0, 0, 0, 0, 0, 0, 0, 0], [0, 0, 0, 0, 0, 0, 0, 0, 0, 0, 0, 0, 0, 0, 0, 0, 0, 0], [0, 0, 0, 0, 0, 0, 0, 0, 0, 0, 0, 0, 0, 0, 0, 0, 0, 0], [0, 0, 0, 0, 0, 0, 0, 0, 0, 0, 0, 0, 0, 0, 0, 0, 0, 0], [0, 0, 0, 0, 0, 0, 0, 0, 0, 0, 0, 0, 0, 0, 0, 0, 0, 0], [0, 0, 0, 0, 0, 0, 0, 0, 0, 0, 0, 0, 0, 0, 0, 0, 0, 0], [0, 0, 0, 0, 0, 0, 0, 0, 0, 0, 0, 0, 0, 0, 0, 0, 0, 0], [0, 0, 0, 0, 0, 0, 0, 0, 0, 0, 0, 0, 0, 0, 0, 0, 0, 0], [0, 0, 0, 0, 0, 0, 0, 0, 0, 0, 0, 0, 0, 0, 0, 0, 0, 0], [0, 0, 0, 0, 0, 0, 0, 0, 0, 0, 0, 0, 0, 0, 0, 0, 0, 0], [0, 0, 0, 0, 0, 0, 0, 0, 0, 0, 0, 0, 0, 0, 0, 0, 0, 0], [0, 0, 0, 0, 0, 0, 0, 0, 0, 0, 0, 0, 0, 0, 0, 0, 0, 0], [0, 0, 0, 0, 0, 0, 0, 0, 0, 0, 0, 0, 0, 0, 0, 0, 0, 0], [0, 0, 0, 0, 0, 0, 0, 0, 0, 0, 0, 0, 0, 0, 0, 0, 0, 0], [0, 0, 0, 0, 0, 0, 0, 0, 0, 0, 0, 0, 0, 0, 0, 0, 0, 0], [0, 0, 0, 0, 0, 0, 0, 0, 0, 0, 0, 0, 0, 0, 0, 0, 0, 0], [0, 0, 0, 0, 0, 0, 0, 0, 0, 0, 0, 0, 0, 0, 0, 0, 0, 0]], [[0, 0, 0, 0, 0, 0, 0, 0, 0, 0, 0, 0, 0, 0, 0, 0, 0, 0], [0, 0, 0, 0, 0, 0, 0, 0, 0, 0, 0, 0, 0, 0, 0, 0, 0, 0], [0, 0, 0, 0, 0, 0, 0, 0, 0, 0, 0, 0, 0, 0, 0, 0, 0, 0], [0, 0, 0, 0, 0, 0, 0, 0, 0, 0, 0, 0, 0, 0, 0, 0, 0, 0], [0, 0, 0, 0, 0, 0, 0, 0, 0, 0, 0, 0, 0, 0, 0, 0, 0, 0], [0, 0, 0, 0, 0, 0, 0, 0, 0, 0, 0, 0, 0, 0, 0, 0, 0, 0], [0, 0, 0, 0, 0, 0, 0, 0, 0, 0, 0, 0, 0, 0, 0, 0, 0, 0], [0, 0, 0, 0, 0, 0, 0, 0, 0, 0, 0, 0, 0, 0, 0, 0, 0, 0], [0, 0, 0, 0, 0, 0, 0, 0, 0, 0, 0, 0, 0, 0, 0, 0, 0, 0], [0, 0, 0, 0, 0, 0, 0, 0, 0, 0, 0, 0, 0, 0, 0, 0, 0, 0], [0, 0, 0, 0, 0, 0, 0, 0, 0, 0, 0, 0, 0, 0, 0, 0, 0, 0], [0, 0, 0, 0, 0, 0, 0, 0, 0, 0, 0, 0, 0, 0, 0, 0, 0, 0], [0, 0, 0, 0, 0, 0, 0, 0, 0, 0, 0, 0, 0, 0, 0, 0, 0, 0], [0, 0, 0, 0, 0, 0, 0, 0, 0, 0, 0, 0, 0, 0, 0, 0, 0, 0], [0, 0, 0, 0, 0, 0, 0, 0, 0, 0, 0, 0, 0, 0, 0, 0, 0, 0], [0, 0, 0, 0, 0, 0, 0, 0, 0, 0, 0, 0, 0, 0, 0, 0, 0, 0], [0, 0, 0, 0, 0, 0, 0, 0, 0, 0, 0, 0, 0, 0, 0, 0, 0, 0], [0, 0, 0, 0, 0, 0, 0, 0, 0, 0, 0, 0, 0, 0, 0, 0, 0, 0]]];              import { GUI } from \\'static_url/js/jsm/dat.gui.module.js\\';            import { BloomPass } from \\'static_url/js/jsm/BloomPass.js\\';      import { UnrealBloomPass } from \\'static_url/js/jsm/UnrealBloomPass.js\\';      import { RenderPass } from \\'static_url/js/jsm/RenderPass.js\\';      import { EffectComposer } from \\'static_url/js/jsm/EffectComposer.js\\';      let date_text = document.getElementById(\\'date_text\\');      const print = console.log;      var container;      var camera, scene, renderer;      const cameraLookDir = new THREE.Vector3;      const scale = 10.0;      const base_x_scale = 2, base_y_scale = 2, base_z_scale = 2;      init();      requestAnimationFrame(animate);      function generate_spotlight() {        var light = new THREE.SpotLight(0xffffff, 1.5);        light.position.set(0, 2 * 1500, 200);        light.angle = Math.PI * 0.2;        light.castShadow = true;        light.shadow.camera.near = 200;        light.shadow.camera.far = 2000;        light.shadow.bias = -0.000222;        light.shadow.mapSize.width = 1024;        light.shadow.mapSize.height = 1024;        return light;      }      function init() {        function getDates() {          const dates = [\\'2014-01-27T15:41:46.570000\\', \\'2014-02-12T15:41:31.780000\\', \\'2014-02-28T15:41:18.990000\\', \\'2014-03-16T15:41:09.400000\\', \\'2014-04-01T15:40:52.990000\\', \\'2014-04-17T15:40:35.330000\\', \\'2014-05-03T15:40:21.130000\\', \\'2014-05-19T15:40:11.010000\\', \\'2014-06-04T15:40:18.460000\\', \\'2014-06-20T15:40:22.970000\\', \\'2014-06-27T15:46:34.020000\\'];                    return dates.reverse();        }        var formatDate = (x) => moment(x).format(\\'MMM, DD, YYYY\\');        let dates = getDates();        date_text.innerText = formatDate(dates[dates.length - 1]);        var data_NJ_array = nj.array(data_array);        const z_dims = data_NJ_array.shape[0];        const x_dims = data_NJ_array.shape[1];        const y_dims = data_NJ_array.shape[2];        let xs = [];        let ys = [];        let zs = [];        for (let z = 0; z < z_dims; z++) {          for (let y = 0; y < y_dims; y++) {            for (let x = 0; x < x_dims; x++) {              if (data_array[z][x][y] == 1) {                xs.push(x);                ys.push(y);                zs.push(z);              }            }          }        }        function sum(arr) {          return arr.reduce((a, b) => a + b, 0);        }        const center_x = sum(xs) / xs.length;        const center_y = sum(ys) / ys.length;        const center_z = sum(zs) / zs.length;        container = document.getElementById(\\'container\\');        let factor = 1;        scene = new THREE.Scene();        scene.background = new THREE.Color(0x333333);        scene.fog = new THREE.FogExp2(0x333333, 0.00025 * factor);        camera = new THREE.PerspectiveCamera(70, window.innerWidth / window.innerHeight, 1, 10000);        camera.position.set(2*x_dims, 2*y_dims, 0);        scene.add(camera);        var light = generate_spotlight();        scene.add(light);        var helper = new THREE.GridHelper(          Math.max(x_dims, y_dims) * 20,          Math.max(x_dims, y_dims) / 5        );        helper.position.y = -40;        helper.material.opacity = 0.25;        helper.material.transparent = true;        scene.add(helper);        renderer = new THREE.WebGLRenderer({antialias: true, canvas: document.querySelector(\\'canvas\\')});        const pointLight = new THREE.PointLight(0xffffff, 1);        camera.add(pointLight);        const params = {          exposure: 1,          bloomStrength: 1.5,          bloomThreshold: 0,          bloomRadius: 0,        };                        /* keyboard controls (up/down/left/right/zoom) */        var controls = new OrbitControls(camera, renderer.domElement);        controls.damping = 0.2;        controls.addEventListener(\\'change\\', render);        /* end keyboard controls */                /* button controls */        /** hider button **/        let button_controls_hider = document.getElementById(\\'button_controls_hider\\');        let button_controls_button_holder = document.getElementById(\\'button_controls_button_holder\\');        button_controls_button_holder.style.visibility = \\'visible\\';        button_controls_hider.innerHTML = \\'Hide Camera Controls\\';        button_controls_hider.addEventListener(\\'click\\', function () {            if (button_controls_button_holder.style.visibility == \\'\\' ||                 button_controls_button_holder.style.visibility == \\'visible\\') {                button_controls_button_holder.style.visibility = \\'hidden\\';                button_controls_hider.innerHTML = \\'Show Camera Controls\\';            } else {                button_controls_button_holder.style.visibility = \\'visible\\';                button_controls_hider.innerHTML = \\'Hide Camera Controls\\';            }        }, false);        /** end hider button **/                /** button click handlers **/        function cameraMove(moveDir) {            controls.enabled = false;            const mag = 10;            if (moveDir == \\'forward\\')                camera.translateZ(-mag);            else if (moveDir == \\'backward\\')                camera.translateZ(mag);            else if (moveDir == \\'left\\')                camera.translateX(-mag);            else if (moveDir == \\'right\\')                camera.translateX(mag);            else if (moveDir == \\'up\\')                camera.translateY(mag);            else if (moveDir == \\'down\\')                camera.translateY(-mag);                        camera.lookAt(controls.target);            camera.updateProjectionMatrix();            controls.enabled = true;        }        function zoomInFunction() {            cameraMove(\\'forward\\');        }        let zoom_in_button = document.getElementById(\\'zoom_in_button\\');        zoom_in_button.addEventListener(\\'click\\', zoomInFunction, false);        function zoomOutFunction() {            cameraMove(\\'backward\\');        }        let zoom_out_button = document.getElementById(\\'zoom_out_button\\');        zoom_out_button.addEventListener(\\'click\\', zoomOutFunction, false);                function leftFunction() {            cameraMove(\\'left\\');        }        let left_button = document.getElementById(\\'left_button\\');        left_button.addEventListener(\\'click\\', leftFunction, false);        function rightFunction() {            cameraMove(\\'right\\');        }        let right_button = document.getElementById(\\'right_button\\');        right_button.addEventListener(\\'click\\', rightFunction, false);                function upFunction() {            cameraMove(\\'up\\');        }        let up_button = document.getElementById(\\'up_button\\');        up_button.addEventListener(\\'click\\', upFunction, false);                function downFunction() {            cameraMove(\\'down\\');        }        let down_button = document.getElementById(\\'down_button\\');        down_button.addEventListener(\\'click\\', downFunction, false);        /** end button click handlers **/        /* end button controls */        const print = console.log;        let coherence = 0.0;        let scale = chroma.scale(\\'viridis\\');        const layers = [];        const layers_non_empty = [];        const layers_incl_no_data = [];        const layer_outlines = [];        function generate_point_cloud_material() {            var pcMat = new THREE.PointsMaterial();            pcMat.colors = THREE.VertextColors;            pcMat.size = 2;            pcMat.vertexColors = true;            return pcMat        }        function add_layers_to_scene() {            layers.forEach((layer) => {                scene.add(layer);            });        }        function remove_layers_from_scene() {            layers.forEach((layer) => {                scene.remove(layer);            });        }        function add_layer_outline_to_scene(layer_index) {            scene.add(layer_outlines[layer_index]);        }        function remove_layer_outline_from_scene(layer_index) {            scene.remove(layer_outlines[layer_index]);        }        function set_voxels_size() {            layers.forEach((layer) => {              layer.material.size = voxel_size;            });        }        function set_layer_opacity_std(layer) {            layer.material.opacity = voxel_opacity;            layer.material.vertexColors = true;        }        function set_layer_opacity_light(layer) {            layer.material.opacity = 0.125 * voxel_opacity;            layer.material.vertexColors = false;        }        function init_voxels_opacity() {            layers.forEach((layer) => {                set_layer_opacity_std(layer);            });        }        function set_voxels_opacity() {            if(typeof set_voxels_opacity.prev_outlined_layer_index !== \\'undefined\\') {                remove_layer_outline_from_scene(set_voxels_opacity.prev_outlined_layer_index);                set_voxels_opacity.prev_outlined_layer_index = undefined;            }            for (let layer_index = 0; layer_index < layers.length; layer_index++) {                let layer = layers[layer_index];                layer.material.transparent = true;                if (sliderMode === \\'Range\\' ?                     layer_index <= rounded_index :                    layer_index == rounded_index) {                    if (layers_non_empty[layer_index]) {                        set_layer_opacity_std(layer);                    } else {                        set_voxels_opacity.prev_outlined_layer_index = layer_index;                        if (sliderMode === \\'Select\\')                            add_layer_outline_to_scene(layer_index);                    }                } else {                    set_layer_opacity_light(layer);                }            }        }        function get_x_scale() {            return distance_scale*x_scale_arg*base_x_scale;        }        function get_y_scale() {            return distance_scale*y_scale_arg*base_y_scale;        }        function get_z_scale() {            return distance_scale*z_scale_arg*base_z_scale;        }        var x_scale = get_x_scale();        var y_scale = get_y_scale();        var z_scale = get_z_scale();        var geometries = [];        var geometries_incl_no_data = [];        function voxels_initialize() {            for (let z = 0; z < z_dims; z++) {                let vertices = [];                let vertices_incl_no_data = [];                                const color = new THREE.Color(scale(z / z_dims).hex());                let colors = [];                let geometry = new THREE.BufferGeometry();                let geometry_incl_no_data = new THREE.BufferGeometry();                let layer_non_empty = false;                for (let x = 0; x < x_dims; x++) {                    for (let y = 0; y < y_dims; y++) {                        var val = data_array[z][x][y];                        let _x = x_scale * x;                        let _y = y_scale * y;                        let _z = z_scale * z;                                                let x_coord = _x - x_scale * center_x;                        let y_coord = _y - y_scale * center_y;                        let z_coord = _z;                        if (val == 1) {                            layer_non_empty = true;                            vertices.push(x_coord, z_coord, y_coord);                            colors.push(color.r, color.g, color.b);                        }                        vertices_incl_no_data.push(x_coord, z_coord, y_coord);                    }                }                layers_non_empty.push(layer_non_empty);                geometry.setAttribute(\\'position\\', new THREE.Float32BufferAttribute(vertices, 3));                geometry.setAttribute(\\'color\\', new THREE.Float32BufferAttribute(colors, 3));                geometries.push(geometry);                geometry_incl_no_data.setAttribute(\\'position\\', new THREE.Float32BufferAttribute(vertices_incl_no_data, 3));                geometry_incl_no_data.setAttribute(\\'color\\', new THREE.Float32BufferAttribute(colors, 3));                geometries_incl_no_data.push(geometry_incl_no_data);                var layer = new THREE.Points(geometry, generate_point_cloud_material());                layer.sizeAttenuation = true;                layer.sortPoints = true;                layer.material.transparent = true;                layer.material.opacity = voxel_opacity;                layer.material.vertexColors = true;                layers.push(layer);                var layer_incl_no_data = new THREE.Points(geometry_incl_no_data, generate_point_cloud_material());                layer_incl_no_data.sizeAttenuation = true;                layer_incl_no_data.sortPoints = true;                layer_incl_no_data.material.transparent = true;                layer_incl_no_data.material.opacity = voxel_opacity;                layer_incl_no_data.material.vertexColors = true;                layers_incl_no_data.push(layer_incl_no_data);                const layer_outline = new THREE.BoxHelper(layer_incl_no_data, \\'#ff0000\\');                layer_outlines.push(layer_outline);            }            add_layers_to_scene();            set_voxels_size();            init_voxels_opacity();        }        voxels_initialize();        function voxels_update() {            remove_layers_from_scene();            x_scale = get_x_scale();            y_scale = get_y_scale();            z_scale = get_z_scale();            for (let z = 0; z < z_dims; z++) {                let vertices = [];                for (let x = 0; x < x_dims; x++) {                    for (let y = 0; y < y_dims; y++) {                        var val = data_array[z][x][y];                        if (val == 1) {                            let _x = x_scale * x;                            let _y = y_scale * y;                            let _z = z_scale * z;                            vertices.push(_x - x_scale * center_x, _z, _y - y_scale * center_y);                        }                    }                }                let geometry = geometries[z];                geometry.setAttribute(\\'position\\', new THREE.Float32BufferAttribute(vertices, 3));                var layer = new THREE.Points(geometry, generate_point_cloud_material());                layer.sizeAttenuation = true;                layer.sortPoints = true;                layers[z] = layer;            }            add_layers_to_scene();            set_voxels_size();            set_voxels_opacity();        }        /* Slider mode selection */        let sliderMode = \\'Range\\';        let oldSliderMode;        let sliderRadioElems = document.getElementsByName(\\'sliderMode\\');        for (let sliderRadioElem of sliderRadioElems) {            if (sliderRadioElem) {                sliderRadioElem.addEventListener(\\'change\\',                    setSliderMode,                    false                );            }        }        /* Slider */        let start = z_dims - 20;        let end = z_dims;        var slider = document.querySelector(\\'#slider\\');        function getSliderRoundedIndex() {            return Math.floor((slider.value * (layers.length - 1)) / 100)        }        let rounded_index = getSliderRoundedIndex();        var sliderEventHandler = function (value) {            let new_rounded_index = getSliderRoundedIndex();            if (sliderMode === oldSliderMode &&                 new_rounded_index === rounded_index) {                return            }            rounded_index = new_rounded_index;            let date = dates[rounded_index];            date_text.innerText = formatDate(date);            set_voxels_opacity();        };        slider.addEventListener(                \\'input\\',                sliderEventHandler,                false        );        function setSliderMode() {            oldSliderMode = sliderMode;            sliderMode = this.value;            sliderEventHandler();        };                function update_voxel_size(value) {            voxel_size = value;            set_voxels_size();        }                function update_voxel_opacity(value) {            voxel_opacity = value;            set_voxels_opacity();        }        function update_distance_scale(value) {            distance_scale = value;            voxels_update();        }        function update_z_scale_arg(value) {            z_scale_arg = value;            voxels_update();        }                            const gui = new GUI({ autoPlace: true });            const voxel_size_control = { voxel_size: voxel_size };            gui            .add(voxel_size_control, \\'voxel_size\\', 0, 12)            .step(0.25)            .onChange(update_voxel_size);            const voxel_opacity_control = { voxel_opacity: voxel_opacity };            gui            .add(voxel_opacity_control, \\'voxel_opacity\\', 0, 1)            .step(0.05)            .onChange(update_voxel_opacity);            const distance_scale_control = { distance_scale: distance_scale };            gui            .add(distance_scale_control, \\'distance_scale\\', 0, 6)            .step(0.25)            .onChange(update_distance_scale);            const z_scale_arg_control = { z_scale: z_scale_arg };            gui            .add(z_scale_arg_control, \\'z_scale\\', 0, 12)            .step(0.25)            .onChange(update_z_scale_arg);            gui.close();            }          function resizeCanvasToDisplaySize() {        const canvas = renderer.domElement;        const width = container.clientWidth;        const height = container.clientHeight;        if (canvas.width !== width || canvas.height !== height) {            renderer.setSize(width, height, false);            camera.aspect = width / height;            camera.updateProjectionMatrix();        }      }      function animate(time) {        resizeCanvasToDisplaySize();        render();                requestAnimationFrame(animate);      }      function render() {        renderer.render(scene, camera);      }    <' + '/script>  </body></html>'; \n",
       "      srcdoc = srcdoc.replaceAll('static_url', static_url);\n",
       "      voxel_vis_iframe = document.getElementById('voxel_vis_iframe');\n",
       "      voxel_vis_iframe.srcdoc = srcdoc;\n",
       "      \n",
       "      window.addEventListener(\"message\", onMessage, false);\n",
       "      function onMessage(event) {\n",
       "          console.log('message:' + event.data.message);\n",
       "      } \n",
       "    </script>\n",
       "    "
      ],
      "text/plain": [
       "<IPython.core.display.HTML object>"
      ]
     },
     "execution_count": 101,
     "metadata": {},
     "output_type": "execute_result"
    }
   ],
   "source": [
    "import importlib\n",
    "from utils.data_cube_utilities.voxel_visualizer import voxel_visualizer\n",
    "importlib.reload(voxel_visualizer)\n",
    "from utils.data_cube_utilities.voxel_visualizer.voxel_visualizer import voxel_visualize\n",
    "\n",
    "voxel_visualize(clean_da, \n",
    "                # Voxel distances\n",
    "#                 x_scale=1, y_scale=1, z_scale=1, distance_scale=1, \n",
    "                # Voxel size\n",
    "#                 voxel_size=4,\n",
    "#                 voxel_opacity=0.75,\n",
    "#                 show_stats=True,\n",
    "#                 show_controls=False\n",
    ")"
   ]
  },
  {
   "cell_type": "code",
   "execution_count": null,
   "metadata": {},
   "outputs": [],
   "source": []
  }
 ],
 "metadata": {
  "kernelspec": {
   "display_name": "Python 3",
   "language": "python",
   "name": "python3"
  },
  "language_info": {
   "codemirror_mode": {
    "name": "ipython",
    "version": 3
   },
   "file_extension": ".py",
   "mimetype": "text/x-python",
   "name": "python",
   "nbconvert_exporter": "python",
   "pygments_lexer": "ipython3",
   "version": "3.6.9"
  }
 },
 "nbformat": 4,
 "nbformat_minor": 4
}
