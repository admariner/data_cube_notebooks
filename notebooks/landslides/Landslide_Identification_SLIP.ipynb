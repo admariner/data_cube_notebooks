{
 "cells": [
  {
   "cell_type": "markdown",
   "metadata": {},
   "source": [
    "# Sudden Landslide Identification Product (SLIP)  \n",
    " \n",
    "## What to expect from this notebook  \n",
    "  \n",
    "- Introduction to the SLIP algorithm \n",
    "- describing change detection in the context of datacube\n",
    "- Detailed band math equations for SLIP filtering  \n",
    "- Illustrate the step by step evolution of a SLIP product  \n",
    "----"
   ]
  },
  {
   "cell_type": "markdown",
   "metadata": {},
   "source": [
    "<a id='slip_top'></a>\n",
    "## SLIP\n",
    "\n",
    "SLIP is used to automate the detection of Landslides. A SLIP product is the result of filtering based on per-pixel changes in both *soil moisture* and *vegetation* in areas with *high elevation gradients*.  All of which (with the exception of elevation gradients) can be computed using simple bandmath equations.\n",
    "\n",
    "## Data  \n",
    "  \n",
    "SLIP makes use of the following Landsat 7 Surface Reflectance Bands:  \n",
    "- RED,  \n",
    "- NIR,  \n",
    "- SWIR1  \n",
    "- PIXEL_QA  \n",
    "\n",
    "SLIP makes use of the following ASTER GDEM V2 bands:  \n",
    "- dem  \n",
    "\n",
    "## Algorithmic Process  \n",
    "\n",
    "Algorithmically speaking, SLIP is a series of per-pixel filter operations acting on relationships between NEW(current) and BASELINE(historical) values of an area. The remaining pixels after filter operations will be what SLIP classifies as landslides.  Itemized in the list below are operations taken to create a SLIP product:  \n",
    "\n",
    "- Import and initialize datacube\n",
    "- Load Geographic area\n",
    "- Remove clouds and no-data values\n",
    "- Label this product NEW\n",
    "- Generate a rolling average composite of NEW  \n",
    "- Label the rolling average composite BASELINE\n",
    "- Filter in favor of sufficiently large changes in vegetation (using NDWI values derived from NEW and BASELINE)  \n",
    "- Filter in favor of sufficiently large increases in RED reflectance(using RED band values from NEW and BASELINE)  \n",
    "- Generate a slope-mask(using ASTERDEM V2 data) \n",
    "- Filter in favor of areas that have a high enough slope(Landslides don't happen on flat surfaces)   \n",
    "\n",
    "----\n",
    "\n",
    "# Index\n",
    "\n",
    "* [Import Dependencies and Connect to the Data Cube](#slip_import)\n",
    "* [Choose Platform and Product](#slip_plat_prod)\n",
    "* [Define the Extents of the Analysis](#slip_define_extents)\n",
    "* [Load Data from the Data Cube](#slip_load_data)\n",
    "* [Change Detection](#slip_change_detect)\n",
    "* [NDWI (Nomalized Difference Water Index)](#slip_ndwi)\n",
    "* [RED Reflectance](#slip_red)\n",
    "* [ASTER Global Elevation Models](#slip_aster)\n",
    "* [Reviewing the Evolution of the SLIP Product](#slip_evo)\n",
    "* [Visual Comparison of SLIP Output and Baseline Composited Scene](#slip_compare_output_baseline)"
   ]
  },
  {
   "cell_type": "markdown",
   "metadata": {},
   "source": [
    "## <span id=\"slip_import\">Import Dependencies and Connect to the Data Cube [&#9652;](#slip_top)</span>"
   ]
  },
  {
   "cell_type": "code",
   "execution_count": null,
   "metadata": {
    "execution": {
     "iopub.execute_input": "2020-09-28T16:17:14.263101Z",
     "iopub.status.busy": "2020-09-28T16:17:14.262669Z",
     "iopub.status.idle": "2020-09-28T16:17:15.953584Z",
     "shell.execute_reply": "2020-09-28T16:17:15.953969Z"
    }
   },
   "outputs": [],
   "source": [
    "import sys\n",
    "import os\n",
    "sys.path.append(os.environ.get('NOTEBOOK_ROOT'))\n",
    "\n",
    "import numpy as np\n",
    "import xarray as xr\n",
    "import pandas as pd\n",
    "import matplotlib.pyplot as plt\n",
    "\n",
    "from utils.data_cube_utilities.dc_display_map import display_map\n",
    "from utils.data_cube_utilities.clean_mask import landsat_clean_mask_full\n",
    "#     landsat_qa_clean_mask, landsat_clean_mask_invalid\n",
    "from utils.data_cube_utilities.dc_baseline import generate_baseline\n",
    "from utils.data_cube_utilities.dc_displayutil import display_at_time\n",
    "from utils.data_cube_utilities.dc_slip import create_slope_mask\n",
    "\n",
    "from datacube.utils.aws import configure_s3_access\n",
    "configure_s3_access(requester_pays=True)\n",
    "\n",
    "import datacube  \n",
    "dc = datacube.Datacube()"
   ]
  },
  {
   "cell_type": "markdown",
   "metadata": {},
   "source": [
    "## <span id=\"slip_plat_prod\">Choose Platform and Product [&#9652;](#slip_top)</span>"
   ]
  },
  {
   "cell_type": "code",
   "execution_count": null,
   "metadata": {
    "execution": {
     "iopub.execute_input": "2020-09-28T16:17:15.960930Z",
     "iopub.status.busy": "2020-09-28T16:17:15.960500Z",
     "iopub.status.idle": "2020-09-28T16:17:15.962177Z",
     "shell.execute_reply": "2020-09-28T16:17:15.962605Z"
    }
   },
   "outputs": [],
   "source": [
    "platform = 'LANDSAT_8'\n",
    "product = 'ls8_usgs_sr_scene'\n",
    "collection = 'c1'\n",
    "level = 'l2'"
   ]
  },
  {
   "cell_type": "markdown",
   "metadata": {},
   "source": [
    "## <span id=\"slip_define_extents\">Define the Extents of the Analysis [&#9652;](#slip_top)</span>"
   ]
  },
  {
   "cell_type": "code",
   "execution_count": null,
   "metadata": {
    "execution": {
     "iopub.execute_input": "2020-09-28T16:17:15.965929Z",
     "iopub.status.busy": "2020-09-28T16:17:15.965463Z",
     "iopub.status.idle": "2020-09-28T16:17:15.967241Z",
     "shell.execute_reply": "2020-09-28T16:17:15.967660Z"
    }
   },
   "outputs": [],
   "source": [
    "# Freetown, Sierra Leone\n",
    "# (https://www.reuters.com/article/us-leone-mudslide-africa/cities-across-africa-face-threat-of-landslides-like-sierra-leone-idUSKCN1AY115)\n",
    "# define geographic boundaries in (min, max) format\n",
    "lon = (-13.3196, -12.9366)\n",
    "lat = (8.1121, 8.5194)\n",
    "# define date range boundaries in (min,max) format\n",
    "# There should be a landslide by Freetown during August 2017.\n",
    "date_range =(\"2016-01-01\", \"2017-12-31\")"
   ]
  },
  {
   "cell_type": "code",
   "execution_count": null,
   "metadata": {
    "execution": {
     "iopub.execute_input": "2020-09-28T16:17:15.971381Z",
     "iopub.status.busy": "2020-09-28T16:17:15.970968Z",
     "iopub.status.idle": "2020-09-28T16:17:15.980197Z",
     "shell.execute_reply": "2020-09-28T16:17:15.979745Z"
    }
   },
   "outputs": [],
   "source": [
    "display_map(lat, lon)"
   ]
  },
  {
   "cell_type": "markdown",
   "metadata": {},
   "source": [
    "## <span id=\"slip_load_data\">Load Data from the Data Cube [&#9652;](#slip_top)</span>"
   ]
  },
  {
   "cell_type": "code",
   "execution_count": null,
   "metadata": {
    "execution": {
     "iopub.execute_input": "2020-09-28T16:17:15.993600Z",
     "iopub.status.busy": "2020-09-28T16:17:15.993075Z",
     "iopub.status.idle": "2020-09-28T16:17:25.731077Z",
     "shell.execute_reply": "2020-09-28T16:17:25.730156Z"
    }
   },
   "outputs": [],
   "source": [
    "# Define desired bands. For SLIP, only red, nir, swir and pixel_qa will be necessary.\n",
    "desired_bands = ['red','nir','swir1','pixel_qa']  \n",
    "  \n",
    "# Add blue and green bands since they are needed for visualizing results (RGB).\n",
    "desired_bands = desired_bands + ['green', 'blue']\n",
    "  \n",
    "# Load area.\n",
    "landsat_ds = dc.load(product = product,\\\n",
    "                     platform = platform,\\\n",
    "                     lat = lat,\\\n",
    "                     lon = lon,\\\n",
    "                     time = date_range,\\\n",
    "                     measurements = desired_bands,\n",
    "                     group_by='solar_day',\n",
    "                     dask_chunks={'time':1, 'longitude': 1000, 'latitude': 1000}).persist()"
   ]
  },
  {
   "cell_type": "code",
   "execution_count": null,
   "metadata": {
    "execution": {
     "iopub.execute_input": "2020-09-28T16:17:25.735570Z",
     "iopub.status.busy": "2020-09-28T16:17:25.734855Z",
     "iopub.status.idle": "2020-09-28T16:17:26.229265Z",
     "shell.execute_reply": "2020-09-28T16:17:26.228759Z"
    }
   },
   "outputs": [],
   "source": [
    "# clean_mask = landsat_qa_clean_mask(landsat_ds, platform) & \\\n",
    "#              (landsat_ds != -9999).to_array().all('variable') & \\\n",
    "#              landsat_clean_mask_invalid(landsat_ds)\n",
    "clean_mask = landsat_clean_mask_full(dc, landsat_ds, product=product, platform=platform,\n",
    "                                     collection=collection, level=level).persist()"
   ]
  },
  {
   "cell_type": "code",
   "execution_count": null,
   "metadata": {
    "execution": {
     "iopub.execute_input": "2020-09-28T16:17:26.234329Z",
     "iopub.status.busy": "2020-09-28T16:17:26.233892Z",
     "iopub.status.idle": "2020-09-28T16:17:27.142209Z",
     "shell.execute_reply": "2020-09-28T16:17:27.141683Z"
    }
   },
   "outputs": [],
   "source": [
    "# Determine the times with data.\n",
    "data_time_mask = (clean_mask.sum(['latitude', 'longitude']) > 0).persist()\n",
    "clean_mask = clean_mask.sel(time=data_time_mask)\n",
    "landsat_ds = landsat_ds.sel(time=data_time_mask)\n",
    "landsat_ds = landsat_ds.where(clean_mask).persist()"
   ]
  },
  {
   "cell_type": "markdown",
   "metadata": {},
   "source": [
    "### Visualization \n",
    "This step is optional, but useful to those seeking a step by step validation of SLIP. The following code shows a true-color representation of our loaded scene."
   ]
  },
  {
   "cell_type": "code",
   "execution_count": null,
   "metadata": {
    "execution": {
     "iopub.execute_input": "2020-09-28T16:17:27.151316Z",
     "iopub.status.busy": "2020-09-28T16:17:27.150866Z",
     "iopub.status.idle": "2020-09-28T16:17:27.815872Z",
     "shell.execute_reply": "2020-09-28T16:17:27.816315Z"
    }
   },
   "outputs": [],
   "source": [
    "time_to_show = '2017-08-04'\n",
    "acq_to_show = landsat_ds.sel(time=time_to_show, method='nearest')\n",
    "rgb_da = acq_to_show[['red', 'green', 'blue']].squeeze().to_array().compute()\n",
    "vmin = rgb_da.quantile(0.05).values\n",
    "vmax = rgb_da.quantile(0.95).values\n",
    "rgb_da.plot.imshow(vmin=vmin, vmax=vmax)\n",
    "plt.show()"
   ]
  },
  {
   "cell_type": "markdown",
   "metadata": {},
   "source": [
    "----  \n",
    "\n",
    "## <span id=\"slip_change_detect\">Change Detection [&#9652;](#slip_top)</span>\n",
    "  \n",
    "In the context of SLIP, Change detection happens through the comparison of 'current' values against 'past' values.  \n",
    "<br>\n",
    "Trivialized Example:  \n",
    "<br>\n",
    "$$ \\Delta Value = (Value_{new} - Value_{old})/ Value_{old} $$  \n",
    "\n",
    "<br>\n",
    "It is easy to define NEW as the current value being analyzed.   \n",
    "<br>"
   ]
  },
  {
   "cell_type": "code",
   "execution_count": null,
   "metadata": {
    "execution": {
     "iopub.execute_input": "2020-09-28T16:17:27.819506Z",
     "iopub.status.busy": "2020-09-28T16:17:27.819086Z",
     "iopub.status.idle": "2020-09-28T16:17:27.821338Z",
     "shell.execute_reply": "2020-09-28T16:17:27.820893Z"
    }
   },
   "outputs": [],
   "source": [
    "new = acq_to_show"
   ]
  },
  {
   "cell_type": "markdown",
   "metadata": {},
   "source": [
    "<br>\n",
    "However, OLD can have varying interpretations.\n",
    "In SLIP, OLD values (referred to in code as BASELINE values) are simply rolling averages of not-nan values leading up to the date in question.  \n",
    "  \n",
    "  <br>\n",
    "The following figure illustrates such a compositing method:  \n",
    "  \n",
    "<br><br>  \n",
    "\n",
    "![img](../diagrams/slip/comp_00.png)\n",
    "<!-- ![img](avg_compositing.png) --> \n",
    "  \n",
    "<br>\n",
    "In the figure above, t4 values are the average of t1-t3 (assuming a window size of 3)  \n",
    "\n",
    "<br>\n",
    "The code below composites with a window size of 5. "
   ]
  },
  {
   "cell_type": "code",
   "execution_count": null,
   "metadata": {
    "execution": {
     "iopub.execute_input": "2020-09-28T16:17:27.824711Z",
     "iopub.status.busy": "2020-09-28T16:17:27.824295Z",
     "iopub.status.idle": "2020-09-28T16:17:32.740220Z",
     "shell.execute_reply": "2020-09-28T16:17:32.739717Z"
    }
   },
   "outputs": [],
   "source": [
    "# Generate a moving average of n values leading up to current time.\n",
    "baseline = generate_baseline(landsat_ds, composite_size = 3, mode = 'average')  "
   ]
  },
  {
   "cell_type": "markdown",
   "metadata": {},
   "source": [
    "It is important to note that compositing will shorten the length of `baseline`'s time domain by the window size since ranges less than the composite size are not computed. For a composite size of 5, `new`'s first 5 time values will not have composite values.  "
   ]
  },
  {
   "cell_type": "code",
   "execution_count": null,
   "metadata": {
    "execution": {
     "iopub.execute_input": "2020-09-28T16:17:32.744504Z",
     "iopub.status.busy": "2020-09-28T16:17:32.743860Z",
     "iopub.status.idle": "2020-09-28T16:17:32.746702Z",
     "shell.execute_reply": "2020-09-28T16:17:32.746256Z"
    },
    "scrolled": true
   },
   "outputs": [],
   "source": [
    "(len(new.time), len(baseline.time))"
   ]
  },
  {
   "cell_type": "markdown",
   "metadata": {},
   "source": [
    "#### What this composite looks like "
   ]
  },
  {
   "cell_type": "code",
   "execution_count": null,
   "metadata": {
    "execution": {
     "iopub.execute_input": "2020-09-28T16:17:32.751894Z",
     "iopub.status.busy": "2020-09-28T16:17:32.751477Z",
     "iopub.status.idle": "2020-09-28T16:17:33.504148Z",
     "shell.execute_reply": "2020-09-28T16:17:33.504593Z"
    },
    "scrolled": false
   },
   "outputs": [],
   "source": [
    "display_at_time([baseline, new], time = time_to_show, width = 2, w = 12)"
   ]
  },
  {
   "cell_type": "markdown",
   "metadata": {},
   "source": [
    "The baseline composite is featured in the figure above (left). It represents what was typical for the past five acquisitions *'leading-up-to'* `time_to_show`. Displayed next to it (right) is the true-color visualization of the acquisition *'at'* `time_to_show`. The `new` object contains unaltered LS7 scenes that are index-able  using a date like `time_to_show`. The `baseline` object contains a block of composites of those landsat scenes that is index-able the same way."
   ]
  },
  {
   "cell_type": "markdown",
   "metadata": {},
   "source": [
    "----  \n",
    "  \n",
    "## <span id=\"slip_ndwi\">NDWI (Nomalized Difference Water Index) [&#9652;](#slip_top)</span>\n",
    "\n",
    "SLIP makes the major assumption that landslides will strip a hill/mountain-side of all of its vegetation.  \n",
    "  \n",
    "SLIP uses [NDWI](https://en.wikipedia.org/wiki/Normalized_difference_water_index), an index used to monitor water content of leaves, to track the existence of vegetation on a slope. At high enough levels, leaf water content change can no longer be attributed to something like seasonal fluctuations and will most likely indicate a change in the existence of vegetation.  \n",
    "\n",
    "#### NDWI BANDMATH\n",
    "\n",
    "NDWI is computed on a per-pixel level and involves arithmetic between NIR (Near infrared) and SWIR1 (Short Wave Infrared) values. \n",
    "NDWI is computed for both NEW and BASELINE imagery then compared to yield NDWI change. The equations bellow detail a very simple derivation of change in NDWI: \n"
   ]
  },
  {
   "cell_type": "markdown",
   "metadata": {},
   "source": [
    "$$ NDWI_{NEW} =  \\frac{NIR_{NEW} - SWIR_{NEW}}{NIR_{NEW} + SWIR_{NEW}}$$  \n",
    "  <br><br>\n",
    "$$ NDWI_{BASELINE} =  \\frac{NIR_{BASELINE} - SWIR_{BASELINE}}{NIR_{BASELINE} + SWIR_{BASELINE}}$$  \n",
    "  <br><br>\n",
    "$$\\Delta NDWI = NDWI_{NEW} - NDWI_{BASELINE}$$  \n"
   ]
  },
  {
   "cell_type": "markdown",
   "metadata": {},
   "source": [
    "<br>\n",
    "The code is just as simple:  "
   ]
  },
  {
   "cell_type": "code",
   "execution_count": null,
   "metadata": {
    "execution": {
     "iopub.execute_input": "2020-09-28T16:17:33.509182Z",
     "iopub.status.busy": "2020-09-28T16:17:33.508753Z",
     "iopub.status.idle": "2020-09-28T16:17:34.136082Z",
     "shell.execute_reply": "2020-09-28T16:17:34.135592Z"
    }
   },
   "outputs": [],
   "source": [
    "ndwi_new = (new.nir- new.swir1)/(new.nir + new.swir1)\n",
    "ndwi_baseline = (baseline.nir - baseline.swir1)/ (baseline.nir + baseline.swir1)\n",
    "ndwi_change = ndwi_new - ndwi_baseline"
   ]
  },
  {
   "cell_type": "markdown",
   "metadata": {},
   "source": [
    "#### Filtering NDWI\n",
    "In the context of code, you can best think of filtering as a peicewise transformation that assigns a `nan` (or null) value to points that fall below our minimum change threshold. (For SLIP that threshold is 20%) \n",
    "  \n",
    "  <br>\n",
    "\n",
    "$$  ndwi\\_filter(Dataset) = \\left\\{\n",
    "     \\begin{array}{lr}\n",
    "       Dataset & : |  \\Delta NDWI(Dataset)  | > 0.2\\\\\n",
    "       np.nan & : |  \\Delta NDWI(Dataset)  | \\le 0.2\n",
    "     \\end{array}\n",
    "   \\right.\\\\ $$  \n",
    "   \n",
    "   <br>\n",
    "\n",
    "In code, it's even simpler:  "
   ]
  },
  {
   "cell_type": "code",
   "execution_count": null,
   "metadata": {
    "execution": {
     "iopub.execute_input": "2020-09-28T16:17:34.139773Z",
     "iopub.status.busy": "2020-09-28T16:17:34.139346Z",
     "iopub.status.idle": "2020-09-28T16:17:35.460533Z",
     "shell.execute_reply": "2020-09-28T16:17:35.460997Z"
    }
   },
   "outputs": [],
   "source": [
    "new_ndwi_filtered = new.where(abs(ndwi_change) > 0.2)"
   ]
  },
  {
   "cell_type": "markdown",
   "metadata": {},
   "source": [
    "#### How far NDWI filtering gets you  \n",
    "\n",
    "A SLIP product is the result of a process of elimination.  NDWI is sufficient in eliminating a majority of non-contending areas early on in the process. Featured below is what is left of the original image after having filtered for changes in NDWI  ."
   ]
  },
  {
   "cell_type": "code",
   "execution_count": null,
   "metadata": {
    "execution": {
     "iopub.execute_input": "2020-09-28T16:17:35.466385Z",
     "iopub.status.busy": "2020-09-28T16:17:35.465955Z",
     "iopub.status.idle": "2020-09-28T16:17:36.701288Z",
     "shell.execute_reply": "2020-09-28T16:17:36.701760Z"
    }
   },
   "outputs": [],
   "source": [
    "display_at_time([new, (new, new_ndwi_filtered),new_ndwi_filtered], \n",
    "                time = time_to_show,\n",
    "                width = 3, w =14)"
   ]
  },
  {
   "cell_type": "markdown",
   "metadata": {},
   "source": [
    "Highlighted in the center picture are values that meet our NDWI change expectations. Featured in the right-most image is what remains of our original image after NDWI filtering.  \n",
    "  "
   ]
  },
  {
   "cell_type": "markdown",
   "metadata": {},
   "source": [
    "----  \n",
    "\n",
    "## <span id=\"slip_red\">RED Reflectance [&#9652;](#slip_top)</span>\n",
    "\n",
    "SLIP makes another important assumption about Landslides. \n",
    "On top of stripping the Slope of vegetation, a landslide will reveal a large layer of previously vegetated soil. Since soil reflects more light in the RED spectral band than highly vegetated areas do, SLIP looks for increases in the RED bands. This captures both the loss of vegetation, and the unearthing of soil.    \n",
    "\n",
    "#### RED change bandmath\n",
    "Red change is computed on a per-pixel level and involves arithmetic on the RED band values.  The derivation of RED change is simple: \n",
    "<br><br>"
   ]
  },
  {
   "cell_type": "markdown",
   "metadata": {},
   "source": [
    "$$ \\Delta Red = \\frac{RED_{NEW} - RED_{BASELINE}}{RED_{BASELINE}} $$"
   ]
  },
  {
   "cell_type": "markdown",
   "metadata": {},
   "source": [
    "The code is just as simple:"
   ]
  },
  {
   "cell_type": "code",
   "execution_count": null,
   "metadata": {
    "execution": {
     "iopub.execute_input": "2020-09-28T16:17:36.706758Z",
     "iopub.status.busy": "2020-09-28T16:17:36.706347Z",
     "iopub.status.idle": "2020-09-28T16:17:36.904544Z",
     "shell.execute_reply": "2020-09-28T16:17:36.905001Z"
    }
   },
   "outputs": [],
   "source": [
    "red_change = (new.red - baseline.red)/(baseline.red)"
   ]
  },
  {
   "cell_type": "markdown",
   "metadata": {},
   "source": [
    "#### Filtering for RED reflectance increase\n",
    "Filtering RED reflectance change is just like the piecewise transformation used for filtering NDWI change.  \n",
    "  \n",
    "<br>  \n",
    "$$  red\\_filter(Dataset) = \\left\\{\n",
    "     \\begin{array}{lr}\n",
    "       Dataset & :   \\Delta red(Dataset)   > 0.4\\\\\n",
    "       np.nan & :   \\Delta red(Dataset)   \\le 0.4\n",
    "     \\end{array}\n",
    "   \\right.\\\\ $$  \n",
    "\n",
    "<br>\n",
    "\n",
    "In Code:\n"
   ]
  },
  {
   "cell_type": "code",
   "execution_count": null,
   "metadata": {
    "execution": {
     "iopub.execute_input": "2020-09-28T16:17:36.908313Z",
     "iopub.status.busy": "2020-09-28T16:17:36.907866Z",
     "iopub.status.idle": "2020-09-28T16:17:37.431043Z",
     "shell.execute_reply": "2020-09-28T16:17:37.430536Z"
    }
   },
   "outputs": [],
   "source": [
    "new_red_and_ndwi_filtered = new_ndwi_filtered.where(red_change > 0.4)"
   ]
  },
  {
   "cell_type": "markdown",
   "metadata": {},
   "source": [
    "#### How much further RED reflectance filtering gets you\n",
    "Continuing SLIP's process of elimination, *Red increase* filtering will further refine the area of interest to areas that, upon visual inspection appear to be light brown in color.  "
   ]
  },
  {
   "cell_type": "code",
   "execution_count": null,
   "metadata": {
    "execution": {
     "iopub.execute_input": "2020-09-28T16:17:37.436239Z",
     "iopub.status.busy": "2020-09-28T16:17:37.435813Z",
     "iopub.status.idle": "2020-09-28T16:17:38.581859Z",
     "shell.execute_reply": "2020-09-28T16:17:38.582311Z"
    }
   },
   "outputs": [],
   "source": [
    "display_at_time([new, (new, new_red_and_ndwi_filtered),new_red_and_ndwi_filtered], \n",
    "                time = time_to_show, \n",
    "                width = 3, w = 14)"
   ]
  },
  {
   "cell_type": "markdown",
   "metadata": {},
   "source": [
    "----\n",
    "\n",
    "## <span id=\"slip_aster\">ASTER Global Elevation Models [&#9652;](#slip_top)</span>\n",
    "\n",
    "Aster GDEM models provide elevation data for each pixel expressed in meters.  For SLIP height is not enough to determine that a landslide can happen on a pixel. SLIP focuses on areas with high elevation Gradients/Slope (Expressed in non-radian degrees).The driving motivation for using slope based filtering is that landslides are less likely to happen in flat regions. "
   ]
  },
  {
   "cell_type": "markdown",
   "metadata": {},
   "source": [
    "#### Loading the elevation model  "
   ]
  },
  {
   "cell_type": "code",
   "execution_count": null,
   "metadata": {
    "execution": {
     "iopub.execute_input": "2020-09-28T16:17:38.586442Z",
     "iopub.status.busy": "2020-09-28T16:17:38.586018Z",
     "iopub.status.idle": "2020-09-28T16:17:38.699848Z",
     "shell.execute_reply": "2020-09-28T16:17:38.699044Z"
    }
   },
   "outputs": [],
   "source": [
    "aster = dc.load(product=\"terra_aster_gdm\",\\\n",
    "                lat=lat,\\\n",
    "                lon=lon,\\\n",
    "                measurements=['dem'],\n",
    "                group_by='solar_day')  "
   ]
  },
  {
   "cell_type": "markdown",
   "metadata": {},
   "source": [
    "#### Calculating Angle of elevation   \n",
    "\n",
    "A gradient is generated for each pixel using the four pixels adjacent to it, as well as a rise/run formuala. \n",
    "\n",
    "<br><br>\n",
    "$$ Gradient = \\frac{Rise}{Run}  $$  \n",
    "<br><br>\n",
    "Basic trigonometric identities  can then be used to derive the angle:   \n",
    "<br><br>\n",
    "    \n",
    "$$ Angle of Elevation = \\arctan(Gradient) $$\n",
    "   <br><br>  \n",
    "   \n",
    "When deriving the angle of elevation for a pixel, two gradients are available. One formed by the bottom pixel and top pixel, the other formed by the right and left pixel. For the purposes of identifying landslide causing slopes, the greatest of the two slopes will be used.  \n",
    "The following image describes the process for angle-of-elevation calculation for a single pixel within a grid of DEM pixels      \n",
    "  \n",
    "   <br><br> \n",
    "    \n",
    "![img](diagrams/slip/derivation.png)\n",
    "  \n",
    "  <br><br>  \n",
    "  \n",
    "The vagaries of implementation have been abstracted away by `dc_demutils`. It's used to derive a slope-mask. A slope-mask in this sense, is an array of `true` and `false` values based on whether or not that pixel meets a minimum angle of elevation requirement.  Its use is detailed below.  "
   ]
  },
  {
   "cell_type": "code",
   "execution_count": null,
   "metadata": {},
   "outputs": [],
   "source": [
    "# Create a slope-mask. False: if pixel <15 degees; True: if pixel > 15 degrees;  \n",
    "is_above_slope_threshold = create_slope_mask(aster, degree_threshold = 15,resolution = 30) "
   ]
  },
  {
   "cell_type": "markdown",
   "metadata": {},
   "source": [
    "#### Filtering out pixels that don't meet requirements for steepness\n",
    "<br>\n",
    "Filtering based on slope is a peicewise transformation using a derived slopemask:   \n",
    "  \n",
    "<br>  \n",
    "  \n",
    "$$  slope\\_filter(Dataset) = \\left\\{\n",
    "     \\begin{array}{lr}\n",
    "       Dataset & :   is\\_above\\_degree\\_threshold(Dataset, 15^{\\circ})   = True\\\\\n",
    "       np.nan &  :    is\\_above\\_degree\\_threshold(Dataset, 15^{\\circ})   = False\\\\\n",
    "     \\end{array}\n",
    "   \\right.\\\\ $$  \n",
    "    \n",
    "<br>  \n",
    "Its use in code:  "
   ]
  },
  {
   "cell_type": "code",
   "execution_count": null,
   "metadata": {},
   "outputs": [],
   "source": [
    "slip_product = new_red_and_ndwi_filtered.where(is_above_slope_threshold)"
   ]
  },
  {
   "cell_type": "markdown",
   "metadata": {},
   "source": [
    "#### Visualising our final SLIP product"
   ]
  },
  {
   "cell_type": "markdown",
   "metadata": {},
   "source": [
    "The final results of SLIP are small regions of points with a high likelihood of landslides having occurred on them. Furthermore there is no possibility that detections are made in flat areas(areas with less than a $15^{\\circ}$ angle of elevation.  "
   ]
  },
  {
   "cell_type": "code",
   "execution_count": null,
   "metadata": {},
   "outputs": [],
   "source": [
    "display_at_time([new, (new, slip_product),slip_product], \n",
    "                time = time_to_show,\n",
    "                width = 3, w = 14)"
   ]
  },
  {
   "cell_type": "markdown",
   "metadata": {},
   "source": [
    "## <span id=\"slip_evo\">Reviewing the Evolution of the SLIP Product [&#9652;](#slip_top)</span>\n",
    "\n",
    "The following visualizations will detail the evolution of the SLIP product from the previous steps."
   ]
  },
  {
   "cell_type": "markdown",
   "metadata": {},
   "source": [
    "Order of operations:  \n",
    "- NDWI change Filtered\n",
    "- RED increase Filtered\n",
    "- Slope Filtered\n",
    "\n",
    "#### Visualization"
   ]
  },
  {
   "cell_type": "code",
   "execution_count": null,
   "metadata": {},
   "outputs": [],
   "source": [
    "display_at_time([new, (new,new_ndwi_filtered),new_ndwi_filtered,new,  (new, new_red_and_ndwi_filtered),new_red_and_ndwi_filtered, new, (new, slip_product),slip_product], \n",
    "                time = time_to_show,\n",
    "                width = 3, w = 14, h = 12)"
   ]
  },
  {
   "cell_type": "markdown",
   "metadata": {},
   "source": [
    "## <span id=\"slip_compare_output_baseline\">Visual Comparison of SLIP Output and Baseline Composited Scene [&#9652;](#slip_top)</span>\n",
    "\n",
    "In the name of validating results, it makes sense to compare the SLIP product generated for the selected date (`time_to_show`) to the composited scene representing what is considered to be \"normal\" for the last 5 acquisitions.  "
   ]
  },
  {
   "cell_type": "code",
   "execution_count": null,
   "metadata": {},
   "outputs": [],
   "source": [
    "display_at_time([baseline, (new,slip_product)], \n",
    "                time = time_to_show, \n",
    "                width = 2, mode = 'blend', color = [210,7,7] , w = 14)"
   ]
  }
 ],
 "metadata": {
  "kernelspec": {
   "display_name": "Python 3",
   "language": "python",
   "name": "python3"
  },
  "language_info": {
   "codemirror_mode": {
    "name": "ipython",
    "version": 3
   },
   "file_extension": ".py",
   "mimetype": "text/x-python",
   "name": "python",
   "nbconvert_exporter": "python",
   "pygments_lexer": "ipython3",
   "version": "3.6.9"
  }
 },
 "nbformat": 4,
 "nbformat_minor": 4
}
