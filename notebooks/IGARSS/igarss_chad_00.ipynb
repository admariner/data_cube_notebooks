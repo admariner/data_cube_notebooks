{
 "cells": [
  {
   "cell_type": "markdown",
   "metadata": {},
   "source": [
    "\n",
    "## Water supply monitoring of lake chad\n"
   ]
  },
  {
   "cell_type": "markdown",
   "metadata": {},
   "source": [
    ">### Lake Chad  \n",
    ">Lake chad is a large shallow lake bordered by the African countries of Cameroon, Chad, Niger, and Nigeria. The surrounding regions depend on lake chad as a primary source of fresh water and irrigation. This notebook will focus on monitoring the water supply in the Lake Chad region before and after the rainy season in 2015.\n",
    "\n",
    "<br/>\n"
   ]
  },
  {
   "cell_type": "markdown",
   "metadata": {},
   "source": [
    ">### Orient Yourself with Lake Chad\n",
    "\n",
    ">The code below renders a map that can be used to orient yourself with the region.\n",
    "The Lake Chad region sustains several hundred small communities. See if you can spot any of them.  \n",
    "<br>  \n"
   ]
  },
  {
   "cell_type": "code",
   "execution_count": 1,
   "metadata": {
    "execution": {
     "iopub.execute_input": "2020-09-28T16:13:27.750792Z",
     "iopub.status.busy": "2020-09-28T16:13:27.750360Z",
     "iopub.status.idle": "2020-09-28T16:13:28.347484Z",
     "shell.execute_reply": "2020-09-28T16:13:28.347027Z"
    }
   },
   "outputs": [
    {
     "data": {
      "text/html": [
       "<div style=\"width:100%;\"><div style=\"position:relative;width:100%;height:0;padding-bottom:60%;\"><iframe src=\"data:text/html;charset=utf-8;base64,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\" style=\"position:absolute;width:100%;height:100%;left:0;top:0;border:none !important;\" allowfullscreen webkitallowfullscreen mozallowfullscreen></iframe></div></div>"
      ],
      "text/plain": [
       "<folium.folium.Map at 0x7f507c46c7b8>"
      ]
     },
     "execution_count": 1,
     "metadata": {},
     "output_type": "execute_result"
    }
   ],
   "source": [
    "# Enable importing of utilities\n",
    "import sys\n",
    "sys.path.append('..')\n",
    "\n",
    "## The code below renders a map that can be used to orient yourself with the region.\n",
    "from utils.data_cube_utilities.dc_display_map import display_map\n",
    "display_map(latitude = (12.2, 14.5), longitude = (12.9, 15.5))"
   ]
  },
  {
   "cell_type": "markdown",
   "metadata": {},
   "source": [
    " <br/>  \n",
    " \n",
    ">##   Lake Chad is shrinking\n",
    ">Over the last 40 years, Lake Chad has decreased by more than 90% in surface area from 26,000 sq. km to 1,500 square km.   \n",
    "\n",
    "\n",
    ">This shrinkage has been a particularly popular case study due to the following factors:  \n",
    "\n",
    ">- the decline is large, and therefore easy to observe/monitor  \n",
    ">- weather/flooding patterns are predictable  \n",
    ">- the decline endangers many communities in the area. Studies on this region are important to mitigating the effects of a disappearing water supply.   \n",
    "  \n",
    "<br>\n",
    "  "
   ]
  },
  {
   "cell_type": "markdown",
   "metadata": {},
   "source": [
    "\n",
    "\n",
    "## Causes of shrinkage in Lake Chad  \n",
    "\n",
    "Possible causes of this shrinkage include: \n",
    "\n",
    ">**Over-irrigation**  \n",
    "> to meet the needs of a growing population in the region. Irrigation demands increased four-fold between 1983 and 1994, accounting for 50 percent of the additional decrease in the size of the lake. \n",
    "\n",
    ">**Climate change**  \n",
    "> A measured trend of dryer conditions. This brings about the need for more irrigation.  \n",
    "\n",
    ">**Declining Discharge**  \n",
    ">Discharge from the Chari/Logone river system has decreased in the last 40 years.  \n"
   ]
  },
  {
   "cell_type": "markdown",
   "metadata": {},
   "source": [
    "<br>\n",
    "\n",
    "\n",
    "  ![img](../diagrams/rainy_demo/chad_decline.png)\n",
    "\n",
    "*The infographic above was taken from the [2017 issue of Foresight Africa](https://www.brookings.edu/wp-content/uploads/2017/01/global_20170109_foresight_africa.pdf)*"
   ]
  },
  {
   "cell_type": "markdown",
   "metadata": {},
   "source": [
    "## Rainy Season\n",
    "\n",
    ">The climate in lake chad is fairly predictable. There is a rainy season that spans the summer months of **June, July, and August**. Followed by a dry season  from September to May that sees little or no percipitation.  This rainy season is the major source of water to Lake Chad. "
   ]
  },
  {
   "cell_type": "markdown",
   "metadata": {},
   "source": [
    "# Analyzing Lake Chad's surface area before and after the rainy season"
   ]
  },
  {
   "cell_type": "markdown",
   "metadata": {},
   "source": [
    "### Planning the analysis   \n",
    "  \n",
    "This notebook is the first in a series of notebooks covering water-body analysis of Lake Chad. Specifically, we'll be looking at the effect that the rainy season has on the surface area of Lake Chad.\n",
    "\n",
    "This analysis will require:\n",
    " - a means calculating **when** the rainy season **starts** and **ends**\n",
    " - a means of **determining** what part of the imagery is **water**\n",
    " - a means of determining **how much water** is in the lake  \n",
    " - a **comparison** of **before** rain measurements to **after** rain measurements. "
   ]
  },
  {
   "cell_type": "markdown",
   "metadata": {},
   "source": [
    "### Datacube  \n",
    "The Datacube is an open-source data-aggregation framework for remote-sensing data.  The following notebooks will show a detailed use for it."
   ]
  },
  {
   "cell_type": "markdown",
   "metadata": {},
   "source": [
    "### Divide and conquer\n",
    "To make certain concepts simpler to pick up, this water analysis task is split into smaller conceptually isolated pieces. Each receives a specialized treatment in a separate notebook. In order of analysis, the notebooks are as follows:     \n",
    "\n",
    "- [Working with GPM Precipitation Data to determine the start and end of the rainy season](igarss_chad_01.ipynb) \n",
    "  \n",
    "- [Working with Landsat7 Data to build cloud-free images](igarss_chad_02.ipynb)\n",
    "  \n",
    "- [Classifying bodies of Water on Before and after Images and comparing them](igarss_chad_03.ipynb)"
   ]
  },
  {
   "cell_type": "code",
   "execution_count": null,
   "metadata": {},
   "outputs": [],
   "source": []
  }
 ],
 "metadata": {
  "kernelspec": {
   "display_name": "Python 3",
   "language": "python",
   "name": "python3"
  },
  "language_info": {
   "codemirror_mode": {
    "name": "ipython",
    "version": 3
   },
   "file_extension": ".py",
   "mimetype": "text/x-python",
   "name": "python",
   "nbconvert_exporter": "python",
   "pygments_lexer": "ipython3",
   "version": "3.6.9"
  }
 },
 "nbformat": 4,
 "nbformat_minor": 2
}
