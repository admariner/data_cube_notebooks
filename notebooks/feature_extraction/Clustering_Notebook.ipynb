{
 "cells": [
  {
   "cell_type": "markdown",
   "metadata": {},
   "source": [
    "<a id=\"clustering_notebook_top\"></a>\n",
    "# Clustering Notebook\n",
    "<hr>\n",
    "\n",
    "# Notebook Summary\n",
    "\n",
    "This notebook demonstrates how to use Open Data Cube utilities to cluster geospatial data. \n",
    "\n",
    "<hr>\n",
    "\n",
    "# Index\n",
    "\n",
    "* [Import Dependencies and Connect to the Data Cube](#clustering_notebook_import)\n",
    "* [Choose Platform and Product](#clustering_notebook_plat_prod)\n",
    "* [Get the Maximum Extents of the Cube](#clustering_notebook_extents)\n",
    "* [Define the Extents of the Analysis](#clustering_notebook_define_extents) (selecting too much can make the acquisition process slow)\n",
    "* [Load Data from the Data Cube and Create a Composite](#clustering_notebook_retrieve_data)\n",
    "* [Examine the Composite and Export as a GeoTIFF](#clustering_notebook_examine_composite)\n",
    "* [Perform Clustering](#clustering_notebook_cluster)\n",
    "* [Visualize the Clustered Data](#clustering_notebook_visualize)\n",
    "* [Export the Clustered Data as a GeoTIFF](#clustering_notebook_export_clustered_data)"
   ]
  },
  {
   "cell_type": "markdown",
   "metadata": {},
   "source": [
    "## <span id=\"clustering_notebook_import\">Import Dependencies and Connect to the Data Cube [&#9652;](#clustering_notebook_top)</span>"
   ]
  },
  {
   "cell_type": "code",
   "execution_count": null,
   "metadata": {
    "execution": {
     "iopub.execute_input": "2020-09-29T00:57:41.348342Z",
     "iopub.status.busy": "2020-09-29T00:57:41.347635Z",
     "iopub.status.idle": "2020-09-29T00:57:42.511905Z",
     "shell.execute_reply": "2020-09-29T00:57:42.512378Z"
    }
   },
   "outputs": [],
   "source": [
    "import sys\n",
    "import os\n",
    "sys.path.append(os.environ.get('NOTEBOOK_ROOT'))\n",
    "\n",
    "%matplotlib inline\n",
    "import matplotlib.pyplot as plt\n",
    "import datacube\n",
    "import datetime as dt\n",
    "import xarray as xr  \n",
    "import numpy as np\n",
    "\n",
    "from utils.data_cube_utilities.data_access_api import DataAccessApi\n",
    "from utils.data_cube_utilities.plotter_utils import figure_ratio"
   ]
  },
  {
   "cell_type": "code",
   "execution_count": null,
   "metadata": {
    "execution": {
     "iopub.execute_input": "2020-09-29T00:57:42.517207Z",
     "iopub.status.busy": "2020-09-29T00:57:42.516780Z",
     "iopub.status.idle": "2020-09-29T00:57:42.829325Z",
     "shell.execute_reply": "2020-09-29T00:57:42.829830Z"
    }
   },
   "outputs": [],
   "source": [
    "api = DataAccessApi()\n",
    "dc = api.dc"
   ]
  },
  {
   "cell_type": "markdown",
   "metadata": {},
   "source": [
    "## <span id=\"clustering_notebook_plat_prod\">Choose Platform and Product [&#9652;](#clustering_notebook_top)</span>"
   ]
  },
  {
   "cell_type": "markdown",
   "metadata": {},
   "source": [
    "**Examine available products**"
   ]
  },
  {
   "cell_type": "code",
   "execution_count": null,
   "metadata": {
    "execution": {
     "iopub.execute_input": "2020-09-29T00:57:42.833375Z",
     "iopub.status.busy": "2020-09-29T00:57:42.832959Z",
     "iopub.status.idle": "2020-09-29T00:57:42.850865Z",
     "shell.execute_reply": "2020-09-29T00:57:42.851281Z"
    }
   },
   "outputs": [],
   "source": [
    "# Get available products\n",
    "products_info = dc.list_products()"
   ]
  },
  {
   "cell_type": "code",
   "execution_count": null,
   "metadata": {
    "execution": {
     "iopub.execute_input": "2020-09-29T00:57:42.864050Z",
     "iopub.status.busy": "2020-09-29T00:57:42.863342Z",
     "iopub.status.idle": "2020-09-29T00:57:42.869334Z",
     "shell.execute_reply": "2020-09-29T00:57:42.869775Z"
    }
   },
   "outputs": [],
   "source": [
    "# List LANDSAT 7 products\n",
    "print(\"LANDSAT 7 Products:\")\n",
    "products_info[[\"platform\", \"name\"]][products_info.platform == \"LANDSAT_7\"]"
   ]
  },
  {
   "cell_type": "code",
   "execution_count": null,
   "metadata": {
    "execution": {
     "iopub.execute_input": "2020-09-29T00:57:42.876911Z",
     "iopub.status.busy": "2020-09-29T00:57:42.876268Z",
     "iopub.status.idle": "2020-09-29T00:57:42.879219Z",
     "shell.execute_reply": "2020-09-29T00:57:42.879628Z"
    }
   },
   "outputs": [],
   "source": [
    "# List LANDSAT 8 products\n",
    "print(\"LANDSAT 8 Products:\")\n",
    "products_info[[\"platform\", \"name\"]][products_info.platform == \"LANDSAT_8\"]"
   ]
  },
  {
   "cell_type": "markdown",
   "metadata": {},
   "source": [
    "**Choose product and platform**"
   ]
  },
  {
   "cell_type": "code",
   "execution_count": null,
   "metadata": {
    "execution": {
     "iopub.execute_input": "2020-09-29T00:57:42.882493Z",
     "iopub.status.busy": "2020-09-29T00:57:42.882072Z",
     "iopub.status.idle": "2020-09-29T00:57:42.883720Z",
     "shell.execute_reply": "2020-09-29T00:57:42.884141Z"
    },
    "scrolled": true
   },
   "outputs": [],
   "source": [
    "product = 'ls8_usgs_sr_scene'\n",
    "platform = 'LANDSAT_8'\n",
    "collection = 'c1'\n",
    "level = 'l2'"
   ]
  },
  {
   "cell_type": "markdown",
   "metadata": {},
   "source": [
    "## <span id=\"clustering_notebook_extents\">Get the Maximum Extents of the Cube [&#9652;](#clustering_notebook_top)</span>"
   ]
  },
  {
   "cell_type": "code",
   "execution_count": null,
   "metadata": {
    "execution": {
     "iopub.execute_input": "2020-09-29T00:57:42.888285Z",
     "iopub.status.busy": "2020-09-29T00:57:42.887229Z",
     "iopub.status.idle": "2020-09-29T00:57:47.005904Z",
     "shell.execute_reply": "2020-09-29T00:57:47.006342Z"
    }
   },
   "outputs": [],
   "source": [
    "from utils.data_cube_utilities.dc_load import get_product_extents\n",
    "\n",
    "full_lat, full_lon, min_max_dates = get_product_extents(api, platform, product)\n",
    "\n",
    "print(\"{}:\".format(platform))\n",
    "print(\"Lat bounds:\", full_lat)\n",
    "print(\"Lon bounds:\", full_lon)\n",
    "print(\"Time bounds:\", min_max_dates) "
   ]
  },
  {
   "cell_type": "code",
   "execution_count": null,
   "metadata": {
    "execution": {
     "iopub.execute_input": "2020-09-29T00:57:47.010041Z",
     "iopub.status.busy": "2020-09-29T00:57:47.009342Z",
     "iopub.status.idle": "2020-09-29T00:57:47.184469Z",
     "shell.execute_reply": "2020-09-29T00:57:47.184892Z"
    }
   },
   "outputs": [],
   "source": [
    "from utils.data_cube_utilities.dc_display_map import display_map\n",
    "\n",
    "# Display the total shared area available for these datacube products.\n",
    "display_map(latitude = full_lat,longitude = full_lon)"
   ]
  },
  {
   "cell_type": "markdown",
   "metadata": {},
   "source": [
    "## <span id=\"clustering_notebook_define_extents\">Define the Extents of the Analysis [&#9652;](#clustering_notebook_top)</span>"
   ]
  },
  {
   "cell_type": "markdown",
   "metadata": {},
   "source": [
    "**Specify start and end dates in the same order as platforms and products**"
   ]
  },
  {
   "cell_type": "code",
   "execution_count": null,
   "metadata": {
    "execution": {
     "iopub.execute_input": "2020-09-29T00:57:47.192100Z",
     "iopub.status.busy": "2020-09-29T00:57:47.191675Z",
     "iopub.status.idle": "2020-09-29T00:57:47.193328Z",
     "shell.execute_reply": "2020-09-29T00:57:47.193768Z"
    }
   },
   "outputs": [],
   "source": [
    "# from datetime import datetime \n",
    "# start_date, end_date = (datetime(2010,1,1), datetime(2011,1,1))\n",
    "# start_date, end_date = dt.datetime(2014,1,1), dt.datetime(2016,1,1)\n",
    "start_date, end_date = dt.datetime(2014,9,1), dt.datetime(2015,3,1)\n",
    "date_range = (start_date, end_date)"
   ]
  },
  {
   "cell_type": "markdown",
   "metadata": {},
   "source": [
    "**Specify an area to analyze**"
   ]
  },
  {
   "cell_type": "code",
   "execution_count": null,
   "metadata": {
    "execution": {
     "iopub.execute_input": "2020-09-29T00:57:47.196927Z",
     "iopub.status.busy": "2020-09-29T00:57:47.196503Z",
     "iopub.status.idle": "2020-09-29T00:57:47.198148Z",
     "shell.execute_reply": "2020-09-29T00:57:47.198551Z"
    }
   },
   "outputs": [],
   "source": [
    "# Specify latitude and longitude bounds of an interesting area within the full extents\n",
    "\n",
    "# Vietnam\n",
    "# lat_small = (9.8, 9.85) # Area #1\n",
    "# lon_small = (105.1, 105.15) # Area #1\n",
    "\n",
    "# Ghana\n",
    "# Weija Reservoir - North\n",
    "lat_small = (5.5974, 5.6270)\n",
    "lon_small = (-0.3900, -0.3371)"
   ]
  },
  {
   "cell_type": "markdown",
   "metadata": {},
   "source": [
    "**Visualize the selected area**"
   ]
  },
  {
   "cell_type": "code",
   "execution_count": null,
   "metadata": {
    "execution": {
     "iopub.execute_input": "2020-09-29T00:57:47.201940Z",
     "iopub.status.busy": "2020-09-29T00:57:47.201499Z",
     "iopub.status.idle": "2020-09-29T00:57:47.209076Z",
     "shell.execute_reply": "2020-09-29T00:57:47.209495Z"
    }
   },
   "outputs": [],
   "source": [
    "display_map(latitude = lat_small,longitude = lon_small)"
   ]
  },
  {
   "cell_type": "markdown",
   "metadata": {},
   "source": [
    "## <span id=\"clustering_notebook_retrieve_data\">Load Data from the Data Cube and Create a Composite [&#9652;](#clustering_notebook_top)</span>"
   ]
  },
  {
   "cell_type": "markdown",
   "metadata": {},
   "source": [
    "**Create geographic chunks for efficient processing**"
   ]
  },
  {
   "cell_type": "code",
   "execution_count": null,
   "metadata": {
    "execution": {
     "iopub.execute_input": "2020-09-29T00:57:47.212786Z",
     "iopub.status.busy": "2020-09-29T00:57:47.212284Z",
     "iopub.status.idle": "2020-09-29T00:57:47.214323Z",
     "shell.execute_reply": "2020-09-29T00:57:47.214807Z"
    }
   },
   "outputs": [],
   "source": [
    "from utils.data_cube_utilities.dc_chunker import create_geographic_chunks\n",
    "\n",
    "geographic_chunks = create_geographic_chunks(\n",
    "                                latitude=lat_small, \n",
    "                                longitude=lon_small, \n",
    "                                geographic_chunk_size=.05)"
   ]
  },
  {
   "cell_type": "markdown",
   "metadata": {},
   "source": [
    "**Create a geomedian composite**"
   ]
  },
  {
   "cell_type": "code",
   "execution_count": null,
   "metadata": {
    "execution": {
     "iopub.execute_input": "2020-09-29T00:57:47.219687Z",
     "iopub.status.busy": "2020-09-29T00:57:47.218994Z",
     "iopub.status.idle": "2020-09-29T00:57:52.176201Z",
     "shell.execute_reply": "2020-09-29T00:57:52.176671Z"
    },
    "scrolled": true
   },
   "outputs": [],
   "source": [
    "from utils.data_cube_utilities.clean_mask import landsat_clean_mask_full\n",
    "from utils.data_cube_utilities.dc_mosaic import create_hdmedians_multiple_band_mosaic\n",
    "\n",
    "measurements = ['blue', 'green', 'red', 'nir', 'swir1', 'swir2', 'pixel_qa']\n",
    "product_chunks = []\n",
    "\n",
    "for index, chunk in enumerate(geographic_chunks):\n",
    "    data = dc.load(measurements = measurements,\n",
    "                   time = date_range,\n",
    "                   platform = platform,\n",
    "                   product =  product,\n",
    "                   longitude=chunk['longitude'],\n",
    "                   latitude=chunk['latitude'])\n",
    "    # Mask out clouds and scan lines.\n",
    "    clean_mask = landsat_clean_mask_full(dc, data, product=product, platform=platform,\n",
    "                                         collection=collection, level=level)\n",
    "    # Create the mosaic.\n",
    "    product_chunks.append(create_hdmedians_multiple_band_mosaic(data, clean_mask=clean_mask, dtype=np.float32))"
   ]
  },
  {
   "cell_type": "markdown",
   "metadata": {},
   "source": [
    "**Combine the chunks to produce the final mosaic**"
   ]
  },
  {
   "cell_type": "code",
   "execution_count": null,
   "metadata": {
    "execution": {
     "iopub.execute_input": "2020-09-29T00:57:52.180122Z",
     "iopub.status.busy": "2020-09-29T00:57:52.179703Z",
     "iopub.status.idle": "2020-09-29T00:57:52.185478Z",
     "shell.execute_reply": "2020-09-29T00:57:52.185036Z"
    }
   },
   "outputs": [],
   "source": [
    "from utils.data_cube_utilities.dc_chunker import combine_geographic_chunks\n",
    "final_composite = combine_geographic_chunks(product_chunks)"
   ]
  },
  {
   "cell_type": "markdown",
   "metadata": {},
   "source": [
    "## <span id=\"clustering_notebook_examine_composite\">Examine the Composite and Export as a GeoTIFF [&#9652;](#clustering_notebook_top)</span>"
   ]
  },
  {
   "cell_type": "markdown",
   "metadata": {},
   "source": [
    "> ### True color "
   ]
  },
  {
   "cell_type": "code",
   "execution_count": null,
   "metadata": {
    "execution": {
     "iopub.execute_input": "2020-09-29T00:57:52.191478Z",
     "iopub.status.busy": "2020-09-29T00:57:52.189127Z",
     "iopub.status.idle": "2020-09-29T00:57:52.433892Z",
     "shell.execute_reply": "2020-09-29T00:57:52.434351Z"
    }
   },
   "outputs": [],
   "source": [
    "from utils.data_cube_utilities.dc_rgb import rgb\n",
    "\n",
    "fig = plt.figure(figsize=figure_ratio(final_composite, fixed_width=8, fixed_height=8))\n",
    "rgb(final_composite, bands=['red', 'green', 'blue'], fig=fig)\n",
    "plt.title('True Color Geomedian Composite', fontsize=16)\n",
    "plt.show()"
   ]
  },
  {
   "cell_type": "markdown",
   "metadata": {},
   "source": [
    "> ### False color "
   ]
  },
  {
   "cell_type": "code",
   "execution_count": null,
   "metadata": {
    "execution": {
     "iopub.execute_input": "2020-09-29T00:57:52.439526Z",
     "iopub.status.busy": "2020-09-29T00:57:52.439115Z",
     "iopub.status.idle": "2020-09-29T00:57:52.622788Z",
     "shell.execute_reply": "2020-09-29T00:57:52.623218Z"
    }
   },
   "outputs": [],
   "source": [
    "fig = plt.figure(figsize=figure_ratio(final_composite, fixed_width=8, fixed_height=8))\n",
    "rgb(final_composite, bands=['swir1', 'nir', 'red'], fig=fig)\n",
    "plt.title('False Color Geomedian Composite', fontsize=16)\n",
    "plt.show()"
   ]
  },
  {
   "cell_type": "markdown",
   "metadata": {},
   "source": [
    "> ### Example of a composited `swir1` band"
   ]
  },
  {
   "cell_type": "code",
   "execution_count": null,
   "metadata": {
    "execution": {
     "iopub.execute_input": "2020-09-29T00:57:52.627473Z",
     "iopub.status.busy": "2020-09-29T00:57:52.627054Z",
     "iopub.status.idle": "2020-09-29T00:57:52.858665Z",
     "shell.execute_reply": "2020-09-29T00:57:52.859109Z"
    }
   },
   "outputs": [],
   "source": [
    "final_composite.swir1.plot(figsize = figure_ratio(final_composite, fixed_width=10, \n",
    "                                               fixed_height=10), cmap = 'magma')\n",
    "plt.title('SWIR1 Composite', fontsize=16)\n",
    "plt.show()"
   ]
  },
  {
   "cell_type": "markdown",
   "metadata": {},
   "source": [
    "> ### Export to GeoTIFF"
   ]
  },
  {
   "cell_type": "code",
   "execution_count": null,
   "metadata": {
    "execution": {
     "iopub.execute_input": "2020-09-29T00:57:52.862967Z",
     "iopub.status.busy": "2020-09-29T00:57:52.862538Z",
     "iopub.status.idle": "2020-09-29T00:57:52.874032Z",
     "shell.execute_reply": "2020-09-29T00:57:52.874458Z"
    }
   },
   "outputs": [],
   "source": [
    "from utils.data_cube_utilities.import_export import export_slice_to_geotiff\n",
    "import os\n",
    "geotiff_dir = 'output/geotiffs/Clustering_Notebook'\n",
    "if not os.path.exists(geotiff_dir):\n",
    "    os.makedirs(geotiff_dir)\n",
    "export_slice_to_geotiff(final_composite, '{}/final_composite.tif'.format(geotiff_dir))"
   ]
  },
  {
   "cell_type": "markdown",
   "metadata": {},
   "source": [
    "## <span id=\"clustering_notebook_cluster\">Perform Clustering [&#9652;](#clustering_notebook_top)</span>"
   ]
  },
  {
   "cell_type": "code",
   "execution_count": null,
   "metadata": {
    "execution": {
     "iopub.execute_input": "2020-09-29T00:57:52.877684Z",
     "iopub.status.busy": "2020-09-29T00:57:52.877182Z",
     "iopub.status.idle": "2020-09-29T00:57:52.879536Z",
     "shell.execute_reply": "2020-09-29T00:57:52.879108Z"
    }
   },
   "outputs": [],
   "source": [
    "from utils.data_cube_utilities.aggregate import xr_scale_res"
   ]
  },
  {
   "cell_type": "code",
   "execution_count": null,
   "metadata": {
    "execution": {
     "iopub.execute_input": "2020-09-29T00:57:52.883510Z",
     "iopub.status.busy": "2020-09-29T00:57:52.883101Z",
     "iopub.status.idle": "2020-09-29T00:57:58.066629Z",
     "shell.execute_reply": "2020-09-29T00:57:58.066130Z"
    }
   },
   "outputs": [],
   "source": [
    "from utils.data_cube_utilities.dc_clustering import kmeans_cluster_dataset, get_frequency_counts\n",
    "\n",
    "# Bands used for clustering\n",
    "cluster_bands = ['red', 'green', 'blue', 'swir1']\n",
    "\n",
    "classification_4 =  kmeans_cluster_dataset(final_composite, cluster_bands, n_clusters=4)\n",
    "freq_counts_4 =     get_frequency_counts(classification_4)\n",
    "classification_8 =  kmeans_cluster_dataset(final_composite, cluster_bands, n_clusters=8)\n",
    "freq_counts_8 =     get_frequency_counts(classification_8)\n",
    "classification_12 = kmeans_cluster_dataset(final_composite, cluster_bands, n_clusters=12)\n",
    "freq_counts_12 =    get_frequency_counts(classification_12)"
   ]
  },
  {
   "cell_type": "markdown",
   "metadata": {},
   "source": [
    "## <span id=\"clustering_notebook_visualize\">Visualize the Clustered Data [&#9652;](#clustering_notebook_top)</span> "
   ]
  },
  {
   "cell_type": "code",
   "execution_count": null,
   "metadata": {
    "execution": {
     "iopub.execute_input": "2020-09-29T00:57:58.071764Z",
     "iopub.status.busy": "2020-09-29T00:57:58.071283Z",
     "iopub.status.idle": "2020-09-29T00:57:58.073857Z",
     "shell.execute_reply": "2020-09-29T00:57:58.074340Z"
    }
   },
   "outputs": [],
   "source": [
    "# Define standard formatting.\n",
    "def get_figsize_geospatial(fixed_width=8, fixed_height=14, \n",
    "                           num_cols=1, num_rows=1):\n",
    "    return figure_ratio(final_composite, \n",
    "                        fixed_width=fixed_width, fixed_height=fixed_height,\n",
    "                        num_cols=num_cols, num_rows=num_rows)\n",
    "xarray_imshow_params = dict(use_colorbar=False, use_legend=True, \n",
    "                            fig_kwargs=dict(dpi=120, figsize=get_figsize_geospatial()))"
   ]
  },
  {
   "cell_type": "code",
   "execution_count": null,
   "metadata": {
    "execution": {
     "iopub.execute_input": "2020-09-29T00:57:58.080474Z",
     "iopub.status.busy": "2020-09-29T00:57:58.079998Z",
     "iopub.status.idle": "2020-09-29T00:57:58.321597Z",
     "shell.execute_reply": "2020-09-29T00:57:58.322083Z"
    }
   },
   "outputs": [],
   "source": [
    "from utils.data_cube_utilities.plotter_utils import xarray_imshow\n",
    "\n",
    "for class_num, freq, fractional_freq in freq_counts_4:\n",
    "    # The `*_cluster_dataset()` functions set -1 as the cluster number for \"rows\" with missing data.\n",
    "    class_num, freq = int(class_num), int(freq)\n",
    "    class_mem_str = \"in class {:d}\".format(class_num) if class_num != -1 else \"that had missing data\"\n",
    "    print(\"There were {:d} data points {}, comprising {:.2%} \"\\\n",
    "          \"of all data points.\".format(int(freq), class_mem_str, \n",
    "                                       fractional_freq))\n",
    "legend_labels = {v:\"Cluster {}\".format(v) if v != -1 else \"Missing Data\" for v in np.unique(classification_4)}\n",
    "xarray_imshow(classification_4, **xarray_imshow_params, legend_labels=legend_labels)\n",
    "plt.show()"
   ]
  },
  {
   "cell_type": "code",
   "execution_count": null,
   "metadata": {
    "execution": {
     "iopub.execute_input": "2020-09-29T00:57:58.329108Z",
     "iopub.status.busy": "2020-09-29T00:57:58.328623Z",
     "iopub.status.idle": "2020-09-29T00:57:58.590878Z",
     "shell.execute_reply": "2020-09-29T00:57:58.591356Z"
    }
   },
   "outputs": [],
   "source": [
    "for class_num, freq, fractional_freq in freq_counts_8:\n",
    "    # The `*_cluster_dataset()` functions set -1 as the cluster number for \"rows\" with missing data.\n",
    "    class_num, freq = int(class_num), int(freq)\n",
    "    class_mem_str = \"in class {:d}\".format(class_num) if class_num != -1 else \"that had missing data\"\n",
    "    print(\"There were {:d} data points {}, comprising {:.2%} \"\\\n",
    "          \"of all data points.\".format(int(freq), class_mem_str, \n",
    "                                       fractional_freq))\n",
    "legend_labels = {v:\"Cluster {}\".format(v) if v != -1 else \"Missing Data\" for v in np.unique(classification_8)}\n",
    "xarray_imshow(classification_8, **xarray_imshow_params, legend_labels=legend_labels)\n",
    "plt.show()"
   ]
  },
  {
   "cell_type": "code",
   "execution_count": null,
   "metadata": {
    "execution": {
     "iopub.execute_input": "2020-09-29T00:57:58.598490Z",
     "iopub.status.busy": "2020-09-29T00:57:58.598016Z",
     "iopub.status.idle": "2020-09-29T00:57:58.901070Z",
     "shell.execute_reply": "2020-09-29T00:57:58.901715Z"
    }
   },
   "outputs": [],
   "source": [
    "for class_num, freq, fractional_freq in freq_counts_12:\n",
    "    # The `*_cluster_dataset()` functions set -1 as the cluster number for \"rows\" with missing data.\n",
    "    class_num, freq = int(class_num), int(freq)\n",
    "    class_mem_str = \"in class {:d}\".format(class_num) if class_num != -1 else \"that had missing data\"\n",
    "    print(\"There were {:d} data points {}, comprising {:.2%} \"\\\n",
    "          \"of all data points.\".format(int(freq), class_mem_str, \n",
    "                                       fractional_freq))\n",
    "legend_labels = {v:\"Cluster {}\".format(v) if v != -1 else \"Missing Data\" for v in np.unique(classification_12)}\n",
    "xarray_imshow(classification_12, **xarray_imshow_params, legend_labels=legend_labels)\n",
    "plt.show()"
   ]
  },
  {
   "cell_type": "markdown",
   "metadata": {},
   "source": [
    "## <span id=\"clustering_notebook_export_clustered_data\">Export the Clustered Data as a GeoTIFF [&#9652;](#clustering_notebook_top)</span>"
   ]
  },
  {
   "cell_type": "code",
   "execution_count": null,
   "metadata": {
    "execution": {
     "iopub.execute_input": "2020-09-29T00:57:58.904775Z",
     "iopub.status.busy": "2020-09-29T00:57:58.903859Z",
     "iopub.status.idle": "2020-09-29T00:57:58.926157Z",
     "shell.execute_reply": "2020-09-29T00:57:58.926776Z"
    }
   },
   "outputs": [],
   "source": [
    "from utils.data_cube_utilities.import_export import export_slice_to_geotiff\n",
    "\n",
    "if not os.path.exists(geotiff_dir):\n",
    "    os.makedirs(geotiff_dir)\n",
    "\n",
    "output_kmeans_cluster4_file_path  =  os.path.join(geotiff_dir, \"cluster4_kmeans.tif\")\n",
    "output_kmeans_cluster8_file_path  =  os.path.join(geotiff_dir, \"cluster8_kmeans.tif\")\n",
    "output_kmeans_cluster12_file_path =  os.path.join(geotiff_dir, \"cluster12_kmeans.tif\")\n",
    "\n",
    "export_slice_to_geotiff(classification_4.to_dataset(name='classification'), \n",
    "                        output_kmeans_cluster4_file_path)\n",
    "export_slice_to_geotiff(classification_8.to_dataset(name='classification'), \n",
    "                        output_kmeans_cluster8_file_path)\n",
    "export_slice_to_geotiff(classification_12.to_dataset(name='classification'), \n",
    "                        output_kmeans_cluster12_file_path)"
   ]
  }
 ],
 "metadata": {
  "kernelspec": {
   "display_name": "Python 3",
   "language": "python",
   "name": "python3"
  },
  "language_info": {
   "codemirror_mode": {
    "name": "ipython",
    "version": 3
   },
   "file_extension": ".py",
   "mimetype": "text/x-python",
   "name": "python",
   "nbconvert_exporter": "python",
   "pygments_lexer": "ipython3",
   "version": "3.6.9"
  }
 },
 "nbformat": 4,
 "nbformat_minor": 4
}
