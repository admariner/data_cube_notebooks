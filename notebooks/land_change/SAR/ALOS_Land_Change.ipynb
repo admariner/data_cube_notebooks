{
 "cells": [
  {
   "cell_type": "markdown",
   "metadata": {},
   "source": [
    "<a id=\"alos_land_change_top\"></a>\n",
    "# ALOS Land Change\n",
    "\n",
    "<hr>\n",
    "\n",
    "# Notebook Summary\n",
    "\n",
    "This notebook tries to detect land change with ALOS-2.\n",
    "\n",
    "<hr>\n",
    "\n",
    "# Index\n",
    "\n",
    "* [Import Dependencies and Connect to the Data Cube](#alos_land_change_import_connect)\n",
    "* [Choose Platform and Product](#alos_land_change_plat_prod)\n",
    "* [Get the Extents of the Cube](#alos_land_change_extents)\n",
    "* [Define the Analysis Parameters](#alos_land_change_parameters)\n",
    "* [Load and Clean Data from the Data Cube](#alos_land_change_load)\n",
    "* [View RGBs for the Baseline and Analysis Periods](#alos_land_change_rgbs)\n",
    "* [Plot HH or HV Band for the Baseline and Analysis Periods](#alos_land_change_hh_hv)\n",
    "* [Plot a Custom RGB That Uses Bands from the Baseline and Analysis Periods](#alos_land_change_custom_rgb)\n",
    "* [Plot a Change Product to Compare Two Time Periods (Epochs)](#alos_land_change_change_product)"
   ]
  },
  {
   "cell_type": "markdown",
   "metadata": {},
   "source": [
    "## <span id=\"alos_land_change_import_connect\">Import Dependencies and Connect to the Data Cube [&#9652;](#alos_land_change_top)</span>"
   ]
  },
  {
   "cell_type": "code",
   "execution_count": null,
   "metadata": {
    "execution": {
     "iopub.execute_input": "2020-09-28T16:17:11.313701Z",
     "iopub.status.busy": "2020-09-28T16:17:11.312973Z",
     "iopub.status.idle": "2020-09-28T16:17:12.785860Z",
     "shell.execute_reply": "2020-09-28T16:17:12.786237Z"
    }
   },
   "outputs": [],
   "source": [
    "import sys\n",
    "import os\n",
    "sys.path.append(os.environ.get('NOTEBOOK_ROOT'))\n",
    "\n",
    "import datacube\n",
    "import numpy as np\n",
    "import pandas as pd\n",
    "import xarray as xr\n",
    "import matplotlib.pyplot as plt\n",
    "\n",
    "from datacube.utils.aws import configure_s3_access\n",
    "configure_s3_access(requester_pays=True)\n",
    "\n",
    "dc = datacube.Datacube()"
   ]
  },
  {
   "cell_type": "markdown",
   "metadata": {},
   "source": [
    "## <span id=\"alos_land_change_plat_prod\">Choose Platform and Product [&#9652;](#alos_land_change_top)</span>"
   ]
  },
  {
   "cell_type": "code",
   "execution_count": null,
   "metadata": {
    "execution": {
     "iopub.execute_input": "2020-09-28T16:17:12.789740Z",
     "iopub.status.busy": "2020-09-28T16:17:12.789272Z",
     "iopub.status.idle": "2020-09-28T16:17:12.790933Z",
     "shell.execute_reply": "2020-09-28T16:17:12.791348Z"
    }
   },
   "outputs": [],
   "source": [
    "# Select one of the ALOS data cubes from around the world\n",
    "# Colombia, Vietnam, Samoa Islands\n",
    "\n",
    "## ALOS Data Summary\n",
    "# There are 7 time slices (epochs) for the ALOS mosaic data. \n",
    "# The dates of the mosaics are centered on June 15 of each year (time stamp)\n",
    "# Bands: RGB (HH-HV-HH/HV), HH, HV, date, incidence angle, mask)\n",
    "# Years: 2007, 2008, 2009, 2010, 2015, 2016, 2017\n",
    "\n",
    "platform = \"ALOS/ALOS-2\"\n",
    "product = \"alos_palsar_mosaic\""
   ]
  },
  {
   "cell_type": "markdown",
   "metadata": {},
   "source": [
    "## <a id=\"alos_land_change_extents\"></a> Get the Extents of the Cube [&#9652;](#alos_land_change_top)"
   ]
  },
  {
   "cell_type": "code",
   "execution_count": null,
   "metadata": {
    "execution": {
     "iopub.execute_input": "2020-09-28T16:17:12.796274Z",
     "iopub.status.busy": "2020-09-28T16:17:12.795838Z",
     "iopub.status.idle": "2020-09-28T16:17:12.911680Z",
     "shell.execute_reply": "2020-09-28T16:17:12.910891Z"
    }
   },
   "outputs": [],
   "source": [
    "from utils.data_cube_utilities.dc_time import dt_to_str\n",
    "\n",
    "metadata = dc.load(platform=platform, product=product, measurements=[])\n",
    "\n",
    "full_lat = metadata.latitude.values[[-1,0]]\n",
    "full_lon = metadata.longitude.values[[0,-1]]\n",
    "min_max_dates = list(map(dt_to_str, map(pd.to_datetime, metadata.time.values[[0,-1]])))\n",
    "\n",
    "# Print the extents of the combined data.\n",
    "print(\"Latitude Extents:\", full_lat)\n",
    "print(\"Longitude Extents:\", full_lon)\n",
    "print(\"Time Extents:\", min_max_dates)"
   ]
  },
  {
   "cell_type": "markdown",
   "metadata": {},
   "source": [
    "## <a id=\"alos_land_change_parameters\"></a> Define the Analysis Parameters [&#9652;](#alos_land_change_top)"
   ]
  },
  {
   "cell_type": "code",
   "execution_count": null,
   "metadata": {},
   "outputs": [],
   "source": [
    "from datetime import datetime\n",
    "\n",
    "## Somoa ##\n",
    "\n",
    "# Apia City\n",
    "# lat = (-13.7897, -13.8864)\n",
    "# lon  = (-171.8531, -171.7171)\n",
    "# time_extents = (\"2014-01-01\", \"2014-12-31\")\n",
    "\n",
    "# East Area\n",
    "# lat = (-13.94, -13.84)\n",
    "# lon = (-171.96, -171.8)\n",
    "# time_extents = (\"2014-01-01\", \"2014-12-31\")\n",
    "\n",
    "# Central Area\n",
    "# lat = (-14.057, -13.884)\n",
    "# lon = (-171.774, -171.573)\n",
    "# time_extents = (\"2014-01-01\", \"2014-12-31\")\n",
    "\n",
    "# Small focused area in Central Region\n",
    "# lat = (-13.9443, -13.884)\n",
    "# lon = (-171.6431, -171.573)\n",
    "# time_extents = (\"2014-01-01\", \"2014-12-31\")\n",
    "\n",
    "## Kenya ##\n",
    "\n",
    "# Mombasa\n",
    "lat = (-4.1095, -3.9951)\n",
    "lon = (39.5178, 39.7341)\n",
    "time_extents = (\"2007-01-01\", \"2017-12-31\")"
   ]
  },
  {
   "cell_type": "markdown",
   "metadata": {},
   "source": [
    "**Visualize the selected area**"
   ]
  },
  {
   "cell_type": "code",
   "execution_count": null,
   "metadata": {},
   "outputs": [],
   "source": [
    "from utils.data_cube_utilities.dc_display_map import display_map\n",
    "\n",
    "display_map(lat, lon)  "
   ]
  },
  {
   "cell_type": "markdown",
   "metadata": {},
   "source": [
    "## <a id=\"alos_land_change_load\"></a> Load and Clean Data from the Data Cube [&#9652;](#alos_land_change_top)"
   ]
  },
  {
   "cell_type": "code",
   "execution_count": null,
   "metadata": {},
   "outputs": [],
   "source": [
    "dataset = dc.load(product = product, platform = platform, \n",
    "                  latitude = lat, longitude = lon, \n",
    "                  time=time_extents)"
   ]
  },
  {
   "cell_type": "markdown",
   "metadata": {},
   "source": [
    "**View an acquisition in dataset**"
   ]
  },
  {
   "cell_type": "code",
   "execution_count": null,
   "metadata": {},
   "outputs": [],
   "source": [
    "# Select a baseline and analysis time slice for comparison\n",
    "# Make the adjustments to the years according to the following scheme\n",
    "# Time Slice: 0=2007, 1=2008, 2=2009, 3=2010, 4=2015, 5=2016, 6=2017)\n",
    "\n",
    "baseline_slice = dataset.isel(time = 0)\n",
    "analysis_slice = dataset.isel(time = -1)"
   ]
  },
  {
   "cell_type": "markdown",
   "metadata": {},
   "source": [
    "## <a id=\"alos_land_change_rgbs\"></a> View RGBs for the Baseline and Analysis Periods [&#9652;](#alos_land_change_top)"
   ]
  },
  {
   "cell_type": "code",
   "execution_count": null,
   "metadata": {},
   "outputs": [],
   "source": [
    "%matplotlib inline\n",
    "from utils.data_cube_utilities.dc_rgb import rgb"
   ]
  },
  {
   "cell_type": "code",
   "execution_count": null,
   "metadata": {},
   "outputs": [],
   "source": [
    "# Baseline RGB\n",
    "\n",
    "rgb_dataset2 = xr.Dataset()\n",
    "min_ = np.min([\n",
    "    np.percentile(baseline_slice.hh,5),\n",
    "    np.percentile(baseline_slice.hv,5),\n",
    "])\n",
    "max_ = np.max([\n",
    "    np.percentile(baseline_slice.hh,95),\n",
    "    np.percentile(baseline_slice.hv,95),\n",
    "])\n",
    "rgb_dataset2['base.hh'] = baseline_slice.hh.clip(min_,max_)/40\n",
    "rgb_dataset2['base.hv'] = baseline_slice.hv.clip(min_,max_)/20\n",
    "rgb_dataset2['base.ratio'] = (baseline_slice.hh.clip(min_,max_)/baseline_slice.hv.clip(min_,max_))*75\n",
    "rgb(rgb_dataset2, bands=['base.hh','base.hv','base.ratio'], width=8)\n",
    "\n",
    "# Analysis RGB\n",
    "\n",
    "rgb_dataset2 = xr.Dataset()\n",
    "min_ = np.min([\n",
    "    np.percentile(analysis_slice.hh,5),\n",
    "    np.percentile(analysis_slice.hv,5),\n",
    "])\n",
    "max_ = np.max([\n",
    "    np.percentile(analysis_slice.hh,95),\n",
    "    np.percentile(analysis_slice.hv,95),\n",
    "])\n",
    "rgb_dataset2['base.hh'] = analysis_slice.hh.clip(min_,max_)/40\n",
    "rgb_dataset2['base.hv'] = analysis_slice.hv.clip(min_,max_)/20\n",
    "rgb_dataset2['base.ratio'] = (analysis_slice.hh.clip(min_,max_)/analysis_slice.hv.clip(min_,max_))*75\n",
    "rgb(rgb_dataset2, bands=['base.hh','base.hv','base.ratio'], width=8)"
   ]
  },
  {
   "cell_type": "markdown",
   "metadata": {},
   "source": [
    "## <a id=\"alos_land_change_hh_hv\"></a> Plot HH or HV Band for the Baseline and Analysis Periods [&#9652;](#alos_land_change_top)"
   ]
  },
  {
   "cell_type": "markdown",
   "metadata": {},
   "source": [
    "NOTE: The HV band is best for deforestation detection\n",
    "\n",
    "Typical radar analyses convert the backscatter values at the pixel level to dB scale.<br>\n",
    "The ALOS coversion (from JAXA) is: Backscatter dB = 20 * log10( backscatter intensity) - 83.0"
   ]
  },
  {
   "cell_type": "code",
   "execution_count": null,
   "metadata": {},
   "outputs": [],
   "source": [
    "# Plot the BASELINE and ANALYSIS slice side-by-side\n",
    "# Change the band (HH or HV) in the code below\n",
    "\n",
    "plt.figure(figsize = (15,6))\n",
    "\n",
    "plt.subplot(1,2,1)\n",
    "(20*np.log10(baseline_slice.hv)-83).plot(vmax=0, vmin=-30, cmap = \"Greys_r\")\n",
    "plt.subplot(1,2,2)\n",
    "(20*np.log10(analysis_slice.hv)-83).plot(vmax=0, vmin=-30, cmap = \"Greys_r\")"
   ]
  },
  {
   "cell_type": "markdown",
   "metadata": {},
   "source": [
    "## <a id=\"alos_land_change_custom_rgb\"></a> Plot a Custom RGB That Uses Bands from the Baseline and Analysis Periods [&#9652;](#alos_land_change_top)"
   ]
  },
  {
   "cell_type": "markdown",
   "metadata": {},
   "source": [
    "The RGB image below assigns RED to the baseline year HV band and GREEN+BLUE to the analysis year HV band<br>\n",
    "Vegetation loss appears in RED and regrowth in CYAN. Areas of no change appear in different shades of GRAY.<br>\n",
    "Users can change the RGB color assignments and bands (HH, HV) in the code below"
   ]
  },
  {
   "cell_type": "code",
   "execution_count": null,
   "metadata": {},
   "outputs": [],
   "source": [
    "# Clipping the bands uniformly to brighten the image\n",
    "rgb_dataset2 = xr.Dataset()\n",
    "min_ = np.min([\n",
    "    np.percentile(baseline_slice.hv,5),\n",
    "    np.percentile(analysis_slice.hv,5),\n",
    "])\n",
    "max_ = np.max([\n",
    "    np.percentile(baseline_slice.hv,95),\n",
    "    np.percentile(analysis_slice.hv,95),\n",
    "])\n",
    "rgb_dataset2['baseline_slice.hv'] = baseline_slice.hv.clip(min_,max_)\n",
    "rgb_dataset2['analysis_slice.hv'] = analysis_slice.hv.clip(min_,max_)\n",
    "\n",
    "# Plot the RGB with clipped HV band values\n",
    "rgb(rgb_dataset2, bands=['baseline_slice.hv','analysis_slice.hv','analysis_slice.hv'], width=8)"
   ]
  },
  {
   "cell_type": "markdown",
   "metadata": {},
   "source": [
    "**Select one of the plots below and adjust the threshold limits (top and bottom)**"
   ]
  },
  {
   "cell_type": "code",
   "execution_count": null,
   "metadata": {},
   "outputs": [],
   "source": [
    "plt.figure(figsize = (15,6))\n",
    "plt.subplot(1,2,1)\n",
    "baseline_slice.hv.plot (vmax=0, vmin=4000, cmap=\"Greys\")\n",
    "plt.subplot(1,2,2)\n",
    "analysis_slice.hv.plot (vmax=0, vmin=4000, cmap=\"Greys\")"
   ]
  },
  {
   "cell_type": "markdown",
   "metadata": {},
   "source": [
    "## <a id=\"alos_land_change_change_product\"></a> Plot a Change Product to Compare Two Time Periods (Epochs) [&#9652;](#alos_land_change_top)"
   ]
  },
  {
   "cell_type": "code",
   "execution_count": null,
   "metadata": {},
   "outputs": [],
   "source": [
    "from matplotlib.ticker import FuncFormatter\n",
    "\n",
    "def intersection_threshold_plot(first, second, th, mask = None, color_none=np.array([0,0,0]), \n",
    "                                color_first=np.array([0,255,0]), color_second=np.array([255,0,0]), \n",
    "                                color_both=np.array([255,255,255]), color_mask=np.array([127,127,127]), \n",
    "                                width = 10, *args, **kwargs):\n",
    "    \"\"\"\n",
    "    Given two dataarrays, create a threshold plot showing where zero, one, or both are within a threshold.\n",
    "    \n",
    "    Parameters\n",
    "    ----------\n",
    "    first, second: xarray.DataArray\n",
    "        The DataArrays to compare.\n",
    "    th: tuple\n",
    "        A 2-tuple of the minimum (inclusive) and maximum (exclusive) threshold values, respectively.\n",
    "    mask: numpy.ndarray\n",
    "        A NumPy array of the same shape as the dataarrays. The pixels for which it is `True` are colored `color_mask`.\n",
    "    color_none: list-like\n",
    "        A list-like of 3 elements - red, green, and blue values in range [0,255], used to color regions where neither\n",
    "        first nor second have values within the threshold. Default color is black.\n",
    "    color_first: list-like\n",
    "        A list-like of 3 elements - red, green, and blue values in range [0,255], used to color regions where only the first \n",
    "        has values within the threshold. Default color is green.\n",
    "    color_second: list-like\n",
    "        A list-like of 3 elements - red, green, and blue values in range [0,255], used to color regions where only the second\n",
    "        has values within the threshold. Default color is red.\n",
    "    color_both: list-like\n",
    "        A list-like of 3 elements - red, green, and blue values in range [0,255], used to color regions where both the\n",
    "        first and second have values within the threshold. Default color is white.\n",
    "    color_mask: list-like\n",
    "        A list-like of 3 elements - red, green, and blue values in range [0,255], used to color regions where `mask == True`.\n",
    "        Overrides any other color a region may have. Default color is gray.\n",
    "    width: int\n",
    "        The width of the created ``matplotlib.figure.Figure``.\n",
    "    *args: list\n",
    "        Arguments passed to ``matplotlib.pyplot.imshow()``.\n",
    "    **kwargs: dict\n",
    "        Keyword arguments passed to ``matplotlib.pyplot.imshow()``.\n",
    "    \"\"\"\n",
    "    mask  = np.zeros(first.shape).astype(bool) if mask is None else mask\n",
    "    \n",
    "    first_in = np.logical_and(th[0] <= first, first < th[1])\n",
    "    second_in = np.logical_and(th[0] <= second, second < th[1])\n",
    "    both_in = np.logical_and(first_in, second_in)\n",
    "    none_in = np.invert(both_in)\n",
    "    \n",
    "    # The colors for each pixel.\n",
    "    color_array = np.zeros((*first.shape, 3)).astype(np.int16)\n",
    "    \n",
    "    color_array[none_in] = color_none\n",
    "    color_array[first_in] =  color_first\n",
    "    color_array[second_in] = color_second\n",
    "    color_array[both_in] = color_both\n",
    "    color_array[mask] =  color_mask\n",
    "\n",
    "    def figure_ratio(ds, fixed_width = 10):\n",
    "        width = fixed_width\n",
    "        height = len(ds.latitude) * (fixed_width / len(ds.longitude))\n",
    "        return (width, height)\n",
    "\n",
    "    fig, ax = plt.subplots(figsize = figure_ratio(first,fixed_width = width))\n",
    "    \n",
    "    lat_formatter = FuncFormatter(lambda y_val, tick_pos: \"{0:.3f}\".format(first.latitude.values[tick_pos] ))\n",
    "    lon_formatter = FuncFormatter(lambda x_val, tick_pos: \"{0:.3f}\".format(first.longitude.values[tick_pos]))\n",
    "\n",
    "    ax.xaxis.set_major_formatter(lon_formatter)\n",
    "    ax.yaxis.set_major_formatter(lat_formatter)\n",
    "    \n",
    "    plt.title(\"Threshold: {} < x < {}\".format(th[0], th[1]))\n",
    "    plt.xlabel('Longitude')\n",
    "    plt.ylabel('Latitude')\n",
    "    \n",
    "    plt.imshow(color_array, *args, **kwargs)\n",
    "    plt.show()"
   ]
  },
  {
   "cell_type": "code",
   "execution_count": null,
   "metadata": {},
   "outputs": [],
   "source": [
    "change_product_band = 'hv'\n",
    "baseline_epoch = \"2007-07-02\"\n",
    "analysis_epoch = \"2017-07-02\"\n",
    "threshold_range = (0, 2000) # The minimum and maximum threshold values, respectively.\n",
    "\n",
    "baseline_ds = dataset.sel(time=baseline_epoch)[change_product_band].isel(time=0)\n",
    "analysis_ds = dataset.sel(time=analysis_epoch)[change_product_band].isel(time=0)\n",
    "\n",
    "anomaly = analysis_ds - baseline_ds"
   ]
  },
  {
   "cell_type": "code",
   "execution_count": null,
   "metadata": {},
   "outputs": [],
   "source": [
    "intersection_threshold_plot(baseline_ds, analysis_ds, threshold_range)"
   ]
  }
 ],
 "metadata": {
  "kernelspec": {
   "display_name": "Python 3",
   "language": "python",
   "name": "python3"
  },
  "language_info": {
   "codemirror_mode": {
    "name": "ipython",
    "version": 3
   },
   "file_extension": ".py",
   "mimetype": "text/x-python",
   "name": "python",
   "nbconvert_exporter": "python",
   "pygments_lexer": "ipython3",
   "version": "3.6.9"
  }
 },
 "nbformat": 4,
 "nbformat_minor": 4
}
