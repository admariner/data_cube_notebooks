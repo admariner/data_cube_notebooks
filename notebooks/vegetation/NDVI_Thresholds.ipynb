{
 "cells": [
  {
   "cell_type": "markdown",
   "metadata": {},
   "source": [
    "<a id=\"ndvi_thresholds_top\"></a>\n",
    "# NDVI Thresholds\n",
    "*****\n",
    "# Notebook Summary\n",
    "\n",
    "* LANDSAT 7 is used to detect changes in plant life both over time and between a baseline period and a target acquisition.\n",
    "* Very basic xarray manipulations are performed.\n",
    "* The data is cleaned of clouds and scanlines - both with and without creating mosaics (composite images).\n",
    "\n",
    "<hr>\n",
    "\n",
    "# Notebook Index\n",
    "\n",
    "* [Import Dependencies and Connect to the Data Cube](#ndvi_thresholds_import)\n",
    "* [Choose Platform and Product](#ndvi_thresholds_plat_prod)\n",
    "* [Get the Extents of the Cube](#ndvi_thresholds_extents)\n",
    "* [Define the Extents of the Analysis](#ndvi_thresholds_define_extents)\n",
    "* [Examine cleaned, time-series data](#ndvi_thresholds_time_series)\n",
    "  * [Retrieve the data from the datacube](#ndvi_thresholds_retrieve_data_time_series)\n",
    "  * [Mask unclean data](#ndvi_thresholds_obtain_clean_mask_time_series)\n",
    "  * [Filter out clouds and scan lines](#ndvi_thresholds_clean_mask_time_series)\n",
    "  * [Calculate NDVI](#ndvi_thresholds_calculate)\n",
    "  * [Chose an acquisition date for plotting a map of NDVI](#ndvi_thresholds_choose_acq_date)\n",
    "  * [Examine true and false color maps](#ndvi_thresholds_true_false_maps)\n",
    "  * [Plot NDVI with Thresholds](#ndvi_thresholds_plot_maps)\n",
    "  * [Plot NDVI statistics over time](#ndvi_thresholds_time_series_analysis)\n",
    "* [Examine cleaned, composited data](#ndvi_thresholds_composite)\n",
    "  * [Retrieve the data from the datacube](#ndvi_thresholds_retrieve_data_composite)\n",
    "  * [Mask unclean data](#ndvi_thresholds_obtain_clean_mask_composite)\n",
    "  * [Filter out clouds and scan lines, and create a mosaic](#ndvi_thresholds_clean_mask_composite)\n",
    "  * [Select a Target Date and Specify a Baseline For Comparison](#ndvi_thresholds_baseline)\n",
    "  * [Calulate the NDVI for the Baseline and Target Scene](#ndvi_thresholds_compare)\n",
    "  * [Plot the NDVI Anomalies](#ndvi_thresholds_plot)\n",
    "\n",
    "<hr>\n",
    "\n",
    "# How It Works\n",
    "\n",
    "To detect changes in plant life, we use a measure called NDVI. \n",
    "* <font color=green>NDVI</font> is the ratio of the difference between amount of near infrared light <font color=red>(NIR)</font> and red light <font color=red>(RED)</font> divided by their sum.\n",
    "<br>\n",
    "\n",
    "$$ NDVI =  \\frac{(NIR - RED)}{(NIR + RED)}$$  \n",
    "\n",
    "<br>\n",
    "<div class=\"alert-info\">\n",
    "The idea is to observe how much red light is being absorbed versus reflected. Photosynthetic plants absorb most of the visible spectrum's wavelengths when they are healthy.  When they aren't healthy, more of that light will get reflected.  This makes the difference between <font color=red>NIR</font> and <font color=red>RED</font> much smaller which will lower the <font color=green>NDVI</font>.  The resulting values from doing this over several pixels can be used to create visualizations for the changes in the amount of photosynthetic vegetation in large areas.\n",
    "</div>"
   ]
  },
  {
   "cell_type": "markdown",
   "metadata": {},
   "source": [
    "## <span id=\"ndvi_thresholds_import\">Import Dependencies and Connect to the Data Cube [&#9652;](#ndvi_thresholds_top)</span>"
   ]
  },
  {
   "cell_type": "code",
   "execution_count": null,
   "metadata": {
    "execution": {
     "iopub.execute_input": "2020-09-29T01:03:50.101756Z",
     "iopub.status.busy": "2020-09-29T01:03:50.101292Z",
     "iopub.status.idle": "2020-09-29T01:03:51.799507Z",
     "shell.execute_reply": "2020-09-29T01:03:51.798993Z"
    }
   },
   "outputs": [],
   "source": [
    "import sys\n",
    "import os\n",
    "sys.path.append(os.environ.get('NOTEBOOK_ROOT'))\n",
    "\n",
    "import numpy as np\n",
    "import pandas as pd\n",
    "import matplotlib.pyplot as plt\n",
    "import xarray as xr\n",
    "\n",
    "from dc_notebook_utilities import generate_metadata_report\n",
    "from utils.data_cube_utilities.dc_display_map import display_map\n",
    "from utils.data_cube_utilities.clean_mask import landsat_clean_mask_full\n",
    "from utils.data_cube_utilities.vegetation import NDVI\n",
    "from utils.data_cube_utilities.dc_rgb import rgb\n",
    "from utils.data_cube_utilities.plotter_utils import \\\n",
    "    create_discrete_color_map, xarray_time_series_plot, figure_ratio\n",
    "from utils.data_cube_utilities.dc_mosaic import create_mosaic, create_median_mosaic, \\\n",
    "                                                create_max_ndvi_mosaic, create_min_ndvi_mosaic\n",
    "\n",
    "from datacube.utils.aws import configure_s3_access\n",
    "configure_s3_access(requester_pays=True)\n",
    "\n",
    "import datacube\n",
    "from utils.data_cube_utilities.data_access_api import DataAccessApi\n",
    "api = DataAccessApi()\n",
    "dc = api.dc"
   ]
  },
  {
   "cell_type": "markdown",
   "metadata": {},
   "source": [
    "## <span id=\"ndvi_thresholds_plat_prod\">Choose Platform and Product [&#9652;](#ndvi_thresholds_top)</span>"
   ]
  },
  {
   "cell_type": "code",
   "execution_count": null,
   "metadata": {
    "execution": {
     "iopub.execute_input": "2020-09-29T01:03:51.807396Z",
     "iopub.status.busy": "2020-09-29T01:03:51.806913Z",
     "iopub.status.idle": "2020-09-29T01:03:51.833634Z",
     "shell.execute_reply": "2020-09-29T01:03:51.834059Z"
    }
   },
   "outputs": [],
   "source": [
    "# Get available products\n",
    "products = dc.list_products()\n",
    "# List LANDSAT 7 products\n",
    "print(products[[\"platform\", \"name\"]][products.platform == \"LANDSAT_7\"])"
   ]
  },
  {
   "cell_type": "code",
   "execution_count": null,
   "metadata": {
    "execution": {
     "iopub.execute_input": "2020-09-29T01:03:51.837194Z",
     "iopub.status.busy": "2020-09-29T01:03:51.836703Z",
     "iopub.status.idle": "2020-09-29T01:03:51.838424Z",
     "shell.execute_reply": "2020-09-29T01:03:51.838840Z"
    }
   },
   "outputs": [],
   "source": [
    "# These are the platform (satellite) and product (datacube set) \n",
    "# used for this demonstration.\n",
    "platform = 'LANDSAT_8'\n",
    "product = 'ls8_usgs_sr_scene'\n",
    "collection = 'c1'\n",
    "level = 'l2'"
   ]
  },
  {
   "cell_type": "markdown",
   "metadata": {},
   "source": [
    "The magnitudes of the different wavelengths of light can be quanitized and stored on a per pixel basis.  <font color=green>NDVI</font> only requires the use of <font color=red>NIR</font> and <font color=red>RED</font> light but there are many more wavelengths and some additional measures available.  One such additional measure is called <font color=darkblue>pixel_qa</font>.  This is a measure of the quality of the pixel for analysis. A breakdown of the values stored in <font color=darkblue>pixel_qa</font> are beyond the scope of this notebook but we encourage you to check our github for more information on the meaning behind the values stored within.\n",
    "![](diagrams/rainy_demo/ls7_xarray.png) "
   ]
  },
  {
   "cell_type": "markdown",
   "metadata": {},
   "source": [
    "## <span id=\"ndvi_thresholds_extents\">Get the Extents of the Cube [&#9652;](#ndvi_thresholds_top)</span>"
   ]
  },
  {
   "cell_type": "code",
   "execution_count": null,
   "metadata": {
    "execution": {
     "iopub.execute_input": "2020-09-29T01:03:51.843007Z",
     "iopub.status.busy": "2020-09-29T01:03:51.842477Z",
     "iopub.status.idle": "2020-09-29T01:03:59.783399Z",
     "shell.execute_reply": "2020-09-29T01:03:59.783869Z"
    }
   },
   "outputs": [],
   "source": [
    "# Get the extents of the cube.\n",
    "descriptor = api.get_query_metadata(platform=platform, product=product, measurements=[])\n",
    "\n",
    "# Store the latitudinal and longitudinal extents.\n",
    "lat, lon = products.resolution[products.platform == platform].any()"
   ]
  },
  {
   "cell_type": "code",
   "execution_count": null,
   "metadata": {
    "execution": {
     "iopub.execute_input": "2020-09-29T01:03:59.789929Z",
     "iopub.status.busy": "2020-09-29T01:03:59.789481Z",
     "iopub.status.idle": "2020-09-29T01:03:59.798319Z",
     "shell.execute_reply": "2020-09-29T01:03:59.798727Z"
    }
   },
   "outputs": [],
   "source": [
    "#save extents\n",
    "min_date, max_date = descriptor['time_extents']\n",
    "min_lat, max_lat = descriptor['lat_extents']\n",
    "min_lon, max_lon = descriptor['lon_extents']\n",
    "\n",
    "#Adjust date string\n",
    "min_date_str = str(min_date.year) + '-' + str(min_date.month) + '-' + str(min_date.day)\n",
    "max_date_str = str(max_date.year) + '-' + str(max_date.month) + '-' + str(max_date.day)\n",
    "\n",
    "#Round GPS coordinates to 3 decimal places\n",
    "min_lat_rounded, max_lat_rounded = (np.round(min_lat, 3), np.round(max_lat, 3))\n",
    "min_lon_rounded, max_lon_rounded = (np.round(min_lon, 3), np.round(max_lon, 3))\n",
    "\n",
    "#display the total area available in this datacube product that can be used for analysis\n",
    "display_map(latitude = (min_lat_rounded, max_lat_rounded),longitude = (min_lon_rounded, max_lon_rounded))"
   ]
  },
  {
   "cell_type": "code",
   "execution_count": null,
   "metadata": {
    "execution": {
     "iopub.execute_input": "2020-09-29T01:03:59.802243Z",
     "iopub.status.busy": "2020-09-29T01:03:59.801690Z",
     "iopub.status.idle": "2020-09-29T01:03:59.805618Z",
     "shell.execute_reply": "2020-09-29T01:03:59.805148Z"
    },
    "scrolled": true
   },
   "outputs": [],
   "source": [
    "# Display metadata.\n",
    "generate_metadata_report(min_date_str, max_date_str, \n",
    "                         min_lon_rounded, max_lon_rounded, lon,\n",
    "                         min_lat_rounded, max_lat_rounded, lat)"
   ]
  },
  {
   "cell_type": "markdown",
   "metadata": {},
   "source": [
    "## <span id=\"ndvi_thresholds_define_extents\">Define the Extents of the Analysis [&#9652;](#ndvi_thresholds_top)</span>"
   ]
  },
  {
   "cell_type": "code",
   "execution_count": null,
   "metadata": {
    "execution": {
     "iopub.execute_input": "2020-09-29T01:03:59.809800Z",
     "iopub.status.busy": "2020-09-29T01:03:59.809111Z",
     "iopub.status.idle": "2020-09-29T01:03:59.816707Z",
     "shell.execute_reply": "2020-09-29T01:03:59.817112Z"
    }
   },
   "outputs": [],
   "source": [
    "# Specify latitude and longitude bounds within the full extents \n",
    "# shown in the metadata report above (reduce area for faster processing times).\n",
    "# Kenya\n",
    "lon_small = (35.61, 35.6325) # Kenya - Lake Kamnarok (large)\n",
    "lat_small = (0.6, 0.6375) # Kenya - Lake Kamnarok (large)\n",
    "\n",
    "# Display the subset for analysis.\n",
    "display_map(latitude = lat_small, longitude = lon_small)"
   ]
  },
  {
   "cell_type": "markdown",
   "metadata": {},
   "source": [
    "# <span id=\"ndvi_thresholds_time_series\">Examine cleaned, time-series data [&#9652;](#ndvi_thresholds_top)</span>"
   ]
  },
  {
   "cell_type": "markdown",
   "metadata": {},
   "source": [
    "## <span id=\"ndvi_thresholds_retrieve_data_time_series\">Retrieve the data from the datacube [&#9652;](#ndvi_thresholds_top)</span>"
   ]
  },
  {
   "cell_type": "code",
   "execution_count": null,
   "metadata": {
    "execution": {
     "iopub.execute_input": "2020-09-29T01:03:59.821764Z",
     "iopub.status.busy": "2020-09-29T01:03:59.821061Z",
     "iopub.status.idle": "2020-09-29T01:04:01.909213Z",
     "shell.execute_reply": "2020-09-29T01:04:01.908665Z"
    }
   },
   "outputs": [],
   "source": [
    "# Select a date range to retrieve data for.\n",
    "time_extents = (\"2017-1-1\", \"2017-12-31\")\n",
    "\n",
    "landsat_dataset = dc.load(lat = lat_small,\n",
    "                          lon = lon_small,\n",
    "                          platform = platform,\n",
    "                          time = time_extents,\n",
    "                          product = product,\n",
    "                          measurements = ['red', 'green', 'blue', 'swir1', 'swir2', 'nir', 'pixel_qa'],\n",
    "                          group_by='solar_day',\n",
    "                          dask_chunks={'time':1, 'latitude':1000, 'longitude':1000}).persist()"
   ]
  },
  {
   "cell_type": "markdown",
   "metadata": {},
   "source": [
    "## <span id=\"ndvi_thresholds_obtain_clean_mask_time_series\">Mask unclean data [&#9652;](#ndvi_thresholds_top)</span>"
   ]
  },
  {
   "cell_type": "code",
   "execution_count": null,
   "metadata": {
    "execution": {
     "iopub.execute_input": "2020-09-29T01:04:01.914866Z",
     "iopub.status.busy": "2020-09-29T01:04:01.914430Z",
     "iopub.status.idle": "2020-09-29T01:04:01.945657Z",
     "shell.execute_reply": "2020-09-29T01:04:01.946114Z"
    }
   },
   "outputs": [],
   "source": [
    "# Get the clean mask for the LANDSAT satellite platform\n",
    "clean_mask = landsat_clean_mask_full(dc, landsat_dataset, product=product, platform=platform, \n",
    "                                     collection=collection, level=level).persist()"
   ]
  },
  {
   "cell_type": "code",
   "execution_count": null,
   "metadata": {
    "execution": {
     "iopub.execute_input": "2020-09-29T01:04:01.950949Z",
     "iopub.status.busy": "2020-09-29T01:04:01.950529Z",
     "iopub.status.idle": "2020-09-29T01:04:01.959859Z",
     "shell.execute_reply": "2020-09-29T01:04:01.960278Z"
    }
   },
   "outputs": [],
   "source": [
    "cleaned_landsat_dataset = landsat_dataset.where(clean_mask).persist()"
   ]
  },
  {
   "cell_type": "markdown",
   "metadata": {},
   "source": [
    "## <span id=\"ndvi_thresholds_clean_mask_time_series\">Filter out clouds and scan lines [&#9652;](#ndvi_thresholds_top)</span>"
   ]
  },
  {
   "cell_type": "code",
   "execution_count": null,
   "metadata": {
    "execution": {
     "iopub.execute_input": "2020-09-29T01:04:01.964380Z",
     "iopub.status.busy": "2020-09-29T01:04:01.963958Z",
     "iopub.status.idle": "2020-09-29T01:04:01.966053Z",
     "shell.execute_reply": "2020-09-29T01:04:01.966473Z"
    }
   },
   "outputs": [],
   "source": [
    "time_ind_to_show = 12"
   ]
  },
  {
   "cell_type": "markdown",
   "metadata": {},
   "source": [
    "**Before masking clouds and scan lines**"
   ]
  },
  {
   "cell_type": "code",
   "execution_count": null,
   "metadata": {
    "execution": {
     "iopub.execute_input": "2020-09-29T01:04:01.988600Z",
     "iopub.status.busy": "2020-09-29T01:04:01.984025Z",
     "iopub.status.idle": "2020-09-29T01:04:02.146355Z",
     "shell.execute_reply": "2020-09-29T01:04:02.146796Z"
    },
    "scrolled": false
   },
   "outputs": [],
   "source": [
    "std_figsize = figure_ratio(landsat_dataset, fixed_width=8)\n",
    "fig = plt.figure(figsize=std_figsize)\n",
    "plt.imshow(landsat_dataset.isel(time=time_ind_to_show).red, cmap='Reds')\n",
    "plt.title(f\"Red band after masking \"\\\n",
    "          f\"({np.datetime_as_string(landsat_dataset.time.values[time_ind_to_show], unit='D')})\")\n",
    "plt.show()"
   ]
  },
  {
   "cell_type": "markdown",
   "metadata": {},
   "source": [
    "**After masking clouds and scan lines**"
   ]
  },
  {
   "cell_type": "code",
   "execution_count": null,
   "metadata": {
    "execution": {
     "iopub.execute_input": "2020-09-29T01:04:02.165295Z",
     "iopub.status.busy": "2020-09-29T01:04:02.162682Z",
     "iopub.status.idle": "2020-09-29T01:04:02.318199Z",
     "shell.execute_reply": "2020-09-29T01:04:02.317745Z"
    }
   },
   "outputs": [],
   "source": [
    "fig = plt.figure(figsize=std_figsize)\n",
    "plt.imshow(cleaned_landsat_dataset.isel(time=time_ind_to_show).red, cmap='Reds')\n",
    "plt.title(f\"Red band after masking \"\\\n",
    "          f\"({np.datetime_as_string(landsat_dataset.time.values[time_ind_to_show], unit='D')})\")\n",
    "plt.show()"
   ]
  },
  {
   "cell_type": "markdown",
   "metadata": {},
   "source": [
    "## <span id='ndvi_thresholds_calculate'>Calculate NDVI [&#9652;](#ndvi_thresholds_top)</span>"
   ]
  },
  {
   "cell_type": "code",
   "execution_count": null,
   "metadata": {
    "execution": {
     "iopub.execute_input": "2020-09-29T01:04:02.322963Z",
     "iopub.status.busy": "2020-09-29T01:04:02.322258Z",
     "iopub.status.idle": "2020-09-29T01:04:02.328409Z",
     "shell.execute_reply": "2020-09-29T01:04:02.327982Z"
    }
   },
   "outputs": [],
   "source": [
    "ndvi_data_arr = NDVI(cleaned_landsat_dataset)\n",
    "ndvi = ndvi_data_arr.to_dataset(name='ndvi')"
   ]
  },
  {
   "cell_type": "markdown",
   "metadata": {},
   "source": [
    "## <span id='ndvi_thresholds_choose_acq_date'>Chose an acquisition date for plotting a map of NDVI [&#9652;](#ndvi_thresholds_top)</span>"
   ]
  },
  {
   "cell_type": "code",
   "execution_count": null,
   "metadata": {
    "execution": {
     "iopub.execute_input": "2020-09-29T01:04:02.335801Z",
     "iopub.status.busy": "2020-09-29T01:04:02.335347Z",
     "iopub.status.idle": "2020-09-29T01:04:02.337988Z",
     "shell.execute_reply": "2020-09-29T01:04:02.338397Z"
    }
   },
   "outputs": [],
   "source": [
    "acquisition_dates = np.array([np.datetime_as_string(time, unit='D') \n",
    "                              for time in cleaned_landsat_dataset.time])\n",
    "print(\"Acquisition Dates:\")\n",
    "print(acquisition_dates)"
   ]
  },
  {
   "cell_type": "code",
   "execution_count": null,
   "metadata": {
    "execution": {
     "iopub.execute_input": "2020-09-29T01:04:02.341703Z",
     "iopub.status.busy": "2020-09-29T01:04:02.341273Z",
     "iopub.status.idle": "2020-09-29T01:04:02.343451Z",
     "shell.execute_reply": "2020-09-29T01:04:02.343038Z"
    }
   },
   "outputs": [],
   "source": [
    "acquisition_date = '2017-04-23'\n",
    "acquisition_index = np.argmax(acquisition_dates == acquisition_date)\n",
    "if acquisition_index == 0 and acquisition_date != acquisition_dates[0]:\n",
    "    raise ValueError(\"Acquisition date '{}' is not in the list of acquisition dates above.\".format(acquisition_date))"
   ]
  },
  {
   "cell_type": "markdown",
   "metadata": {},
   "source": [
    "## <span id='ndvi_thresholds_true_false_maps'>Examine true and false color maps [&#9652;](#ndvi_thresholds_top)</span>"
   ]
  },
  {
   "cell_type": "code",
   "execution_count": null,
   "metadata": {
    "execution": {
     "iopub.execute_input": "2020-09-29T01:04:02.347910Z",
     "iopub.status.busy": "2020-09-29T01:04:02.347509Z",
     "iopub.status.idle": "2020-09-29T01:04:02.522312Z",
     "shell.execute_reply": "2020-09-29T01:04:02.522740Z"
    }
   },
   "outputs": [],
   "source": [
    "# True color plot\n",
    "fig = plt.figure(figsize=std_figsize)\n",
    "rgb(cleaned_landsat_dataset, time_index=acquisition_index, \n",
    "    bands=['red', 'green', 'blue'], fig=fig)\n",
    "plt.show()"
   ]
  },
  {
   "cell_type": "code",
   "execution_count": null,
   "metadata": {
    "execution": {
     "iopub.execute_input": "2020-09-29T01:04:02.527605Z",
     "iopub.status.busy": "2020-09-29T01:04:02.527194Z",
     "iopub.status.idle": "2020-09-29T01:04:02.700109Z",
     "shell.execute_reply": "2020-09-29T01:04:02.700536Z"
    }
   },
   "outputs": [],
   "source": [
    "# False color plot\n",
    "fig = plt.figure(figsize=std_figsize)\n",
    "rgb(cleaned_landsat_dataset, time_index=acquisition_index, \n",
    "    bands=['green', 'swir1', 'nir'], fig=fig)\n",
    "plt.show()"
   ]
  },
  {
   "cell_type": "markdown",
   "metadata": {},
   "source": [
    "## <span id=\"ndvi_thresholds_plot_maps\">Plot NDVI with Thresholds [&#9652;](#ndvi_thresholds_top)</span>"
   ]
  },
  {
   "cell_type": "code",
   "execution_count": null,
   "metadata": {
    "execution": {
     "iopub.execute_input": "2020-09-29T01:04:02.704650Z",
     "iopub.status.busy": "2020-09-29T01:04:02.704237Z",
     "iopub.status.idle": "2020-09-29T01:04:02.706118Z",
     "shell.execute_reply": "2020-09-29T01:04:02.706529Z"
    }
   },
   "outputs": [],
   "source": [
    "ndvi_plotting_data = ndvi.isel(time=acquisition_index)"
   ]
  },
  {
   "cell_type": "code",
   "execution_count": null,
   "metadata": {
    "execution": {
     "iopub.execute_input": "2020-09-29T01:04:02.724683Z",
     "iopub.status.busy": "2020-09-29T01:04:02.719420Z",
     "iopub.status.idle": "2020-09-29T01:04:02.869078Z",
     "shell.execute_reply": "2020-09-29T01:04:02.869538Z"
    }
   },
   "outputs": [],
   "source": [
    "th = [-0.2, 0.2] # Color thresholds\n",
    "cmap = create_discrete_color_map(th=th, colors=['green', 'blue', 'red'], data_range=[-1,1])\n",
    "plt.figure(figsize=std_figsize)\n",
    "plt.imshow(ndvi_plotting_data.ndvi.values, cmap=cmap)\n",
    "plt.show()"
   ]
  },
  {
   "cell_type": "markdown",
   "metadata": {},
   "source": [
    "## <span id=\"ndvi_thresholds_time_series_analysis\">Plot NDVI statistics over time [&#9652;](#ndvi_thresholds_top)</span>"
   ]
  },
  {
   "cell_type": "code",
   "execution_count": null,
   "metadata": {
    "execution": {
     "iopub.execute_input": "2020-09-29T01:04:02.872989Z",
     "iopub.status.busy": "2020-09-29T01:04:02.872479Z",
     "iopub.status.idle": "2020-09-29T01:04:02.874584Z",
     "shell.execute_reply": "2020-09-29T01:04:02.874156Z"
    }
   },
   "outputs": [],
   "source": [
    "ndvi_dataset = ndvi_data_arr.to_dataset(name='NDVI')"
   ]
  },
  {
   "cell_type": "code",
   "execution_count": null,
   "metadata": {
    "execution": {
     "iopub.execute_input": "2020-09-29T01:04:02.877859Z",
     "iopub.status.busy": "2020-09-29T01:04:02.877432Z",
     "iopub.status.idle": "2020-09-29T01:04:03.081426Z",
     "shell.execute_reply": "2020-09-29T01:04:03.080951Z"
    }
   },
   "outputs": [],
   "source": [
    "xarray_time_series_plot(ndvi_dataset, {'NDVI':{'mean':[{'line':{}}]}},\n",
    "                        show_legend=False)\n",
    "plt.title(\"Mean NDVI\")\n",
    "plt.show()"
   ]
  },
  {
   "cell_type": "markdown",
   "metadata": {},
   "source": [
    "# <span id=\"ndvi_thresholds_composite\">Examine cleaned, composited data [&#9652;](#ndvi_thresholds_top)</span>"
   ]
  },
  {
   "cell_type": "markdown",
   "metadata": {},
   "source": [
    "## <span id=\"ndvi_thresholds_retrieve_data_composite\">Retrieve the data from the datacube [&#9652;](#ndvi_thresholds_top)</span>"
   ]
  },
  {
   "cell_type": "code",
   "execution_count": null,
   "metadata": {
    "execution": {
     "iopub.execute_input": "2020-09-29T01:04:03.086104Z",
     "iopub.status.busy": "2020-09-29T01:04:03.085400Z",
     "iopub.status.idle": "2020-09-29T01:04:03.775960Z",
     "shell.execute_reply": "2020-09-29T01:04:03.776474Z"
    }
   },
   "outputs": [],
   "source": [
    "landsat_dataset = dc.load(lat = lat_small,\n",
    "                          lon = lon_small,\n",
    "                          platform = platform,\n",
    "                          time = time_extents,\n",
    "                          product = product,\n",
    "                          measurements = ['red', 'nir', 'pixel_qa'],\n",
    "                          group_by='solar_day',\n",
    "                          dask_chunks={'time':5, 'latitude':1000, 'longitude':1000}).persist()"
   ]
  },
  {
   "cell_type": "markdown",
   "metadata": {},
   "source": [
    "## <span id=\"ndvi_thresholds_obtain_clean_mask_composite\">Mask unclean data [&#9652;](#ndvi_thresholds_top)</span>"
   ]
  },
  {
   "cell_type": "code",
   "execution_count": null,
   "metadata": {
    "execution": {
     "iopub.execute_input": "2020-09-29T01:04:03.781583Z",
     "iopub.status.busy": "2020-09-29T01:04:03.781132Z",
     "iopub.status.idle": "2020-09-29T01:04:03.797002Z",
     "shell.execute_reply": "2020-09-29T01:04:03.797426Z"
    }
   },
   "outputs": [],
   "source": [
    "# Get the clean mask for the LANDSAT satellite platform.\n",
    "# clean_mask = (landsat_qa_clean_mask(landsat_dataset, platform=platform) & \\\n",
    "#              (landsat_dataset != -9999).to_array().any('variable') & \\\n",
    "#              landsat_clean_mask_invalid(landsat_dataset))\n",
    "clean_mask = landsat_clean_mask_full(dc, landsat_dataset, product=product, platform=platform, \n",
    "                                     collection=collection, level=level).persist()"
   ]
  },
  {
   "cell_type": "code",
   "execution_count": null,
   "metadata": {
    "execution": {
     "iopub.execute_input": "2020-09-29T01:04:03.802443Z",
     "iopub.status.busy": "2020-09-29T01:04:03.801753Z",
     "iopub.status.idle": "2020-09-29T01:04:03.805479Z",
     "shell.execute_reply": "2020-09-29T01:04:03.806073Z"
    }
   },
   "outputs": [],
   "source": [
    "landsat_dataset = landsat_dataset.where(clean_mask).persist()"
   ]
  },
  {
   "cell_type": "markdown",
   "metadata": {},
   "source": [
    "## <span id=\"ndvi_thresholds_clean_mask_composite\">Filter out clouds and scan lines, and create a mosaic [&#9652;](#ndvi_thresholds_top)</span>"
   ]
  },
  {
   "cell_type": "code",
   "execution_count": null,
   "metadata": {
    "execution": {
     "iopub.execute_input": "2020-09-29T01:04:03.809664Z",
     "iopub.status.busy": "2020-09-29T01:04:03.809048Z",
     "iopub.status.idle": "2020-09-29T01:04:03.817527Z",
     "shell.execute_reply": "2020-09-29T01:04:03.817068Z"
    }
   },
   "outputs": [],
   "source": [
    "landsat_composite = landsat_dataset.median('time').persist()"
   ]
  },
  {
   "cell_type": "markdown",
   "metadata": {},
   "source": [
    "## <span id=\"ndvi_thresholds_baseline\">Select a Target Date and Specify a Baseline For Comparison [&#9652;](#ndvi_thresholds_top)</span>"
   ]
  },
  {
   "cell_type": "code",
   "execution_count": null,
   "metadata": {
    "execution": {
     "iopub.execute_input": "2020-09-29T01:04:03.826291Z",
     "iopub.status.busy": "2020-09-29T01:04:03.823648Z",
     "iopub.status.idle": "2020-09-29T01:04:03.831631Z",
     "shell.execute_reply": "2020-09-29T01:04:03.831986Z"
    },
    "scrolled": true
   },
   "outputs": [],
   "source": [
    "# Get a list of available image aquisition dates.\n",
    "acquisitions_list = landsat_dataset.time.values\n",
    "print(\"There are {} acquisitions to choose from:\".format(len(acquisitions_list)))\n",
    "for index, acquisition in enumerate(acquisitions_list):\n",
    "    print(\"Index: {}, Acquisition: {}\".format(index, pd.to_datetime(str(acquisition)).strftime('%Y-%m-%d')))"
   ]
  },
  {
   "cell_type": "code",
   "execution_count": null,
   "metadata": {
    "execution": {
     "iopub.execute_input": "2020-09-29T01:04:03.840436Z",
     "iopub.status.busy": "2020-09-29T01:04:03.839738Z",
     "iopub.status.idle": "2020-09-29T01:04:03.843017Z",
     "shell.execute_reply": "2020-09-29T01:04:03.842312Z"
    }
   },
   "outputs": [],
   "source": [
    "# Select a scene to check for anomalies (one of the acquisition dates shown above).\n",
    "acquisition_index = 6 # Check for anomalies on 2018-02-21. (Kenya - Lake Kamnarok)\n",
    "\n",
    "scene_sel_datetime = acquisitions_list[acquisition_index]\n",
    "print(\"Date selected to check for anomalies: \", scene_sel_datetime)\n",
    "\n",
    "# Select scenes to form a baseline (must be a list of two elements - the start and end indices).\n",
    "baseline_date_indices = list(range(0,len(acquisitions_list))) # Use the full time range as the baseline (Kenya - Lake Kamnarok)\n",
    "\n",
    "baseline_datetimes = np.array([pd.to_datetime(str(date)) for date in acquisitions_list[baseline_date_indices]])\n",
    "print(\"First and last dates selected for baseline: \", [np64.strftime('%Y-%m-%d') for np64 in baseline_datetimes[[0,-1]]])\n",
    "\n",
    "# Create a dictionary of the different mosaic method options.\n",
    "mosaic_methods = {'Most Recent':create_mosaic, 'Least Recent':create_mosaic,'Median':create_median_mosaic,\n",
    "                  'Max NDVI':create_max_ndvi_mosaic, 'Min NDVI':create_min_ndvi_mosaic}\n",
    "\n",
    "# Select a mosaic method for the baseline.\n",
    "# (One of ['Most Recent','Least Recent','Median','Max NDVI','Min NDVI']).\n",
    "mosaic_method_label = 'Max NDVI'\n",
    "\n",
    "mosaic_method = mosaic_methods[mosaic_method_label]\n",
    "print(\"Selected mosaic method: \", mosaic_method_label)\n",
    "\n",
    "# Select a percentage threshold for anomalies.\n",
    "threshold_percent = 0.60\n",
    "print(\"Threshold percentage selected for anomalies: {}%\".format(threshold_percent*100))"
   ]
  },
  {
   "cell_type": "code",
   "execution_count": null,
   "metadata": {
    "execution": {
     "iopub.execute_input": "2020-09-29T01:04:03.847234Z",
     "iopub.status.busy": "2020-09-29T01:04:03.846558Z",
     "iopub.status.idle": "2020-09-29T01:04:04.002850Z",
     "shell.execute_reply": "2020-09-29T01:04:04.003304Z"
    }
   },
   "outputs": [],
   "source": [
    "baseline_mosaic = mosaic_method(landsat_dataset.sel(time=baseline_datetimes), \n",
    "                                clean_mask=clean_mask.sel(time=baseline_datetimes))"
   ]
  },
  {
   "cell_type": "markdown",
   "metadata": {},
   "source": [
    "## <span id=\"ndvi_thresholds_compare\">Calulate the NDVI for the Baseline and Target Scene [&#9652;](#ndvi_thresholds_top)</span>"
   ]
  },
  {
   "cell_type": "code",
   "execution_count": null,
   "metadata": {
    "execution": {
     "iopub.execute_input": "2020-09-29T01:04:04.010045Z",
     "iopub.status.busy": "2020-09-29T01:04:04.008057Z",
     "iopub.status.idle": "2020-09-29T01:04:04.016291Z",
     "shell.execute_reply": "2020-09-29T01:04:04.015858Z"
    }
   },
   "outputs": [],
   "source": [
    "# Calculate the NDVI baseline values\n",
    "ndvi_baseline = NDVI(baseline_mosaic)\n",
    "\n",
    "# Calculate the NDVI values in the target scene\n",
    "ndvi_scene = NDVI(landsat_dataset.sel(time=scene_sel_datetime))\n",
    "\n",
    "# Determine the percentage change\n",
    "percentage_change = abs((ndvi_baseline - ndvi_scene) / (ndvi_baseline+sys.float_info.epsilon))"
   ]
  },
  {
   "cell_type": "markdown",
   "metadata": {},
   "source": [
    "## <span id=\"ndvi_thresholds_plot\">Plot the NDVI Anomalies [&#9652;](#ndvi_thresholds_top)</span>"
   ]
  },
  {
   "cell_type": "code",
   "execution_count": null,
   "metadata": {
    "execution": {
     "iopub.execute_input": "2020-09-29T01:04:04.020717Z",
     "iopub.status.busy": "2020-09-29T01:04:04.020304Z",
     "iopub.status.idle": "2020-09-29T01:04:04.249399Z",
     "shell.execute_reply": "2020-09-29T01:04:04.249850Z"
    }
   },
   "outputs": [],
   "source": [
    "import matplotlib.pyplot as plt\n",
    "\n",
    "# Use a cutoff value\n",
    "anom = percentage_change > threshold_percent\n",
    "\n",
    "# Set plot size\n",
    "plt.figure(figsize = (15,12))\n",
    "anom.plot(cmap='seismic')\n",
    "plt.show()"
   ]
  },
  {
   "cell_type": "markdown",
   "metadata": {},
   "source": [
    "If you used the original values for everything up to this point, you can clearly see an NDVI anomaly. This indicates that there was a measurable difference in the amount of photosynthetic plants in the lake basin compared to the standard defined by the baseline composite image."
   ]
  },
  {
   "cell_type": "code",
   "execution_count": null,
   "metadata": {
    "execution": {
     "iopub.execute_input": "2020-09-29T01:04:04.254232Z",
     "iopub.status.busy": "2020-09-29T01:04:04.253551Z",
     "iopub.status.idle": "2020-09-29T01:04:04.261926Z",
     "shell.execute_reply": "2020-09-29T01:04:04.261450Z"
    }
   },
   "outputs": [],
   "source": [
    "display_map(latitude = lat_small,longitude = lon_small)"
   ]
  }
 ],
 "metadata": {
  "kernelspec": {
   "display_name": "Python 3",
   "language": "python",
   "name": "python3"
  },
  "language_info": {
   "codemirror_mode": {
    "name": "ipython",
    "version": 3
   },
   "file_extension": ".py",
   "mimetype": "text/x-python",
   "name": "python",
   "nbconvert_exporter": "python",
   "pygments_lexer": "ipython3",
   "version": "3.6.9"
  }
 },
 "nbformat": 4,
 "nbformat_minor": 4
}
