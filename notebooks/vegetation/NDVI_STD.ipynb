{
 "cells": [
  {
   "cell_type": "markdown",
   "metadata": {},
   "source": [
    "<a id=\"ndvi_std_top\"></a>\n",
    "# NDVI STD\n",
    "\n",
    "Deviations from an established average z-score. \n",
    "\n",
    "<hr>  \n",
    "  \n",
    "# Notebook Summary\n",
    "\n",
    "* A baseline for each month is determined by measuring NDVI over a set time\n",
    "* The data cube is used to visualize at NDVI anomalies over time.\n",
    "* Anomalous times are further explored and visualization solutions are proposed.\n",
    "\n",
    "<hr>  \n",
    "\n",
    "# Index  \n",
    "\n",
    "* [Import Dependencies and Connect to the Data Cube](#ndvi_std_import)\n",
    "* [Choose Platform and Product](#ndvi_std_plat_prod)\n",
    "* [Get the Extents of the Cube](#ndvi_std_extents)\n",
    "* [Define the Extents of the Analysis](#ndvi_std_define_extents)\n",
    "* [Load Data from the Data Cube](#ndvi_std_load_data)\n",
    "* [Create and Use a Clean Mask](#ndvi_std_clean_mask)\n",
    "* [Calculate the NDVI](#ndvi_std_calculate)\n",
    "* [Convert the Xarray to a Dataframe](#ndvi_std_pandas)\n",
    "* [Define a Function to Visualize Values Over the Region](#ndvi_std_visualization_function)\n",
    "* [Visualize the Baseline Average NDVI by Month](#ndvi_std_baseline_mean_ndvi)\n",
    "* [Visualize the Baseline Distributions Binned by Month](#ndvi_std_boxplot_analysis)\n",
    "* [Visualize the Baseline Kernel Distributions Binned by Month](#ndvi_std_violinplot_analysis)\n",
    "* [Plot Z-Scores by Month and Year](#ndvi_std_pixelplot_analysis)\n",
    "* [Further Examine Times Of Interest](#ndvi_std_heatmap_analysis)\n",
    "\n",
    "<hr>  \n",
    "\n",
    "# How It Works\n",
    "\n",
    "To detect changes in plant life, we use a measure called NDVI. \n",
    "* <font color=green>NDVI</font> is the ratio of the difference between amount of near infrared light <font color=red>(NIR)</font> and red light <font color=red>(RED)</font> divided by their sum.\n",
    "<br>\n",
    "\n",
    "$$ NDVI =  \\frac{(NIR - RED)}{(NIR + RED)}$$  \n",
    "\n",
    "<br>\n",
    "<div class=\"alert-info\">\n",
    "The idea is to observe how much red light is being absorbed versus reflected. Photosynthetic plants absorb most of the visible spectrum's wavelengths when they are healthy.  When they aren't healthy, more of that light will get reflected.  This makes the difference between <font color=red>NIR</font> and <font color=red>RED</font> much smaller which will lower the <font color=green>NDVI</font>.  The resulting values from doing this over several pixels can be used to create visualizations for the changes in the amount of photosynthetic vegetation in large areas.\n",
    "</div>"
   ]
  },
  {
   "cell_type": "markdown",
   "metadata": {},
   "source": [
    "## <span id=\"ndvi_std_import\">Import Dependencies and Connect to the Data Cube [&#9652;](#ndvi_std_top) </span>  "
   ]
  },
  {
   "cell_type": "code",
   "execution_count": null,
   "metadata": {
    "execution": {
     "iopub.execute_input": "2020-09-29T01:02:45.354127Z",
     "iopub.status.busy": "2020-09-29T01:02:45.353683Z",
     "iopub.status.idle": "2020-09-29T01:02:47.311431Z",
     "shell.execute_reply": "2020-09-29T01:02:47.311898Z"
    }
   },
   "outputs": [],
   "source": [
    "import sys\n",
    "import os\n",
    "sys.path.append(os.environ.get('NOTEBOOK_ROOT'))\n",
    "\n",
    "import time\n",
    "\n",
    "import numpy as np\n",
    "import pandas as pd\n",
    "import matplotlib.pyplot as plt\n",
    "import matplotlib as mpl\n",
    "from matplotlib.ticker import FuncFormatter\n",
    "import seaborn as sns\n",
    "\n",
    "from utils.data_cube_utilities.dc_load import get_product_extents\n",
    "from utils.data_cube_utilities.dc_display_map import display_map\n",
    "from utils.data_cube_utilities.clean_mask import landsat_clean_mask_full\n",
    "\n",
    "from datacube.utils.aws import configure_s3_access\n",
    "configure_s3_access(requester_pays=True)\n",
    "\n",
    "import datacube\n",
    "from utils.data_cube_utilities.data_access_api import DataAccessApi\n",
    "api = DataAccessApi()\n",
    "dc = api.dc"
   ]
  },
  {
   "cell_type": "markdown",
   "metadata": {},
   "source": [
    "## <span id=\"ndvi_std_plat_prod\">Choose Platform and Product [&#9652;](#ndvi_std_top)</span>"
   ]
  },
  {
   "cell_type": "code",
   "execution_count": null,
   "metadata": {
    "execution": {
     "iopub.execute_input": "2020-09-29T01:02:47.319269Z",
     "iopub.status.busy": "2020-09-29T01:02:47.318730Z",
     "iopub.status.idle": "2020-09-29T01:02:47.320497Z",
     "shell.execute_reply": "2020-09-29T01:02:47.320837Z"
    }
   },
   "outputs": [],
   "source": [
    "# Change the data platform and data cube here\n",
    "\n",
    "product = 'ls7_usgs_sr_scene'\n",
    "platform = 'LANDSAT_7'\n",
    "collection = 'c1'\n",
    "level = 'l2'\n",
    "\n",
    "# product = 'ls8_usgs_sr_scene'\n",
    "# platform = 'LANDSAT_8'\n",
    "# collection = 'c1'\n",
    "# level = 'l2'"
   ]
  },
  {
   "cell_type": "markdown",
   "metadata": {},
   "source": [
    "## <span id=\"ndvi_std_extents\">Get the Extents of the Cube [&#9652;](#ndvi_std_top)</span>"
   ]
  },
  {
   "cell_type": "code",
   "execution_count": null,
   "metadata": {
    "execution": {
     "iopub.execute_input": "2020-09-29T01:02:47.333816Z",
     "iopub.status.busy": "2020-09-29T01:02:47.333061Z",
     "iopub.status.idle": "2020-09-29T01:03:05.282958Z",
     "shell.execute_reply": "2020-09-29T01:03:05.282499Z"
    }
   },
   "outputs": [],
   "source": [
    "full_lat, full_lon, min_max_dates = get_product_extents(api, platform, product)\n",
    "\n",
    "print(\"{}:\".format(platform))\n",
    "print(\"Lat bounds:\", full_lat)\n",
    "print(\"Lon bounds:\", full_lon)\n",
    "print(\"Time bounds:\", min_max_dates)"
   ]
  },
  {
   "cell_type": "markdown",
   "metadata": {},
   "source": [
    "## <span id=\"ndvi_std_define_extents\">Define the Extents of the Analysis [&#9652;](#ndvi_std_top)</span>"
   ]
  },
  {
   "cell_type": "code",
   "execution_count": null,
   "metadata": {
    "execution": {
     "iopub.execute_input": "2020-09-29T01:03:05.286807Z",
     "iopub.status.busy": "2020-09-29T01:03:05.286390Z",
     "iopub.status.idle": "2020-09-29T01:03:05.295156Z",
     "shell.execute_reply": "2020-09-29T01:03:05.295489Z"
    }
   },
   "outputs": [],
   "source": [
    "display_map(full_lat, full_lon)"
   ]
  },
  {
   "cell_type": "code",
   "execution_count": null,
   "metadata": {
    "execution": {
     "iopub.execute_input": "2020-09-29T01:03:05.298653Z",
     "iopub.status.busy": "2020-09-29T01:03:05.298186Z",
     "iopub.status.idle": "2020-09-29T01:03:05.299863Z",
     "shell.execute_reply": "2020-09-29T01:03:05.300291Z"
    }
   },
   "outputs": [],
   "source": [
    "params = {'latitude': (0.55, 0.6),\n",
    " 'longitude': (35.55, 35.5),\n",
    " 'time': ( '2005-01-01', '2010-12-31')}"
   ]
  },
  {
   "cell_type": "code",
   "execution_count": null,
   "metadata": {
    "execution": {
     "iopub.execute_input": "2020-09-29T01:03:05.303734Z",
     "iopub.status.busy": "2020-09-29T01:03:05.303325Z",
     "iopub.status.idle": "2020-09-29T01:03:05.310951Z",
     "shell.execute_reply": "2020-09-29T01:03:05.311369Z"
    }
   },
   "outputs": [],
   "source": [
    "display_map(params[\"latitude\"], params[\"longitude\"])"
   ]
  },
  {
   "cell_type": "markdown",
   "metadata": {},
   "source": [
    "## <span id=\"ndvi_std_load_data\">Load Data from the Data Cube [&#9652;](#ndvi_std_top)</span>"
   ]
  },
  {
   "cell_type": "code",
   "execution_count": null,
   "metadata": {
    "execution": {
     "iopub.execute_input": "2020-09-29T01:03:05.315576Z",
     "iopub.status.busy": "2020-09-29T01:03:05.314919Z",
     "iopub.status.idle": "2020-09-29T01:03:13.169946Z",
     "shell.execute_reply": "2020-09-29T01:03:13.169451Z"
    },
    "scrolled": false
   },
   "outputs": [],
   "source": [
    "dataset = dc.load(**params,\n",
    "                  platform = platform,\n",
    "                  product = product,\n",
    "                  measurements = ['red', 'green', 'blue', 'swir1', 'swir2', 'nir', 'pixel_qa'],\n",
    "                  dask_chunks={'time':1, 'latitude':1000, 'longitude':1000}).persist()\n",
    "dataset"
   ]
  },
  {
   "cell_type": "markdown",
   "metadata": {},
   "source": [
    "## <span id=\"ndvi_std_clean_mask\">Create and Use a Clean Mask [&#9652;](#ndvi_std_top)</span>"
   ]
  },
  {
   "cell_type": "code",
   "execution_count": null,
   "metadata": {
    "execution": {
     "iopub.execute_input": "2020-09-29T01:03:13.174083Z",
     "iopub.status.busy": "2020-09-29T01:03:13.173384Z",
     "iopub.status.idle": "2020-09-29T01:03:13.301133Z",
     "shell.execute_reply": "2020-09-29T01:03:13.300574Z"
    }
   },
   "outputs": [],
   "source": [
    "# Make a clean mask to remove clouds and scanlines.\n",
    "clean_mask = landsat_clean_mask_full(dc, dataset, product=product, platform=platform, \n",
    "                                     collection=collection, level=level)\n",
    "\n",
    "\n",
    "# Filter the scenes with that clean mask\n",
    "dataset = dataset.where(clean_mask)"
   ]
  },
  {
   "cell_type": "markdown",
   "metadata": {},
   "source": [
    "## <span id=\"ndvi_std_calculate\">Calculate the NDVI [&#9652;](#ndvi_std_top)</span>"
   ]
  },
  {
   "cell_type": "code",
   "execution_count": null,
   "metadata": {
    "execution": {
     "iopub.execute_input": "2020-09-29T01:03:13.305465Z",
     "iopub.status.busy": "2020-09-29T01:03:13.305033Z",
     "iopub.status.idle": "2020-09-29T01:03:13.335525Z",
     "shell.execute_reply": "2020-09-29T01:03:13.335055Z"
    }
   },
   "outputs": [],
   "source": [
    "#Calculate NDVI\n",
    "ndvi = (dataset.nir - dataset.red)/(dataset.nir + dataset.red)"
   ]
  },
  {
   "cell_type": "markdown",
   "metadata": {},
   "source": [
    "## <span id=\"ndvi_std_pandas\">Convert the Xarray to a Dataframe [&#9652;](#ndvi_std_top)</span>"
   ]
  },
  {
   "cell_type": "code",
   "execution_count": null,
   "metadata": {
    "execution": {
     "iopub.execute_input": "2020-09-29T01:03:13.349656Z",
     "iopub.status.busy": "2020-09-29T01:03:13.340364Z",
     "iopub.status.idle": "2020-09-29T01:03:14.062195Z",
     "shell.execute_reply": "2020-09-29T01:03:14.061730Z"
    }
   },
   "outputs": [],
   "source": [
    "#Cast to pandas dataframe\n",
    "df = ndvi.to_dataframe(\"NDVI\")\n",
    "\n",
    "#flatten the dimensions since it is a compound hierarchical dataframe\n",
    "df = df.stack().reset_index()\n",
    "\n",
    "#Drop the junk column that was generated for NDVI\n",
    "df = df.drop([\"level_3\"], axis=1)\n",
    "\n",
    "#Preview first 5 rows to make sure everything looks as it should\n",
    "df.head()"
   ]
  },
  {
   "cell_type": "code",
   "execution_count": null,
   "metadata": {
    "execution": {
     "iopub.execute_input": "2020-09-29T01:03:14.066111Z",
     "iopub.status.busy": "2020-09-29T01:03:14.065675Z",
     "iopub.status.idle": "2020-09-29T01:03:16.110720Z",
     "shell.execute_reply": "2020-09-29T01:03:16.111142Z"
    }
   },
   "outputs": [],
   "source": [
    "#Rename the NDVI column to the appropriate name\n",
    "df = df.rename(index=str, columns={0: \"ndvi\"})\n",
    "\n",
    "#clamp NDVI between 0 and 1\n",
    "df.ndvi = df.ndvi.clip(lower=0)\n",
    "\n",
    "#Add columns for Month and Year for convenience\n",
    "df[\"Month\"] = df.time.dt.month\n",
    "df[\"Year\"] = df.time.dt.year\n",
    "\n",
    "#Preview changes\n",
    "df.head()"
   ]
  },
  {
   "cell_type": "markdown",
   "metadata": {},
   "source": [
    "## <span id=\"ndvi_std_visualization_function\">Define a Function to Visualize Values Over the Region [&#9652;](#ndvi_std_top)</span>"
   ]
  },
  {
   "cell_type": "code",
   "execution_count": null,
   "metadata": {
    "execution": {
     "iopub.execute_input": "2020-09-29T01:03:16.119574Z",
     "iopub.status.busy": "2020-09-29T01:03:16.119135Z",
     "iopub.status.idle": "2020-09-29T01:03:16.840839Z",
     "shell.execute_reply": "2020-09-29T01:03:16.840340Z"
    }
   },
   "outputs": [],
   "source": [
    "#Create a function for formatting our axes\n",
    "def format_axis(axis, digits = None, suffix = \"\"):\n",
    "    \n",
    "    #Get Labels\n",
    "    labels = axis.get_majorticklabels()\n",
    "    \n",
    "    #Exit if empty\n",
    "    if len(labels) == 0: return\n",
    "    \n",
    "    #Create formatting function\n",
    "    format_func = lambda x, pos: \"{0}{1}\".format(labels[pos]._text[:digits],suffix)\n",
    "    \n",
    "    #Use formatting function\n",
    "    axis.set_major_formatter(FuncFormatter(format_func))\n",
    "    \n",
    "\n",
    "#Create a function for examining the z-score and NDVI of the region graphically\n",
    "def examine(month = list(df[\"time\"].dt.month.unique()), year = list(df[\"time\"].dt.year.unique()), value_name = \"z_score\"):\n",
    "    \n",
    "    #This allows the user to pass single floats as values as well\n",
    "    if type(month) is not list: month = [month]\n",
    "    if type(year) is not list: year = [year]\n",
    "          \n",
    "    #pivoting the table to the appropriate layout\n",
    "    piv = pd.pivot_table(df[df[\"time\"].dt.year.isin(year) & df[\"time\"].dt.month.isin(month)],\n",
    "                         values=value_name,index=[\"latitude\"], columns=[\"longitude\"])\n",
    "   \n",
    "    #Sizing\n",
    "    plt.rcParams[\"figure.figsize\"] = [11,11]\n",
    "    \n",
    "    #Plot pivot table as heatmap using seaborn\n",
    "    val_range = (-1.96,1.96) if value_name is \"z_score\" else (df[value_name].unique().min(),df[value_name].unique().max())\n",
    "    ax = sns.heatmap(piv, square=False, cmap=\"RdYlGn\",vmin=val_range[0],vmax=val_range[1], center=0)\n",
    "\n",
    "    #Formatting        \n",
    "    format_axis(ax.yaxis, 6)\n",
    "    format_axis(ax.xaxis, 7) \n",
    "    plt.setp(ax.xaxis.get_majorticklabels(), rotation=90 )\n",
    "    plt.gca().invert_yaxis()"
   ]
  },
  {
   "cell_type": "markdown",
   "metadata": {},
   "source": [
    "Lets examine the average <font color=green>NDVI</font> across all months and years to get a look at the region"
   ]
  },
  {
   "cell_type": "code",
   "execution_count": null,
   "metadata": {
    "execution": {
     "iopub.execute_input": "2020-09-29T01:03:16.844017Z",
     "iopub.status.busy": "2020-09-29T01:03:16.843592Z",
     "iopub.status.idle": "2020-09-29T01:03:19.593387Z",
     "shell.execute_reply": "2020-09-29T01:03:19.593862Z"
    }
   },
   "outputs": [],
   "source": [
    "#It defaults to binning the entire range of months and years so we can just leave those parameters out\n",
    "examine(value_name=\"ndvi\")"
   ]
  },
  {
   "cell_type": "markdown",
   "metadata": {},
   "source": [
    "This gives us an idea of the healthier areas of the region before we start looking at specific months and years."
   ]
  },
  {
   "cell_type": "markdown",
   "metadata": {},
   "source": [
    "## <span id=\"ndvi_std_baseline_mean_ndvi\">Visualize the Baseline Average NDVI by Month [&#9652;](#ndvi_std_top)</span>"
   ]
  },
  {
   "cell_type": "code",
   "execution_count": null,
   "metadata": {
    "execution": {
     "iopub.execute_input": "2020-09-29T01:03:19.821431Z",
     "iopub.status.busy": "2020-09-29T01:03:19.599302Z",
     "iopub.status.idle": "2020-09-29T01:03:21.321972Z",
     "shell.execute_reply": "2020-09-29T01:03:21.321533Z"
    }
   },
   "outputs": [],
   "source": [
    "#Make labels for convenience\n",
    "labels = [\"Jan\", \"Feb\", \"Mar\", \"Apr\", \"May\", \"Jun\", \"Jul\", \"Aug\", \"Sep\", \"Oct\", \"Nov\", \"Dec\"]\n",
    "\n",
    "#Initialize an empty pandas Series\n",
    "df[\"z_score\"] = pd.Series()\n",
    "\n",
    "#declare list for population\n",
    "binned_data = list()\n",
    "\n",
    "#Calculate monthly binned z-scores from the composited monthly NDVI mean and store them\n",
    "for i in range(12):\n",
    "    \n",
    "    #grab z_score and NDVI for the appropriate month\n",
    "    temp  = df[[\"z_score\", \"ndvi\"]][df[\"Month\"] == i+1]\n",
    "    \n",
    "    #populate z_score\n",
    "    df.loc[df[\"Month\"] == i+1,\"z_score\"] = (temp[\"ndvi\"] - temp[\"ndvi\"].mean())/temp[\"ndvi\"].std(ddof=0)\n",
    "    \n",
    "    #print the month next to its mean NDVI and standard deviation\n",
    "    binned_data.append((labels[i], temp[\"ndvi\"].mean(), temp[\"ndvi\"].std()))\n",
    "\n",
    "#Create dataframe for binned values\n",
    "binned_data = pd.DataFrame.from_records(binned_data, columns=[\"Month\",\"Mean\", \"Std_Dev\"])\n",
    "    \n",
    "#print description for clarification\n",
    "print(\"Monthly Average NDVI over Baseline Period\")\n",
    "\n",
    "#display binned data\n",
    "binned_data"
   ]
  },
  {
   "cell_type": "markdown",
   "metadata": {},
   "source": [
    "## <span id=\"ndvi_std_boxplot_analysis\">Visualize the Baseline Distributions Binned by Month [&#9652;](#ndvi_std_top)</span>"
   ]
  },
  {
   "cell_type": "code",
   "execution_count": null,
   "metadata": {
    "execution": {
     "iopub.execute_input": "2020-09-29T01:03:21.327601Z",
     "iopub.status.busy": "2020-09-29T01:03:21.327120Z",
     "iopub.status.idle": "2020-09-29T01:03:22.119028Z",
     "shell.execute_reply": "2020-09-29T01:03:22.119457Z"
    }
   },
   "outputs": [],
   "source": [
    "#Set figure size to a larger size\n",
    "plt.rcParams[\"figure.figsize\"] = [16,9]\n",
    "\n",
    "#Create the boxplot\n",
    "df.boxplot(by=\"Month\",column=\"ndvi\")\n",
    "\n",
    "#Create the mean line\n",
    "plt.plot(binned_data.index+1, binned_data.Mean, 'r-')\n",
    "\n",
    "#Create the one standard deviation away lines\n",
    "plt.plot(binned_data.index+1, binned_data.Mean-binned_data.Std_Dev, 'b--')\n",
    "plt.plot(binned_data.index+1, binned_data.Mean+binned_data.Std_Dev, 'b--')\n",
    "\n",
    "#Create the two standard deviations away lines\n",
    "plt.plot(binned_data.index+1, binned_data.Mean-(2*binned_data.Std_Dev), 'g-.', alpha=.3)\n",
    "plt.plot(binned_data.index+1, binned_data.Mean+(2*binned_data.Std_Dev), 'g-.', alpha=.3)"
   ]
  },
  {
   "cell_type": "markdown",
   "metadata": {},
   "source": [
    "The plot above shows the distributions for each individual month over the baseline period.\n",
    "<br>\n",
    "- The <b><font color=red>red</font></b> line is the mean line which connects the <b><em>mean values</em></b> for each month.  \n",
    "    <br>\n",
    "- The dotted <b><font color=blue>blue</font></b> lines are exactly <b><em>one standard deviation away</em></b> from the mean and show where the NDVI values fall within 68% of the time, according to the Empirical Rule.  \n",
    "    <br>\n",
    "- The <b><font color=green>green</font></b> dotted lines are <b><em>two standard deviations away</em></b> from the mean and show where an estimated 95% of the NDVI values are contained for that month.\n",
    "<br>\n",
    "\n",
    "<div class=\"alert-info\"><font color=black> <em><b>NOTE: </b>You will notice a seasonal trend in the plot above.  If we had averaged the NDVI without binning, this trend data would be lost and we would end up comparing specific months to the average derived from all the months combined, instead of individually.</em></font>\n",
    "</div>"
   ]
  },
  {
   "cell_type": "markdown",
   "metadata": {},
   "source": [
    "## <span id=\"ndvi_std_violinplot_analysis\">Visualize the Baseline Kernel Distributions Binned by Month [&#9652;](#ndvi_std_top)</span>\n",
    "The violinplot has the advantage of allowing us to visualize kernel distributions but comes at a higher computational cost."
   ]
  },
  {
   "cell_type": "code",
   "execution_count": null,
   "metadata": {
    "execution": {
     "iopub.execute_input": "2020-09-29T01:03:22.123045Z",
     "iopub.status.busy": "2020-09-29T01:03:22.122635Z",
     "iopub.status.idle": "2020-09-29T01:03:34.581909Z",
     "shell.execute_reply": "2020-09-29T01:03:34.581351Z"
    }
   },
   "outputs": [],
   "source": [
    "sns.violinplot(x=df.Month, y=\"ndvi\", data=df)"
   ]
  },
  {
   "cell_type": "markdown",
   "metadata": {},
   "source": [
    "<hr>  \n",
    "\n",
    "## <span id=\"ndvi_std_pixelplot_analysis\">Plot Z-Scores by Month and Year [&#9652;](#ndvi_std_top)</span>"
   ]
  },
  {
   "cell_type": "markdown",
   "metadata": {},
   "source": [
    "### Pixel Plot Visualization"
   ]
  },
  {
   "cell_type": "code",
   "execution_count": null,
   "metadata": {
    "execution": {
     "iopub.execute_input": "2020-09-29T01:03:34.632916Z",
     "iopub.status.busy": "2020-09-29T01:03:34.632057Z",
     "iopub.status.idle": "2020-09-29T01:03:35.390460Z",
     "shell.execute_reply": "2020-09-29T01:03:35.390894Z"
    }
   },
   "outputs": [],
   "source": [
    "#Create heatmap layout from dataframe\n",
    "img = pd.pivot_table(df, values=\"z_score\",index=[\"Month\"], columns=[\"Year\"], fill_value=None)\n",
    "\n",
    "#pass the layout to seaborn heatmap\n",
    "ax = sns.heatmap(img, cmap=\"RdYlGn\", annot=True, fmt=\"f\", center = 0)\n",
    "\n",
    "#set the title for Aesthetics\n",
    "ax.set_title('Z-Score\\n Regional Selection Averages by Month and Year')\n",
    "ax.fill= None"
   ]
  },
  {
   "cell_type": "markdown",
   "metadata": {},
   "source": [
    "Each block in the visualization above is representative of the deviation from the average for the region selected in a specific month and year.  The omitted blocks are times when there was no satellite imagery available.  Their values must either be inferred, ignored, or interpolated.\n",
    "\n",
    "You may notice long vertical strips of red.  These are strong indications of drought since they deviate from the baseline consistently over a long period of time. "
   ]
  },
  {
   "cell_type": "markdown",
   "metadata": {},
   "source": [
    "## <span id=\"ndvi_std_heatmap_analysis\">Further Examine Times Of Interest [&#9652;](#ndvi_std_top)</span>"
   ]
  },
  {
   "cell_type": "markdown",
   "metadata": {},
   "source": [
    "### Use the function we created to examine times of interest"
   ]
  },
  {
   "cell_type": "code",
   "execution_count": null,
   "metadata": {
    "execution": {
     "iopub.execute_input": "2020-09-29T01:03:35.394396Z",
     "iopub.status.busy": "2020-09-29T01:03:35.393988Z",
     "iopub.status.idle": "2020-09-29T01:03:37.247098Z",
     "shell.execute_reply": "2020-09-29T01:03:37.247541Z"
    }
   },
   "outputs": [],
   "source": [
    "#Lets look at that drought in 2009 during the months of Aug-Oct\n",
    "\n",
    "#This will generate a composite of the z-scores for the months and years selected\n",
    "examine(month = [8], year = 2009, value_name=\"z_score\")"
   ]
  },
  {
   "cell_type": "markdown",
   "metadata": {},
   "source": [
    "Note:\n",
    "This graphical representation of the region shows the amount of deviation from the mean for each pixel that was binned by month."
   ]
  },
  {
   "cell_type": "markdown",
   "metadata": {},
   "source": [
    "### Grid Layout of Selected Times"
   ]
  },
  {
   "cell_type": "code",
   "execution_count": null,
   "metadata": {
    "execution": {
     "iopub.execute_input": "2020-09-29T01:03:37.258076Z",
     "iopub.status.busy": "2020-09-29T01:03:37.254922Z",
     "iopub.status.idle": "2020-09-29T01:03:37.260076Z",
     "shell.execute_reply": "2020-09-29T01:03:37.259635Z"
    }
   },
   "outputs": [],
   "source": [
    "#Restrict input to a maximum of about 12 grids (months*year) for memory\n",
    "def grid_examine(month = None, year = None, value_name = \"z_score\"):\n",
    "    \n",
    "    #default to all months then cast to list, if not already\n",
    "    if month is None: month = list(df[\"Month\"].unique())\n",
    "    elif type(month) is int: month = [month]\n",
    "\n",
    "    #default to all years then cast to list, if not already\n",
    "    if year is None: year = list(df[\"Year\"].unique())\n",
    "    elif type(year) is int: year = [year]\n",
    "\n",
    "    #get data within the bounds specified\n",
    "    data = df[np.logical_and(df[\"Month\"].isin(month) , df[\"Year\"].isin(year))]\n",
    "    \n",
    "    #Set the val_range to be used as the vertical limit (vmin and vmax)\n",
    "    val_range = (-1.96,1.96) if value_name is \"z_score\" else (df[value_name].unique().min(),df[value_name].unique().max())\n",
    "    \n",
    "    #create colorbar to export and use on grid\n",
    "    Z = [[val_range[0],0],[0,val_range[1]]]\n",
    "    CS3 = plt.contourf(Z, 200, cmap=\"RdYlGn\")\n",
    "    plt.clf()    \n",
    "    \n",
    "    \n",
    "    #Define facet function to use for each tile in grid\n",
    "    def heatmap_facet(*args, **kwargs):\n",
    "        data = kwargs.pop('data')\n",
    "        img = pd.pivot_table(data, values=value_name,index=[\"latitude\"], columns=[\"longitude\"], fill_value=None)\n",
    "                \n",
    "        ax = sns.heatmap(img, cmap=\"RdYlGn\",vmin=val_range[0],vmax=val_range[1],\n",
    "                         center = 0, square=True, cbar=False, mask = img.isnull())\n",
    "\n",
    "        plt.setp(ax.xaxis.get_majorticklabels(), rotation=90 )\n",
    "        plt.gca().invert_yaxis()\n",
    "    \n",
    "    \n",
    "    #Create grid using the face function above\n",
    "    with sns.plotting_context(font_scale=5.5):\n",
    "        g = sns.FacetGrid(data, col=\"Year\", row=\"Month\", height=5,sharey=True, sharex=True) \n",
    "        mega_g = g.map_dataframe(heatmap_facet, \"longitude\", \"latitude\")      \n",
    "        g.set_titles(col_template=\"Yr= {col_name}\", fontweight='bold', fontsize=18)                         \n",
    "       \n",
    "        #Truncate axis tick labels using the format_axis function defined in block 13\n",
    "        for ax in g.axes:\n",
    "            format_axis(ax[0]._axes.yaxis, 6)\n",
    "            format_axis(ax[0]._axes.xaxis, 7)\n",
    "                \n",
    "        #create a colorbox and apply the exported colorbar\n",
    "        cbar_ax = g.fig.add_axes([1.015,0.09, 0.015, 0.90])\n",
    "        cbar = plt.colorbar(cax=cbar_ax, mappable=CS3)"
   ]
  },
  {
   "cell_type": "code",
   "execution_count": null,
   "metadata": {
    "execution": {
     "iopub.execute_input": "2020-09-29T01:03:37.263289Z",
     "iopub.status.busy": "2020-09-29T01:03:37.262877Z",
     "iopub.status.idle": "2020-09-29T01:03:48.703138Z",
     "shell.execute_reply": "2020-09-29T01:03:48.703605Z"
    }
   },
   "outputs": [],
   "source": [
    "grid_examine(month=[8,9,10], year=[2008,2009,2010])"
   ]
  }
 ],
 "metadata": {
  "kernelspec": {
   "display_name": "Python 3",
   "language": "python",
   "name": "python3"
  },
  "language_info": {
   "codemirror_mode": {
    "name": "ipython",
    "version": 3
   },
   "file_extension": ".py",
   "mimetype": "text/x-python",
   "name": "python",
   "nbconvert_exporter": "python",
   "pygments_lexer": "ipython3",
   "version": "3.6.9"
  }
 },
 "nbformat": 4,
 "nbformat_minor": 4
}
