{
 "cells": [
  {
   "cell_type": "code",
   "execution_count": null,
   "metadata": {
    "execution": {
     "iopub.execute_input": "2020-09-28T19:41:39.847846Z",
     "iopub.status.busy": "2020-09-28T19:41:39.847408Z",
     "iopub.status.idle": "2020-09-28T19:41:40.143759Z",
     "shell.execute_reply": "2020-09-28T19:41:40.144249Z"
    }
   },
   "outputs": [],
   "source": [
    "import sys\n",
    "import os\n",
    "sys.path.append(os.environ.get('NOTEBOOK_ROOT'))\n",
    "\n",
    "%matplotlib inline\n",
    "import numpy as np  \n",
    "import matplotlib.pyplot as plt\n",
    "import warnings; warnings.simplefilter('ignore')"
   ]
  },
  {
   "cell_type": "markdown",
   "metadata": {},
   "source": [
    "# Detecting Forest Change using Landsat 8 imagery  \n",
    "\n",
    "In this notebook forest change is detected by observing two contiguous acquisitions from `landsat_8` imagery. The comparisons between a `before` and `after` images offers insight into changes in vegetation and inundation over a varied topography to give indication of deforestation. A broader history spanning one year into the past is also considered \n",
    "  \n",
    "The diagram below shows a series of very simple rules applied to a given point in the imagery to make a classification of `forest changed` or `not changed`\n",
    "\n",
    "![](diagrams/forest_change/random_forest_tree.PNG)"
   ]
  },
  {
   "cell_type": "markdown",
   "metadata": {},
   "source": [
    "## Rule 1:  vegetation decreases significantly   \n",
    "\n",
    "`NDVI` is an index that correlates highly with the existence of vegetation. Its formulation is simple  \n",
    "  \n",
    "$$pixel_{NDVI} = \\frac{pixel_{NIR} - pixel_{red}}{pixel_{NIR} + pixel_{red}} $$"
   ]
  },
  {
   "cell_type": "markdown",
   "metadata": {},
   "source": [
    "Implementation, with the help of `xarray` datastructures is equally as simple.  "
   ]
  },
  {
   "cell_type": "code",
   "execution_count": null,
   "metadata": {
    "execution": {
     "iopub.execute_input": "2020-09-28T19:41:40.148118Z",
     "iopub.status.busy": "2020-09-28T19:41:40.147556Z",
     "iopub.status.idle": "2020-09-28T19:41:40.149252Z",
     "shell.execute_reply": "2020-09-28T19:41:40.149694Z"
    }
   },
   "outputs": [],
   "source": [
    "def ndvi(dataset):  \n",
    "    return ((dataset.nir - dataset.red)/(dataset.nir + dataset.red)).rename(\"NDVI\")"
   ]
  },
  {
   "cell_type": "markdown",
   "metadata": {},
   "source": [
    "In this step. The comparison of `before` and `after` NDVI values can indicate a loss of vegetation and is used as the first criteria for detecting deforestation.  \n",
    "  \n",
    "The comparison relies on differencing between acquisitions.  "
   ]
  },
  {
   "cell_type": "code",
   "execution_count": null,
   "metadata": {
    "execution": {
     "iopub.execute_input": "2020-09-28T19:41:40.153416Z",
     "iopub.status.busy": "2020-09-28T19:41:40.152987Z",
     "iopub.status.idle": "2020-09-28T19:41:40.155070Z",
     "shell.execute_reply": "2020-09-28T19:41:40.154639Z"
    }
   },
   "outputs": [],
   "source": [
    "def delta(before, after):\n",
    "    return after - before\n",
    "\n",
    "def vegetation_change(before, after):\n",
    "    vegetation_before = ndvi(before)\n",
    "    vegetation_after  = ndvi(after)\n",
    "    \n",
    "    return delta(vegetation_before,\n",
    "                 vegetation_after)\n"
   ]
  },
  {
   "cell_type": "markdown",
   "metadata": {},
   "source": [
    "Through a process of visual survey a threshold is determined for NDVI decrease.  In our example the determined threshold is `0.18`, which means that pixels with NDVI subtraction smaller than -0.18 will be retained, larger than (-0.18) will not be considered as a possible point of deforestation"
   ]
  },
  {
   "cell_type": "code",
   "execution_count": null,
   "metadata": {
    "execution": {
     "iopub.execute_input": "2020-09-28T19:41:40.158548Z",
     "iopub.status.busy": "2020-09-28T19:41:40.158118Z",
     "iopub.status.idle": "2020-09-28T19:41:40.160168Z",
     "shell.execute_reply": "2020-09-28T19:41:40.159741Z"
    }
   },
   "outputs": [],
   "source": [
    "def meets_devegetation_criteria(before,after, threshold = -0.18):\n",
    "    #In this code the following comparison is applied to all pixels.\n",
    "    #It returns a grid of True and False values to be used for filtering our dataset.  \n",
    "    return (vegetation_change(before, after) < threshold).rename(\"devegetation_mask\").astype(bool)"
   ]
  },
  {
   "cell_type": "markdown",
   "metadata": {},
   "source": [
    "<br>  \n",
    "\n",
    "## Rule 2: vegetation decrease is not the result of agricultural activity\n",
    "Agricultural cultivation often occurs on flat and low land. This assumption is used to deal with the possibility of agricultural activity interfereing with a detection of deforestation/devegatation.  \n",
    "  \n",
    "Thus, pixels with DEM value smaller than 30m are discarded. "
   ]
  },
  {
   "cell_type": "code",
   "execution_count": null,
   "metadata": {
    "execution": {
     "iopub.execute_input": "2020-09-28T19:41:40.163492Z",
     "iopub.status.busy": "2020-09-28T19:41:40.163002Z",
     "iopub.status.idle": "2020-09-28T19:41:40.165153Z",
     "shell.execute_reply": "2020-09-28T19:41:40.164709Z"
    }
   },
   "outputs": [],
   "source": [
    "## ASTER\n",
    "\n",
    "def meets_minimum_height_criteria(aster_ds, threshold = 30):\n",
    "    return  (aster_ds.num > threshold).astype(bool).rename(\"height_mask\")"
   ]
  },
  {
   "cell_type": "markdown",
   "metadata": {},
   "source": [
    "## Rule 3: vegetation decrease is not in an area that is known for inundation\n",
    "\n",
    "Most forests are tall with canopies obscuring the view of the forest floor. Visually speaking, flooding should have very little effect in NDVI values since flooding happens below the canopy.  \n",
    "  \n",
    "The presence of water at some point in the year might indicate that the detected vegetation is not forest, but an agricultural area or pond covered by vegetation water-fern.  \n",
    "\n",
    "`MNDWI` is a calculated index that correlates highly with the existence of water. Like `NDVI` its formulation is simple.  \n",
    "<br>    \n",
    "$$MNDWI = \\frac{pixel_{green} - pixel_{swir1}}{pixel_{green} + pixel_{swir1}} $$  \n",
    "  \n",
    "So is the implementation in code  \n"
   ]
  },
  {
   "cell_type": "code",
   "execution_count": null,
   "metadata": {
    "execution": {
     "iopub.execute_input": "2020-09-28T19:41:40.168359Z",
     "iopub.status.busy": "2020-09-28T19:41:40.167945Z",
     "iopub.status.idle": "2020-09-28T19:41:40.170162Z",
     "shell.execute_reply": "2020-09-28T19:41:40.169730Z"
    }
   },
   "outputs": [],
   "source": [
    "def mndwi(dataset):  \n",
    "    return (dataset.green - dataset.swir1)/(dataset.green + dataset.swir1).rename(\"MNDWI\")     \n",
    "#In this code the following arithmetic is applied to all pixels in a dataset  "
   ]
  },
  {
   "cell_type": "markdown",
   "metadata": {},
   "source": [
    "<br>\n",
    "In this step, the entire `MNDWI` history(time component) is analyzed and the **max** `MNDWI` is taken into account for each pixel. If, at some point in time, any MNDWI surpases some threshold, the assumption is made that the area is not a forest.    \n",
    "<br>"
   ]
  },
  {
   "cell_type": "code",
   "execution_count": null,
   "metadata": {
    "execution": {
     "iopub.execute_input": "2020-09-28T19:41:40.173564Z",
     "iopub.status.busy": "2020-09-28T19:41:40.173047Z",
     "iopub.status.idle": "2020-09-28T19:41:40.175195Z",
     "shell.execute_reply": "2020-09-28T19:41:40.174833Z"
    }
   },
   "outputs": [],
   "source": [
    "def max_mndwi(dataset): \n",
    "    #In this code max is applied accross across all pixels along a time component. \n",
    "    _max = mndwi(dataset).max(dim = ['time'])\n",
    "    return _max.rename(\"max_MNDWI\")"
   ]
  },
  {
   "cell_type": "markdown",
   "metadata": {},
   "source": [
    "A threshold is emperically evaulated to reduce the rate of false positives caused by inundated areas. In this case that threshold is 0. Pixels with max_MNDWI smaller than 0 will be retained, greater be discarded. "
   ]
  },
  {
   "cell_type": "code",
   "execution_count": null,
   "metadata": {
    "execution": {
     "iopub.execute_input": "2020-09-28T19:41:40.178414Z",
     "iopub.status.busy": "2020-09-28T19:41:40.177936Z",
     "iopub.status.idle": "2020-09-28T19:41:40.180072Z",
     "shell.execute_reply": "2020-09-28T19:41:40.179643Z"
    }
   },
   "outputs": [],
   "source": [
    "def meets_inundation_criteria(dataset, threshold = 0.0):\n",
    "    return (max_mndwi(dataset) < threshold).rename(\"inundation_mask\")"
   ]
  },
  {
   "cell_type": "markdown",
   "metadata": {},
   "source": [
    "## Rule 4: vegetation decrease isn't a recurring or normal phenomena  "
   ]
  },
  {
   "cell_type": "code",
   "execution_count": null,
   "metadata": {
    "execution": {
     "iopub.execute_input": "2020-09-28T19:41:40.185137Z",
     "iopub.status.busy": "2020-09-28T19:41:40.184711Z",
     "iopub.status.idle": "2020-09-28T19:41:40.186510Z",
     "shell.execute_reply": "2020-09-28T19:41:40.186914Z"
    }
   },
   "outputs": [],
   "source": [
    "def create_ndvi_matrix(ds):\n",
    "    ndvi_matrix            = ndvi(ds) \n",
    "    return ndvi_matrix.where(ds.cloud_mask)\n",
    "\n",
    "def delta_matrix(ds):\n",
    "    return np.diff(ds, axis = 0) \n",
    "\n",
    "def vegetation_sum_threshold(ds, threshold = 10):\n",
    "    ndvi_delta_matrix = delta_matrix(create_ndvi_matrix(ds)) # lat,lon,t-1 matrix\n",
    "    ndvi_change_magnitude = np.absolute(ndvi_delta_matrix)   # lat,lon,t-1 matrix\n",
    "    cummulative_ndvi_change_magnitude = np.nansum(ndvi_change_magnitude, axis = 0) #lat, lon matrix,\n",
    "    ndvi_change_repeat_mask = cummulative_ndvi_change_magnitude < threshold        #lat, lon boolean matrix\n",
    "    return xr.DataArray(ndvi_change_repeat_mask,\n",
    "                        dims = [\"latitude\", \"longitude\"],\n",
    "                        coords = {\"latitude\": ds.latitude, \"longitude\": ds.longitude},\n",
    "                        attrs = {\"threshold\": threshold},\n",
    "                        name = \"repeat_devegetation_mask\")"
   ]
  },
  {
   "cell_type": "markdown",
   "metadata": {},
   "source": [
    "## Rule 5: vegetation decrease happens in large areas    \n",
    "\n",
    "The assumption is made that deforestation happens on a sufficiently large scale. Another assumption is made that detected deforestation in a pixel is typically spatially correlated with deforestation in adjacent pixels.  \n",
    "  \n",
    "Following this reasoning, the final filter retains groups of deforestation larger than `5` pixels per group. The diagram below \n",
    "illustrates a candidate for deforestation based on this grouping criteria, and one that is rejected based on this criteria.   \n",
    "  \n",
    "<br>  \n",
    "\n",
    "![](https://i.imgur.com/t7HAOQr.png)  \n",
    "<br>  \n",
    "\n",
    "\n",
    "The implementation relies on adequately grouping pixels in an efficient manner. The use of `skimage`'s  `measure` module yields segemented arrays of pixel groups.  \n",
    "\n",
    "<br>"
   ]
  },
  {
   "cell_type": "code",
   "execution_count": null,
   "metadata": {
    "execution": {
     "iopub.execute_input": "2020-09-28T19:41:40.190764Z",
     "iopub.status.busy": "2020-09-28T19:41:40.190347Z",
     "iopub.status.idle": "2020-09-28T19:41:40.495343Z",
     "shell.execute_reply": "2020-09-28T19:41:40.495805Z"
    }
   },
   "outputs": [],
   "source": [
    "from skimage import measure\n",
    "import numpy as np\n",
    "\n",
    "def group_pixels(array, connectivity = 1):\n",
    "    arr = measure.label(array, connectivity=connectivity)\n",
    "    return [np.dstack(np.where(arr == y))[0] for y in range(1,np.amax(arr))]"
   ]
  },
  {
   "cell_type": "markdown",
   "metadata": {},
   "source": [
    "  "
   ]
  },
  {
   "cell_type": "code",
   "execution_count": null,
   "metadata": {
    "execution": {
     "iopub.execute_input": "2020-09-28T19:41:40.500636Z",
     "iopub.status.busy": "2020-09-28T19:41:40.500193Z",
     "iopub.status.idle": "2020-09-28T19:41:40.502375Z",
     "shell.execute_reply": "2020-09-28T19:41:40.502013Z"
    }
   },
   "outputs": [],
   "source": [
    "def numpy_group_mask(boolean_np_array, min_size = 5):  \n",
    "    all_groups = group_pixels(boolean_np_array.astype(int))\n",
    "    candidate_groups = filter(lambda group:\n",
    "                                  (len(group) > min_size) & (group != 0).all(),\n",
    "                                  all_groups)\n",
    "    candidate_pixels = (pixel for group in candidate_groups for pixel in group)  \n",
    "    dynamic_array = np.zeros(boolean_np_array.shape) \n",
    "    for x,y in candidate_pixels:\n",
    "        dynamic_array[x][y] = 1  \n",
    "    return dynamic_array.astype(bool)"
   ]
  },
  {
   "cell_type": "markdown",
   "metadata": {},
   "source": [
    "<br>"
   ]
  },
  {
   "cell_type": "code",
   "execution_count": null,
   "metadata": {
    "execution": {
     "iopub.execute_input": "2020-09-28T19:41:40.506285Z",
     "iopub.status.busy": "2020-09-28T19:41:40.505742Z",
     "iopub.status.idle": "2020-09-28T19:41:40.507900Z",
     "shell.execute_reply": "2020-09-28T19:41:40.507466Z"
    }
   },
   "outputs": [],
   "source": [
    "def boolean_xarray_segmentation_filter(da,  min_size = 5):\n",
    "    mask_np = numpy_group_mask(da.values,min_size = 5)\n",
    "    return xr.DataArray(mask_np,\n",
    "                        dims = da.dims,\n",
    "                        coords = da.coords,\n",
    "                        attrs = {\"group_size\": min_size},\n",
    "                        name = \"filtered_chunks_mask\")"
   ]
  },
  {
   "cell_type": "markdown",
   "metadata": {},
   "source": [
    "----   \n",
    "\n",
    "\n",
    "# Run on a small area "
   ]
  },
  {
   "cell_type": "markdown",
   "metadata": {},
   "source": [
    ">### The area"
   ]
  },
  {
   "cell_type": "code",
   "execution_count": null,
   "metadata": {
    "execution": {
     "iopub.execute_input": "2020-09-28T19:41:40.511075Z",
     "iopub.status.busy": "2020-09-28T19:41:40.510666Z",
     "iopub.status.idle": "2020-09-28T19:41:40.512453Z",
     "shell.execute_reply": "2020-09-28T19:41:40.512857Z"
    }
   },
   "outputs": [],
   "source": [
    "# Zanzibar, Tanzania\n",
    "latitude = (-6.2238, -6.1267)\n",
    "longitude = (39.2298, 39.2909)\n",
    "date_range = ('2000-01-01', '2000-12-31')"
   ]
  },
  {
   "cell_type": "markdown",
   "metadata": {},
   "source": [
    "> ### A quick visualization  "
   ]
  },
  {
   "cell_type": "code",
   "execution_count": null,
   "metadata": {
    "execution": {
     "iopub.execute_input": "2020-09-28T19:41:40.515997Z",
     "iopub.status.busy": "2020-09-28T19:41:40.515571Z",
     "iopub.status.idle": "2020-09-28T19:41:41.034524Z",
     "shell.execute_reply": "2020-09-28T19:41:41.034942Z"
    }
   },
   "outputs": [],
   "source": [
    "## The code below renders a map that can be used to orient yourself with the region.\n",
    "from utils.data_cube_utilities.dc_display_map import display_map\n",
    "display_map(latitude = latitude, longitude = longitude)"
   ]
  },
  {
   "cell_type": "markdown",
   "metadata": {},
   "source": [
    "> ### Loading Data for the Area\n",
    "> The following lines of code load in ASTER DEM data, and Landsat7 data through datacube's python api.  "
   ]
  },
  {
   "cell_type": "code",
   "execution_count": null,
   "metadata": {
    "execution": {
     "iopub.execute_input": "2020-09-28T19:41:41.037894Z",
     "iopub.status.busy": "2020-09-28T19:41:41.037452Z",
     "iopub.status.idle": "2020-09-28T19:41:41.849682Z",
     "shell.execute_reply": "2020-09-28T19:41:41.850153Z"
    }
   },
   "outputs": [],
   "source": [
    "from datacube.utils.aws import configure_s3_access\n",
    "configure_s3_access(requester_pays=True)\n",
    "\n",
    "import datacube\n",
    "dc = datacube.Datacube()"
   ]
  },
  {
   "cell_type": "markdown",
   "metadata": {},
   "source": [
    "> ### Define the loads"
   ]
  },
  {
   "cell_type": "code",
   "execution_count": null,
   "metadata": {},
   "outputs": [],
   "source": [
    "common_load_params = dict(latitude = latitude, longitude = longitude, \n",
    "                          dask_chunks={'time':5, 'latitude':1000, 'longitude':1000})"
   ]
  },
  {
   "cell_type": "markdown",
   "metadata": {},
   "source": [
    "**Landsat 7**"
   ]
  },
  {
   "cell_type": "code",
   "execution_count": null,
   "metadata": {
    "execution": {
     "iopub.execute_input": "2020-09-28T19:41:41.858204Z",
     "iopub.status.busy": "2020-09-28T19:41:41.857629Z",
     "iopub.status.idle": "2020-09-28T19:41:41.859364Z",
     "shell.execute_reply": "2020-09-28T19:41:41.859778Z"
    }
   },
   "outputs": [],
   "source": [
    "ls7_extents = dict(platform     = 'LANDSAT_7',\n",
    "                   product      = 'ls7_usgs_sr_scene',\n",
    "                   time         = date_range,\n",
    "                   measurements = ['red','green','blue','nir','swir1', 'swir2', 'pixel_qa'],\n",
    "                   **common_load_params)"
   ]
  },
  {
   "cell_type": "markdown",
   "metadata": {},
   "source": [
    "**ASTER GDEM V2**"
   ]
  },
  {
   "cell_type": "code",
   "execution_count": null,
   "metadata": {
    "execution": {
     "iopub.execute_input": "2020-09-28T19:41:41.863067Z",
     "iopub.status.busy": "2020-09-28T19:41:41.862637Z",
     "iopub.status.idle": "2020-09-28T19:41:41.864296Z",
     "shell.execute_reply": "2020-09-28T19:41:41.864701Z"
    }
   },
   "outputs": [],
   "source": [
    "aster_extents = dict(platform = \"TERRA\",\n",
    "                     product = \"terra_aster_gdm\",\n",
    "                     **common_load_params)"
   ]
  },
  {
   "cell_type": "markdown",
   "metadata": {},
   "source": [
    "**Load Products** "
   ]
  },
  {
   "cell_type": "code",
   "execution_count": null,
   "metadata": {
    "execution": {
     "iopub.execute_input": "2020-09-28T19:41:41.868009Z",
     "iopub.status.busy": "2020-09-28T19:41:41.867349Z",
     "iopub.status.idle": "2020-09-28T19:41:41.986134Z",
     "shell.execute_reply": "2020-09-28T19:41:41.985313Z"
    }
   },
   "outputs": [],
   "source": [
    "landsat_dataset = dc.load(**ls7_extents)"
   ]
  },
  {
   "cell_type": "code",
   "execution_count": null,
   "metadata": {},
   "outputs": [],
   "source": [
    "aster_dataset = dc.load(**aster_extents)"
   ]
  },
  {
   "cell_type": "markdown",
   "metadata": {},
   "source": [
    "# Pick a time"
   ]
  },
  {
   "cell_type": "code",
   "execution_count": null,
   "metadata": {},
   "outputs": [],
   "source": [
    "import time  \n",
    "\n",
    "def reformat_n64(t):\n",
    "        return time.strftime(\"%Y-%m-%d\", time.gmtime(t.astype(int)/1000000000))  \n",
    "    \n",
    "acq_dates = list(map(reformat_n64, landsat_dataset.time.values))\n",
    "print(\"Choose the target date\")\n",
    "print(acq_dates[1:]) # There must be at least one acqusition before the target date."
   ]
  },
  {
   "cell_type": "code",
   "execution_count": null,
   "metadata": {},
   "outputs": [],
   "source": [
    "target_date  = '2001-01-12'\n",
    "target_index = acq_dates.index(target_date)"
   ]
  },
  {
   "cell_type": "code",
   "execution_count": null,
   "metadata": {},
   "outputs": [],
   "source": [
    "from datetime import datetime , timedelta\n",
    "\n",
    "year_before_target_date = datetime.strptime(target_date, '%Y-%m-%d') - timedelta(days = 365)\n",
    "year_of_landsat_dataset = landsat_dataset.sel(time = slice(year_before_target_date, target_date))"
   ]
  },
  {
   "cell_type": "code",
   "execution_count": null,
   "metadata": {},
   "outputs": [],
   "source": [
    "year_of_landsat_dataset"
   ]
  },
  {
   "cell_type": "markdown",
   "metadata": {},
   "source": [
    ">#### A quick RGB visualization function"
   ]
  },
  {
   "cell_type": "code",
   "execution_count": null,
   "metadata": {},
   "outputs": [],
   "source": [
    "from utils.data_cube_utilities.dc_displayutil import display_at_time"
   ]
  },
  {
   "cell_type": "markdown",
   "metadata": {},
   "source": [
    "# Generate a boolean mask to filter clouds  \n"
   ]
  },
  {
   "cell_type": "code",
   "execution_count": null,
   "metadata": {},
   "outputs": [],
   "source": [
    "from functools import reduce  \n",
    "import numpy as np  \n",
    "import xarray as xr\n",
    "\n",
    "def ls7_qa_mask(dataset, keys):\n",
    "    land_cover_endcoding = dict( fill     =  [1], \n",
    "                                 clear    =  [66,  130], \n",
    "                                 water    =  [68,  132],\n",
    "                                 shadow   =  [72,  136],\n",
    "                                 snow     =  [80,  112, 144, 176],\n",
    "                                 cloud    =  [96,  112, 160, 176, 224],\n",
    "                                 low_conf =  [66,  68,  72,  80,  96,  112],\n",
    "                                 med_conf =  [130, 132, 136, 144, 160, 176],\n",
    "                                 high_conf=  [224]\n",
    "                               ) \n",
    "    def merge_lists(a, b): \n",
    "        return a.union(set(land_cover_endcoding[b]))\n",
    "                        \n",
    "    relevant_encodings = reduce(merge_lists, keys,set())\n",
    "\n",
    "    return xr.DataArray( np.isin(dataset.pixel_qa,list(relevant_encodings)),\n",
    "                         coords = dataset.pixel_qa.coords,\n",
    "                         dims = dataset.pixel_qa.dims,\n",
    "                         name = \"cloud_mask\",\n",
    "                         attrs = dataset.attrs)  "
   ]
  },
  {
   "cell_type": "markdown",
   "metadata": {},
   "source": [
    "<br>"
   ]
  },
  {
   "cell_type": "code",
   "execution_count": null,
   "metadata": {},
   "outputs": [],
   "source": [
    "is_clear_mask = ls7_qa_mask(year_of_landsat_dataset, ['clear', 'water']) "
   ]
  },
  {
   "cell_type": "markdown",
   "metadata": {},
   "source": [
    "Display contents "
   ]
  },
  {
   "cell_type": "code",
   "execution_count": null,
   "metadata": {},
   "outputs": [],
   "source": [
    "is_clear_mask"
   ]
  },
  {
   "cell_type": "markdown",
   "metadata": {},
   "source": [
    ">### Add landsat and cloud mask to a common Xarray"
   ]
  },
  {
   "cell_type": "code",
   "execution_count": null,
   "metadata": {},
   "outputs": [],
   "source": [
    "product_dataset =   xr.merge([year_of_landsat_dataset, is_clear_mask])"
   ]
  },
  {
   "cell_type": "markdown",
   "metadata": {},
   "source": [
    ">### Unfiltered image at selected time "
   ]
  },
  {
   "cell_type": "code",
   "execution_count": null,
   "metadata": {},
   "outputs": [],
   "source": [
    "from utils.data_cube_utilities.dc_rgb import rgb \n",
    "rgb(landsat_dataset, at_index = target_index, width = 15)"
   ]
  },
  {
   "cell_type": "markdown",
   "metadata": {},
   "source": [
    "> ### Retained Pixels after filtering (in red) "
   ]
  },
  {
   "cell_type": "code",
   "execution_count": null,
   "metadata": {},
   "outputs": [],
   "source": [
    "rgb(product_dataset, at_index = -1, paint_on_mask = [((product_dataset.cloud_mask.values), (255,0,0))], width = 15)"
   ]
  },
  {
   "cell_type": "markdown",
   "metadata": {},
   "source": [
    ">### Filtered Imagery "
   ]
  },
  {
   "cell_type": "code",
   "execution_count": null,
   "metadata": {},
   "outputs": [],
   "source": [
    "rgb(product_dataset, at_index = -1, paint_on_mask = [(np.invert(product_dataset.cloud_mask.values), (0,0,0))], width = 15)"
   ]
  },
  {
   "cell_type": "markdown",
   "metadata": {},
   "source": [
    "# STEP 1: NDVI Decrease"
   ]
  },
  {
   "cell_type": "code",
   "execution_count": null,
   "metadata": {},
   "outputs": [],
   "source": [
    "after = product_dataset  .isel(time = -1)\n",
    "before = product_dataset .isel(time = -2)"
   ]
  },
  {
   "cell_type": "code",
   "execution_count": null,
   "metadata": {},
   "outputs": [],
   "source": [
    "devegetation_mask = meets_devegetation_criteria(before,after,threshold = -0.18)"
   ]
  },
  {
   "cell_type": "code",
   "execution_count": null,
   "metadata": {},
   "outputs": [],
   "source": [
    "product_dataset = xr.merge([product_dataset, devegetation_mask])"
   ]
  },
  {
   "cell_type": "code",
   "execution_count": null,
   "metadata": {},
   "outputs": [],
   "source": [
    "def nan_to_bool(nd_array):\n",
    "    nd = nd_array.astype(float)\n",
    "    nd[np.isnan(nd)] = 0\n",
    "    \n",
    "    return nd.astype(bool)"
   ]
  },
  {
   "cell_type": "markdown",
   "metadata": {},
   "source": [
    "> ### NDVI change mask (in red)"
   ]
  },
  {
   "cell_type": "code",
   "execution_count": null,
   "metadata": {},
   "outputs": [],
   "source": [
    "rgb(product_dataset, at_index = -1,\n",
    "    paint_on_mask = [(nan_to_bool(product_dataset.where(devegetation_mask).red.values), (255,0,0))], width = 15)"
   ]
  },
  {
   "cell_type": "markdown",
   "metadata": {},
   "source": [
    "> ### NDVI change + previous mask"
   ]
  },
  {
   "cell_type": "code",
   "execution_count": null,
   "metadata": {},
   "outputs": [],
   "source": [
    "rgb(product_dataset, at_index = -1,\n",
    "    paint_on_mask = [(nan_to_bool(product_dataset.where(devegetation_mask).red.values), (255,0,0)),\n",
    "                     (np.invert(nan_to_bool(product_dataset.cloud_mask.values)), (0,0,0))],\n",
    "    width = 15)"
   ]
  },
  {
   "cell_type": "markdown",
   "metadata": {},
   "source": [
    "> ### Remaining pixels after filtering  "
   ]
  },
  {
   "cell_type": "code",
   "execution_count": null,
   "metadata": {},
   "outputs": [],
   "source": [
    "rgb(product_dataset,\n",
    "    at_index = -1,\n",
    "    paint_on_mask = [(np.invert(nan_to_bool(product_dataset.where(devegetation_mask).red.values)), (0,0,0)),\n",
    "                     (np.invert(nan_to_bool(product_dataset.cloud_mask.values)), (0,0,0))], width = 15)"
   ]
  },
  {
   "cell_type": "markdown",
   "metadata": {},
   "source": [
    "# Step 2: Filter DEM"
   ]
  },
  {
   "cell_type": "markdown",
   "metadata": {},
   "source": [
    "Elevation in Salgar Colombia might have a unique distribution of heights. Therefore, It makes sense to look at a histogram of all hieights and determine an appropriate threshold specific to this area.  \n",
    "<br>"
   ]
  },
  {
   "cell_type": "code",
   "execution_count": null,
   "metadata": {},
   "outputs": [],
   "source": [
    "aster_dataset.num.plot.hist(figsize = (15,5), bins = 16)"
   ]
  },
  {
   "cell_type": "markdown",
   "metadata": {},
   "source": [
    "<br>\n",
    "The lack of validation data, with regards to height and agriculture means we pick an arbitrary threshold for filtering. The threshold of 5 was chosen.  \n",
    "<br>"
   ]
  },
  {
   "cell_type": "code",
   "execution_count": null,
   "metadata": {},
   "outputs": [],
   "source": [
    "height_mask = meets_minimum_height_criteria(aster_dataset.isel(time = 0), threshold = 5)"
   ]
  },
  {
   "cell_type": "code",
   "execution_count": null,
   "metadata": {},
   "outputs": [],
   "source": [
    "product_dataset = xr.merge([product_dataset, height_mask])"
   ]
  },
  {
   "cell_type": "markdown",
   "metadata": {},
   "source": [
    ">### Valid Height Mask"
   ]
  },
  {
   "cell_type": "code",
   "execution_count": null,
   "metadata": {},
   "outputs": [],
   "source": [
    "rgb(product_dataset,\n",
    "    at_index = -1,\n",
    "    paint_on_mask = [((nan_to_bool(product_dataset.where(height_mask).red.values)), (255,0,0))], width = 15)"
   ]
  },
  {
   "cell_type": "markdown",
   "metadata": {},
   "source": [
    ">### Height Mask + Previous Filters"
   ]
  },
  {
   "cell_type": "code",
   "execution_count": null,
   "metadata": {},
   "outputs": [],
   "source": [
    "rgb(product_dataset,\n",
    "    at_index = -1,\n",
    "    paint_on_mask = [((nan_to_bool(product_dataset.where(height_mask).red.values)), (255,0,0)),\n",
    "                     (np.invert(nan_to_bool(product_dataset.where(devegetation_mask).red.values)), (0,0,0)),\n",
    "                     (np.invert(nan_to_bool(product_dataset.cloud_mask.values)), (0,0,0))], width = 15)"
   ]
  },
  {
   "cell_type": "markdown",
   "metadata": {},
   "source": [
    ">### Remaining "
   ]
  },
  {
   "cell_type": "code",
   "execution_count": null,
   "metadata": {},
   "outputs": [],
   "source": [
    "rgb(product_dataset,\n",
    "    at_index = -1,\n",
    "    paint_on_mask = [(np.invert(nan_to_bool(product_dataset.where(height_mask).red.values)), (0,0,0)),\n",
    "                     (np.invert(nan_to_bool(product_dataset.where(devegetation_mask).red.values)), (0,0,0)),\n",
    "                     (np.invert(nan_to_bool(product_dataset.cloud_mask.values)), (0,0,0))], width = 15)"
   ]
  },
  {
   "cell_type": "markdown",
   "metadata": {},
   "source": [
    "# STEP 3: Filter inundation criteria "
   ]
  },
  {
   "cell_type": "code",
   "execution_count": null,
   "metadata": {},
   "outputs": [],
   "source": [
    "cloudless_dataset = product_dataset.where(product_dataset.cloud_mask)\n",
    "inundation_mask = meets_inundation_criteria(cloudless_dataset)"
   ]
  },
  {
   "cell_type": "code",
   "execution_count": null,
   "metadata": {},
   "outputs": [],
   "source": [
    "product_dataset = xr.merge([product_dataset, inundation_mask])"
   ]
  },
  {
   "cell_type": "markdown",
   "metadata": {},
   "source": [
    ">### Inundation Mask"
   ]
  },
  {
   "cell_type": "code",
   "execution_count": null,
   "metadata": {},
   "outputs": [],
   "source": [
    "rgb(product_dataset,\n",
    "    at_index = -1,\n",
    "    paint_on_mask = [((nan_to_bool(product_dataset.where(inundation_mask).red.values)), (255,0,0))], width = 15)"
   ]
  },
  {
   "cell_type": "markdown",
   "metadata": {},
   "source": [
    ">### Inundation Mask + Previous Masks"
   ]
  },
  {
   "cell_type": "code",
   "execution_count": null,
   "metadata": {},
   "outputs": [],
   "source": [
    "rgb(product_dataset,\n",
    "    at_index = -1,\n",
    "    paint_on_mask = [((nan_to_bool(product_dataset.where(inundation_mask).red.values)), (255,0,0)),\n",
    "                     (np.invert(nan_to_bool(product_dataset.where(height_mask).red.values)), (0,0,0)),\n",
    "                     (np.invert(nan_to_bool(product_dataset.where(devegetation_mask).red.values)), (0,0,0)),\n",
    "                     (np.invert(nan_to_bool(product_dataset.cloud_mask.values)), (0,0,0))], width = 15)"
   ]
  },
  {
   "cell_type": "markdown",
   "metadata": {},
   "source": [
    ">### Remaining"
   ]
  },
  {
   "cell_type": "code",
   "execution_count": null,
   "metadata": {},
   "outputs": [],
   "source": [
    "rgb(product_dataset,\n",
    "    at_index = -1,\n",
    "    paint_on_mask = [(np.invert(nan_to_bool(product_dataset.where(inundation_mask).red.values)), (0,0,0)),\n",
    "                     (np.invert(nan_to_bool(product_dataset.where(height_mask).red.values)), (0,0,0)),\n",
    "                     (np.invert(nan_to_bool(product_dataset.where(devegetation_mask).red.values)), (0,0,0)),\n",
    "                     (np.invert(nan_to_bool(product_dataset.cloud_mask.values)), (0,0,0))], width = 15)"
   ]
  },
  {
   "cell_type": "markdown",
   "metadata": {},
   "source": [
    "# STEP 4: Recurring NDVI change  "
   ]
  },
  {
   "cell_type": "code",
   "execution_count": null,
   "metadata": {},
   "outputs": [],
   "source": [
    "non_recurring_ndvi_change = vegetation_sum_threshold(product_dataset, threshold = 1)"
   ]
  },
  {
   "cell_type": "code",
   "execution_count": null,
   "metadata": {},
   "outputs": [],
   "source": [
    "product_dataset = xr.merge([product_dataset, non_recurring_ndvi_change])"
   ]
  },
  {
   "cell_type": "markdown",
   "metadata": {},
   "source": [
    ">### Non-Repeat NDVI Mask"
   ]
  },
  {
   "cell_type": "code",
   "execution_count": null,
   "metadata": {},
   "outputs": [],
   "source": [
    "rgb(product_dataset,\n",
    "    at_index = -1,\n",
    "    paint_on_mask = [((nan_to_bool(product_dataset.where(non_recurring_ndvi_change).red.values)), (255,0,0))], width = 15)"
   ]
  },
  {
   "cell_type": "markdown",
   "metadata": {},
   "source": [
    ">### Non-Repeat NDVI Mask + Previous Masks"
   ]
  },
  {
   "cell_type": "code",
   "execution_count": null,
   "metadata": {},
   "outputs": [],
   "source": [
    "rgb(product_dataset,\n",
    "    at_index = -1,\n",
    "    paint_on_mask = [\n",
    "                    ((nan_to_bool(product_dataset.where(non_recurring_ndvi_change).red.values)),(255,0,0)),\n",
    "                     (np.invert(nan_to_bool(product_dataset.where(inundation_mask          ).red.values)),(0,0,0)),\n",
    "                     (np.invert(nan_to_bool(product_dataset.where(height_mask).red.values)), (0,0,0)),\n",
    "                     (np.invert(nan_to_bool(product_dataset.where(devegetation_mask).red.values)), (0,0,0)),\n",
    "                     (np.invert(nan_to_bool(product_dataset.cloud_mask.values)), (0,0,0))], width = 15)"
   ]
  },
  {
   "cell_type": "markdown",
   "metadata": {},
   "source": [
    ">### Remaining"
   ]
  },
  {
   "cell_type": "code",
   "execution_count": null,
   "metadata": {},
   "outputs": [],
   "source": [
    "rgb(product_dataset,\n",
    "    at_index = -1,\n",
    "    paint_on_mask = [(np.invert(nan_to_bool(product_dataset.where(non_recurring_ndvi_change).red.values)),(0,0,0)),\n",
    "                     (np.invert(nan_to_bool(product_dataset.where(inundation_mask).red.values)), (0,0,0)),\n",
    "                     (np.invert(nan_to_bool(product_dataset.where(height_mask).red.values)), (0,0,0)),\n",
    "                     (np.invert(nan_to_bool(product_dataset.where(devegetation_mask).red.values)), (0,0,0)),\n",
    "                     (np.invert(nan_to_bool(product_dataset.cloud_mask.values)), (0,0,0))], width = 15)"
   ]
  },
  {
   "cell_type": "markdown",
   "metadata": {},
   "source": [
    "# STEP 5: Filter in favor of sufficiently large pixel groups "
   ]
  },
  {
   "cell_type": "code",
   "execution_count": null,
   "metadata": {},
   "outputs": [],
   "source": [
    "remaining_pixel_mask = product_dataset.isel(time = -1).cloud_mask & product_dataset.devegetation_mask & product_dataset.height_mask & product_dataset.inundation_mask & product_dataset.repeat_devegetation_mask"
   ]
  },
  {
   "cell_type": "code",
   "execution_count": null,
   "metadata": {},
   "outputs": [],
   "source": [
    "deforestation_mask = boolean_xarray_segmentation_filter(remaining_pixel_mask).rename(\"deforestation_mask\").drop(\"time\")"
   ]
  },
  {
   "cell_type": "code",
   "execution_count": null,
   "metadata": {},
   "outputs": [],
   "source": [
    "product_dataset = xr.merge([product_dataset, deforestation_mask])"
   ]
  },
  {
   "cell_type": "markdown",
   "metadata": {},
   "source": [
    ">### Deforestation Mask  "
   ]
  },
  {
   "cell_type": "code",
   "execution_count": null,
   "metadata": {},
   "outputs": [],
   "source": [
    "rgb(product_dataset,\n",
    "    at_index = -1,\n",
    "    paint_on_mask = [((nan_to_bool(product_dataset.where(deforestation_mask).red.values)), (255,0,0))])"
   ]
  },
  {
   "cell_type": "markdown",
   "metadata": {},
   "source": [
    "> ### Deforestation Mask in the context of previous filter results  "
   ]
  },
  {
   "cell_type": "code",
   "execution_count": null,
   "metadata": {},
   "outputs": [],
   "source": [
    "rgb(product_dataset,\n",
    "    at_index = -1,\n",
    "    paint_on_mask = [\n",
    "                     ((nan_to_bool(product_dataset.where(deforestation_mask).red.values)),(255,0,0)),\n",
    "                     (np.invert(nan_to_bool(product_dataset.where(non_recurring_ndvi_change).red.values)),(0,0,0)),\n",
    "                     (np.invert(nan_to_bool(product_dataset.where(inundation_mask          ).red.values)),(0,0,0)),\n",
    "                     (np.invert(nan_to_bool(product_dataset.where(height_mask).red.values)), (0,0,0)),\n",
    "                     (np.invert(nan_to_bool(product_dataset.where(devegetation_mask).red.values)), (0,0,0)),\n",
    "                     (np.invert(nan_to_bool(product_dataset.cloud_mask.values)), (0,0,0))])"
   ]
  },
  {
   "cell_type": "markdown",
   "metadata": {},
   "source": [
    ">### Deforestation After Filtering "
   ]
  },
  {
   "cell_type": "code",
   "execution_count": null,
   "metadata": {},
   "outputs": [],
   "source": [
    "rgb(product_dataset,\n",
    "    at_index = -1,\n",
    "    paint_on_mask = [\n",
    "                     (np.invert(nan_to_bool(product_dataset.where(deforestation_mask).red.values)),(0,0,0)),\n",
    "                     (np.invert(nan_to_bool(product_dataset.where(non_recurring_ndvi_change).red.values)),(0,0,0)),\n",
    "                     (np.invert(nan_to_bool(product_dataset.where(inundation_mask          ).red.values)),(0,0,0)),\n",
    "                     (np.invert(nan_to_bool(product_dataset.where(height_mask).red.values)), (0,0,0)),\n",
    "                     (np.invert(nan_to_bool(product_dataset.where(devegetation_mask).red.values)), (0,0,0)),\n",
    "                     (np.invert(nan_to_bool(product_dataset.cloud_mask.values)), (0,0,0))])"
   ]
  },
  {
   "cell_type": "code",
   "execution_count": null,
   "metadata": {},
   "outputs": [],
   "source": [
    "display_map(latitude = latitude, longitude = longitude)"
   ]
  },
  {
   "cell_type": "code",
   "execution_count": null,
   "metadata": {},
   "outputs": [],
   "source": []
  }
 ],
 "metadata": {
  "kernelspec": {
   "display_name": "Python 3",
   "language": "python",
   "name": "python3"
  },
  "language_info": {
   "codemirror_mode": {
    "name": "ipython",
    "version": 3
   },
   "file_extension": ".py",
   "mimetype": "text/x-python",
   "name": "python",
   "nbconvert_exporter": "python",
   "pygments_lexer": "ipython3",
   "version": "3.6.9"
  },
  "widgets": {
   "state": {
    "020e3152a7a3497ab40f043da7622ddc": {
     "views": [
      {
       "cell_index": 41
      }
     ]
    },
    "0e7ebe8826cd4de1baff2a658bb03bcf": {
     "views": [
      {
       "cell_index": 25
      }
     ]
    },
    "151d4b6d12ca48d7afb71c93ae267537": {
     "views": [
      {
       "cell_index": 41
      }
     ]
    },
    "2a19002b4986444ca62cf4ba5e103f4b": {
     "views": [
      {
       "cell_index": 41
      }
     ]
    },
    "2b2493ac164842d1b6f7c73a9b36274b": {
     "views": [
      {
       "cell_index": 42
      }
     ]
    },
    "57513fba776c4ce39b6e58e83e821bf9": {
     "views": [
      {
       "cell_index": 42
      }
     ]
    },
    "5bc9b2f48ef344a1bd757a42fc9ad3ed": {
     "views": [
      {
       "cell_index": 42
      }
     ]
    },
    "7060a3a3d73c486eb57dfce2e2724f99": {
     "views": [
      {
       "cell_index": 41
      }
     ]
    },
    "af5bd1be579445d19ccd80154fec9a63": {
     "views": [
      {
       "cell_index": 41
      }
     ]
    },
    "be1609590cf1435f8021b316f7c3061c": {
     "views": [
      {
       "cell_index": 41
      }
     ]
    },
    "c8a3d7c9e1e64fbf8a54db1728909e3c": {
     "views": [
      {
       "cell_index": 41
      }
     ]
    },
    "d2f2709d5d834911804fc23b19cb05f3": {
     "views": [
      {
       "cell_index": 43
      }
     ]
    },
    "dc95584f61b842a7b8edb499b2237697": {
     "views": [
      {
       "cell_index": 41
      }
     ]
    },
    "f0ccff664b4846e584cbcf10d2b65e77": {
     "views": [
      {
       "cell_index": 41
      }
     ]
    },
    "ff13f926ce0247e9831abc154211208a": {
     "views": [
      {
       "cell_index": 41
      }
     ]
    }
   },
   "version": "1.2.0"
  }
 },
 "nbformat": 4,
 "nbformat_minor": 4
}
