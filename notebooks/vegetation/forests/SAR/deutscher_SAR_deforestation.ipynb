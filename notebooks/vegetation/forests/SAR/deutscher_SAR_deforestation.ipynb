{
 "cells": [
  {
   "cell_type": "markdown",
   "metadata": {},
   "source": [
    "# Change Detection using Sentinel-1 SAR data  "
   ]
  },
  {
   "cell_type": "code",
   "execution_count": null,
   "metadata": {
    "execution": {
     "iopub.execute_input": "2020-09-29T01:06:44.442920Z",
     "iopub.status.busy": "2020-09-29T01:06:44.442509Z",
     "iopub.status.idle": "2020-09-29T01:06:44.445600Z",
     "shell.execute_reply": "2020-09-29T01:06:44.445117Z"
    }
   },
   "outputs": [],
   "source": [
    "algorithm = \"deutscher\"\n",
    "version = 0.04\n",
    "\n",
    "import sys\n",
    "import os\n",
    "sys.path.append(os.environ.get('NOTEBOOK_ROOT'))"
   ]
  },
  {
   "cell_type": "code",
   "execution_count": null,
   "metadata": {
    "execution": {
     "iopub.execute_input": "2020-09-29T01:06:44.448854Z",
     "iopub.status.busy": "2020-09-29T01:06:44.448188Z",
     "iopub.status.idle": "2020-09-29T01:06:45.724792Z",
     "shell.execute_reply": "2020-09-29T01:06:45.725286Z"
    }
   },
   "outputs": [],
   "source": [
    "import datacube\n",
    "dc = datacube.Datacube(app = \"notebook: {}, version: {}\".format(algorithm, version))"
   ]
  },
  {
   "cell_type": "markdown",
   "metadata": {},
   "source": [
    "### 1. Query and preprocess Data"
   ]
  },
  {
   "cell_type": "markdown",
   "metadata": {},
   "source": [
    "> #### Define area and product"
   ]
  },
  {
   "cell_type": "code",
   "execution_count": null,
   "metadata": {
    "execution": {
     "iopub.execute_input": "2020-09-29T01:06:45.729909Z",
     "iopub.status.busy": "2020-09-29T01:06:45.729169Z",
     "iopub.status.idle": "2020-09-29T01:06:45.778968Z",
     "shell.execute_reply": "2020-09-29T01:06:45.779381Z"
    }
   },
   "outputs": [],
   "source": [
    "dc.list_products()"
   ]
  },
  {
   "cell_type": "code",
   "execution_count": null,
   "metadata": {
    "execution": {
     "iopub.execute_input": "2020-09-29T01:06:45.782975Z",
     "iopub.status.busy": "2020-09-29T01:06:45.782466Z",
     "iopub.status.idle": "2020-09-29T01:06:45.784625Z",
     "shell.execute_reply": "2020-09-29T01:06:45.784179Z"
    }
   },
   "outputs": [],
   "source": [
    "product   = \"s1monthly_gamma0_ghana\"\n",
    "\n",
    "# Tano-Offin Forest Reserve, Ghana\n",
    "latitude_extents = (6.5991, 6.6823)\n",
    "longitude_extents = (-2.3071, -2.1712)\n",
    "\n",
    "# Colombia\n",
    "# latitude_extents = (    1.487715,   1.540572)\n",
    "# longitude_extents = ( -74.859247 ,-74.81)"
   ]
  },
  {
   "cell_type": "markdown",
   "metadata": {},
   "source": [
    "> #### Visualize area"
   ]
  },
  {
   "cell_type": "code",
   "execution_count": null,
   "metadata": {
    "execution": {
     "iopub.execute_input": "2020-09-29T01:06:45.787772Z",
     "iopub.status.busy": "2020-09-29T01:06:45.787357Z",
     "iopub.status.idle": "2020-09-29T01:06:45.962627Z",
     "shell.execute_reply": "2020-09-29T01:06:45.963078Z"
    }
   },
   "outputs": [],
   "source": [
    "from utils.data_cube_utilities.dc_display_map import display_map\n",
    "display_map(latitude  = latitude_extents,\n",
    "            longitude = longitude_extents)  "
   ]
  },
  {
   "cell_type": "markdown",
   "metadata": {},
   "source": [
    "> #### Load Data"
   ]
  },
  {
   "cell_type": "code",
   "execution_count": null,
   "metadata": {
    "execution": {
     "iopub.execute_input": "2020-09-29T01:06:45.966883Z",
     "iopub.status.busy": "2020-09-29T01:06:45.966464Z",
     "iopub.status.idle": "2020-09-29T01:06:50.230515Z",
     "shell.execute_reply": "2020-09-29T01:06:50.231374Z"
    }
   },
   "outputs": [],
   "source": [
    "raw_dataset = dc.load(product = product,\n",
    "                   latitude  = latitude_extents, \n",
    "                   longitude = longitude_extents)"
   ]
  },
  {
   "cell_type": "code",
   "execution_count": null,
   "metadata": {
    "execution": {
     "iopub.execute_input": "2020-09-29T01:06:50.251079Z",
     "iopub.status.busy": "2020-09-29T01:06:50.246509Z",
     "iopub.status.idle": "2020-09-29T01:06:50.266636Z",
     "shell.execute_reply": "2020-09-29T01:06:50.267417Z"
    },
    "scrolled": true
   },
   "outputs": [],
   "source": [
    "raw_dataset"
   ]
  },
  {
   "cell_type": "markdown",
   "metadata": {},
   "source": [
    "> #### Clean Data\n",
    "As a result of an ingestion experiment. Some datasets include time slices filled with 0 valued pixels. The code below removies them. "
   ]
  },
  {
   "cell_type": "code",
   "execution_count": null,
   "metadata": {
    "execution": {
     "iopub.execute_input": "2020-09-29T01:06:50.272736Z",
     "iopub.status.busy": "2020-09-29T01:06:50.271961Z",
     "iopub.status.idle": "2020-09-29T01:06:50.493911Z",
     "shell.execute_reply": "2020-09-29T01:06:50.494369Z"
    }
   },
   "outputs": [],
   "source": [
    "import xarray as xr  \n",
    "import numpy as np\n",
    "import matplotlib.pyplot as plt\n",
    "\n",
    "def remove_all_zero(dataset):\n",
    "    return dataset.drop([c[0].values \n",
    "        for c in [(t,np.count_nonzero(dataset.sel(time=t).vv)) \n",
    "                  for t in dataset.time] if c[1]==0],dim='time')"
   ]
  },
  {
   "cell_type": "code",
   "execution_count": null,
   "metadata": {
    "execution": {
     "iopub.execute_input": "2020-09-29T01:06:50.505928Z",
     "iopub.status.busy": "2020-09-29T01:06:50.505449Z",
     "iopub.status.idle": "2020-09-29T01:06:50.507137Z",
     "shell.execute_reply": "2020-09-29T01:06:50.507553Z"
    }
   },
   "outputs": [],
   "source": [
    "from typing import List  \n",
    "import itertools\n",
    "\n",
    "has_time_dimension = lambda x: \"time\" in dict(x.dims).keys()\n",
    "get_first = lambda x: x[0]\n",
    "get_last =  lambda x: x[-1]\n",
    "\n",
    "\n",
    "def group_dates_by_day( dates: List[np.datetime64]) -> List[List[np.datetime64]]:\n",
    "    generate_key = lambda b: ((b - np.datetime64('1970-01-01T00:00:00Z')) / (np.timedelta64(1, 'h')*24)).astype(int)\n",
    "    return [list(group) for key, group in itertools.groupby(dates, key=generate_key)]\n",
    "\n",
    "def reduce_on_day(ds: xr.Dataset,\n",
    "                  reduction_func: np.ufunc = np.nanmean) -> xr.Dataset:\n",
    "    #Group dates by day into date_groups\n",
    "    day_groups = group_dates_by_day(ds.time.values)\n",
    "    \n",
    "    #slice large dataset into many smaller datasets by date_group\n",
    "    group_chunks = (ds.sel(time = t) for t in day_groups)\n",
    "    \n",
    "    #reduce each dataset using something like \"average\" or \"median\" such that many values for a day become one value   \n",
    "    group_slices = (_ds.reduce(reduction_func, dim = \"time\") for _ds in group_chunks if has_time_dimension(_ds))\n",
    "\n",
    "    #recombine slices into larger dataset\n",
    "    new_dataset  = xr.concat(group_slices, dim = \"time\") \n",
    "    \n",
    "    #rename times values using the first time in each date_group  \n",
    "    new_times = list(map(get_first, day_groups))    \n",
    "    new_dataset = new_dataset.reindex(dict(time = np.array(new_times)))\n",
    "    \n",
    "    return new_dataset\n",
    "    "
   ]
  },
  {
   "cell_type": "code",
   "execution_count": null,
   "metadata": {
    "execution": {
     "iopub.execute_input": "2020-09-29T01:06:50.514251Z",
     "iopub.status.busy": "2020-09-29T01:06:50.513846Z",
     "iopub.status.idle": "2020-09-29T01:06:50.648214Z",
     "shell.execute_reply": "2020-09-29T01:06:50.648664Z"
    }
   },
   "outputs": [],
   "source": [
    "cleaned_dataset = remove_all_zero(raw_dataset)"
   ]
  },
  {
   "cell_type": "code",
   "execution_count": null,
   "metadata": {
    "execution": {
     "iopub.execute_input": "2020-09-29T01:06:50.654087Z",
     "iopub.status.busy": "2020-09-29T01:06:50.653111Z",
     "iopub.status.idle": "2020-09-29T01:06:51.180083Z",
     "shell.execute_reply": "2020-09-29T01:06:51.179595Z"
    }
   },
   "outputs": [],
   "source": [
    "cleaned_dataset = reduce_on_day(cleaned_dataset)"
   ]
  },
  {
   "cell_type": "code",
   "execution_count": null,
   "metadata": {
    "execution": {
     "iopub.execute_input": "2020-09-29T01:06:51.190669Z",
     "iopub.status.busy": "2020-09-29T01:06:51.188219Z",
     "iopub.status.idle": "2020-09-29T01:06:51.205951Z",
     "shell.execute_reply": "2020-09-29T01:06:51.206363Z"
    }
   },
   "outputs": [],
   "source": [
    "cleaned_dataset"
   ]
  },
  {
   "cell_type": "markdown",
   "metadata": {},
   "source": [
    "> #### Log Normalization"
   ]
  },
  {
   "cell_type": "code",
   "execution_count": null,
   "metadata": {
    "execution": {
     "iopub.execute_input": "2020-09-29T01:06:51.230532Z",
     "iopub.status.busy": "2020-09-29T01:06:51.225019Z",
     "iopub.status.idle": "2020-09-29T01:06:52.550739Z",
     "shell.execute_reply": "2020-09-29T01:06:52.551171Z"
    }
   },
   "outputs": [],
   "source": [
    "%matplotlib inline\n",
    "import matplotlib.patches as mpatches\n",
    "plt.figure(figsize = (15,4))\n",
    "\n",
    "color_patches = list(map(lambda color, label: mpatches.Patch(color=color, label=label), [\"blue\", \"orange\"], [\"VV\", \"VH\"])) \n",
    "plt.legend(handles=color_patches, loc='best')\n",
    "\n",
    "_ = cleaned_dataset.vv.plot.hist(bins = 200 , alpha = 0.5)\n",
    "_ = cleaned_dataset.vh.plot.hist(bins = 200, alpha = 0.5)\n",
    "plt.title(\"Histogram: VV, VH (Without log normalization)\")"
   ]
  },
  {
   "cell_type": "code",
   "execution_count": null,
   "metadata": {
    "execution": {
     "iopub.execute_input": "2020-09-29T01:06:52.555149Z",
     "iopub.status.busy": "2020-09-29T01:06:52.554706Z",
     "iopub.status.idle": "2020-09-29T01:06:52.999765Z",
     "shell.execute_reply": "2020-09-29T01:06:53.000186Z"
    }
   },
   "outputs": [],
   "source": [
    "normalized_dataset = xr.merge([\n",
    "    10*np.log10( - cleaned_dataset.vv),\n",
    "    10*np.log10(- cleaned_dataset.vh)])"
   ]
  },
  {
   "cell_type": "code",
   "execution_count": null,
   "metadata": {
    "execution": {
     "iopub.execute_input": "2020-09-29T01:06:53.004044Z",
     "iopub.status.busy": "2020-09-29T01:06:53.003639Z",
     "iopub.status.idle": "2020-09-29T01:06:53.143310Z",
     "shell.execute_reply": "2020-09-29T01:06:53.142824Z"
    }
   },
   "outputs": [],
   "source": [
    "normalized_dataset = xr.merge([\n",
    "    normalized_dataset.vv.where(np.isfinite(normalized_dataset.vv)),\n",
    "    normalized_dataset.vh.where(np.isfinite(normalized_dataset.vh))\n",
    "])"
   ]
  },
  {
   "cell_type": "code",
   "execution_count": null,
   "metadata": {
    "execution": {
     "iopub.execute_input": "2020-09-29T01:06:53.147345Z",
     "iopub.status.busy": "2020-09-29T01:06:53.146928Z",
     "iopub.status.idle": "2020-09-29T01:06:53.148722Z",
     "shell.execute_reply": "2020-09-29T01:06:53.149122Z"
    }
   },
   "outputs": [],
   "source": [
    "import numpy as np \n",
    "def finite_histogram(data_array, *args, **kwargs):\n",
    "    x = data_array.values.copy()\n",
    "    x = x[~np.isnan(x)]\n",
    "    x = x[np.isfinite(x)]\n",
    "    \n",
    "    return plt.hist(x,*args, **kwargs)"
   ]
  },
  {
   "cell_type": "code",
   "execution_count": null,
   "metadata": {
    "execution": {
     "iopub.execute_input": "2020-09-29T01:06:53.165288Z",
     "iopub.status.busy": "2020-09-29T01:06:53.164602Z",
     "iopub.status.idle": "2020-09-29T01:06:55.816264Z",
     "shell.execute_reply": "2020-09-29T01:06:55.815787Z"
    },
    "scrolled": false
   },
   "outputs": [],
   "source": [
    "plt.figure(figsize = (15,4))\n",
    "\n",
    "color_patches = list(map(lambda color, label: mpatches.Patch(color=color, label=label), [\"blue\", \"orange\"], [\"VV\", \"VH\"])) \n",
    "plt.legend(handles=color_patches, loc='best')\n",
    "\n",
    "_ = finite_histogram(normalized_dataset.vv,bins = 500,   range=[-0, 20], alpha = 0.5)\n",
    "_ = finite_histogram(normalized_dataset.vh, bins = 500,  range=[-0, 20], alpha = 0.5)\n",
    "plt.title(\"Histogram: VV, VH (Log Normalized)\")"
   ]
  },
  {
   "cell_type": "markdown",
   "metadata": {},
   "source": [
    "### 2. Define Global Parameters for Deutscher algorithm"
   ]
  },
  {
   "cell_type": "code",
   "execution_count": null,
   "metadata": {
    "execution": {
     "iopub.execute_input": "2020-09-29T01:06:55.819447Z",
     "iopub.status.busy": "2020-09-29T01:06:55.819037Z",
     "iopub.status.idle": "2020-09-29T01:06:55.821319Z",
     "shell.execute_reply": "2020-09-29T01:06:55.820886Z"
    }
   },
   "outputs": [],
   "source": [
    "n = window_size = 3\n",
    "band = \"vv\"\n",
    "time_range = (\"2015-09-01\", \"2017-01-01\")"
   ]
  },
  {
   "cell_type": "markdown",
   "metadata": {},
   "source": [
    "### 3. Explore Sentinel 1 statistical composites "
   ]
  },
  {
   "cell_type": "code",
   "execution_count": null,
   "metadata": {
    "execution": {
     "iopub.execute_input": "2020-09-29T01:06:55.824038Z",
     "iopub.status.busy": "2020-09-29T01:06:55.823642Z",
     "iopub.status.idle": "2020-09-29T01:06:55.825463Z",
     "shell.execute_reply": "2020-09-29T01:06:55.825811Z"
    }
   },
   "outputs": [],
   "source": [
    "subject = normalized_dataset"
   ]
  },
  {
   "cell_type": "code",
   "execution_count": null,
   "metadata": {
    "execution": {
     "iopub.execute_input": "2020-09-29T01:06:55.828883Z",
     "iopub.status.busy": "2020-09-29T01:06:55.828485Z",
     "iopub.status.idle": "2020-09-29T01:06:55.868177Z",
     "shell.execute_reply": "2020-09-29T01:06:55.868623Z"
    }
   },
   "outputs": [],
   "source": [
    "# subject = normalized_dataset #or log_nomralized_dataset  \n",
    "data_array = subject[band]\n",
    "data_array = data_array.where(data_array != 0)"
   ]
  },
  {
   "cell_type": "markdown",
   "metadata": {},
   "source": [
    "> #### Coefficient of Variance"
   ]
  },
  {
   "cell_type": "code",
   "execution_count": null,
   "metadata": {
    "execution": {
     "iopub.execute_input": "2020-09-29T01:06:55.874069Z",
     "iopub.status.busy": "2020-09-29T01:06:55.873657Z",
     "iopub.status.idle": "2020-09-29T01:06:55.875817Z",
     "shell.execute_reply": "2020-09-29T01:06:55.875461Z"
    }
   },
   "outputs": [],
   "source": [
    "import xarray as xr\n",
    "import numpy as np  \n",
    "\n",
    "def np_cv(arr:np.array, axis = None) -> np.array:\n",
    "    mu = np.nanmean(arr, axis = axis)\n",
    "    std = np.nanstd(arr, axis = axis)\n",
    "    return mu/std\n",
    "\n",
    "def global_coefficeint_of_variance(ds:xr.Dataset) -> xr.DataArray:\n",
    "    arrays = [ds[variable].values for variable in ds.data_vars]\n",
    "    concatted_array = np.concatenate(arrays)\n",
    "    dims = ['latitude', 'longitude']\n",
    "    return xr.DataArray(data = np_cv(concatted_array, axis = 0),\n",
    "                        coords = [ds[dim] for dim in dims],\n",
    "                        attrs  = ds.attrs)\n",
    "    "
   ]
  },
  {
   "cell_type": "code",
   "execution_count": null,
   "metadata": {
    "execution": {
     "iopub.execute_input": "2020-09-29T01:06:55.878704Z",
     "iopub.status.busy": "2020-09-29T01:06:55.878302Z",
     "iopub.status.idle": "2020-09-29T01:06:56.462535Z",
     "shell.execute_reply": "2020-09-29T01:06:56.462041Z"
    },
    "scrolled": false
   },
   "outputs": [],
   "source": [
    "dataset_cov = global_coefficeint_of_variance(subject) # if you wish to include both VV and VH\n",
    "dataset_cov = dataset_cov.to_dataset(name = \"cov\")"
   ]
  },
  {
   "cell_type": "code",
   "execution_count": null,
   "metadata": {
    "execution": {
     "iopub.execute_input": "2020-09-29T01:06:56.466052Z",
     "iopub.status.busy": "2020-09-29T01:06:56.465640Z",
     "iopub.status.idle": "2020-09-29T01:06:56.868040Z",
     "shell.execute_reply": "2020-09-29T01:06:56.867587Z"
    }
   },
   "outputs": [],
   "source": [
    "dataset_cov.cov.plot()"
   ]
  },
  {
   "cell_type": "code",
   "execution_count": null,
   "metadata": {
    "execution": {
     "iopub.execute_input": "2020-09-29T01:06:56.871724Z",
     "iopub.status.busy": "2020-09-29T01:06:56.871322Z",
     "iopub.status.idle": "2020-09-29T01:06:57.664021Z",
     "shell.execute_reply": "2020-09-29T01:06:57.664470Z"
    }
   },
   "outputs": [],
   "source": [
    "plt.figure(figsize = (15,2))\n",
    "_ = finite_histogram(dataset_cov.cov, bins = 500)"
   ]
  },
  {
   "cell_type": "markdown",
   "metadata": {},
   "source": [
    "> #### Mean"
   ]
  },
  {
   "cell_type": "code",
   "execution_count": null,
   "metadata": {
    "execution": {
     "iopub.execute_input": "2020-09-29T01:06:57.667977Z",
     "iopub.status.busy": "2020-09-29T01:06:57.667555Z",
     "iopub.status.idle": "2020-09-29T01:06:57.738601Z",
     "shell.execute_reply": "2020-09-29T01:06:57.739048Z"
    }
   },
   "outputs": [],
   "source": [
    "dataset_mean = data_array.reduce(np.nanmean, dim = \"time\").to_dataset(name = \"mu\")"
   ]
  },
  {
   "cell_type": "code",
   "execution_count": null,
   "metadata": {
    "execution": {
     "iopub.execute_input": "2020-09-29T01:06:57.742675Z",
     "iopub.status.busy": "2020-09-29T01:06:57.742260Z",
     "iopub.status.idle": "2020-09-29T01:06:58.113108Z",
     "shell.execute_reply": "2020-09-29T01:06:58.113558Z"
    },
    "scrolled": true
   },
   "outputs": [],
   "source": [
    "dataset_mean.mu.plot(vmin=0,vmax=np.max(dataset_mean.mu))"
   ]
  },
  {
   "cell_type": "code",
   "execution_count": null,
   "metadata": {
    "execution": {
     "iopub.execute_input": "2020-09-29T01:06:58.117582Z",
     "iopub.status.busy": "2020-09-29T01:06:58.117137Z",
     "iopub.status.idle": "2020-09-29T01:06:59.063192Z",
     "shell.execute_reply": "2020-09-29T01:06:59.063553Z"
    }
   },
   "outputs": [],
   "source": [
    "plt.figure(figsize = (15,2))\n",
    "_ = finite_histogram(dataset_mean.mu, bins = 500)"
   ]
  },
  {
   "cell_type": "markdown",
   "metadata": {},
   "source": [
    ">#### Min"
   ]
  },
  {
   "cell_type": "code",
   "execution_count": null,
   "metadata": {
    "execution": {
     "iopub.execute_input": "2020-09-29T01:06:59.066896Z",
     "iopub.status.busy": "2020-09-29T01:06:59.066470Z",
     "iopub.status.idle": "2020-09-29T01:06:59.118307Z",
     "shell.execute_reply": "2020-09-29T01:06:59.118750Z"
    }
   },
   "outputs": [],
   "source": [
    "dataset_min = data_array.min(dim = \"time\").to_dataset(name = \"ds_min\")"
   ]
  },
  {
   "cell_type": "code",
   "execution_count": null,
   "metadata": {
    "execution": {
     "iopub.execute_input": "2020-09-29T01:06:59.122304Z",
     "iopub.status.busy": "2020-09-29T01:06:59.121900Z",
     "iopub.status.idle": "2020-09-29T01:06:59.502045Z",
     "shell.execute_reply": "2020-09-29T01:06:59.502487Z"
    }
   },
   "outputs": [],
   "source": [
    "dataset_min.ds_min.plot(vmin=0,vmax=np.max(dataset_mean.mu))"
   ]
  },
  {
   "cell_type": "code",
   "execution_count": null,
   "metadata": {
    "execution": {
     "iopub.execute_input": "2020-09-29T01:06:59.506508Z",
     "iopub.status.busy": "2020-09-29T01:06:59.506099Z",
     "iopub.status.idle": "2020-09-29T01:07:00.283372Z",
     "shell.execute_reply": "2020-09-29T01:07:00.283831Z"
    },
    "scrolled": false
   },
   "outputs": [],
   "source": [
    "plt.figure(figsize = (15,2))\n",
    "_ = finite_histogram(dataset_min.ds_min, bins = 500)"
   ]
  },
  {
   "cell_type": "markdown",
   "metadata": {},
   "source": [
    "# All at once"
   ]
  },
  {
   "cell_type": "code",
   "execution_count": null,
   "metadata": {
    "execution": {
     "iopub.execute_input": "2020-09-29T01:07:00.533966Z",
     "iopub.status.busy": "2020-09-29T01:07:00.533446Z",
     "iopub.status.idle": "2020-09-29T01:07:03.481588Z",
     "shell.execute_reply": "2020-09-29T01:07:03.482023Z"
    }
   },
   "outputs": [],
   "source": [
    "plt.figure(figsize = (15,2))\n",
    "\n",
    "\n",
    "color_patches = list(map(lambda color, label: mpatches.Patch(color=color, label=label), [\"skyblue\", \"red\", \"green\"], [\"min\", \"cov\", \"mean\"])) \n",
    "plt.legend(handles=color_patches, loc='best')\n",
    "\n",
    "_ = finite_histogram(dataset_min.ds_min, bins = 500, alpha = 0.5, range = [-5,25], color = \"skyblue\")\n",
    "_ = finite_histogram(dataset_cov.cov, bins = 500, alpha = 0.5, range = [-5,25], color = \"red\")\n",
    "_ = finite_histogram(dataset_mean.mu, bins = 500, alpha = 0.5, range = [-5,25], color = \"green\")"
   ]
  },
  {
   "cell_type": "markdown",
   "metadata": {},
   "source": [
    "### 4. Plot RGB false color composites"
   ]
  },
  {
   "cell_type": "code",
   "execution_count": null,
   "metadata": {
    "execution": {
     "iopub.execute_input": "2020-09-29T01:07:03.485542Z",
     "iopub.status.busy": "2020-09-29T01:07:03.485029Z",
     "iopub.status.idle": "2020-09-29T01:07:03.487541Z",
     "shell.execute_reply": "2020-09-29T01:07:03.487100Z"
    }
   },
   "outputs": [],
   "source": [
    "from utils.data_cube_utilities.dc_rgb import rgb"
   ]
  },
  {
   "cell_type": "code",
   "execution_count": null,
   "metadata": {
    "execution": {
     "iopub.execute_input": "2020-09-29T01:07:03.492722Z",
     "iopub.status.busy": "2020-09-29T01:07:03.492053Z",
     "iopub.status.idle": "2020-09-29T01:07:03.497279Z",
     "shell.execute_reply": "2020-09-29T01:07:03.497637Z"
    }
   },
   "outputs": [],
   "source": [
    "import xarray as xr \n",
    "from functools import reduce  \n",
    "\n",
    "stats_dataset = xr.merge([dataset_cov, dataset_mean, dataset_min])\n",
    "stats_dataset = stats_dataset.where(reduce(np.logical_and , [np.isfinite(stats_dataset.ds_min.values),\n",
    "                        np.isfinite(stats_dataset.mu.values),\n",
    "                        np.isfinite(stats_dataset.cov.values)]))"
   ]
  },
  {
   "cell_type": "markdown",
   "metadata": {},
   "source": [
    "> #### RGB Composite 1  \n",
    ">  R : Coefficient of variation  \n",
    ">  G : Mean  \n",
    ">  B : Coefficient of variation  \n"
   ]
  },
  {
   "cell_type": "code",
   "execution_count": null,
   "metadata": {
    "execution": {
     "iopub.execute_input": "2020-09-29T01:07:03.500851Z",
     "iopub.status.busy": "2020-09-29T01:07:03.500436Z",
     "iopub.status.idle": "2020-09-29T01:07:03.869732Z",
     "shell.execute_reply": "2020-09-29T01:07:03.870193Z"
    },
    "scrolled": false
   },
   "outputs": [],
   "source": [
    "rgb(stats_dataset, bands= [\"cov\", \"mu\", \"cov\"])"
   ]
  },
  {
   "cell_type": "markdown",
   "metadata": {},
   "source": [
    "> #### RGB Composite 2  \n",
    "> R : Coefficient of variation  \n",
    "> G : mean  \n",
    "> B : minimum \n"
   ]
  },
  {
   "cell_type": "code",
   "execution_count": null,
   "metadata": {
    "execution": {
     "iopub.execute_input": "2020-09-29T01:07:03.874256Z",
     "iopub.status.busy": "2020-09-29T01:07:03.873839Z",
     "iopub.status.idle": "2020-09-29T01:07:04.232579Z",
     "shell.execute_reply": "2020-09-29T01:07:04.233044Z"
    }
   },
   "outputs": [],
   "source": [
    "rgb(stats_dataset, bands= [\"cov\", \"mu\", \"ds_min\"])"
   ]
  },
  {
   "cell_type": "markdown",
   "metadata": {},
   "source": [
    "### 5. Develop a Backscatter Trend Product"
   ]
  },
  {
   "cell_type": "code",
   "execution_count": null,
   "metadata": {
    "execution": {
     "iopub.execute_input": "2020-09-29T01:07:04.236460Z",
     "iopub.status.busy": "2020-09-29T01:07:04.236034Z",
     "iopub.status.idle": "2020-09-29T01:07:04.238192Z",
     "shell.execute_reply": "2020-09-29T01:07:04.237760Z"
    }
   },
   "outputs": [],
   "source": [
    "bt_source = data_array  "
   ]
  },
  {
   "cell_type": "code",
   "execution_count": null,
   "metadata": {
    "execution": {
     "iopub.execute_input": "2020-09-29T01:07:04.242774Z",
     "iopub.status.busy": "2020-09-29T01:07:04.242364Z",
     "iopub.status.idle": "2020-09-29T01:07:04.247046Z",
     "shell.execute_reply": "2020-09-29T01:07:04.246622Z"
    }
   },
   "outputs": [],
   "source": [
    "n_earliest_times = bt_source.time.values[0:n] ##  Select First N dates in xarray\n",
    "n_latest_times   = bt_source.time.values[-n:] ##  Select Last N dates in xarray\n",
    "\n",
    "ds_before = bt_source.sel(time = n_earliest_times) ## Subset xarray datasets into before time frame\n",
    "ds_after  = bt_source.sel(time = n_latest_times)   ## Subset xarray datasets into after  time frame"
   ]
  },
  {
   "cell_type": "code",
   "execution_count": null,
   "metadata": {
    "execution": {
     "iopub.execute_input": "2020-09-29T01:07:04.250040Z",
     "iopub.status.busy": "2020-09-29T01:07:04.249621Z",
     "iopub.status.idle": "2020-09-29T01:07:04.251273Z",
     "shell.execute_reply": "2020-09-29T01:07:04.251683Z"
    }
   },
   "outputs": [],
   "source": [
    "def delta(after,before):\n",
    "    return (before - after)"
   ]
  },
  {
   "cell_type": "code",
   "execution_count": null,
   "metadata": {
    "execution": {
     "iopub.execute_input": "2020-09-29T01:07:04.254556Z",
     "iopub.status.busy": "2020-09-29T01:07:04.254150Z",
     "iopub.status.idle": "2020-09-29T01:07:04.265389Z",
     "shell.execute_reply": "2020-09-29T01:07:04.264936Z"
    }
   },
   "outputs": [],
   "source": [
    "ds_after_mean  = ds_after.mean(dim = 'time')\n",
    "ds_before_mean = ds_before.mean(dim = 'time')"
   ]
  },
  {
   "cell_type": "code",
   "execution_count": null,
   "metadata": {
    "execution": {
     "iopub.execute_input": "2020-09-29T01:07:04.269095Z",
     "iopub.status.busy": "2020-09-29T01:07:04.268585Z",
     "iopub.status.idle": "2020-09-29T01:07:04.271552Z",
     "shell.execute_reply": "2020-09-29T01:07:04.271114Z"
    }
   },
   "outputs": [],
   "source": [
    "bt =  delta(ds_before_mean, ds_after_mean).to_dataset(name = \"backscatter_trend\")"
   ]
  },
  {
   "cell_type": "code",
   "execution_count": null,
   "metadata": {
    "execution": {
     "iopub.execute_input": "2020-09-29T01:07:04.275527Z",
     "iopub.status.busy": "2020-09-29T01:07:04.275109Z",
     "iopub.status.idle": "2020-09-29T01:07:04.276799Z",
     "shell.execute_reply": "2020-09-29T01:07:04.277208Z"
    }
   },
   "outputs": [],
   "source": [
    "import numpy as np \n",
    "def finite_histogram(data_array, *args, **kwargs):\n",
    "    x = data_array.values.copy()\n",
    "    x = x[~np.isnan(x)]\n",
    "    x = x[np.isfinite(x)]\n",
    "    \n",
    "    return plt.hist(x,*args, **kwargs)"
   ]
  },
  {
   "cell_type": "code",
   "execution_count": null,
   "metadata": {
    "execution": {
     "iopub.execute_input": "2020-09-29T01:07:04.422376Z",
     "iopub.status.busy": "2020-09-29T01:07:04.421936Z",
     "iopub.status.idle": "2020-09-29T01:07:07.417311Z",
     "shell.execute_reply": "2020-09-29T01:07:07.416841Z"
    }
   },
   "outputs": [],
   "source": [
    "plt.figure(figsize = (15,2.5))\n",
    "plt.title(\"Histogram: Backscatter {}\".format(band))\n",
    "_ = finite_histogram(bt.backscatter_trend, bins = 2000, range = [-5,5])"
   ]
  },
  {
   "cell_type": "markdown",
   "metadata": {},
   "source": [
    "> #### Plot Backscatter Trend"
   ]
  },
  {
   "cell_type": "code",
   "execution_count": null,
   "metadata": {
    "execution": {
     "iopub.execute_input": "2020-09-29T01:07:07.421360Z",
     "iopub.status.busy": "2020-09-29T01:07:07.420839Z",
     "iopub.status.idle": "2020-09-29T01:07:07.423081Z",
     "shell.execute_reply": "2020-09-29T01:07:07.422641Z"
    }
   },
   "outputs": [],
   "source": [
    "def aspect_ratio_helper(x,y, fixed_width = 20):\n",
    "    width = fixed_width\n",
    "    height = y * (fixed_width / x)\n",
    "    return (int(width), int(height))"
   ]
  },
  {
   "cell_type": "code",
   "execution_count": null,
   "metadata": {
    "execution": {
     "iopub.execute_input": "2020-09-29T01:07:07.426578Z",
     "iopub.status.busy": "2020-09-29T01:07:07.426102Z",
     "iopub.status.idle": "2020-09-29T01:07:07.428210Z",
     "shell.execute_reply": "2020-09-29T01:07:07.427771Z"
    }
   },
   "outputs": [],
   "source": [
    "aspect_ratio = aspect_ratio_helper(*bt.backscatter_trend.values.shape)"
   ]
  },
  {
   "cell_type": "code",
   "execution_count": null,
   "metadata": {
    "execution": {
     "iopub.execute_input": "2020-09-29T01:07:07.433615Z",
     "iopub.status.busy": "2020-09-29T01:07:07.432852Z",
     "iopub.status.idle": "2020-09-29T01:07:08.214592Z",
     "shell.execute_reply": "2020-09-29T01:07:08.215047Z"
    }
   },
   "outputs": [],
   "source": [
    "plt.figure(figsize = aspect_ratio)\n",
    "bt.backscatter_trend\\\n",
    "    .isel(latitude  = slice(40,600),\n",
    "          longitude = slice(0, 550))\\\n",
    "    .plot(cmap = \"Greys\", vmin = -10, vmax = 10)"
   ]
  },
  {
   "cell_type": "markdown",
   "metadata": {},
   "source": [
    "### 6. Calculate a Deutscher Product"
   ]
  },
  {
   "cell_type": "code",
   "execution_count": null,
   "metadata": {
    "execution": {
     "iopub.execute_input": "2020-09-29T01:07:08.218560Z",
     "iopub.status.busy": "2020-09-29T01:07:08.218141Z",
     "iopub.status.idle": "2020-09-29T01:07:08.221357Z",
     "shell.execute_reply": "2020-09-29T01:07:08.220918Z"
    }
   },
   "outputs": [],
   "source": [
    "nbt = bt.where(np.isfinite(bt.backscatter_trend.values))"
   ]
  },
  {
   "cell_type": "code",
   "execution_count": null,
   "metadata": {
    "execution": {
     "iopub.execute_input": "2020-09-29T01:07:08.225070Z",
     "iopub.status.busy": "2020-09-29T01:07:08.224650Z",
     "iopub.status.idle": "2020-09-29T01:07:09.691013Z",
     "shell.execute_reply": "2020-09-29T01:07:09.690544Z"
    }
   },
   "outputs": [],
   "source": [
    "plt.figure(figsize = (15,2.5))\n",
    "_ = finite_histogram(nbt.backscatter_trend, bins = 1000)"
   ]
  },
  {
   "cell_type": "code",
   "execution_count": null,
   "metadata": {
    "execution": {
     "iopub.execute_input": "2020-09-29T01:07:09.695552Z",
     "iopub.status.busy": "2020-09-29T01:07:09.694895Z",
     "iopub.status.idle": "2020-09-29T01:07:09.698160Z",
     "shell.execute_reply": "2020-09-29T01:07:09.697720Z"
    }
   },
   "outputs": [],
   "source": [
    "deutscher_product = stats_dataset.cov * nbt.backscatter_trend"
   ]
  },
  {
   "cell_type": "code",
   "execution_count": null,
   "metadata": {
    "execution": {
     "iopub.execute_input": "2020-09-29T01:07:09.972960Z",
     "iopub.status.busy": "2020-09-29T01:07:09.970791Z",
     "iopub.status.idle": "2020-09-29T01:07:11.425135Z",
     "shell.execute_reply": "2020-09-29T01:07:11.425580Z"
    }
   },
   "outputs": [],
   "source": [
    "plt.figure(figsize = (15,2.5))\n",
    "plt.title(\"Histogram: Deutscher\")\n",
    "_ = finite_histogram(deutscher_product, bins = 1000)"
   ]
  },
  {
   "cell_type": "markdown",
   "metadata": {},
   "source": [
    "### 7.  Plot Deustscher"
   ]
  },
  {
   "cell_type": "code",
   "execution_count": null,
   "metadata": {
    "execution": {
     "iopub.execute_input": "2020-09-29T01:07:11.430703Z",
     "iopub.status.busy": "2020-09-29T01:07:11.430287Z",
     "iopub.status.idle": "2020-09-29T01:07:11.432144Z",
     "shell.execute_reply": "2020-09-29T01:07:11.432561Z"
    }
   },
   "outputs": [],
   "source": [
    "#Custom function for a color mapping object\n",
    "from matplotlib.colors import LinearSegmentedColormap\n",
    "import matplotlib.pyplot as plt  \n",
    "\n",
    "def custom_color_mapper(name = \"custom\", val_range = (1.96,1.96), colors = \"RdGnBu\"):\n",
    "    custom_cmap = LinearSegmentedColormap.from_list(name,colors=colors)\n",
    "    \n",
    "    min, max = val_range\n",
    "    step = max/10.0\n",
    "    Z = [min,0],[0,max]\n",
    "    levels = np.arange(min,max+step,step)\n",
    "    cust_map = plt.contourf(Z, 100, cmap=custom_cmap)#cmap = custom_cmap\n",
    "    plt.clf()\n",
    "    return cust_map.cmap"
   ]
  },
  {
   "cell_type": "code",
   "execution_count": null,
   "metadata": {
    "execution": {
     "iopub.execute_input": "2020-09-29T01:07:11.601717Z",
     "iopub.status.busy": "2020-09-29T01:07:11.600165Z",
     "iopub.status.idle": "2020-09-29T01:07:12.345529Z",
     "shell.execute_reply": "2020-09-29T01:07:12.345980Z"
    }
   },
   "outputs": [],
   "source": [
    "aspect_ratio = aspect_ratio_helper(*deutscher_product.values.shape)\n",
    "plt.figure(figsize = aspect_ratio)\n",
    "\n",
    "deutscher_colors = custom_color_mapper(name = \"Deutscher\", colors = [\"red\",\"yellow\", \"green\"])\n",
    "\n",
    "deutscher_product.plot(cmap = deutscher_colors)\n"
   ]
  },
  {
   "cell_type": "code",
   "execution_count": null,
   "metadata": {
    "execution": {
     "iopub.execute_input": "2020-09-29T01:07:12.349785Z",
     "iopub.status.busy": "2020-09-29T01:07:12.349345Z",
     "iopub.status.idle": "2020-09-29T01:07:12.364806Z",
     "shell.execute_reply": "2020-09-29T01:07:12.364371Z"
    }
   },
   "outputs": [],
   "source": [
    "from utils.data_cube_utilities import dc_utilities\n",
    "def export_slice_to_geotiff(ds, path):\n",
    "    dc_utilities.write_geotiff_from_xr(path,\n",
    "                                        ds.astype(np.float32),\n",
    "                                        list(ds.data_vars.keys()),\n",
    "                                        crs=\"EPSG:4326\")"
   ]
  },
  {
   "cell_type": "code",
   "execution_count": null,
   "metadata": {
    "execution": {
     "iopub.execute_input": "2020-09-29T01:07:12.368511Z",
     "iopub.status.busy": "2020-09-29T01:07:12.368096Z",
     "iopub.status.idle": "2020-09-29T01:07:12.382427Z",
     "shell.execute_reply": "2020-09-29T01:07:12.382000Z"
    }
   },
   "outputs": [],
   "source": [
    "export_slice_to_geotiff(deutscher_product.to_dataset(name='deutscher'), 'algorithm[{}][{}][{}].tif'.format(algorithm, version, product))"
   ]
  }
 ],
 "metadata": {
  "kernelspec": {
   "display_name": "Python 3",
   "language": "python",
   "name": "python3"
  },
  "language_info": {
   "codemirror_mode": {
    "name": "ipython",
    "version": 3
   },
   "file_extension": ".py",
   "mimetype": "text/x-python",
   "name": "python",
   "nbconvert_exporter": "python",
   "pygments_lexer": "ipython3",
   "version": "3.6.9"
  }
 },
 "nbformat": 4,
 "nbformat_minor": 2
}
