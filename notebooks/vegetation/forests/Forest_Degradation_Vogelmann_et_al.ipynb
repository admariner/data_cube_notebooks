{
 "cells": [
  {
   "cell_type": "markdown",
   "metadata": {},
   "source": [
    "# Forest Degredation in Vietnam using regression analysis on Landsat Imagery \n",
    "\n",
    "\n",
    "### This notebook:  \n",
    "\n",
    "- applies a forest-degredation monitoring method across a time series of landsat imagery  \n",
    "- displays a rendering of the computed products, \n",
    "- saves computed products off to disk for further validation.  \n",
    "  \n",
    "------  \n",
    "\n",
    "### Motivation   \n",
    "\n",
    "This notebook is inspired by a publication titled **Assessment of Forest Degradation in Vietnam Using Landsat Time Series Data** authored by Vogelmann et al. You can retrieve a copy from `mdpi` by following this [link](http://www.mdpi.com/1999-4907/8/7/238).\n",
    "  \n",
    "-------\n",
    "\n",
    "### Algorithmic Profile  \n",
    "  \n",
    "- This algorithm generates a forest degredation product.\n",
    "- The product is derived from Landsat 7 Collection 1 Tier 2 SR imagery taken from USGS data holdings.\n",
    "- Linear regression is run on an NDVI product, the linear coeffiecient (slope) is used as a proxy for forest degredation (NDVI decrease). \n",
    "-------  \n",
    "  \n",
    "<br>  \n",
    "\n",
    "### Process  \n",
    "For a select year:\n",
    "\n",
    "- Compute the NDVI across all Landsat acquisitons    \n",
    "- Select a time frame of **n** contiguous acquisitions  \n",
    "- run linear regression on time-series stack of each ndvi pixel  \n",
    "- capture slope in a lat,lon referenced grid\n",
    "  \n",
    "-------  \n",
    "  \n",
    "<br>  \n",
    "\n",
    ">#### Flow Diagram  \n",
    "> ![](./diagrams/vogelmann/ndvi_trend.png)  \n",
    "\n",
    "  \n",
    "\n",
    "-------  \n"
   ]
  },
  {
   "cell_type": "code",
   "execution_count": null,
   "metadata": {
    "execution": {
     "iopub.execute_input": "2020-09-29T01:04:06.187173Z",
     "iopub.status.busy": "2020-09-29T01:04:06.186673Z",
     "iopub.status.idle": "2020-09-29T01:04:06.188463Z",
     "shell.execute_reply": "2020-09-29T01:04:06.188881Z"
    }
   },
   "outputs": [],
   "source": [
    "import sys\n",
    "import os\n",
    "sys.path.append(os.environ.get('NOTEBOOK_ROOT'))"
   ]
  },
  {
   "cell_type": "markdown",
   "metadata": {},
   "source": [
    "  \n",
    "------\n",
    "  \n",
    "\n",
    "# Calculations "
   ]
  },
  {
   "cell_type": "markdown",
   "metadata": {},
   "source": [
    "### NDVI  \n",
    "NDVI is a derived index that correlates well with the existance of vegetation.  \n",
    "  \n",
    "<br>\n",
    "\n",
    "$$ NDVI =  \\frac{(NIR - RED)}{(NIR + RED)}$$  \n",
    "\n",
    "<br>\n"
   ]
  },
  {
   "cell_type": "code",
   "execution_count": null,
   "metadata": {
    "execution": {
     "iopub.execute_input": "2020-09-29T01:04:06.192130Z",
     "iopub.status.busy": "2020-09-29T01:04:06.191723Z",
     "iopub.status.idle": "2020-09-29T01:04:06.193573Z",
     "shell.execute_reply": "2020-09-29T01:04:06.193995Z"
    }
   },
   "outputs": [],
   "source": [
    "def NDVI(dataset):\n",
    "    return (dataset.nir - dataset.red)/(dataset.nir + dataset.red).rename(\"NDVI\")"
   ]
  },
  {
   "cell_type": "markdown",
   "metadata": {},
   "source": [
    "<br>  "
   ]
  },
  {
   "cell_type": "markdown",
   "metadata": {},
   "source": [
    "## Linear Regression\n",
    "\n",
    "The following code runs regression analysison every pixel.  \n",
    "\n",
    "\n",
    "If it looks messy, that's probably because the underlying regression needs to handle `nan` values in a very peculiar way.    "
   ]
  },
  {
   "cell_type": "code",
   "execution_count": null,
   "metadata": {
    "execution": {
     "iopub.execute_input": "2020-09-29T01:04:06.200622Z",
     "iopub.status.busy": "2020-09-29T01:04:06.199921Z",
     "iopub.status.idle": "2020-09-29T01:04:06.924584Z",
     "shell.execute_reply": "2020-09-29T01:04:06.924087Z"
    }
   },
   "outputs": [],
   "source": [
    "import xarray as xr  \n",
    "import numpy as np  \n",
    "\n",
    "def _where_not_nan(arr):\n",
    "    return np.where(np.isfinite(arr))\n",
    "\n",
    "def _flatten_shallow(arr):\n",
    "    return arr.reshape(arr.shape[0] * arr.shape[1])  \n",
    "\n",
    "def per_pixel_linear_trend(pixel_da: xr.DataArray) -> xr.DataArray:\n",
    "    time_index_length = len(pixel_da.time)  \n",
    "    \n",
    "    ys = _flatten_shallow(pixel_da.values)\n",
    "    xs = np.array(list(range(time_index_length)))\n",
    "\n",
    "    not_nan = _where_not_nan(ys)[0].astype(int)\n",
    "\n",
    "    xs = xs[not_nan]\n",
    "    ys = ys[not_nan] \n",
    "\n",
    "    pf = np.polyfit(xs,ys, 1)\n",
    "    return xr.DataArray(pf[0])\n",
    "\n",
    "def trend_product(da: xr.DataArray) -> xr.DataArray:\n",
    "    stacked = da.stack(allpoints = ['latitude', 'longitude'])\n",
    "    trend = stacked.groupby('allpoints').apply(per_pixel_linear_trend)\n",
    "    unstacked = trend.unstack('allpoints')\n",
    "    return unstacked.rename(dict(allpoints_level_0 = \"latitude\", allpoints_level_1 = \"longitude\"))\n"
   ]
  },
  {
   "cell_type": "markdown",
   "metadata": {},
   "source": [
    "# Case study  "
   ]
  },
  {
   "cell_type": "markdown",
   "metadata": {},
   "source": [
    "### Spatial Extents "
   ]
  },
  {
   "cell_type": "code",
   "execution_count": null,
   "metadata": {
    "execution": {
     "iopub.execute_input": "2020-09-29T01:04:06.933666Z",
     "iopub.status.busy": "2020-09-29T01:04:06.933181Z",
     "iopub.status.idle": "2020-09-29T01:04:06.934822Z",
     "shell.execute_reply": "2020-09-29T01:04:06.935229Z"
    }
   },
   "outputs": [],
   "source": [
    "# Tano-Offin Forest Reserve, Ghana\n",
    "latitude = (6.5991, 6.6823)\n",
    "longitude = (-2.3071, -2.1712)\n",
    "date_range = ('2000-01-01', '2000-12-31')\n",
    "\n",
    "# Zanzibar, Tanzania\n",
    "# latitude = (-6.2238, -6.1267)\n",
    "# longitude = (39.2298, 39.2909)\n",
    "# date_range = ('2000-01-01', '2000-12-31')"
   ]
  },
  {
   "cell_type": "markdown",
   "metadata": {},
   "source": [
    "### Display basemap of area  "
   ]
  },
  {
   "cell_type": "code",
   "execution_count": null,
   "metadata": {
    "execution": {
     "iopub.execute_input": "2020-09-29T01:04:06.938134Z",
     "iopub.status.busy": "2020-09-29T01:04:06.937713Z",
     "iopub.status.idle": "2020-09-29T01:04:07.136652Z",
     "shell.execute_reply": "2020-09-29T01:04:07.137097Z"
    }
   },
   "outputs": [],
   "source": [
    "from utils.data_cube_utilities.dc_display_map import display_map\n",
    "display_map(latitude = latitude, longitude = longitude)"
   ]
  },
  {
   "cell_type": "markdown",
   "metadata": {},
   "source": [
    "### Load Data  "
   ]
  },
  {
   "cell_type": "markdown",
   "metadata": {},
   "source": [
    "> #### Import datacube"
   ]
  },
  {
   "cell_type": "code",
   "execution_count": null,
   "metadata": {
    "execution": {
     "iopub.execute_input": "2020-09-29T01:04:07.140185Z",
     "iopub.status.busy": "2020-09-29T01:04:07.139768Z",
     "iopub.status.idle": "2020-09-29T01:04:07.683982Z",
     "shell.execute_reply": "2020-09-29T01:04:07.684439Z"
    }
   },
   "outputs": [],
   "source": [
    "from datacube.utils.aws import configure_s3_access\n",
    "configure_s3_access(requester_pays=True)\n",
    "\n",
    "import datacube\n",
    "dc = datacube.Datacube()"
   ]
  },
  {
   "cell_type": "markdown",
   "metadata": {},
   "source": [
    "> #### Load data  "
   ]
  },
  {
   "cell_type": "code",
   "execution_count": null,
   "metadata": {},
   "outputs": [],
   "source": [
    "product = 'ls7_usgs_sr_scene'\n",
    "platform = 'LANDSAT_7'\n",
    "collection = 'c1'\n",
    "level = 'l2'\n",
    "\n",
    "# The spatial stride to reduce the resolution by (1/stride).\n",
    "stride = 2"
   ]
  },
  {
   "cell_type": "code",
   "execution_count": null,
   "metadata": {
    "execution": {
     "iopub.execute_input": "2020-09-29T01:04:07.696904Z",
     "iopub.status.busy": "2020-09-29T01:04:07.696475Z",
     "iopub.status.idle": "2020-09-29T01:04:52.299244Z",
     "shell.execute_reply": "2020-09-29T01:04:52.298737Z"
    }
   },
   "outputs": [],
   "source": [
    "data = dc.load(latitude = latitude, \n",
    "               longitude = longitude,\n",
    "               product = product,\n",
    "               time=date_range,\n",
    "               measurements = ['red', 'nir', 'pixel_qa'],\n",
    "               dask_chunks={'time':5, 'longitude':1000, 'latitude':1000})\n",
    "data = data.isel(longitude=slice(0,len(data.longitude),stride), \n",
    "                 latitude=slice(0,len(data.latitude),stride))"
   ]
  },
  {
   "cell_type": "markdown",
   "metadata": {},
   "source": [
    "### Create a cloud mask\n",
    "Unclear pixels will be masked with a `nan` value.  We'll drop `pixel_qa` from the dataset to preserve memory. "
   ]
  },
  {
   "cell_type": "code",
   "execution_count": null,
   "metadata": {
    "execution": {
     "iopub.execute_input": "2020-09-29T01:04:52.303781Z",
     "iopub.status.busy": "2020-09-29T01:04:52.303003Z",
     "iopub.status.idle": "2020-09-29T01:04:52.554554Z",
     "shell.execute_reply": "2020-09-29T01:04:52.555060Z"
    }
   },
   "outputs": [],
   "source": [
    "from utils.data_cube_utilities.clean_mask import landsat_clean_mask_full\n",
    "\n",
    "mask = landsat_clean_mask_full(dc, data, product=product, platform=platform, \n",
    "                               collection=collection, level=level)\n",
    "data = data.drop(['pixel_qa'])"
   ]
  },
  {
   "cell_type": "markdown",
   "metadata": {},
   "source": [
    "### Calculate NDVI  "
   ]
  },
  {
   "cell_type": "code",
   "execution_count": null,
   "metadata": {
    "execution": {
     "iopub.execute_input": "2020-09-29T01:04:52.559742Z",
     "iopub.status.busy": "2020-09-29T01:04:52.558888Z",
     "iopub.status.idle": "2020-09-29T01:04:53.252765Z",
     "shell.execute_reply": "2020-09-29T01:04:53.253227Z"
    }
   },
   "outputs": [],
   "source": [
    "data = NDVI(data)"
   ]
  },
  {
   "cell_type": "markdown",
   "metadata": {},
   "source": [
    "### Filter clouded/occluded NDVI readings  "
   ]
  },
  {
   "cell_type": "code",
   "execution_count": null,
   "metadata": {
    "execution": {
     "iopub.execute_input": "2020-09-29T01:04:53.257801Z",
     "iopub.status.busy": "2020-09-29T01:04:53.257051Z",
     "iopub.status.idle": "2020-09-29T01:04:53.546766Z",
     "shell.execute_reply": "2020-09-29T01:04:53.547229Z"
    }
   },
   "outputs": [],
   "source": [
    "data = data.where(mask).persist()\n",
    "del mask"
   ]
  },
  {
   "cell_type": "code",
   "execution_count": null,
   "metadata": {},
   "outputs": [],
   "source": [
    "non_nan_mask = ~np.isnan(data).persist()\n",
    "# Fill NaN pixels in pixel stacks with the mean of their stack.\n",
    "filled_data = data.where(non_nan_mask, data.mean('time'))\n",
    "# Fill remaining stacks.\n",
    "filled_data = filled_data.where(non_nan_mask.sum('time'), data.mean())"
   ]
  },
  {
   "cell_type": "markdown",
   "metadata": {},
   "source": [
    "### Run regression  "
   ]
  },
  {
   "cell_type": "code",
   "execution_count": null,
   "metadata": {
    "execution": {
     "iopub.execute_input": "2020-09-29T01:04:53.552098Z",
     "iopub.status.busy": "2020-09-29T01:04:53.551363Z",
     "iopub.status.idle": "2020-09-29T01:06:41.150062Z",
     "shell.execute_reply": "2020-09-29T01:06:41.150530Z"
    }
   },
   "outputs": [],
   "source": [
    "from time import time \n",
    "\n",
    "t1 = time()\n",
    "data = trend_product(filled_data)\n",
    "t2 = time()  "
   ]
  },
  {
   "cell_type": "code",
   "execution_count": null,
   "metadata": {
    "execution": {
     "iopub.execute_input": "2020-09-29T01:06:41.154164Z",
     "iopub.status.busy": "2020-09-29T01:06:41.153575Z",
     "iopub.status.idle": "2020-09-29T01:06:41.156278Z",
     "shell.execute_reply": "2020-09-29T01:06:41.155848Z"
    }
   },
   "outputs": [],
   "source": [
    "print(t2 - t1)"
   ]
  },
  {
   "cell_type": "markdown",
   "metadata": {},
   "source": [
    "### Plot trends below threshold "
   ]
  },
  {
   "cell_type": "code",
   "execution_count": null,
   "metadata": {
    "execution": {
     "iopub.execute_input": "2020-09-29T01:06:41.160228Z",
     "iopub.status.busy": "2020-09-29T01:06:41.159821Z",
     "iopub.status.idle": "2020-09-29T01:06:41.722990Z",
     "shell.execute_reply": "2020-09-29T01:06:41.723430Z"
    }
   },
   "outputs": [],
   "source": [
    "%matplotlib inline \n",
    "filled_data.where(filled_data<0).plot(figsize = (16,11))"
   ]
  },
  {
   "cell_type": "code",
   "execution_count": null,
   "metadata": {
    "execution": {
     "iopub.execute_input": "2020-09-29T01:06:41.730698Z",
     "iopub.status.busy": "2020-09-29T01:06:41.730284Z",
     "iopub.status.idle": "2020-09-29T01:06:42.118043Z",
     "shell.execute_reply": "2020-09-29T01:06:42.118480Z"
    }
   },
   "outputs": [],
   "source": [
    "(-filled_data).plot(figsize = (16,11))"
   ]
  },
  {
   "cell_type": "markdown",
   "metadata": {},
   "source": [
    "# Cited\n",
    "1. Deutscher, Janik & Gutjahr, Karlheinz & Perko, Roland & Raggam, Hannes & Hirschmugl, Manuela & Schardt, Mathias. (2017). Humid Tropical Forest Monitoring with Multi-Temporal L-, C- and X-Band SAR Data. 10.1109/Multi-Temp.2017.8035264.\n"
   ]
  }
 ],
 "metadata": {
  "kernelspec": {
   "display_name": "Python 3",
   "language": "python",
   "name": "python3"
  },
  "language_info": {
   "codemirror_mode": {
    "name": "ipython",
    "version": 3
   },
   "file_extension": ".py",
   "mimetype": "text/x-python",
   "name": "python",
   "nbconvert_exporter": "python",
   "pygments_lexer": "ipython3",
   "version": "3.6.9"
  },
  "pycharm": {
   "stem_cell": {
    "cell_type": "raw",
    "metadata": {
     "collapsed": false
    },
    "source": []
   }
  }
 },
 "nbformat": 4,
 "nbformat_minor": 4
}
