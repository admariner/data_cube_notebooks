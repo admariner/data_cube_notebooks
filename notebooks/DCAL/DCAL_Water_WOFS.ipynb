{
 "cells": [
  {
   "cell_type": "markdown",
   "metadata": {
    "pycharm": {}
   },
   "source": [
    "<a id=\"top\"></a>\n",
    "# Water Observations from Space (WOFS)\n",
    "\n",
    "<hr>\n",
    "\n",
    "# Notebook Summary\n",
    "\n",
    "This notebook demonstrates the Australian Water Observations from Space (WOFS) algorithm. This water detection algorithm is significantly better than the Landsat QA water flag or the NDWI index for water identification. \n",
    "<br><br>\n",
    "For more information, visit this website: http://www.ga.gov.au/scientific-topics/hazards/flood/wofs\n",
    "\n",
    "**Note: this notebook has legacy chunking code to scale the analysis. Do not scale analyses in this manner. For scalability, use the Dask library. See our [Dask tutorial notebook](../scalability/Dask/Dask_Tutorial_notebook.ipynb) for more information.**\n",
    "\n",
    "<hr>\n",
    "\n",
    "# Index\n",
    "\n",
    "* [Import Dependencies and Connect to the Data Cube](#import)\n",
    "* [Choose Platforms and Products](#plat_prod)\n",
    "* [Get the Extents of the Cube](#extents)\n",
    "* [Define the Extents of the Analysis](#define_extents)\n",
    "* [Load and Clean Data from the Data Cube](#load_data)\n",
    "* [Time Series Water Detection Analysis](#time_series_water)\n",
    "* [Create GeoTIFF Output Products](#export)"
   ]
  },
  {
   "cell_type": "markdown",
   "metadata": {
    "pycharm": {}
   },
   "source": [
    "Set **nb_name** to the name of this notebook for storing files separately from copies of it."
   ]
  },
  {
   "cell_type": "code",
   "execution_count": 1,
   "metadata": {
    "execution": {
     "iopub.execute_input": "2020-09-29T00:53:32.967279Z",
     "iopub.status.busy": "2020-09-29T00:53:32.966715Z",
     "iopub.status.idle": "2020-09-29T00:53:32.967680Z",
     "shell.execute_reply": "2020-09-29T00:53:32.968086Z"
    },
    "pycharm": {},
    "scrolled": true
   },
   "outputs": [],
   "source": [
    "nb_name = \"DCAL_Water_WOFS\""
   ]
  },
  {
   "cell_type": "markdown",
   "metadata": {
    "pycharm": {}
   },
   "source": [
    "## <span id=\"import\">Import Dependencies and Connect to the Data Cube [&#9652;](#top)</span>"
   ]
  },
  {
   "cell_type": "code",
   "execution_count": 2,
   "metadata": {
    "execution": {
     "iopub.execute_input": "2020-09-29T00:53:32.973178Z",
     "iopub.status.busy": "2020-09-29T00:53:32.972753Z",
     "iopub.status.idle": "2020-09-29T00:53:34.379637Z",
     "shell.execute_reply": "2020-09-29T00:53:34.380011Z"
    },
    "pycharm": {}
   },
   "outputs": [],
   "source": [
    "# Enable importing of utilities.\n",
    "import sys\n",
    "import os\n",
    "sys.path.append(os.environ.get('NOTEBOOK_ROOT'))\n",
    "\n",
    "import numpy as np  \n",
    "import xarray as xr\n",
    "import pandas as pd\n",
    "import matplotlib.pyplot as plt\n",
    "\n",
    "%matplotlib inline\n",
    "\n",
    "# Load Data Cube Configuration\n",
    "import datacube\n",
    "import utils.data_cube_utilities.data_access_api as dc_api\n",
    "\n",
    "api = dc_api.DataAccessApi()\n",
    "dc = api.dc"
   ]
  },
  {
   "cell_type": "markdown",
   "metadata": {
    "pycharm": {
     "metadata": false,
     "name": "#%% md\n"
    }
   },
   "source": [
    "## <span id=\"plat_prod\">Choose Platforms and Products [&#9652;](#top)</span>"
   ]
  },
  {
   "cell_type": "markdown",
   "metadata": {
    "pycharm": {
     "metadata": false,
     "name": "#%% md\n"
    }
   },
   "source": [
    "**List available products for each platform**"
   ]
  },
  {
   "cell_type": "code",
   "execution_count": 3,
   "metadata": {
    "execution": {
     "iopub.execute_input": "2020-09-29T00:53:34.384213Z",
     "iopub.status.busy": "2020-09-29T00:53:34.383766Z",
     "iopub.status.idle": "2020-09-29T00:53:34.416792Z",
     "shell.execute_reply": "2020-09-29T00:53:34.416342Z"
    },
    "pycharm": {
     "metadata": false,
     "name": "#%% \n"
    }
   },
   "outputs": [
    {
     "name": "stdout",
     "output_type": "stream",
     "text": [
      "LANDSAT 7 Products:\n"
     ]
    },
    {
     "data": {
      "text/html": [
       "<div>\n",
       "<style scoped>\n",
       "    .dataframe tbody tr th:only-of-type {\n",
       "        vertical-align: middle;\n",
       "    }\n",
       "\n",
       "    .dataframe tbody tr th {\n",
       "        vertical-align: top;\n",
       "    }\n",
       "\n",
       "    .dataframe thead th {\n",
       "        text-align: right;\n",
       "    }\n",
       "</style>\n",
       "<table border=\"1\" class=\"dataframe\">\n",
       "  <thead>\n",
       "    <tr style=\"text-align: right;\">\n",
       "      <th></th>\n",
       "      <th>platform</th>\n",
       "      <th>name</th>\n",
       "    </tr>\n",
       "    <tr>\n",
       "      <th>id</th>\n",
       "      <th></th>\n",
       "      <th></th>\n",
       "    </tr>\n",
       "  </thead>\n",
       "  <tbody>\n",
       "  </tbody>\n",
       "</table>\n",
       "</div>"
      ],
      "text/plain": [
       "Empty DataFrame\n",
       "Columns: [platform, name]\n",
       "Index: []"
      ]
     },
     "execution_count": 3,
     "metadata": {},
     "output_type": "execute_result"
    }
   ],
   "source": [
    "# Get available products\n",
    "products_info = dc.list_products()\n",
    "\n",
    "# List LANDSAT 7 products\n",
    "print(\"LANDSAT 7 Products:\")\n",
    "products_info[[\"platform\", \"name\"]][products_info.platform == \"LANDSAT_7\"]"
   ]
  },
  {
   "cell_type": "code",
   "execution_count": 4,
   "metadata": {
    "execution": {
     "iopub.execute_input": "2020-09-29T00:53:34.423813Z",
     "iopub.status.busy": "2020-09-29T00:53:34.423395Z",
     "iopub.status.idle": "2020-09-29T00:53:34.426571Z",
     "shell.execute_reply": "2020-09-29T00:53:34.426142Z"
    },
    "pycharm": {
     "metadata": false,
     "name": "#%%\n"
    }
   },
   "outputs": [
    {
     "name": "stdout",
     "output_type": "stream",
     "text": [
      "LANDSAT 8 Products:\n"
     ]
    },
    {
     "data": {
      "text/html": [
       "<div>\n",
       "<style scoped>\n",
       "    .dataframe tbody tr th:only-of-type {\n",
       "        vertical-align: middle;\n",
       "    }\n",
       "\n",
       "    .dataframe tbody tr th {\n",
       "        vertical-align: top;\n",
       "    }\n",
       "\n",
       "    .dataframe thead th {\n",
       "        text-align: right;\n",
       "    }\n",
       "</style>\n",
       "<table border=\"1\" class=\"dataframe\">\n",
       "  <thead>\n",
       "    <tr style=\"text-align: right;\">\n",
       "      <th></th>\n",
       "      <th>platform</th>\n",
       "      <th>name</th>\n",
       "    </tr>\n",
       "    <tr>\n",
       "      <th>id</th>\n",
       "      <th></th>\n",
       "      <th></th>\n",
       "    </tr>\n",
       "  </thead>\n",
       "  <tbody>\n",
       "    <tr>\n",
       "      <th>1</th>\n",
       "      <td>LANDSAT_8</td>\n",
       "      <td>ls8_usgs_sr_scene</td>\n",
       "    </tr>\n",
       "  </tbody>\n",
       "</table>\n",
       "</div>"
      ],
      "text/plain": [
       "     platform               name\n",
       "id                              \n",
       "1   LANDSAT_8  ls8_usgs_sr_scene"
      ]
     },
     "execution_count": 4,
     "metadata": {},
     "output_type": "execute_result"
    }
   ],
   "source": [
    "# List LANDSAT 8 products\n",
    "print(\"LANDSAT 8 Products:\")\n",
    "products_info[[\"platform\", \"name\"]][products_info.platform == \"LANDSAT_8\"]"
   ]
  },
  {
   "cell_type": "markdown",
   "metadata": {
    "pycharm": {
     "metadata": false
    }
   },
   "source": [
    "**Choose products**"
   ]
  },
  {
   "cell_type": "markdown",
   "metadata": {
    "pycharm": {
     "metadata": false,
     "name": "#%% md\n"
    }
   },
   "source": [
    "<p style=\"color:red\";><b>CHANGE INPUTS BELOW"
   ]
  },
  {
   "cell_type": "code",
   "execution_count": 5,
   "metadata": {
    "execution": {
     "iopub.execute_input": "2020-09-29T00:53:34.429530Z",
     "iopub.status.busy": "2020-09-29T00:53:34.429085Z",
     "iopub.status.idle": "2020-09-29T00:53:34.431185Z",
     "shell.execute_reply": "2020-09-29T00:53:34.430753Z"
    },
    "pycharm": {
     "metadata": false,
     "name": "#%%\n"
    }
   },
   "outputs": [],
   "source": [
    "# CHANGE HERE >>>>>>>>>>>>>>>>>\n",
    "\n",
    "# Select a Product and Platform\n",
    "product = 'ls8_usgs_sr_scene'\n",
    "platform = 'LANDSAT_8'\n",
    "collection = 'c1'\n",
    "level = 'l2'"
   ]
  },
  {
   "cell_type": "markdown",
   "metadata": {
    "pycharm": {
     "metadata": false
    }
   },
   "source": [
    "## <span id=\"extents\">Get the Extents of the Cube [&#9652;](#top)</span>"
   ]
  },
  {
   "cell_type": "code",
   "execution_count": 6,
   "metadata": {
    "execution": {
     "iopub.execute_input": "2020-09-29T00:53:34.434874Z",
     "iopub.status.busy": "2020-09-29T00:53:34.434447Z",
     "iopub.status.idle": "2020-09-29T00:53:42.397172Z",
     "shell.execute_reply": "2020-09-29T00:53:42.396719Z"
    },
    "pycharm": {
     "metadata": false,
     "name": "#%%\n"
    }
   },
   "outputs": [
    {
     "name": "stdout",
     "output_type": "stream",
     "text": [
      "Latitude Extents: (-12.633472222323288, 12.623472222323212)\n",
      "Longitude Extents: (-14.630416666783711, 44.009861111463195)\n",
      "Time Extents: ['2013-03-21', '2020-01-27']\n"
     ]
    }
   ],
   "source": [
    "from utils.data_cube_utilities.dc_load import get_product_extents\n",
    "from utils.data_cube_utilities.dc_time import dt_to_str\n",
    "\n",
    "full_lat, full_lon, min_max_dates = get_product_extents(api, platform, product)\n",
    "\n",
    "# Print the extents of the combined data.\n",
    "print(\"Latitude Extents:\", full_lat)\n",
    "print(\"Longitude Extents:\", full_lon)\n",
    "print(\"Time Extents:\", list(map(dt_to_str, min_max_dates)))"
   ]
  },
  {
   "cell_type": "markdown",
   "metadata": {
    "pycharm": {
     "metadata": false,
     "name": "#%% md\n"
    }
   },
   "source": [
    "**Visualize the available area**"
   ]
  },
  {
   "cell_type": "code",
   "execution_count": 7,
   "metadata": {
    "execution": {
     "iopub.execute_input": "2020-09-29T00:53:42.400382Z",
     "iopub.status.busy": "2020-09-29T00:53:42.399959Z",
     "iopub.status.idle": "2020-09-29T00:53:42.574851Z",
     "shell.execute_reply": "2020-09-29T00:53:42.574384Z"
    },
    "pycharm": {
     "metadata": false,
     "name": "#%%\n"
    }
   },
   "outputs": [
    {
     "data": {
      "text/html": [
       "<div style=\"width:100%;\"><div style=\"position:relative;width:100%;height:0;padding-bottom:60%;\"><iframe src=\"data:text/html;charset=utf-8;base64,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\" style=\"position:absolute;width:100%;height:100%;left:0;top:0;border:none !important;\" allowfullscreen webkitallowfullscreen mozallowfullscreen></iframe></div></div>"
      ],
      "text/plain": [
       "<folium.folium.Map at 0x7f2ad5146128>"
      ]
     },
     "execution_count": 7,
     "metadata": {},
     "output_type": "execute_result"
    }
   ],
   "source": [
    "from utils.data_cube_utilities.dc_display_map import display_map\n",
    "display_map(full_lat, full_lon)"
   ]
  },
  {
   "cell_type": "markdown",
   "metadata": {
    "pycharm": {
     "metadata": false
    }
   },
   "source": [
    "## <span id=\"define_extents\">Define the Extents of the Analysis [&#9652;](#top)</span>"
   ]
  },
  {
   "cell_type": "markdown",
   "metadata": {
    "pycharm": {
     "metadata": false
    }
   },
   "source": [
    "<p style=\"color:red\";><b>CHANGE INPUTS BELOW"
   ]
  },
  {
   "cell_type": "code",
   "execution_count": 8,
   "metadata": {
    "execution": {
     "iopub.execute_input": "2020-09-29T00:53:42.582341Z",
     "iopub.status.busy": "2020-09-29T00:53:42.581816Z",
     "iopub.status.idle": "2020-09-29T00:53:42.583928Z",
     "shell.execute_reply": "2020-09-29T00:53:42.583502Z"
    },
    "pycharm": {
     "metadata": false,
     "name": "#%%\n"
    }
   },
   "outputs": [],
   "source": [
    "# Select an analysis region (Lat-Lon) within the extents listed above. \n",
    "# Be sure you check whether you are using L7 or L8 as the time extents are very different\n",
    "# HINT: Keep your region small (<0.5 deg square) to avoid memory overload issues\n",
    "# Select a time period (Min-Max) within the extents listed above (Year-Month-Day)\n",
    "# This region and time period will be used for the water assessment\n",
    "\n",
    "# Mombasa, Kenya\n",
    "latitude_extents = (-4.0475, -3.9574) \n",
    "longitude_extents = (39.6028, 39.6792) \n",
    "time_extents = ('2015-01-01', '2016-12-31')\n",
    "\n",
    "# L. Tanganyika, Tanzania\n",
    "# latitude_extents = (-8.8901, -3.3042) \n",
    "# longitude_extents = (29.0069, 31.2510)\n",
    "# time_extents = ('2016-01-01', '2017-01-01')\n",
    "\n",
    "# L. Turkana, Kenya\n",
    "# latitude_extents = ( 2.3248, 4.6859) \n",
    "# longitude_extents = (35.7751, 36.7639) \n",
    "# time_extents = ('2000-01-01', '2015-01-01')\n",
    "\n",
    "# Ndakaini Dam, Kenya (provides water to Nairobi)\n",
    "# latitude_extents =  (-0.8269, -0.8090) \n",
    "# longitude_extents =  (36.8192, 36.8529)\n",
    "# time_extents = ('2000-01-01', '2018-01-01')"
   ]
  },
  {
   "cell_type": "markdown",
   "metadata": {
    "pycharm": {
     "metadata": false
    }
   },
   "source": [
    "**Visualize the selected area**"
   ]
  },
  {
   "cell_type": "code",
   "execution_count": 9,
   "metadata": {
    "execution": {
     "iopub.execute_input": "2020-09-29T00:53:42.587798Z",
     "iopub.status.busy": "2020-09-29T00:53:42.587139Z",
     "iopub.status.idle": "2020-09-29T00:53:42.595147Z",
     "shell.execute_reply": "2020-09-29T00:53:42.594712Z"
    },
    "pycharm": {}
   },
   "outputs": [
    {
     "data": {
      "text/html": [
       "<div style=\"width:100%;\"><div style=\"position:relative;width:100%;height:0;padding-bottom:60%;\"><iframe src=\"data:text/html;charset=utf-8;base64,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\" style=\"position:absolute;width:100%;height:100%;left:0;top:0;border:none !important;\" allowfullscreen webkitallowfullscreen mozallowfullscreen></iframe></div></div>"
      ],
      "text/plain": [
       "<folium.folium.Map at 0x7f2a94a0ea20>"
      ]
     },
     "execution_count": 9,
     "metadata": {},
     "output_type": "execute_result"
    }
   ],
   "source": [
    "display_map(latitude = latitude_extents, longitude = longitude_extents)"
   ]
  },
  {
   "cell_type": "markdown",
   "metadata": {
    "pycharm": {
     "metadata": false
    }
   },
   "source": [
    "## <span id=\"load_data\">Load and Clean Data from the Data Cube [&#9652;](#top)</span>\n",
    "After loading, you will view the Xarray dataset. Notice the dimensions represent the number of pixels in your latitude and longitude dimension as well as the number of time slices (time) in your time series."
   ]
  },
  {
   "cell_type": "code",
   "execution_count": 10,
   "metadata": {
    "execution": {
     "iopub.execute_input": "2020-09-29T00:53:42.600215Z",
     "iopub.status.busy": "2020-09-29T00:53:42.599743Z",
     "iopub.status.idle": "2020-09-29T00:53:42.661008Z",
     "shell.execute_reply": "2020-09-29T00:53:42.661431Z"
    },
    "pycharm": {}
   },
   "outputs": [
    {
     "name": "stdout",
     "output_type": "stream",
     "text": [
      "<xarray.Dataset>\n",
      "Dimensions:      (latitude: 325, longitude: 276, time: 38)\n",
      "Coordinates:\n",
      "  * time         (time) datetime64[ns] 2015-01-07T07:31:40.460727 ... 2016-12...\n",
      "  * latitude     (latitude) float64 -3.957 -3.958 -3.958 ... -4.047 -4.047\n",
      "  * longitude    (longitude) float64 39.6 39.6 39.6 39.6 ... 39.68 39.68 39.68\n",
      "    spatial_ref  int32 4326\n",
      "Data variables:\n",
      "    *empty*\n",
      "Attributes:\n",
      "    crs:           EPSG:4326\n",
      "    grid_mapping:  spatial_ref\n"
     ]
    }
   ],
   "source": [
    "# Perform an empty load to create a blank dataset with correct dimensions.\n",
    "landsat_dataset = dc.load(\n",
    "    platform = platform,\n",
    "    product = product,\n",
    "    latitude = latitude_extents,\n",
    "    longitude = longitude_extents,\n",
    "    time = time_extents,\n",
    "    measurements = [], # Do not load any measurements.\n",
    ")\n",
    "print(landsat_dataset)\n",
    "ds_times = landsat_dataset.time # Save the acquisition dates for later\n",
    "landsat_dataset = landsat_dataset.drop('time') # Drop time dimension"
   ]
  },
  {
   "cell_type": "code",
   "execution_count": 11,
   "metadata": {
    "execution": {
     "iopub.execute_input": "2020-09-29T00:53:42.669894Z",
     "iopub.status.busy": "2020-09-29T00:53:42.666793Z",
     "iopub.status.idle": "2020-09-29T00:53:42.681890Z",
     "shell.execute_reply": "2020-09-29T00:53:42.682299Z"
    },
    "pycharm": {}
   },
   "outputs": [
    {
     "data": {
      "text/html": [
       "<div><svg style=\"position: absolute; width: 0; height: 0; overflow: hidden\">\n",
       "<defs>\n",
       "<symbol id=\"icon-database\" viewBox=\"0 0 32 32\">\n",
       "<path d=\"M16 0c-8.837 0-16 2.239-16 5v4c0 2.761 7.163 5 16 5s16-2.239 16-5v-4c0-2.761-7.163-5-16-5z\"></path>\n",
       "<path d=\"M16 17c-8.837 0-16-2.239-16-5v6c0 2.761 7.163 5 16 5s16-2.239 16-5v-6c0 2.761-7.163 5-16 5z\"></path>\n",
       "<path d=\"M16 26c-8.837 0-16-2.239-16-5v6c0 2.761 7.163 5 16 5s16-2.239 16-5v-6c0 2.761-7.163 5-16 5z\"></path>\n",
       "</symbol>\n",
       "<symbol id=\"icon-file-text2\" viewBox=\"0 0 32 32\">\n",
       "<path d=\"M28.681 7.159c-0.694-0.947-1.662-2.053-2.724-3.116s-2.169-2.030-3.116-2.724c-1.612-1.182-2.393-1.319-2.841-1.319h-15.5c-1.378 0-2.5 1.121-2.5 2.5v27c0 1.378 1.122 2.5 2.5 2.5h23c1.378 0 2.5-1.122 2.5-2.5v-19.5c0-0.448-0.137-1.23-1.319-2.841zM24.543 5.457c0.959 0.959 1.712 1.825 2.268 2.543h-4.811v-4.811c0.718 0.556 1.584 1.309 2.543 2.268zM28 29.5c0 0.271-0.229 0.5-0.5 0.5h-23c-0.271 0-0.5-0.229-0.5-0.5v-27c0-0.271 0.229-0.5 0.5-0.5 0 0 15.499-0 15.5 0v7c0 0.552 0.448 1 1 1h7v19.5z\"></path>\n",
       "<path d=\"M23 26h-14c-0.552 0-1-0.448-1-1s0.448-1 1-1h14c0.552 0 1 0.448 1 1s-0.448 1-1 1z\"></path>\n",
       "<path d=\"M23 22h-14c-0.552 0-1-0.448-1-1s0.448-1 1-1h14c0.552 0 1 0.448 1 1s-0.448 1-1 1z\"></path>\n",
       "<path d=\"M23 18h-14c-0.552 0-1-0.448-1-1s0.448-1 1-1h14c0.552 0 1 0.448 1 1s-0.448 1-1 1z\"></path>\n",
       "</symbol>\n",
       "</defs>\n",
       "</svg>\n",
       "<style>/* CSS stylesheet for displaying xarray objects in jupyterlab.\n",
       " *\n",
       " */\n",
       "\n",
       ":root {\n",
       "  --xr-font-color0: var(--jp-content-font-color0, rgba(0, 0, 0, 1));\n",
       "  --xr-font-color2: var(--jp-content-font-color2, rgba(0, 0, 0, 0.54));\n",
       "  --xr-font-color3: var(--jp-content-font-color3, rgba(0, 0, 0, 0.38));\n",
       "  --xr-border-color: var(--jp-border-color2, #e0e0e0);\n",
       "  --xr-disabled-color: var(--jp-layout-color3, #bdbdbd);\n",
       "  --xr-background-color: var(--jp-layout-color0, white);\n",
       "  --xr-background-color-row-even: var(--jp-layout-color1, white);\n",
       "  --xr-background-color-row-odd: var(--jp-layout-color2, #eeeeee);\n",
       "}\n",
       "\n",
       "html[theme=dark],\n",
       "body.vscode-dark {\n",
       "  --xr-font-color0: rgba(255, 255, 255, 1);\n",
       "  --xr-font-color2: rgba(255, 255, 255, 0.54);\n",
       "  --xr-font-color3: rgba(255, 255, 255, 0.38);\n",
       "  --xr-border-color: #1F1F1F;\n",
       "  --xr-disabled-color: #515151;\n",
       "  --xr-background-color: #111111;\n",
       "  --xr-background-color-row-even: #111111;\n",
       "  --xr-background-color-row-odd: #313131;\n",
       "}\n",
       "\n",
       ".xr-wrap {\n",
       "  display: block;\n",
       "  min-width: 300px;\n",
       "  max-width: 700px;\n",
       "}\n",
       "\n",
       ".xr-text-repr-fallback {\n",
       "  /* fallback to plain text repr when CSS is not injected (untrusted notebook) */\n",
       "  display: none;\n",
       "}\n",
       "\n",
       ".xr-header {\n",
       "  padding-top: 6px;\n",
       "  padding-bottom: 6px;\n",
       "  margin-bottom: 4px;\n",
       "  border-bottom: solid 1px var(--xr-border-color);\n",
       "}\n",
       "\n",
       ".xr-header > div,\n",
       ".xr-header > ul {\n",
       "  display: inline;\n",
       "  margin-top: 0;\n",
       "  margin-bottom: 0;\n",
       "}\n",
       "\n",
       ".xr-obj-type,\n",
       ".xr-array-name {\n",
       "  margin-left: 2px;\n",
       "  margin-right: 10px;\n",
       "}\n",
       "\n",
       ".xr-obj-type {\n",
       "  color: var(--xr-font-color2);\n",
       "}\n",
       "\n",
       ".xr-sections {\n",
       "  padding-left: 0 !important;\n",
       "  display: grid;\n",
       "  grid-template-columns: 150px auto auto 1fr 20px 20px;\n",
       "}\n",
       "\n",
       ".xr-section-item {\n",
       "  display: contents;\n",
       "}\n",
       "\n",
       ".xr-section-item input {\n",
       "  display: none;\n",
       "}\n",
       "\n",
       ".xr-section-item input + label {\n",
       "  color: var(--xr-disabled-color);\n",
       "}\n",
       "\n",
       ".xr-section-item input:enabled + label {\n",
       "  cursor: pointer;\n",
       "  color: var(--xr-font-color2);\n",
       "}\n",
       "\n",
       ".xr-section-item input:enabled + label:hover {\n",
       "  color: var(--xr-font-color0);\n",
       "}\n",
       "\n",
       ".xr-section-summary {\n",
       "  grid-column: 1;\n",
       "  color: var(--xr-font-color2);\n",
       "  font-weight: 500;\n",
       "}\n",
       "\n",
       ".xr-section-summary > span {\n",
       "  display: inline-block;\n",
       "  padding-left: 0.5em;\n",
       "}\n",
       "\n",
       ".xr-section-summary-in:disabled + label {\n",
       "  color: var(--xr-font-color2);\n",
       "}\n",
       "\n",
       ".xr-section-summary-in + label:before {\n",
       "  display: inline-block;\n",
       "  content: '►';\n",
       "  font-size: 11px;\n",
       "  width: 15px;\n",
       "  text-align: center;\n",
       "}\n",
       "\n",
       ".xr-section-summary-in:disabled + label:before {\n",
       "  color: var(--xr-disabled-color);\n",
       "}\n",
       "\n",
       ".xr-section-summary-in:checked + label:before {\n",
       "  content: '▼';\n",
       "}\n",
       "\n",
       ".xr-section-summary-in:checked + label > span {\n",
       "  display: none;\n",
       "}\n",
       "\n",
       ".xr-section-summary,\n",
       ".xr-section-inline-details {\n",
       "  padding-top: 4px;\n",
       "  padding-bottom: 4px;\n",
       "}\n",
       "\n",
       ".xr-section-inline-details {\n",
       "  grid-column: 2 / -1;\n",
       "}\n",
       "\n",
       ".xr-section-details {\n",
       "  display: none;\n",
       "  grid-column: 1 / -1;\n",
       "  margin-bottom: 5px;\n",
       "}\n",
       "\n",
       ".xr-section-summary-in:checked ~ .xr-section-details {\n",
       "  display: contents;\n",
       "}\n",
       "\n",
       ".xr-array-wrap {\n",
       "  grid-column: 1 / -1;\n",
       "  display: grid;\n",
       "  grid-template-columns: 20px auto;\n",
       "}\n",
       "\n",
       ".xr-array-wrap > label {\n",
       "  grid-column: 1;\n",
       "  vertical-align: top;\n",
       "}\n",
       "\n",
       ".xr-preview {\n",
       "  color: var(--xr-font-color3);\n",
       "}\n",
       "\n",
       ".xr-array-preview,\n",
       ".xr-array-data {\n",
       "  padding: 0 5px !important;\n",
       "  grid-column: 2;\n",
       "}\n",
       "\n",
       ".xr-array-data,\n",
       ".xr-array-in:checked ~ .xr-array-preview {\n",
       "  display: none;\n",
       "}\n",
       "\n",
       ".xr-array-in:checked ~ .xr-array-data,\n",
       ".xr-array-preview {\n",
       "  display: inline-block;\n",
       "}\n",
       "\n",
       ".xr-dim-list {\n",
       "  display: inline-block !important;\n",
       "  list-style: none;\n",
       "  padding: 0 !important;\n",
       "  margin: 0;\n",
       "}\n",
       "\n",
       ".xr-dim-list li {\n",
       "  display: inline-block;\n",
       "  padding: 0;\n",
       "  margin: 0;\n",
       "}\n",
       "\n",
       ".xr-dim-list:before {\n",
       "  content: '(';\n",
       "}\n",
       "\n",
       ".xr-dim-list:after {\n",
       "  content: ')';\n",
       "}\n",
       "\n",
       ".xr-dim-list li:not(:last-child):after {\n",
       "  content: ',';\n",
       "  padding-right: 5px;\n",
       "}\n",
       "\n",
       ".xr-has-index {\n",
       "  font-weight: bold;\n",
       "}\n",
       "\n",
       ".xr-var-list,\n",
       ".xr-var-item {\n",
       "  display: contents;\n",
       "}\n",
       "\n",
       ".xr-var-item > div,\n",
       ".xr-var-item label,\n",
       ".xr-var-item > .xr-var-name span {\n",
       "  background-color: var(--xr-background-color-row-even);\n",
       "  margin-bottom: 0;\n",
       "}\n",
       "\n",
       ".xr-var-item > .xr-var-name:hover span {\n",
       "  padding-right: 5px;\n",
       "}\n",
       "\n",
       ".xr-var-list > li:nth-child(odd) > div,\n",
       ".xr-var-list > li:nth-child(odd) > label,\n",
       ".xr-var-list > li:nth-child(odd) > .xr-var-name span {\n",
       "  background-color: var(--xr-background-color-row-odd);\n",
       "}\n",
       "\n",
       ".xr-var-name {\n",
       "  grid-column: 1;\n",
       "}\n",
       "\n",
       ".xr-var-dims {\n",
       "  grid-column: 2;\n",
       "}\n",
       "\n",
       ".xr-var-dtype {\n",
       "  grid-column: 3;\n",
       "  text-align: right;\n",
       "  color: var(--xr-font-color2);\n",
       "}\n",
       "\n",
       ".xr-var-preview {\n",
       "  grid-column: 4;\n",
       "}\n",
       "\n",
       ".xr-var-name,\n",
       ".xr-var-dims,\n",
       ".xr-var-dtype,\n",
       ".xr-preview,\n",
       ".xr-attrs dt {\n",
       "  white-space: nowrap;\n",
       "  overflow: hidden;\n",
       "  text-overflow: ellipsis;\n",
       "  padding-right: 10px;\n",
       "}\n",
       "\n",
       ".xr-var-name:hover,\n",
       ".xr-var-dims:hover,\n",
       ".xr-var-dtype:hover,\n",
       ".xr-attrs dt:hover {\n",
       "  overflow: visible;\n",
       "  width: auto;\n",
       "  z-index: 1;\n",
       "}\n",
       "\n",
       ".xr-var-attrs,\n",
       ".xr-var-data {\n",
       "  display: none;\n",
       "  background-color: var(--xr-background-color) !important;\n",
       "  padding-bottom: 5px !important;\n",
       "}\n",
       "\n",
       ".xr-var-attrs-in:checked ~ .xr-var-attrs,\n",
       ".xr-var-data-in:checked ~ .xr-var-data {\n",
       "  display: block;\n",
       "}\n",
       "\n",
       ".xr-var-data > table {\n",
       "  float: right;\n",
       "}\n",
       "\n",
       ".xr-var-name span,\n",
       ".xr-var-data,\n",
       ".xr-attrs {\n",
       "  padding-left: 25px !important;\n",
       "}\n",
       "\n",
       ".xr-attrs,\n",
       ".xr-var-attrs,\n",
       ".xr-var-data {\n",
       "  grid-column: 1 / -1;\n",
       "}\n",
       "\n",
       "dl.xr-attrs {\n",
       "  padding: 0;\n",
       "  margin: 0;\n",
       "  display: grid;\n",
       "  grid-template-columns: 125px auto;\n",
       "}\n",
       "\n",
       ".xr-attrs dt, dd {\n",
       "  padding: 0;\n",
       "  margin: 0;\n",
       "  float: left;\n",
       "  padding-right: 10px;\n",
       "  width: auto;\n",
       "}\n",
       "\n",
       ".xr-attrs dt {\n",
       "  font-weight: normal;\n",
       "  grid-column: 1;\n",
       "}\n",
       "\n",
       ".xr-attrs dt:hover span {\n",
       "  display: inline-block;\n",
       "  background: var(--xr-background-color);\n",
       "  padding-right: 10px;\n",
       "}\n",
       "\n",
       ".xr-attrs dd {\n",
       "  grid-column: 2;\n",
       "  white-space: pre-wrap;\n",
       "  word-break: break-all;\n",
       "}\n",
       "\n",
       ".xr-icon-database,\n",
       ".xr-icon-file-text2 {\n",
       "  display: inline-block;\n",
       "  vertical-align: middle;\n",
       "  width: 1em;\n",
       "  height: 1.5em !important;\n",
       "  stroke-width: 0;\n",
       "  stroke: currentColor;\n",
       "  fill: currentColor;\n",
       "}\n",
       "</style><pre class='xr-text-repr-fallback'>&lt;xarray.Dataset&gt;\n",
       "Dimensions:      (latitude: 325, longitude: 276)\n",
       "Coordinates:\n",
       "  * latitude     (latitude) float64 -3.957 -3.958 -3.958 ... -4.047 -4.047\n",
       "  * longitude    (longitude) float64 39.6 39.6 39.6 39.6 ... 39.68 39.68 39.68\n",
       "    spatial_ref  int32 4326\n",
       "Data variables:\n",
       "    count_total  (latitude, longitude) uint16 0 0 0 0 0 0 0 0 ... 0 0 0 0 0 0 0\n",
       "    count_water  (latitude, longitude) uint16 0 0 0 0 0 0 0 0 ... 0 0 0 0 0 0 0\n",
       "Attributes:\n",
       "    grid_mapping:  spatial_ref</pre><div class='xr-wrap' hidden><div class='xr-header'><div class='xr-obj-type'>xarray.Dataset</div></div><ul class='xr-sections'><li class='xr-section-item'><input id='section-99a2e755-1e6a-4427-a419-a90b6ee9a7cf' class='xr-section-summary-in' type='checkbox' disabled ><label for='section-99a2e755-1e6a-4427-a419-a90b6ee9a7cf' class='xr-section-summary'  title='Expand/collapse section'>Dimensions:</label><div class='xr-section-inline-details'><ul class='xr-dim-list'><li><span class='xr-has-index'>latitude</span>: 325</li><li><span class='xr-has-index'>longitude</span>: 276</li></ul></div><div class='xr-section-details'></div></li><li class='xr-section-item'><input id='section-cee23306-d1a3-451c-be7c-b368767bfed0' class='xr-section-summary-in' type='checkbox'  checked><label for='section-cee23306-d1a3-451c-be7c-b368767bfed0' class='xr-section-summary' >Coordinates: <span>(3)</span></label><div class='xr-section-inline-details'></div><div class='xr-section-details'><ul class='xr-var-list'><li class='xr-var-item'><div class='xr-var-name'><span class='xr-has-index'>latitude</span></div><div class='xr-var-dims'>(latitude)</div><div class='xr-var-dtype'>float64</div><div class='xr-var-preview xr-preview'>-3.957 -3.958 ... -4.047 -4.047</div><input id='attrs-c3938bfd-fc5f-4f2a-a527-dee3301fcf95' class='xr-var-attrs-in' type='checkbox' ><label for='attrs-c3938bfd-fc5f-4f2a-a527-dee3301fcf95' title='Show/Hide attributes'><svg class='icon xr-icon-file-text2'><use xlink:href='#icon-file-text2'></use></svg></label><input id='data-0f6300d8-b45f-4a1f-bee1-7ee8193d232f' class='xr-var-data-in' type='checkbox'><label for='data-0f6300d8-b45f-4a1f-bee1-7ee8193d232f' title='Show/Hide data repr'><svg class='icon xr-icon-database'><use xlink:href='#icon-database'></use></svg></label><div class='xr-var-attrs'><dl class='xr-attrs'><dt><span>units :</span></dt><dd>degrees_north</dd><dt><span>resolution :</span></dt><dd>-0.00027777777778</dd><dt><span>crs :</span></dt><dd>EPSG:4326</dd></dl></div><div class='xr-var-data'><pre>array([-3.957361, -3.957639, -3.957917, ..., -4.046806, -4.047083, -4.047361])</pre></div></li><li class='xr-var-item'><div class='xr-var-name'><span class='xr-has-index'>longitude</span></div><div class='xr-var-dims'>(longitude)</div><div class='xr-var-dtype'>float64</div><div class='xr-var-preview xr-preview'>39.6 39.6 39.6 ... 39.68 39.68</div><input id='attrs-cc436f25-5da2-40b1-a120-fa0586512fbc' class='xr-var-attrs-in' type='checkbox' ><label for='attrs-cc436f25-5da2-40b1-a120-fa0586512fbc' title='Show/Hide attributes'><svg class='icon xr-icon-file-text2'><use xlink:href='#icon-file-text2'></use></svg></label><input id='data-6a63cdb5-b5d2-4514-bc97-4e45e2229a8e' class='xr-var-data-in' type='checkbox'><label for='data-6a63cdb5-b5d2-4514-bc97-4e45e2229a8e' title='Show/Hide data repr'><svg class='icon xr-icon-database'><use xlink:href='#icon-database'></use></svg></label><div class='xr-var-attrs'><dl class='xr-attrs'><dt><span>units :</span></dt><dd>degrees_east</dd><dt><span>resolution :</span></dt><dd>0.00027777777778</dd><dt><span>crs :</span></dt><dd>EPSG:4326</dd></dl></div><div class='xr-var-data'><pre>array([39.602917, 39.603194, 39.603472, ..., 39.67875 , 39.679028, 39.679306])</pre></div></li><li class='xr-var-item'><div class='xr-var-name'><span>spatial_ref</span></div><div class='xr-var-dims'>()</div><div class='xr-var-dtype'>int32</div><div class='xr-var-preview xr-preview'>4326</div><input id='attrs-bb39ccea-e79b-470e-b531-61b3cf52944e' class='xr-var-attrs-in' type='checkbox' ><label for='attrs-bb39ccea-e79b-470e-b531-61b3cf52944e' title='Show/Hide attributes'><svg class='icon xr-icon-file-text2'><use xlink:href='#icon-file-text2'></use></svg></label><input id='data-fc3b1910-a6fa-4828-aaf3-518817846147' class='xr-var-data-in' type='checkbox'><label for='data-fc3b1910-a6fa-4828-aaf3-518817846147' title='Show/Hide data repr'><svg class='icon xr-icon-database'><use xlink:href='#icon-database'></use></svg></label><div class='xr-var-attrs'><dl class='xr-attrs'><dt><span>spatial_ref :</span></dt><dd>GEOGCS[&quot;WGS 84&quot;,DATUM[&quot;WGS_1984&quot;,SPHEROID[&quot;WGS 84&quot;,6378137,298.257223563,AUTHORITY[&quot;EPSG&quot;,&quot;7030&quot;]],AUTHORITY[&quot;EPSG&quot;,&quot;6326&quot;]],PRIMEM[&quot;Greenwich&quot;,0,AUTHORITY[&quot;EPSG&quot;,&quot;8901&quot;]],UNIT[&quot;degree&quot;,0.0174532925199433,AUTHORITY[&quot;EPSG&quot;,&quot;9122&quot;]],AUTHORITY[&quot;EPSG&quot;,&quot;4326&quot;]]</dd><dt><span>grid_mapping_name :</span></dt><dd>latitude_longitude</dd></dl></div><div class='xr-var-data'><pre>array(4326, dtype=int32)</pre></div></li></ul></div></li><li class='xr-section-item'><input id='section-fc8b6ffd-8b34-4fec-8546-f772f4fcad2e' class='xr-section-summary-in' type='checkbox'  checked><label for='section-fc8b6ffd-8b34-4fec-8546-f772f4fcad2e' class='xr-section-summary' >Data variables: <span>(2)</span></label><div class='xr-section-inline-details'></div><div class='xr-section-details'><ul class='xr-var-list'><li class='xr-var-item'><div class='xr-var-name'><span>count_total</span></div><div class='xr-var-dims'>(latitude, longitude)</div><div class='xr-var-dtype'>uint16</div><div class='xr-var-preview xr-preview'>0 0 0 0 0 0 0 0 ... 0 0 0 0 0 0 0 0</div><input id='attrs-e67d096f-6b84-4a1c-af5d-4416d6eced3e' class='xr-var-attrs-in' type='checkbox' disabled><label for='attrs-e67d096f-6b84-4a1c-af5d-4416d6eced3e' title='Show/Hide attributes'><svg class='icon xr-icon-file-text2'><use xlink:href='#icon-file-text2'></use></svg></label><input id='data-81ae3675-3c7f-4bb8-9c4c-819d02118172' class='xr-var-data-in' type='checkbox'><label for='data-81ae3675-3c7f-4bb8-9c4c-819d02118172' title='Show/Hide data repr'><svg class='icon xr-icon-database'><use xlink:href='#icon-database'></use></svg></label><div class='xr-var-attrs'><dl class='xr-attrs'></dl></div><div class='xr-var-data'><pre>array([[0, 0, 0, ..., 0, 0, 0],\n",
       "       [0, 0, 0, ..., 0, 0, 0],\n",
       "       [0, 0, 0, ..., 0, 0, 0],\n",
       "       ...,\n",
       "       [0, 0, 0, ..., 0, 0, 0],\n",
       "       [0, 0, 0, ..., 0, 0, 0],\n",
       "       [0, 0, 0, ..., 0, 0, 0]], dtype=uint16)</pre></div></li><li class='xr-var-item'><div class='xr-var-name'><span>count_water</span></div><div class='xr-var-dims'>(latitude, longitude)</div><div class='xr-var-dtype'>uint16</div><div class='xr-var-preview xr-preview'>0 0 0 0 0 0 0 0 ... 0 0 0 0 0 0 0 0</div><input id='attrs-2349345a-5c47-494d-9d1d-ab6497189970' class='xr-var-attrs-in' type='checkbox' disabled><label for='attrs-2349345a-5c47-494d-9d1d-ab6497189970' title='Show/Hide attributes'><svg class='icon xr-icon-file-text2'><use xlink:href='#icon-file-text2'></use></svg></label><input id='data-0fe33259-2cd2-43f9-b5c8-6f1251c55b61' class='xr-var-data-in' type='checkbox'><label for='data-0fe33259-2cd2-43f9-b5c8-6f1251c55b61' title='Show/Hide data repr'><svg class='icon xr-icon-database'><use xlink:href='#icon-database'></use></svg></label><div class='xr-var-attrs'><dl class='xr-attrs'></dl></div><div class='xr-var-data'><pre>array([[0, 0, 0, ..., 0, 0, 0],\n",
       "       [0, 0, 0, ..., 0, 0, 0],\n",
       "       [0, 0, 0, ..., 0, 0, 0],\n",
       "       ...,\n",
       "       [0, 0, 0, ..., 0, 0, 0],\n",
       "       [0, 0, 0, ..., 0, 0, 0],\n",
       "       [0, 0, 0, ..., 0, 0, 0]], dtype=uint16)</pre></div></li></ul></div></li><li class='xr-section-item'><input id='section-936b564a-9024-480e-876e-aefb06061513' class='xr-section-summary-in' type='checkbox'  checked><label for='section-936b564a-9024-480e-876e-aefb06061513' class='xr-section-summary' >Attributes: <span>(1)</span></label><div class='xr-section-inline-details'></div><div class='xr-section-details'><dl class='xr-attrs'><dt><span>grid_mapping :</span></dt><dd>spatial_ref</dd></dl></div></li></ul></div></div>"
      ],
      "text/plain": [
       "<xarray.Dataset>\n",
       "Dimensions:      (latitude: 325, longitude: 276)\n",
       "Coordinates:\n",
       "  * latitude     (latitude) float64 -3.957 -3.958 -3.958 ... -4.047 -4.047\n",
       "  * longitude    (longitude) float64 39.6 39.6 39.6 39.6 ... 39.68 39.68 39.68\n",
       "    spatial_ref  int32 4326\n",
       "Data variables:\n",
       "    count_total  (latitude, longitude) uint16 0 0 0 0 0 0 0 0 ... 0 0 0 0 0 0 0\n",
       "    count_water  (latitude, longitude) uint16 0 0 0 0 0 0 0 0 ... 0 0 0 0 0 0 0\n",
       "Attributes:\n",
       "    grid_mapping:  spatial_ref"
      ]
     },
     "execution_count": 11,
     "metadata": {},
     "output_type": "execute_result"
    }
   ],
   "source": [
    "# Create a new band which will be used to store total number of NON-CLOUD (land+water) pixels\n",
    "landsat_dataset = landsat_dataset.assign({\n",
    "    'count_total':\n",
    "    xr.DataArray(\n",
    "        np.zeros([d for d in landsat_dataset.dims.values()], dtype=np.uint16),\n",
    "        dims=landsat_dataset.dims,\n",
    "        coords=landsat_dataset.coords,\n",
    "    ),\n",
    "})\n",
    "# Create a new band which will be used to store total number of WATER pixels (subset of NON-CLOUD)\n",
    "landsat_dataset = landsat_dataset.assign({\n",
    "    'count_water':\n",
    "    xr.DataArray(\n",
    "        np.zeros([d for d in landsat_dataset.dims.values()], dtype=np.uint16),\n",
    "        dims=landsat_dataset.dims,\n",
    "        coords=landsat_dataset.coords,\n",
    "    ),\n",
    "})\n",
    "# Remove some attributes to allow saving of progress to NetCDF files.\n",
    "del landsat_dataset.attrs['crs'], ds_times.attrs['units']\n",
    "landsat_dataset"
   ]
  },
  {
   "cell_type": "code",
   "execution_count": 12,
   "metadata": {
    "execution": {
     "iopub.execute_input": "2020-09-29T00:53:42.688965Z",
     "iopub.status.busy": "2020-09-29T00:53:42.688536Z",
     "iopub.status.idle": "2020-09-29T00:53:42.690255Z",
     "shell.execute_reply": "2020-09-29T00:53:42.690665Z"
    },
    "pycharm": {}
   },
   "outputs": [],
   "source": [
    "# This function just outputs a progress bar so I know things are still moving...\n",
    "def progbar(progress, start_time=None, start_progress=0, msg='Progress:', bar_length=50):\n",
    "    from IPython.display import clear_output\n",
    "    import datetime\n",
    "    \n",
    "    # Clamp progress\n",
    "    if not isinstance(progress, (float,int)): progress = 0;\n",
    "    elif progress < 0: progress = 0;\n",
    "    elif progress >= 1: progress = 1;\n",
    "        \n",
    "    # ETA\n",
    "    if progress>0 and isinstance(start_time, datetime.datetime):\n",
    "        cur_time = datetime.datetime.utcnow()\n",
    "        \n",
    "        per_step_dur = (cur_time - start_time)/(progress-start_progress)\n",
    "        duration = per_step_dur*progress # Estimated processing duration until this point.\n",
    "        \n",
    "        eta_dur  = duration*(1-progress)/progress\n",
    "        eta_time = cur_time + eta_dur\n",
    "        time_str = \"ETA: {eta} ({mins:.2f} min)\".format(\n",
    "            eta = str(eta_time.isoformat(' ', timespec='seconds')),\n",
    "            mins = eta_dur.seconds / 60,\n",
    "        )\n",
    "    else: time_str =\"\";\n",
    "        \n",
    "    # Print it out\n",
    "    blocks = int(round(bar_length * progress))\n",
    "    clear_output(wait = True)\n",
    "    print(\"{msg} [{bar}] {pct:.1f}% {time_str}\".format( bar=\"#\" * blocks + \"-\" * (bar_length - blocks), pct=progress * 100, msg=msg, time_str=time_str))\n",
    "    \n",
    "    return datetime.datetime.utcnow() # Return current time"
   ]
  },
  {
   "cell_type": "code",
   "execution_count": 13,
   "metadata": {
    "execution": {
     "iopub.execute_input": "2020-09-29T00:53:42.708999Z",
     "iopub.status.busy": "2020-09-29T00:53:42.703150Z",
     "iopub.status.idle": "2020-09-29T00:53:42.764114Z",
     "shell.execute_reply": "2020-09-29T00:53:42.764535Z"
    },
    "pycharm": {}
   },
   "outputs": [
    {
     "name": "stdout",
     "output_type": "stream",
     "text": [
      "Progress: [##################################################] 100.0% \n"
     ]
    },
    {
     "data": {
      "text/html": [
       "<div><svg style=\"position: absolute; width: 0; height: 0; overflow: hidden\">\n",
       "<defs>\n",
       "<symbol id=\"icon-database\" viewBox=\"0 0 32 32\">\n",
       "<path d=\"M16 0c-8.837 0-16 2.239-16 5v4c0 2.761 7.163 5 16 5s16-2.239 16-5v-4c0-2.761-7.163-5-16-5z\"></path>\n",
       "<path d=\"M16 17c-8.837 0-16-2.239-16-5v6c0 2.761 7.163 5 16 5s16-2.239 16-5v-6c0 2.761-7.163 5-16 5z\"></path>\n",
       "<path d=\"M16 26c-8.837 0-16-2.239-16-5v6c0 2.761 7.163 5 16 5s16-2.239 16-5v-6c0 2.761-7.163 5-16 5z\"></path>\n",
       "</symbol>\n",
       "<symbol id=\"icon-file-text2\" viewBox=\"0 0 32 32\">\n",
       "<path d=\"M28.681 7.159c-0.694-0.947-1.662-2.053-2.724-3.116s-2.169-2.030-3.116-2.724c-1.612-1.182-2.393-1.319-2.841-1.319h-15.5c-1.378 0-2.5 1.121-2.5 2.5v27c0 1.378 1.122 2.5 2.5 2.5h23c1.378 0 2.5-1.122 2.5-2.5v-19.5c0-0.448-0.137-1.23-1.319-2.841zM24.543 5.457c0.959 0.959 1.712 1.825 2.268 2.543h-4.811v-4.811c0.718 0.556 1.584 1.309 2.543 2.268zM28 29.5c0 0.271-0.229 0.5-0.5 0.5h-23c-0.271 0-0.5-0.229-0.5-0.5v-27c0-0.271 0.229-0.5 0.5-0.5 0 0 15.499-0 15.5 0v7c0 0.552 0.448 1 1 1h7v19.5z\"></path>\n",
       "<path d=\"M23 26h-14c-0.552 0-1-0.448-1-1s0.448-1 1-1h14c0.552 0 1 0.448 1 1s-0.448 1-1 1z\"></path>\n",
       "<path d=\"M23 22h-14c-0.552 0-1-0.448-1-1s0.448-1 1-1h14c0.552 0 1 0.448 1 1s-0.448 1-1 1z\"></path>\n",
       "<path d=\"M23 18h-14c-0.552 0-1-0.448-1-1s0.448-1 1-1h14c0.552 0 1 0.448 1 1s-0.448 1-1 1z\"></path>\n",
       "</symbol>\n",
       "</defs>\n",
       "</svg>\n",
       "<style>/* CSS stylesheet for displaying xarray objects in jupyterlab.\n",
       " *\n",
       " */\n",
       "\n",
       ":root {\n",
       "  --xr-font-color0: var(--jp-content-font-color0, rgba(0, 0, 0, 1));\n",
       "  --xr-font-color2: var(--jp-content-font-color2, rgba(0, 0, 0, 0.54));\n",
       "  --xr-font-color3: var(--jp-content-font-color3, rgba(0, 0, 0, 0.38));\n",
       "  --xr-border-color: var(--jp-border-color2, #e0e0e0);\n",
       "  --xr-disabled-color: var(--jp-layout-color3, #bdbdbd);\n",
       "  --xr-background-color: var(--jp-layout-color0, white);\n",
       "  --xr-background-color-row-even: var(--jp-layout-color1, white);\n",
       "  --xr-background-color-row-odd: var(--jp-layout-color2, #eeeeee);\n",
       "}\n",
       "\n",
       "html[theme=dark],\n",
       "body.vscode-dark {\n",
       "  --xr-font-color0: rgba(255, 255, 255, 1);\n",
       "  --xr-font-color2: rgba(255, 255, 255, 0.54);\n",
       "  --xr-font-color3: rgba(255, 255, 255, 0.38);\n",
       "  --xr-border-color: #1F1F1F;\n",
       "  --xr-disabled-color: #515151;\n",
       "  --xr-background-color: #111111;\n",
       "  --xr-background-color-row-even: #111111;\n",
       "  --xr-background-color-row-odd: #313131;\n",
       "}\n",
       "\n",
       ".xr-wrap {\n",
       "  display: block;\n",
       "  min-width: 300px;\n",
       "  max-width: 700px;\n",
       "}\n",
       "\n",
       ".xr-text-repr-fallback {\n",
       "  /* fallback to plain text repr when CSS is not injected (untrusted notebook) */\n",
       "  display: none;\n",
       "}\n",
       "\n",
       ".xr-header {\n",
       "  padding-top: 6px;\n",
       "  padding-bottom: 6px;\n",
       "  margin-bottom: 4px;\n",
       "  border-bottom: solid 1px var(--xr-border-color);\n",
       "}\n",
       "\n",
       ".xr-header > div,\n",
       ".xr-header > ul {\n",
       "  display: inline;\n",
       "  margin-top: 0;\n",
       "  margin-bottom: 0;\n",
       "}\n",
       "\n",
       ".xr-obj-type,\n",
       ".xr-array-name {\n",
       "  margin-left: 2px;\n",
       "  margin-right: 10px;\n",
       "}\n",
       "\n",
       ".xr-obj-type {\n",
       "  color: var(--xr-font-color2);\n",
       "}\n",
       "\n",
       ".xr-sections {\n",
       "  padding-left: 0 !important;\n",
       "  display: grid;\n",
       "  grid-template-columns: 150px auto auto 1fr 20px 20px;\n",
       "}\n",
       "\n",
       ".xr-section-item {\n",
       "  display: contents;\n",
       "}\n",
       "\n",
       ".xr-section-item input {\n",
       "  display: none;\n",
       "}\n",
       "\n",
       ".xr-section-item input + label {\n",
       "  color: var(--xr-disabled-color);\n",
       "}\n",
       "\n",
       ".xr-section-item input:enabled + label {\n",
       "  cursor: pointer;\n",
       "  color: var(--xr-font-color2);\n",
       "}\n",
       "\n",
       ".xr-section-item input:enabled + label:hover {\n",
       "  color: var(--xr-font-color0);\n",
       "}\n",
       "\n",
       ".xr-section-summary {\n",
       "  grid-column: 1;\n",
       "  color: var(--xr-font-color2);\n",
       "  font-weight: 500;\n",
       "}\n",
       "\n",
       ".xr-section-summary > span {\n",
       "  display: inline-block;\n",
       "  padding-left: 0.5em;\n",
       "}\n",
       "\n",
       ".xr-section-summary-in:disabled + label {\n",
       "  color: var(--xr-font-color2);\n",
       "}\n",
       "\n",
       ".xr-section-summary-in + label:before {\n",
       "  display: inline-block;\n",
       "  content: '►';\n",
       "  font-size: 11px;\n",
       "  width: 15px;\n",
       "  text-align: center;\n",
       "}\n",
       "\n",
       ".xr-section-summary-in:disabled + label:before {\n",
       "  color: var(--xr-disabled-color);\n",
       "}\n",
       "\n",
       ".xr-section-summary-in:checked + label:before {\n",
       "  content: '▼';\n",
       "}\n",
       "\n",
       ".xr-section-summary-in:checked + label > span {\n",
       "  display: none;\n",
       "}\n",
       "\n",
       ".xr-section-summary,\n",
       ".xr-section-inline-details {\n",
       "  padding-top: 4px;\n",
       "  padding-bottom: 4px;\n",
       "}\n",
       "\n",
       ".xr-section-inline-details {\n",
       "  grid-column: 2 / -1;\n",
       "}\n",
       "\n",
       ".xr-section-details {\n",
       "  display: none;\n",
       "  grid-column: 1 / -1;\n",
       "  margin-bottom: 5px;\n",
       "}\n",
       "\n",
       ".xr-section-summary-in:checked ~ .xr-section-details {\n",
       "  display: contents;\n",
       "}\n",
       "\n",
       ".xr-array-wrap {\n",
       "  grid-column: 1 / -1;\n",
       "  display: grid;\n",
       "  grid-template-columns: 20px auto;\n",
       "}\n",
       "\n",
       ".xr-array-wrap > label {\n",
       "  grid-column: 1;\n",
       "  vertical-align: top;\n",
       "}\n",
       "\n",
       ".xr-preview {\n",
       "  color: var(--xr-font-color3);\n",
       "}\n",
       "\n",
       ".xr-array-preview,\n",
       ".xr-array-data {\n",
       "  padding: 0 5px !important;\n",
       "  grid-column: 2;\n",
       "}\n",
       "\n",
       ".xr-array-data,\n",
       ".xr-array-in:checked ~ .xr-array-preview {\n",
       "  display: none;\n",
       "}\n",
       "\n",
       ".xr-array-in:checked ~ .xr-array-data,\n",
       ".xr-array-preview {\n",
       "  display: inline-block;\n",
       "}\n",
       "\n",
       ".xr-dim-list {\n",
       "  display: inline-block !important;\n",
       "  list-style: none;\n",
       "  padding: 0 !important;\n",
       "  margin: 0;\n",
       "}\n",
       "\n",
       ".xr-dim-list li {\n",
       "  display: inline-block;\n",
       "  padding: 0;\n",
       "  margin: 0;\n",
       "}\n",
       "\n",
       ".xr-dim-list:before {\n",
       "  content: '(';\n",
       "}\n",
       "\n",
       ".xr-dim-list:after {\n",
       "  content: ')';\n",
       "}\n",
       "\n",
       ".xr-dim-list li:not(:last-child):after {\n",
       "  content: ',';\n",
       "  padding-right: 5px;\n",
       "}\n",
       "\n",
       ".xr-has-index {\n",
       "  font-weight: bold;\n",
       "}\n",
       "\n",
       ".xr-var-list,\n",
       ".xr-var-item {\n",
       "  display: contents;\n",
       "}\n",
       "\n",
       ".xr-var-item > div,\n",
       ".xr-var-item label,\n",
       ".xr-var-item > .xr-var-name span {\n",
       "  background-color: var(--xr-background-color-row-even);\n",
       "  margin-bottom: 0;\n",
       "}\n",
       "\n",
       ".xr-var-item > .xr-var-name:hover span {\n",
       "  padding-right: 5px;\n",
       "}\n",
       "\n",
       ".xr-var-list > li:nth-child(odd) > div,\n",
       ".xr-var-list > li:nth-child(odd) > label,\n",
       ".xr-var-list > li:nth-child(odd) > .xr-var-name span {\n",
       "  background-color: var(--xr-background-color-row-odd);\n",
       "}\n",
       "\n",
       ".xr-var-name {\n",
       "  grid-column: 1;\n",
       "}\n",
       "\n",
       ".xr-var-dims {\n",
       "  grid-column: 2;\n",
       "}\n",
       "\n",
       ".xr-var-dtype {\n",
       "  grid-column: 3;\n",
       "  text-align: right;\n",
       "  color: var(--xr-font-color2);\n",
       "}\n",
       "\n",
       ".xr-var-preview {\n",
       "  grid-column: 4;\n",
       "}\n",
       "\n",
       ".xr-var-name,\n",
       ".xr-var-dims,\n",
       ".xr-var-dtype,\n",
       ".xr-preview,\n",
       ".xr-attrs dt {\n",
       "  white-space: nowrap;\n",
       "  overflow: hidden;\n",
       "  text-overflow: ellipsis;\n",
       "  padding-right: 10px;\n",
       "}\n",
       "\n",
       ".xr-var-name:hover,\n",
       ".xr-var-dims:hover,\n",
       ".xr-var-dtype:hover,\n",
       ".xr-attrs dt:hover {\n",
       "  overflow: visible;\n",
       "  width: auto;\n",
       "  z-index: 1;\n",
       "}\n",
       "\n",
       ".xr-var-attrs,\n",
       ".xr-var-data {\n",
       "  display: none;\n",
       "  background-color: var(--xr-background-color) !important;\n",
       "  padding-bottom: 5px !important;\n",
       "}\n",
       "\n",
       ".xr-var-attrs-in:checked ~ .xr-var-attrs,\n",
       ".xr-var-data-in:checked ~ .xr-var-data {\n",
       "  display: block;\n",
       "}\n",
       "\n",
       ".xr-var-data > table {\n",
       "  float: right;\n",
       "}\n",
       "\n",
       ".xr-var-name span,\n",
       ".xr-var-data,\n",
       ".xr-attrs {\n",
       "  padding-left: 25px !important;\n",
       "}\n",
       "\n",
       ".xr-attrs,\n",
       ".xr-var-attrs,\n",
       ".xr-var-data {\n",
       "  grid-column: 1 / -1;\n",
       "}\n",
       "\n",
       "dl.xr-attrs {\n",
       "  padding: 0;\n",
       "  margin: 0;\n",
       "  display: grid;\n",
       "  grid-template-columns: 125px auto;\n",
       "}\n",
       "\n",
       ".xr-attrs dt, dd {\n",
       "  padding: 0;\n",
       "  margin: 0;\n",
       "  float: left;\n",
       "  padding-right: 10px;\n",
       "  width: auto;\n",
       "}\n",
       "\n",
       ".xr-attrs dt {\n",
       "  font-weight: normal;\n",
       "  grid-column: 1;\n",
       "}\n",
       "\n",
       ".xr-attrs dt:hover span {\n",
       "  display: inline-block;\n",
       "  background: var(--xr-background-color);\n",
       "  padding-right: 10px;\n",
       "}\n",
       "\n",
       ".xr-attrs dd {\n",
       "  grid-column: 2;\n",
       "  white-space: pre-wrap;\n",
       "  word-break: break-all;\n",
       "}\n",
       "\n",
       ".xr-icon-database,\n",
       ".xr-icon-file-text2 {\n",
       "  display: inline-block;\n",
       "  vertical-align: middle;\n",
       "  width: 1em;\n",
       "  height: 1.5em !important;\n",
       "  stroke-width: 0;\n",
       "  stroke: currentColor;\n",
       "  fill: currentColor;\n",
       "}\n",
       "</style><pre class='xr-text-repr-fallback'>&lt;xarray.Dataset&gt;\n",
       "Dimensions:      (latitude: 325, longitude: 276)\n",
       "Coordinates:\n",
       "  * latitude     (latitude) float64 -3.957 -3.958 -3.958 ... -4.047 -4.047\n",
       "  * longitude    (longitude) float64 39.6 39.6 39.6 39.6 ... 39.68 39.68 39.68\n",
       "    spatial_ref  int32 4326\n",
       "Data variables:\n",
       "    count_total  (latitude, longitude) uint16 0 0 0 0 0 0 0 ... 4 4 3 10 11 13 0\n",
       "    count_water  (latitude, longitude) uint16 0 0 0 0 0 0 0 ... 0 0 0 10 11 13 0\n",
       "Attributes:\n",
       "    grid_mapping:  spatial_ref</pre><div class='xr-wrap' hidden><div class='xr-header'><div class='xr-obj-type'>xarray.Dataset</div></div><ul class='xr-sections'><li class='xr-section-item'><input id='section-b3db4fb9-8531-4f5f-b838-f5d653c9b05b' class='xr-section-summary-in' type='checkbox' disabled ><label for='section-b3db4fb9-8531-4f5f-b838-f5d653c9b05b' class='xr-section-summary'  title='Expand/collapse section'>Dimensions:</label><div class='xr-section-inline-details'><ul class='xr-dim-list'><li><span class='xr-has-index'>latitude</span>: 325</li><li><span class='xr-has-index'>longitude</span>: 276</li></ul></div><div class='xr-section-details'></div></li><li class='xr-section-item'><input id='section-210458ce-60b1-4673-8d57-953c0e0e5c37' class='xr-section-summary-in' type='checkbox'  checked><label for='section-210458ce-60b1-4673-8d57-953c0e0e5c37' class='xr-section-summary' >Coordinates: <span>(3)</span></label><div class='xr-section-inline-details'></div><div class='xr-section-details'><ul class='xr-var-list'><li class='xr-var-item'><div class='xr-var-name'><span class='xr-has-index'>latitude</span></div><div class='xr-var-dims'>(latitude)</div><div class='xr-var-dtype'>float64</div><div class='xr-var-preview xr-preview'>-3.957 -3.958 ... -4.047 -4.047</div><input id='attrs-dc982e27-4450-4aa5-85ff-e7c98986e883' class='xr-var-attrs-in' type='checkbox' ><label for='attrs-dc982e27-4450-4aa5-85ff-e7c98986e883' title='Show/Hide attributes'><svg class='icon xr-icon-file-text2'><use xlink:href='#icon-file-text2'></use></svg></label><input id='data-aec505fa-fd39-496e-8441-d90871479c2c' class='xr-var-data-in' type='checkbox'><label for='data-aec505fa-fd39-496e-8441-d90871479c2c' title='Show/Hide data repr'><svg class='icon xr-icon-database'><use xlink:href='#icon-database'></use></svg></label><div class='xr-var-attrs'><dl class='xr-attrs'><dt><span>units :</span></dt><dd>degrees_north</dd><dt><span>resolution :</span></dt><dd>-0.00027777777778</dd><dt><span>crs :</span></dt><dd>EPSG:4326</dd></dl></div><div class='xr-var-data'><pre>array([-3.957361, -3.957639, -3.957917, ..., -4.046806, -4.047083, -4.047361])</pre></div></li><li class='xr-var-item'><div class='xr-var-name'><span class='xr-has-index'>longitude</span></div><div class='xr-var-dims'>(longitude)</div><div class='xr-var-dtype'>float64</div><div class='xr-var-preview xr-preview'>39.6 39.6 39.6 ... 39.68 39.68</div><input id='attrs-820f9942-e210-4e78-87e9-365af88bfddc' class='xr-var-attrs-in' type='checkbox' ><label for='attrs-820f9942-e210-4e78-87e9-365af88bfddc' title='Show/Hide attributes'><svg class='icon xr-icon-file-text2'><use xlink:href='#icon-file-text2'></use></svg></label><input id='data-7a952b48-ab8b-4ee4-b09a-1a8d1128895f' class='xr-var-data-in' type='checkbox'><label for='data-7a952b48-ab8b-4ee4-b09a-1a8d1128895f' title='Show/Hide data repr'><svg class='icon xr-icon-database'><use xlink:href='#icon-database'></use></svg></label><div class='xr-var-attrs'><dl class='xr-attrs'><dt><span>units :</span></dt><dd>degrees_east</dd><dt><span>resolution :</span></dt><dd>0.00027777777778</dd><dt><span>crs :</span></dt><dd>EPSG:4326</dd></dl></div><div class='xr-var-data'><pre>array([39.602917, 39.603194, 39.603472, ..., 39.67875 , 39.679028, 39.679306])</pre></div></li><li class='xr-var-item'><div class='xr-var-name'><span>spatial_ref</span></div><div class='xr-var-dims'>()</div><div class='xr-var-dtype'>int32</div><div class='xr-var-preview xr-preview'>4326</div><input id='attrs-fedeb714-b443-49f8-b117-689d8b0f53a3' class='xr-var-attrs-in' type='checkbox' ><label for='attrs-fedeb714-b443-49f8-b117-689d8b0f53a3' title='Show/Hide attributes'><svg class='icon xr-icon-file-text2'><use xlink:href='#icon-file-text2'></use></svg></label><input id='data-c3bab2d8-a1a4-4e1f-9f68-154d0f0fcfba' class='xr-var-data-in' type='checkbox'><label for='data-c3bab2d8-a1a4-4e1f-9f68-154d0f0fcfba' title='Show/Hide data repr'><svg class='icon xr-icon-database'><use xlink:href='#icon-database'></use></svg></label><div class='xr-var-attrs'><dl class='xr-attrs'><dt><span>spatial_ref :</span></dt><dd>GEOGCS[&quot;WGS 84&quot;,DATUM[&quot;WGS_1984&quot;,SPHEROID[&quot;WGS 84&quot;,6378137,298.257223563,AUTHORITY[&quot;EPSG&quot;,&quot;7030&quot;]],AUTHORITY[&quot;EPSG&quot;,&quot;6326&quot;]],PRIMEM[&quot;Greenwich&quot;,0,AUTHORITY[&quot;EPSG&quot;,&quot;8901&quot;]],UNIT[&quot;degree&quot;,0.0174532925199433,AUTHORITY[&quot;EPSG&quot;,&quot;9122&quot;]],AUTHORITY[&quot;EPSG&quot;,&quot;4326&quot;]]</dd><dt><span>grid_mapping_name :</span></dt><dd>latitude_longitude</dd></dl></div><div class='xr-var-data'><pre>array(4326, dtype=int32)</pre></div></li></ul></div></li><li class='xr-section-item'><input id='section-a9c62083-5293-401d-89ff-7a635ced76fe' class='xr-section-summary-in' type='checkbox'  checked><label for='section-a9c62083-5293-401d-89ff-7a635ced76fe' class='xr-section-summary' >Data variables: <span>(2)</span></label><div class='xr-section-inline-details'></div><div class='xr-section-details'><ul class='xr-var-list'><li class='xr-var-item'><div class='xr-var-name'><span>count_total</span></div><div class='xr-var-dims'>(latitude, longitude)</div><div class='xr-var-dtype'>uint16</div><div class='xr-var-preview xr-preview'>0 0 0 0 0 0 0 ... 4 4 3 10 11 13 0</div><input id='attrs-cd251698-98a2-4d34-ad96-0ac1361e4e68' class='xr-var-attrs-in' type='checkbox' disabled><label for='attrs-cd251698-98a2-4d34-ad96-0ac1361e4e68' title='Show/Hide attributes'><svg class='icon xr-icon-file-text2'><use xlink:href='#icon-file-text2'></use></svg></label><input id='data-6433b6be-6320-4589-b932-4c6538a9cb53' class='xr-var-data-in' type='checkbox'><label for='data-6433b6be-6320-4589-b932-4c6538a9cb53' title='Show/Hide data repr'><svg class='icon xr-icon-database'><use xlink:href='#icon-database'></use></svg></label><div class='xr-var-attrs'><dl class='xr-attrs'></dl></div><div class='xr-var-data'><pre>array([[ 0,  0,  0, ...,  0,  0,  0],\n",
       "       [12, 13, 12, ..., 13, 12,  0],\n",
       "       [13, 13, 13, ..., 13, 12,  0],\n",
       "       ...,\n",
       "       [11, 11, 12, ..., 12, 13,  0],\n",
       "       [10, 11, 12, ..., 12, 13,  0],\n",
       "       [11, 12, 13, ..., 11, 13,  0]], dtype=uint16)</pre></div></li><li class='xr-var-item'><div class='xr-var-name'><span>count_water</span></div><div class='xr-var-dims'>(latitude, longitude)</div><div class='xr-var-dtype'>uint16</div><div class='xr-var-preview xr-preview'>0 0 0 0 0 0 0 ... 0 0 0 10 11 13 0</div><input id='attrs-fa4bc263-e72d-457c-9871-d8238685daf3' class='xr-var-attrs-in' type='checkbox' disabled><label for='attrs-fa4bc263-e72d-457c-9871-d8238685daf3' title='Show/Hide attributes'><svg class='icon xr-icon-file-text2'><use xlink:href='#icon-file-text2'></use></svg></label><input id='data-b6f4b41c-cc10-413f-b227-2949a2ecdd0e' class='xr-var-data-in' type='checkbox'><label for='data-b6f4b41c-cc10-413f-b227-2949a2ecdd0e' title='Show/Hide data repr'><svg class='icon xr-icon-database'><use xlink:href='#icon-database'></use></svg></label><div class='xr-var-attrs'><dl class='xr-attrs'></dl></div><div class='xr-var-data'><pre>array([[ 0,  0,  0, ...,  0,  0,  0],\n",
       "       [ 0,  0,  0, ...,  0,  0,  0],\n",
       "       [ 0,  0,  0, ...,  0,  0,  0],\n",
       "       ...,\n",
       "       [11, 11, 12, ..., 12, 13,  0],\n",
       "       [10, 11, 12, ..., 12, 13,  0],\n",
       "       [11, 11, 12, ..., 11, 13,  0]], dtype=uint16)</pre></div></li></ul></div></li><li class='xr-section-item'><input id='section-fe9d15d8-4480-470d-92fd-3c33a2fc9733' class='xr-section-summary-in' type='checkbox'  checked><label for='section-fe9d15d8-4480-470d-92fd-3c33a2fc9733' class='xr-section-summary' >Attributes: <span>(1)</span></label><div class='xr-section-inline-details'></div><div class='xr-section-details'><dl class='xr-attrs'><dt><span>grid_mapping :</span></dt><dd>spatial_ref</dd></dl></div></li></ul></div></div>"
      ],
      "text/plain": [
       "<xarray.Dataset>\n",
       "Dimensions:      (latitude: 325, longitude: 276)\n",
       "Coordinates:\n",
       "  * latitude     (latitude) float64 -3.957 -3.958 -3.958 ... -4.047 -4.047\n",
       "  * longitude    (longitude) float64 39.6 39.6 39.6 39.6 ... 39.68 39.68 39.68\n",
       "    spatial_ref  int32 4326\n",
       "Data variables:\n",
       "    count_total  (latitude, longitude) uint16 0 0 0 0 0 0 0 ... 4 4 3 10 11 13 0\n",
       "    count_water  (latitude, longitude) uint16 0 0 0 0 0 0 0 ... 0 0 0 10 11 13 0\n",
       "Attributes:\n",
       "    grid_mapping:  spatial_ref"
      ]
     },
     "execution_count": 13,
     "metadata": {},
     "output_type": "execute_result"
    }
   ],
   "source": [
    "from utils.data_cube_utilities.clean_mask import landsat_qa_clean_mask\n",
    "from utils.data_cube_utilities.dc_water_classifier import wofs_classify\n",
    "from utils.data_cube_utilities.dc_load import is_dataset_empty\n",
    "import os\n",
    "import pickle\n",
    "\n",
    "# Create a DataArray to hold the per-acquisition water percentages.\n",
    "timeslice_water_pct = xr.DataArray(np.full(len(ds_times), np.nan), name='timeslice_water_pct',\n",
    "                                   dims=ds_times.dims, coords=ds_times.coords)\n",
    "# Reset counters to zero (just in case we run this cell multiple times for some reason).\n",
    "landsat_dataset.count_water.values*=0\n",
    "landsat_dataset.count_total.values*=0\n",
    "\n",
    "# Create geographic chunks.\n",
    "from utils.data_cube_utilities.dc_chunker import create_geographic_chunks\n",
    "geographic_chunks = create_geographic_chunks(longitude_extents, latitude_extents, 0.1)\n",
    "\n",
    "tmp_dir = 'tmp/{}'.format(nb_name)\n",
    "if not os.path.exists(tmp_dir):\n",
    "    os.makedirs(tmp_dir)\n",
    "\n",
    "# Check if we are continuing the previous task (parameter set).\n",
    "params_filepath = '{}/params.pkl'.format(tmp_dir) \n",
    "full_params = dict(platform=platform, product=product, \n",
    "                   latitude=latitude_extents, longitude=longitude_extents, time=time_extents,\n",
    "                   measurements=['red', 'green', 'blue', 'nir', 'swir1', 'swir2', 'pixel_qa'])\n",
    "continuing_task = False\n",
    "if os.path.exists(params_filepath):\n",
    "    with open(params_filepath, 'rb') as params_file:\n",
    "        old_params = pickle.load(params_file)\n",
    "        if old_params == full_params:\n",
    "            continuing_task = True\n",
    "\n",
    "progress_raster_file = \"{}/progress_raster.nc\".format(tmp_dir)\n",
    "progress_time_ind_file = \"{}/time_ind.pk\".format(tmp_dir)\n",
    "progress_timeslice_water_pct_file = \"{}/timeslice_water.nc\".format(tmp_dir)\n",
    "            \n",
    "# If the parameter set is new, record it and remove old progress files.\n",
    "if not continuing_task:\n",
    "    for root, dirs, files in os.walk(tmp_dir):\n",
    "        for file in files:\n",
    "            os.remove(os.path.join(root, file))\n",
    "    with open(params_filepath, 'wb') as params_file:\n",
    "        pickle.dump(full_params, params_file)\n",
    "    \n",
    "parameters = full_params.copy()\n",
    "del parameters['time']\n",
    "\n",
    "# Load the progress if any exists.\n",
    "if os.path.exists(progress_raster_file):\n",
    "    with xr.open_dataset(progress_raster_file) as raster_raster_file_handle:\n",
    "        landsat_dataset = raster_raster_file_handle.load()\n",
    "if os.path.exists(progress_time_ind_file):\n",
    "    with open(progress_time_ind_file, 'rb') as pickle_file:\n",
    "        last_completed_time_ind = pickle.load(pickle_file)\n",
    "else:\n",
    "    last_completed_time_ind = -1\n",
    "if os.path.exists(progress_timeslice_water_pct_file):\n",
    "    with xr.open_dataset(progress_timeslice_water_pct_file) as progress_timeslice_water_pct_file_handle:\n",
    "        timeslice_water_pct = progress_timeslice_water_pct_file_handle.load().timeslice_water_pct\n",
    "\n",
    "# Loop over all the time slices, processing each one.\n",
    "start_progress = (last_completed_time_ind+1)/len(ds_times)\n",
    "start_time = progbar(start_progress)\n",
    "for time_ind,t in enumerate(ds_times.values):\n",
    "    if time_ind <= last_completed_time_ind:\n",
    "        continue\n",
    "    parameters.update(dict(time=str(t)))\n",
    "    \n",
    "    timeslice_total_cloud = 0\n",
    "    timeslice_total_water = 0\n",
    "    \n",
    "    # Process each geographic chunk for this time slice.\n",
    "    for geo_chunk_ind, geographic_chunk in enumerate(geographic_chunks):\n",
    "        if geo_chunk_ind == 0:\n",
    "            print(\"Processing geographic chunks.\")\n",
    "        elif geo_chunk_ind % 5 == 0:\n",
    "            print(\"Processed {:.3%} of all geographic chunks.\".format(geo_chunk_ind / len(geographic_chunks)))\n",
    "        \n",
    "        landsat_slice_dict = dict(latitude=slice(*geographic_chunk['latitude'][::-1]),\n",
    "                                  longitude=slice(*geographic_chunk['longitude']))\n",
    "        geo_coords = landsat_dataset.sel(landsat_slice_dict).coords\n",
    "        # Get the actual geographic extents of this data.\n",
    "        geographic_chunk['latitude'] = geo_coords['latitude'][[0,-1]].values[::-1]\n",
    "        geographic_chunk['longitude'] = geo_coords['longitude'][[0,-1]].values\n",
    "        landsat_slice_dict = dict(latitude=slice(*geographic_chunk['latitude'][::-1]),\n",
    "                                  longitude=slice(*geographic_chunk['longitude']))\n",
    "        \n",
    "        parameters.update(geographic_chunk)\n",
    "        \n",
    "        landsat_chunk = dc.load(**parameters)\n",
    "        if is_dataset_empty(landsat_chunk):\n",
    "            continue\n",
    "        landsat_chunk = landsat_chunk.squeeze('time')\n",
    "        \n",
    "        # Mask Clouds\n",
    "        cloud_mask = landsat_qa_clean_mask(landsat_chunk, platform=platform, \n",
    "                                           collection=collection, level=level)\n",
    "        timeslice_total_cloud += cloud_mask.sum()\n",
    "    \n",
    "        # Add to total cloud-free pixel count.\n",
    "        chunk_count_total = landsat_dataset.count_total.sel(landsat_slice_dict)\n",
    "        chunk_count_total.values += cloud_mask.values\n",
    "    \n",
    "        # Classify Water\n",
    "        water_mask = wofs_classify(landsat_chunk, clean_mask = cloud_mask.values, mosaic=True, no_data=0).wofs.astype(np.bool)\n",
    "        timeslice_total_water += water_mask.sum()\n",
    "    \n",
    "        # Add to total water pixel count\n",
    "        chunk_count_water = landsat_dataset.count_water.sel(landsat_slice_dict)\n",
    "        chunk_count_water.values += water_mask.values\n",
    "\n",
    "    # Compute percent of cloud-free pixels that are water for this timeslice.\n",
    "    timeslice_water_pct[time_ind] = timeslice_total_water / timeslice_total_cloud\n",
    "    \n",
    "    # Save progress.\n",
    "    if os.path.exists(progress_raster_file):\n",
    "        os.remove(progress_raster_file)\n",
    "    landsat_dataset.to_netcdf(progress_raster_file)\n",
    "    if os.path.exists(progress_time_ind_file):\n",
    "        os.remove(progress_time_ind_file)\n",
    "    with open(progress_time_ind_file, 'wb') as pickle_file:\n",
    "        pickle.dump(time_ind, pickle_file)\n",
    "    if os.path.exists(progress_timeslice_water_pct_file):\n",
    "        os.remove(progress_timeslice_water_pct_file)\n",
    "    timeslice_water_pct.to_netcdf(progress_timeslice_water_pct_file)\n",
    "    \n",
    "    # Print progress bar\n",
    "    progbar((time_ind+1)/len(ds_times), start_time, start_progress)\n",
    "    \n",
    "    # Plot time slice water percentages (except when all values are NaN, which causes an error).\n",
    "    if ~np.all(np.isnan(timeslice_water_pct)):\n",
    "        timeslice_water_pct.plot(figsize=(12,2), marker='o', linestyle='None')\n",
    "        # plt.gca().set_yscale('log') # Change scaling of the Y axis to logarithmic\n",
    "        plt.xlim(timeslice_water_pct.time.values[[0,-1]])\n",
    "        plt.ylim(0, 1)\n",
    "        plt.show()\n",
    "    \n",
    "    # Draw map as we go\n",
    "    # landsat_dataset_low_res = xr_scale_res(landsat_dataset, frac_res=0.01)\n",
    "    # plt.imshow(landsat_dataset_low_res.count_water / landsat_dataset_low_res.count_total, \n",
    "    #            aspect='equal')\n",
    "    # plt.show()\n",
    "\n",
    "progbar(1)\n",
    "landsat_dataset"
   ]
  },
  {
   "cell_type": "markdown",
   "metadata": {
    "pycharm": {}
   },
   "source": [
    "## <span id=\"time_series_water\">Time Series Water Detection Analysis [&#9652;](#top)</span>\n",
    "Time series output of the Australian Water Detection from Space (WOFS) results. The results show the percent of time that a pixel is classified as water over the entire time series. BLUE = frequent water, RED = infrequent water."
   ]
  },
  {
   "cell_type": "code",
   "execution_count": 14,
   "metadata": {
    "execution": {
     "iopub.execute_input": "2020-09-29T00:53:42.768185Z",
     "iopub.status.busy": "2020-09-29T00:53:42.767769Z",
     "iopub.status.idle": "2020-09-29T00:53:42.769969Z",
     "shell.execute_reply": "2020-09-29T00:53:42.769540Z"
    },
    "pycharm": {}
   },
   "outputs": [],
   "source": [
    "# import color-scheme and set nans to black\n",
    "from matplotlib.cm import jet_r as jet_r\n",
    "import copy\n",
    "jet_r = copy.copy(jet_r) # Copy to modify.\n",
    "jet_r.set_bad('black',1)"
   ]
  },
  {
   "cell_type": "code",
   "execution_count": 15,
   "metadata": {
    "execution": {
     "iopub.execute_input": "2020-09-29T00:53:42.774378Z",
     "iopub.status.busy": "2020-09-29T00:53:42.773949Z",
     "iopub.status.idle": "2020-09-29T00:53:43.114047Z",
     "shell.execute_reply": "2020-09-29T00:53:43.114475Z"
    },
    "pycharm": {}
   },
   "outputs": [
    {
     "data": {
      "image/png": "[encoded data removed]",
      "text/plain": [
       "<Figure size 1008x1008 with 2 Axes>"
      ]
     },
     "metadata": {
      "needs_background": "light"
     },
     "output_type": "display_data"
    }
   ],
   "source": [
    "# Here we plot the product we have created\n",
    "# Areas of RED have experienced little or no water over the time series\n",
    "# Areas of BLUE have experience significant or constant water over the time series\n",
    "\n",
    "tmp = landsat_dataset.count_water / landsat_dataset.count_total\n",
    "fig,ax = plt.subplots(figsize=(14,14))\n",
    "plt.imshow(tmp, cmap = jet_r, aspect=\"equal\", extent=(\n",
    "    landsat_dataset.longitude.min(),\n",
    "    landsat_dataset.longitude.max(),\n",
    "    landsat_dataset.latitude.min(),\n",
    "    landsat_dataset.latitude.max(),\n",
    "))\n",
    "plt.colorbar()\n",
    "plt.show()"
   ]
  },
  {
   "cell_type": "code",
   "execution_count": 16,
   "metadata": {
    "execution": {
     "iopub.execute_input": "2020-09-29T00:53:43.127571Z",
     "iopub.status.busy": "2020-09-29T00:53:43.124972Z",
     "iopub.status.idle": "2020-09-29T00:53:43.354187Z",
     "shell.execute_reply": "2020-09-29T00:53:43.353643Z"
    },
    "pycharm": {}
   },
   "outputs": [
    {
     "data": {
      "image/png": "[encoded data removed]",
      "text/plain": [
       "<Figure size 1080x216 with 1 Axes>"
      ]
     },
     "metadata": {
      "needs_background": "light"
     },
     "output_type": "display_data"
    }
   ],
   "source": [
    "# Here we plot the percentage of valid (non-cloudy) pixels that were identified as water for each time slice\n",
    "\n",
    "timeslice_water_pct.plot(figsize=(15,3), marker='o', linestyle='None')\n",
    "plt.show()"
   ]
  },
  {
   "cell_type": "code",
   "execution_count": 17,
   "metadata": {
    "execution": {
     "iopub.execute_input": "2020-09-29T00:53:43.372319Z",
     "iopub.status.busy": "2020-09-29T00:53:43.370386Z",
     "iopub.status.idle": "2020-09-29T00:53:43.705003Z",
     "shell.execute_reply": "2020-09-29T00:53:43.705442Z"
    },
    "pycharm": {}
   },
   "outputs": [
    {
     "data": {
      "image/png": "[encoded data removed]",
      "text/plain": [
       "<Figure size 1080x216 with 1 Axes>"
      ]
     },
     "metadata": {
      "needs_background": "light"
     },
     "output_type": "display_data"
    }
   ],
   "source": [
    "# It is often helpful to use a logarithmic scale when viewing these types of plots, as the \"interesting\"\n",
    "# behavior tends to be clustered near zero and large outliers can hide small trends.\n",
    "# The result below can be compared to the result above. \n",
    "\n",
    "timeslice_water_pct.plot(figsize=(15,3), marker='o', linestyle='None')\n",
    "plt.gca().set_yscale('log') # Change scaling of the Y axis to logarithmic\n",
    "plt.show()"
   ]
  },
  {
   "cell_type": "markdown",
   "metadata": {
    "pycharm": {
     "metadata": false,
     "name": "#%% md\n"
    }
   },
   "source": [
    "## <span id=\"export\">Create GeoTIFF Output Products [&#9652;](#top)</span>"
   ]
  },
  {
   "cell_type": "code",
   "execution_count": 18,
   "metadata": {
    "execution": {
     "iopub.execute_input": "2020-09-29T00:53:43.710327Z",
     "iopub.status.busy": "2020-09-29T00:53:43.708703Z",
     "iopub.status.idle": "2020-09-29T00:53:43.715052Z",
     "shell.execute_reply": "2020-09-29T00:53:43.714621Z"
    },
    "pycharm": {},
    "scrolled": true
   },
   "outputs": [],
   "source": [
    "# Save the water percentage image to a GeoTIFF.\n",
    "from utils.data_cube_utilities.import_export import export_slice_to_geotiff\n",
    "\n",
    "dataset_to_export = xr.Dataset(coords=landsat_dataset.coords, attrs=landsat_dataset.attrs)\n",
    "dataset_to_export['wofs_pct'] = tmp.astype(np.float32).where(landsat_dataset.count_total>0)"
   ]
  },
  {
   "cell_type": "markdown",
   "metadata": {
    "pycharm": {
     "metadata": false,
     "name": "#%% md\n"
    }
   },
   "source": [
    "<p style=\"color:red\";><b>CHANGE INPUTS BELOW"
   ]
  },
  {
   "cell_type": "code",
   "execution_count": 19,
   "metadata": {
    "execution": {
     "iopub.execute_input": "2020-09-29T00:53:43.718495Z",
     "iopub.status.busy": "2020-09-29T00:53:43.718077Z",
     "iopub.status.idle": "2020-09-29T00:53:43.727264Z",
     "shell.execute_reply": "2020-09-29T00:53:43.727672Z"
    },
    "pycharm": {}
   },
   "outputs": [],
   "source": [
    "# The export command below is commented out to avoid overwriting files. \n",
    "# If you would like to export data, please check the file path before uncommenting the line\n",
    "# to ensure no files are accidentally lost.\n",
    "\n",
    "output_dir = 'output/geotiffs'\n",
    "if not os.path.exists(output_dir):\n",
    "    os.makedirs(output_dir)\n",
    "export_slice_to_geotiff(dataset_to_export, output_dir + '/WOFS_Percentage.tif')"
   ]
  },
  {
   "cell_type": "code",
   "execution_count": 20,
   "metadata": {
    "execution": {
     "iopub.execute_input": "2020-09-29T00:53:43.730863Z",
     "iopub.status.busy": "2020-09-29T00:53:43.730455Z",
     "iopub.status.idle": "2020-09-29T00:53:44.319832Z",
     "shell.execute_reply": "2020-09-29T00:53:44.319330Z"
    },
    "pycharm": {}
   },
   "outputs": [
    {
     "name": "stdout",
     "output_type": "stream",
     "text": [
      "-rw-r--r-- 1 jovyan users 352K Feb  8 23:21 output/geotiffs/WOFS_Percentage.tif\r\n"
     ]
    }
   ],
   "source": [
    "!ls -lah output/geotiffs/WOFS_Percentage.tif"
   ]
  },
  {
   "cell_type": "code",
   "execution_count": 21,
   "metadata": {
    "execution": {
     "iopub.execute_input": "2020-09-29T00:53:44.323872Z",
     "iopub.status.busy": "2020-09-29T00:53:44.323437Z",
     "iopub.status.idle": "2020-09-29T00:53:44.942867Z",
     "shell.execute_reply": "2020-09-29T00:53:44.943362Z"
    },
    "pycharm": {}
   },
   "outputs": [
    {
     "name": "stdout",
     "output_type": "stream",
     "text": [
      "Driver: GTiff/GeoTIFF\r\n",
      "Files: output/geotiffs/WOFS_Percentage.tif\r\n",
      "Size is 276, 325\r\n",
      "Coordinate System is:\r\n",
      "GEOGCRS[\"WGS 84\",\r\n",
      "    DATUM[\"World Geodetic System 1984\",\r\n",
      "        ELLIPSOID[\"WGS 84\",6378137,298.257223563,\r\n",
      "            LENGTHUNIT[\"metre\",1]]],\r\n",
      "    PRIMEM[\"Greenwich\",0,\r\n",
      "        ANGLEUNIT[\"degree\",0.0174532925199433]],\r\n",
      "    CS[ellipsoidal,2],\r\n",
      "        AXIS[\"geodetic latitude (Lat)\",north,\r\n",
      "            ORDER[1],\r\n",
      "            ANGLEUNIT[\"degree\",0.0174532925199433]],\r\n",
      "        AXIS[\"geodetic longitude (Lon)\",east,\r\n",
      "            ORDER[2],\r\n",
      "            ANGLEUNIT[\"degree\",0.0174532925199433]],\r\n",
      "    ID[\"EPSG\",4326]]\r\n",
      "Data axis to CRS axis mapping: 2,1\r\n",
      "Origin = (39.602916666983496,-3.957361111142770)\r\n",
      "Pixel Size = (0.000276771336556,-0.000276923076925)\r\n",
      "Metadata:\r\n",
      "  AREA_OR_POINT=Area\r\n",
      "Image Structure Metadata:\r\n",
      "  INTERLEAVE=BAND\r\n",
      "Corner Coordinates:\r\n",
      "Upper Left  (  39.6029167,  -3.9573611) ( 39d36'10.50\"E,  3d57'26.50\"S)\r\n",
      "Lower Left  (  39.6029167,  -4.0473611) ( 39d36'10.50\"E,  4d 2'50.50\"S)\r\n",
      "Upper Right (  39.6793056,  -3.9573611) ( 39d40'45.50\"E,  3d57'26.50\"S)\r\n",
      "Lower Right (  39.6793056,  -4.0473611) ( 39d40'45.50\"E,  4d 2'50.50\"S)\r\n",
      "Center      (  39.6411111,  -4.0023611) ( 39d38'28.00\"E,  4d 0' 8.50\"S)\r\n",
      "Band 1 Block=276x7 Type=Float32, ColorInterp=Gray\r\n",
      "  NoData Value=-9999\r\n"
     ]
    }
   ],
   "source": [
    "!gdalinfo output/geotiffs/WOFS_Percentage.tif"
   ]
  }
 ],
 "metadata": {
  "kernelspec": {
   "display_name": "Python 3",
   "language": "python",
   "name": "python3"
  },
  "language_info": {
   "codemirror_mode": {
    "name": "ipython",
    "version": 3
   },
   "file_extension": ".py",
   "mimetype": "text/x-python",
   "name": "python",
   "nbconvert_exporter": "python",
   "pygments_lexer": "ipython3",
   "version": "3.6.9"
  },
  "pycharm": {
   "stem_cell": {
    "cell_type": "raw",
    "metadata": {
     "collapsed": false
    },
    "source": []
   }
  }
 },
 "nbformat": 4,
 "nbformat_minor": 4
}
