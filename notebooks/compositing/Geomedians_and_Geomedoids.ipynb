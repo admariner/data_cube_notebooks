{
 "cells": [
  {
   "cell_type": "markdown",
   "metadata": {},
   "source": [
    "<a id=\"Geomedians_and_Geomedoids_top\"></a>\n",
    "# Geomedians and Geomedoids  \n",
    "<hr>\n",
    "\n",
    "## Background\n",
    "\n",
    "This notebook is inspired by an IEEE publication titled [High-Dimensional Pixel Composites From\n",
    "Earth Observation Time Series](http://ieeexplore.ieee.org/stamp/stamp.jsp?arnumber=8004469) authored by Dale Roberts, Norman Mueller, and Alexis McIntyre.  \n",
    "  \n",
    "This notebook explains geometric medians (geomedians) and geometric medoids (geomedoids) and applies these compositing methods to Landsat 7 imagery and displays a rendering of the computed composites.\n",
    "<hr>\n",
    "\n",
    "## Index\n",
    "\n",
    "* [Import Dependencies and Connect to the Data Cube](#Geomedians_and_Geomedoids_import)\n",
    "* [Choose Platform and Product](#Geomedians_and_Geomedoids_plat_prod)\n",
    "* [Define the Extents of the Analysis](#Geomedians_and_Geomedoids_define_extents)\n",
    "* [Load Data from the Data Cube](#Geomedians_and_Geomedoids_retrieve_data)\n",
    "* [Geometric Medoid Compositing](#Geomedians_and_Geomedoids_medoid)\n",
    "* [Geometric Median Compositing](#Geomedians_and_Geomedoids_median)"
   ]
  },
  {
   "cell_type": "markdown",
   "metadata": {},
   "source": [
    "## <span id=\"Geomedians_and_Geomedoids_import\">Import Dependencies and Connect to the Data Cube [&#9652;](#Geomedians_and_Geomedoids_top)</span>"
   ]
  },
  {
   "cell_type": "code",
   "execution_count": null,
   "metadata": {
    "execution": {
     "iopub.execute_input": "2020-09-29T00:57:30.228862Z",
     "iopub.status.busy": "2020-09-29T00:57:30.228433Z",
     "iopub.status.idle": "2020-09-29T00:57:31.903672Z",
     "shell.execute_reply": "2020-09-29T00:57:31.904066Z"
    }
   },
   "outputs": [],
   "source": [
    "import sys\n",
    "import os\n",
    "sys.path.append(os.environ.get('NOTEBOOK_ROOT'))\n",
    "\n",
    "import matplotlib.pyplot as plt\n",
    "\n",
    "from utils.data_cube_utilities.dc_display_map import display_map\n",
    "from utils.data_cube_utilities.clean_mask import landsat_clean_mask_full\n",
    "from utils.data_cube_utilities.dc_mosaic import \\\n",
    "    create_hdmedians_multiple_band_mosaic\n",
    "from utils.data_cube_utilities.plotter_utils import figure_ratio\n",
    "\n",
    "from datacube.utils.aws import configure_s3_access\n",
    "configure_s3_access(requester_pays=True)\n",
    "\n",
    "import datacube\n",
    "dc = datacube.Datacube()"
   ]
  },
  {
   "cell_type": "markdown",
   "metadata": {},
   "source": [
    "## <span id=\"Geomedians_and_Geomedoids_plat_prod\">Choose Platform and Product [&#9652;](#Geomedians_and_Geomedoids_top)</span>"
   ]
  },
  {
   "cell_type": "code",
   "execution_count": null,
   "metadata": {
    "execution": {
     "iopub.execute_input": "2020-09-29T00:57:31.912025Z",
     "iopub.status.busy": "2020-09-29T00:57:31.911223Z",
     "iopub.status.idle": "2020-09-29T00:57:31.929925Z",
     "shell.execute_reply": "2020-09-29T00:57:31.929423Z"
    }
   },
   "outputs": [],
   "source": [
    "# Get available products\n",
    "products_info = dc.list_products()"
   ]
  },
  {
   "cell_type": "code",
   "execution_count": null,
   "metadata": {
    "execution": {
     "iopub.execute_input": "2020-09-29T00:57:31.942852Z",
     "iopub.status.busy": "2020-09-29T00:57:31.942156Z",
     "iopub.status.idle": "2020-09-29T00:57:31.948445Z",
     "shell.execute_reply": "2020-09-29T00:57:31.948866Z"
    }
   },
   "outputs": [],
   "source": [
    "print(\"LANDSAT 7 Products:\")\n",
    "products_info[[\"platform\", \"name\"]][products_info.platform == \"LANDSAT_7\"]"
   ]
  },
  {
   "cell_type": "code",
   "execution_count": null,
   "metadata": {},
   "outputs": [],
   "source": [
    "print(\"LANDSAT 8 Products:\")\n",
    "products_info[[\"platform\", \"name\"]][products_info.platform == \"LANDSAT_8\"]"
   ]
  },
  {
   "cell_type": "markdown",
   "metadata": {},
   "source": [
    "**Choose the platform and product**"
   ]
  },
  {
   "cell_type": "code",
   "execution_count": null,
   "metadata": {
    "execution": {
     "iopub.execute_input": "2020-09-29T00:57:31.951790Z",
     "iopub.status.busy": "2020-09-29T00:57:31.951382Z",
     "iopub.status.idle": "2020-09-29T00:57:31.953214Z",
     "shell.execute_reply": "2020-09-29T00:57:31.953649Z"
    }
   },
   "outputs": [],
   "source": [
    "platform = 'LANDSAT_7'\n",
    "product = 'ls7_usgs_sr_scene'\n",
    "collection = 'c1'\n",
    "level = 'l2'"
   ]
  },
  {
   "cell_type": "markdown",
   "metadata": {},
   "source": [
    "## <span id=\"Geomedians_and_Geomedoids_define_extents\">Define the Extents of the Analysis [&#9652;](#Geomedians_and_Geomedoids_top)</span>"
   ]
  },
  {
   "cell_type": "code",
   "execution_count": null,
   "metadata": {
    "execution": {
     "iopub.execute_input": "2020-09-29T00:57:31.957001Z",
     "iopub.status.busy": "2020-09-29T00:57:31.956575Z",
     "iopub.status.idle": "2020-09-29T00:57:31.958648Z",
     "shell.execute_reply": "2020-09-29T00:57:31.958226Z"
    }
   },
   "outputs": [],
   "source": [
    "# Zanzibar, Tanzania\n",
    "# lat = (-6.2238, -6.1267)\n",
    "# lon = (39.2298, 39.2909)\n",
    "\n",
    "# Masaki, Dar es Salaam, Tanzania\n",
    "lat = (-6.7758, -6.7357)\n",
    "lon = (39.2473, 39.2981)\n",
    "\n",
    "time_range = (\"2015-01-01\", \"2015-12-31\")"
   ]
  },
  {
   "cell_type": "code",
   "execution_count": null,
   "metadata": {
    "execution": {
     "iopub.execute_input": "2020-09-29T00:57:31.962805Z",
     "iopub.status.busy": "2020-09-29T00:57:31.962142Z",
     "iopub.status.idle": "2020-09-29T00:57:31.970631Z",
     "shell.execute_reply": "2020-09-29T00:57:31.970195Z"
    }
   },
   "outputs": [],
   "source": [
    "display_map(latitude = lat, longitude = lon)  "
   ]
  },
  {
   "cell_type": "markdown",
   "metadata": {},
   "source": [
    "## <span id=\"Geomedians_and_Geomedoids_retrieve_data\">Load Data from the Data Cube [&#9652;](#Geomedians_and_Geomedoids_top)</span>"
   ]
  },
  {
   "cell_type": "code",
   "execution_count": null,
   "metadata": {
    "execution": {
     "iopub.execute_input": "2020-09-29T00:57:31.975052Z",
     "iopub.status.busy": "2020-09-29T00:57:31.974386Z",
     "iopub.status.idle": "2020-09-29T00:57:33.871847Z",
     "shell.execute_reply": "2020-09-29T00:57:33.871355Z"
    }
   },
   "outputs": [],
   "source": [
    "landsat_ds = \\\n",
    "    dc.load(product = product, platform = platform,\n",
    "            lat = lat, lon = lon, time = time_range,\n",
    "            measurements = ['red', 'green', 'nir', 'swir1', \\\n",
    "                            'swir2', 'blue', 'pixel_qa'],\n",
    "            group_by='solar_day')"
   ]
  },
  {
   "cell_type": "code",
   "execution_count": null,
   "metadata": {
    "execution": {
     "iopub.execute_input": "2020-09-29T00:57:33.877206Z",
     "iopub.status.busy": "2020-09-29T00:57:33.876766Z",
     "iopub.status.idle": "2020-09-29T00:57:33.915303Z",
     "shell.execute_reply": "2020-09-29T00:57:33.916133Z"
    }
   },
   "outputs": [],
   "source": [
    "clean_mask = landsat_clean_mask_full(dc, landsat_ds, product=product, platform=platform,\n",
    "                                     collection=collection, level=level)"
   ]
  },
  {
   "cell_type": "code",
   "execution_count": null,
   "metadata": {
    "execution": {
     "iopub.execute_input": "2020-09-29T00:57:33.921647Z",
     "iopub.status.busy": "2020-09-29T00:57:33.920905Z",
     "iopub.status.idle": "2020-09-29T00:57:33.946307Z",
     "shell.execute_reply": "2020-09-29T00:57:33.945891Z"
    }
   },
   "outputs": [],
   "source": [
    "landsat_ds = landsat_ds.where(clean_mask)"
   ]
  },
  {
   "cell_type": "markdown",
   "metadata": {},
   "source": [
    "## <span id=\"Geomedians_and_Geomedoids_medoid\">Geometric Medoid Compositing [&#9652;](#Geomedians_and_Geomedoids_top)</span>\n",
    "\n",
    "> To compute a Geomedoid composite, the geometric medoid algorithm is applied to the time series of every pixel (indexed by `lat,lon`).  \n",
    "Every pixel (indexed by `time,lat,lon`) in the the time series is treated as an independent observation used in the computation of the geometric medoid.  \n",
    "  \n",
    "> In the case of Landsat 7 imagery, an observation `<red,green,blue,nir,swir1,swir2>` is a vector/point embedded in 6-dimensional feature-space. \n",
    "\n",
    "> ### Formal Definition of a  Geometric Medoid  \n",
    ">Given a finite set $\\mathbb{X}$ of $\\mathbb{_p}$-dimensional observation vectors $\\mathbb{X} = \\{x_1,...,x_n \\}$ , the medoid  of these observations is given by the following equation <sup>[[1]](#hd_medians)</sup>: \n",
    "  \n",
    ">$$ m := argmin_{ x \\in \\mathbb{X}} \\sum_{i=1}^{n}{ \\lVert x - x_i\\rVert }   $$\n",
    "\n",
    "> We use the `create_hdmedians_multiple_band_mosaic()` function with the setting `operation='medoid'` to create a geomedoid composite. This function comes from `utils.data_cube_utilities.dc_mosaic`."
   ]
  },
  {
   "cell_type": "markdown",
   "metadata": {},
   "source": [
    "**Run geomedoid compositor**"
   ]
  },
  {
   "cell_type": "code",
   "execution_count": null,
   "metadata": {
    "execution": {
     "iopub.execute_input": "2020-09-29T00:57:33.950713Z",
     "iopub.status.busy": "2020-09-29T00:57:33.950274Z",
     "iopub.status.idle": "2020-09-29T00:57:35.592524Z",
     "shell.execute_reply": "2020-09-29T00:57:35.592018Z"
    }
   },
   "outputs": [],
   "source": [
    "geomedoid_mosaic = \\\n",
    "    create_hdmedians_multiple_band_mosaic(landsat_ds,\n",
    "                                          clean_mask = clean_mask,\n",
    "                                          operation = 'medoid')"
   ]
  },
  {
   "cell_type": "markdown",
   "metadata": {},
   "source": [
    "> ### Example of a composited `swir1` band"
   ]
  },
  {
   "cell_type": "code",
   "execution_count": null,
   "metadata": {
    "execution": {
     "iopub.execute_input": "2020-09-29T00:57:35.597076Z",
     "iopub.status.busy": "2020-09-29T00:57:35.596395Z",
     "iopub.status.idle": "2020-09-29T00:57:35.842984Z",
     "shell.execute_reply": "2020-09-29T00:57:35.843423Z"
    }
   },
   "outputs": [],
   "source": [
    "figsize = figure_ratio(landsat_ds, fixed_width=12)\n",
    "geomedoid_mosaic.swir1.plot(figsize = figsize, cmap = 'magma')\n",
    "plt.show()"
   ]
  },
  {
   "cell_type": "markdown",
   "metadata": {},
   "source": [
    "## <span id=\"Geomedians_and_Geomedoids_median\">Geometric Median Compositing [&#9652;](#Geomedians_and_Geomedoids_top)</span>\n",
    "\n",
    "> To compute a Geomedian composite, the geometric median algorithm is applied to the time series of every pixel (indexed by `lat,lon`).  \n",
    "Every pixel (indexed by `time,lat,lon`) in the the time series is treated as an independent observation used in the computation of the geometric median.  \n",
    "  \n",
    "> In the case of Landsat 7 imagery an observation `<red,green,blue,nir,swir1,swir2>` is a vector/point embedded in 6-dimensional feature-space. \n",
    "\n",
    "> ### Formal Definition of a  Geometric Median  \n",
    ">Given a finite set $\\mathbb{X}$ of $\\mathbb{_p}$-dimensional observation vectors $\\mathbb{X} = \\{ x_1,...,x_n \\}$ , the Median  of these observations is given by the following equation <sup>[[1]](#hd_medians)</sup>: \n",
    "  \n",
    ">$$ \\hat{\\mu} := argmin_{ x \\in \\mathbb{R^{_p}}} \\sum_{i=1}^{n}{ \\lVert x - x_i\\rVert }   $$\n",
    "  \n",
    "> **Note:**  \n",
    "> There is a subtle difference between the definition of the geometric median and the medoid: the search space for the solution differs and has the effect that the medoid returns one of the true observations whereas the geometric median can be described as a synthetic (not physically observed) observation.<sup>[[2]](#multi_dim_medians)</sup> \n",
    "\n",
    "> We use the `create_hdmedians_multiple_band_mosaic()` function with the setting `operation='median'` to create a geomedian composite. Note that `operation='median'` is the default setting, so this can be omitted for geomedians. This function comes from `utils.data_cube_utilities.dc_mosaic`."
   ]
  },
  {
   "cell_type": "markdown",
   "metadata": {},
   "source": [
    "**Run geomedian compositor**"
   ]
  },
  {
   "cell_type": "code",
   "execution_count": null,
   "metadata": {
    "execution": {
     "iopub.execute_input": "2020-09-29T00:57:35.847042Z",
     "iopub.status.busy": "2020-09-29T00:57:35.846629Z",
     "iopub.status.idle": "2020-09-29T00:57:38.989004Z",
     "shell.execute_reply": "2020-09-29T00:57:38.988518Z"
    }
   },
   "outputs": [],
   "source": [
    "geomedian_mosaic = \\\n",
    "    create_hdmedians_multiple_band_mosaic(landsat_ds,\n",
    "                                          clean_mask = clean_mask,\n",
    "                                          operation = 'median')"
   ]
  },
  {
   "cell_type": "markdown",
   "metadata": {},
   "source": [
    "> ### Example of a composited `swir1` band"
   ]
  },
  {
   "cell_type": "code",
   "execution_count": null,
   "metadata": {
    "execution": {
     "iopub.execute_input": "2020-09-29T00:57:38.993115Z",
     "iopub.status.busy": "2020-09-29T00:57:38.992692Z",
     "iopub.status.idle": "2020-09-29T00:57:39.225065Z",
     "shell.execute_reply": "2020-09-29T00:57:39.225493Z"
    }
   },
   "outputs": [],
   "source": [
    "figsize = figure_ratio(landsat_ds, fixed_width=12)\n",
    "geomedian_mosaic.swir1.plot(figsize = figsize, cmap = 'magma')\n",
    "plt.show()"
   ]
  },
  {
   "cell_type": "markdown",
   "metadata": {},
   "source": [
    "----   \n",
    "# References   \n",
    "\n",
    "<span id='hd_medians'></span>\n",
    "1. Dale Roberts 2018. Hdmedians. Github: https://github.com/daleroberts/hdmedians,  \n",
    "<span id='multi_dim_medians'></span>\n",
    "2. Small, C. G. (1990). A survey of multidimensional medians. International Statistical Review/Revue Internationale de Statistique, 263-277."
   ]
  }
 ],
 "metadata": {
  "kernelspec": {
   "display_name": "Python 3",
   "language": "python",
   "name": "python3"
  },
  "language_info": {
   "codemirror_mode": {
    "name": "ipython",
    "version": 3
   },
   "file_extension": ".py",
   "mimetype": "text/x-python",
   "name": "python",
   "nbconvert_exporter": "python",
   "pygments_lexer": "ipython3",
   "version": "3.6.9"
  }
 },
 "nbformat": 4,
 "nbformat_minor": 4
}
