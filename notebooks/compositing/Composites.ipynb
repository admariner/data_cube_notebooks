{
 "cells": [
  {
   "cell_type": "markdown",
   "metadata": {},
   "source": [
    "<a id=\"top\"></a>\n",
    "# Composites\n",
    "<hr>\n",
    "\n",
    "## Background\n",
    "\n",
    "Composites are 2-dimensional representations of 3-dimensional data.\n",
    "There are many cases in which this is desired. Sometimes composites are used in visualization - such as showing an RGB image of an area. Other times they are used for convenience, such as reducing the run time of an analysis by reducing the amount of data to be processed in a task by working with composites instead of full datasets. Other times they are required by an algorithm.\n",
    "\n",
    "There are several kinds of composites that can be made. This notebook provides an overview of several of them and shows how to create them in the context of Open Data Cube.\n",
    "<hr>\n",
    "\n",
    "## Index\n",
    "\n",
    "* [Import Dependencies and Connect to the Data Cube](#Composites_import)\n",
    "* [Load Data from the Data Cube](#Composites_retrieve_data)\n",
    "* [Most Common Composites](#Composites_most_common)\n",
    "    * Mean composites\n",
    "    * Median composites\n",
    "    * Geometric median (geomedian) composites\n",
    "    * Geometric medoid (geomedoid) composites\n",
    "* [Other Composites](#Composites_other_composites)\n",
    "    * Most-recent composites\n",
    "    * Least-recent composites"
   ]
  },
  {
   "cell_type": "markdown",
   "metadata": {},
   "source": [
    "## <span id=\"Composites_import\">Import Dependencies and Connect to the Data Cube [&#9652;](#top)</span>"
   ]
  },
  {
   "cell_type": "code",
   "execution_count": null,
   "metadata": {
    "execution": {
     "iopub.execute_input": "2020-09-29T00:57:27.272145Z",
     "iopub.status.busy": "2020-09-29T00:57:27.271652Z",
     "iopub.status.idle": "2020-09-29T00:57:28.545251Z",
     "shell.execute_reply": "2020-09-29T00:57:28.545728Z"
    }
   },
   "outputs": [],
   "source": [
    "import sys\n",
    "import os\n",
    "sys.path.append(os.environ.get('NOTEBOOK_ROOT'))\n",
    "\n",
    "from utils.data_cube_utilities.clean_mask import landsat_clean_mask_full\n",
    "# landsat_qa_clean_mask, landsat_clean_mask_invalid\n",
    "from utils.data_cube_utilities.dc_mosaic import create_hdmedians_multiple_band_mosaic\n",
    "from utils.data_cube_utilities.dc_mosaic import create_mosaic\n",
    "\n",
    "from datacube.utils.aws import configure_s3_access\n",
    "configure_s3_access(requester_pays=True)\n",
    "\n",
    "import datacube\n",
    "dc = datacube.Datacube()"
   ]
  },
  {
   "cell_type": "markdown",
   "metadata": {},
   "source": [
    "## <span id=\"Composites_retrieve_data\">Load Data from the Data Cube [&#9652;](#top)</span>"
   ]
  },
  {
   "cell_type": "code",
   "execution_count": null,
   "metadata": {
    "execution": {
     "iopub.execute_input": "2020-09-29T00:57:28.548734Z",
     "iopub.status.busy": "2020-09-29T00:57:28.548325Z",
     "iopub.status.idle": "2020-09-29T00:57:28.550452Z",
     "shell.execute_reply": "2020-09-29T00:57:28.550025Z"
    }
   },
   "outputs": [],
   "source": [
    "product = 'ls8_usgs_sr_scene'\n",
    "platform = 'LANDSAT_8'\n",
    "collection = 'c1'\n",
    "level = 'l2'"
   ]
  },
  {
   "cell_type": "code",
   "execution_count": null,
   "metadata": {
    "execution": {
     "iopub.execute_input": "2020-09-29T00:57:28.563291Z",
     "iopub.status.busy": "2020-09-29T00:57:28.562604Z",
     "iopub.status.idle": "2020-09-29T00:57:28.677043Z",
     "shell.execute_reply": "2020-09-29T00:57:28.677501Z"
    }
   },
   "outputs": [],
   "source": [
    "landsat_ds = dc.load(platform=platform, product=product,\n",
    "                     time=(\"2017-01-01\", \"2017-12-31\"), \n",
    "                     lat=(-1.395447, -1.172343), \n",
    "                     lon=(36.621306, 37.033980),\n",
    "                     group_by='solar_day',\n",
    "                     dask_chunks={'latitude':500, 'longitude':500,\n",
    "                                  'time':5})"
   ]
  },
  {
   "cell_type": "code",
   "execution_count": null,
   "metadata": {
    "execution": {
     "iopub.execute_input": "2020-09-29T00:57:28.699334Z",
     "iopub.status.busy": "2020-09-29T00:57:28.698893Z",
     "iopub.status.idle": "2020-09-29T00:57:28.738715Z",
     "shell.execute_reply": "2020-09-29T00:57:28.739148Z"
    }
   },
   "outputs": [],
   "source": [
    "# clean_mask = (landsat_qa_clean_mask(landsat_ds, platform) & \n",
    "#               (landsat_ds != -9999).to_array().all('variable') & \n",
    "#               landsat_clean_mask_invalid(landsat_ds))\n",
    "clean_mask = landsat_clean_mask_full(dc, landsat_ds, product=product, platform=platform, \n",
    "                                     collection=collection, level=level)"
   ]
  },
  {
   "cell_type": "code",
   "execution_count": null,
   "metadata": {
    "execution": {
     "iopub.execute_input": "2020-09-29T00:57:28.743247Z",
     "iopub.status.busy": "2020-09-29T00:57:28.742036Z",
     "iopub.status.idle": "2020-09-29T00:57:28.758586Z",
     "shell.execute_reply": "2020-09-29T00:57:28.759001Z"
    }
   },
   "outputs": [],
   "source": [
    "landsat_ds = landsat_ds.where(clean_mask)"
   ]
  },
  {
   "cell_type": "markdown",
   "metadata": {},
   "source": [
    "## <span id=\"Composites_most_common\">Most Common Composites [&#9652;](#top)</span>"
   ]
  },
  {
   "cell_type": "markdown",
   "metadata": {},
   "source": [
    "### Mean composites"
   ]
  },
  {
   "cell_type": "markdown",
   "metadata": {},
   "source": [
    "> A mean composite is obtained by finding the mean (average) value of each band for each pixel. To create mean composites, we use the built-in `mean()` method of xarray objects."
   ]
  },
  {
   "cell_type": "code",
   "execution_count": null,
   "metadata": {
    "execution": {
     "iopub.execute_input": "2020-09-29T00:57:28.779782Z",
     "iopub.status.busy": "2020-09-29T00:57:28.778860Z",
     "iopub.status.idle": "2020-09-29T00:57:28.780668Z",
     "shell.execute_reply": "2020-09-29T00:57:28.781086Z"
    }
   },
   "outputs": [],
   "source": [
    "mean_composite = landsat_ds.mean('time', skipna=True)"
   ]
  },
  {
   "cell_type": "markdown",
   "metadata": {},
   "source": [
    "### Median composites"
   ]
  },
  {
   "cell_type": "markdown",
   "metadata": {},
   "source": [
    "> A median composite is obtained by finding the median value of each band for each pixel. Median composites are quick to obtain and are usually fairly representative of their data, so they are acceptable for visualization as images. To create median composites, we use the built-in `median()` method of xarray objects.\n",
    "\n",
    "![](diagrams/urbanization/median_comp.png)  "
   ]
  },
  {
   "cell_type": "code",
   "execution_count": null,
   "metadata": {
    "execution": {
     "iopub.execute_input": "2020-09-29T00:57:28.789953Z",
     "iopub.status.busy": "2020-09-29T00:57:28.787867Z",
     "iopub.status.idle": "2020-09-29T00:57:28.806221Z",
     "shell.execute_reply": "2020-09-29T00:57:28.806641Z"
    }
   },
   "outputs": [],
   "source": [
    "median_composite = landsat_ds.median('time', skipna=True)"
   ]
  },
  {
   "cell_type": "markdown",
   "metadata": {},
   "source": [
    "### Geometric median (geomedian) composites"
   ]
  },
  {
   "cell_type": "markdown",
   "metadata": {},
   "source": [
    "> Geometric median (or \"geomedian\") composites are the best composites to use for most applications for which a representative, **synthetic** (calculated, not selected from the data) time slice is desired. They are essentiall median composites, but instead of finding the median on a per-band basis, they find the median for all bands together. If a composite will be used for analysis - not just visualization - it should be a geomedian composite. The only downside of this composite type is that it takes much longer to obtain than other composite types. For more information, see the [Geomedians_and_Geomedoids notebook](Geomedians_and_Geomedoids.ipynb)."
   ]
  },
  {
   "cell_type": "code",
   "execution_count": null,
   "metadata": {
    "execution": {
     "iopub.execute_input": "2020-09-29T00:57:28.809865Z",
     "iopub.status.busy": "2020-09-29T00:57:28.809242Z",
     "iopub.status.idle": "2020-09-29T00:57:28.856287Z",
     "shell.execute_reply": "2020-09-29T00:57:28.855812Z"
    }
   },
   "outputs": [],
   "source": [
    "geomedian_composite = create_hdmedians_multiple_band_mosaic(landsat_ds)"
   ]
  },
  {
   "cell_type": "markdown",
   "metadata": {},
   "source": [
    "### Geometric medoid (geomedoid) composites"
   ]
  },
  {
   "cell_type": "markdown",
   "metadata": {},
   "source": [
    "> Geometric medoid (or \"geomedoid\") composites are the best composites to use for most applications for which a representative, **non-syntheic** (selected from the data, not calculated) time slice is desired. For more information, see the [Geomedians_and_Geomedoids notebook](Geomedians_and_Geomedoids.ipynb)."
   ]
  },
  {
   "cell_type": "code",
   "execution_count": null,
   "metadata": {
    "execution": {
     "iopub.execute_input": "2020-09-29T00:57:28.896515Z",
     "iopub.status.busy": "2020-09-29T00:57:28.896079Z",
     "iopub.status.idle": "2020-09-29T00:57:28.897782Z",
     "shell.execute_reply": "2020-09-29T00:57:28.898189Z"
    }
   },
   "outputs": [],
   "source": [
    "geomedoid_composite = create_hdmedians_multiple_band_mosaic(landsat_ds, operation='medoid')"
   ]
  },
  {
   "cell_type": "markdown",
   "metadata": {},
   "source": [
    "## <span id=\"Composites_other_composites\">Other Composites [&#9652;](#top)</span>"
   ]
  },
  {
   "cell_type": "markdown",
   "metadata": {},
   "source": [
    "### Most-recent composites"
   ]
  },
  {
   "cell_type": "markdown",
   "metadata": {},
   "source": [
    "> Most-recent composites use the most recent cloud-free pixels in an image. To create, a most-recent composite, we use the **create_mosaic** utility function.\n",
    "\n",
    "![](diagrams/urbanization/flat_mosaic.png)"
   ]
  },
  {
   "cell_type": "code",
   "execution_count": null,
   "metadata": {
    "execution": {
     "iopub.execute_input": "2020-09-29T00:57:28.951501Z",
     "iopub.status.busy": "2020-09-29T00:57:28.948180Z",
     "iopub.status.idle": "2020-09-29T00:57:28.999699Z",
     "shell.execute_reply": "2020-09-29T00:57:28.999239Z"
    }
   },
   "outputs": [],
   "source": [
    "most_recent_composite = create_mosaic(landsat_ds)"
   ]
  },
  {
   "cell_type": "markdown",
   "metadata": {},
   "source": [
    "### Least-recent composites"
   ]
  },
  {
   "cell_type": "markdown",
   "metadata": {},
   "source": [
    "> Least-recent composites are simply the opposite of most-recent composites. To create, a least-recent composite, we use the **create_mosaic** utility function, specifying `reverse_time=True`."
   ]
  },
  {
   "cell_type": "code",
   "execution_count": null,
   "metadata": {
    "execution": {
     "iopub.execute_input": "2020-09-29T00:57:29.052404Z",
     "iopub.status.busy": "2020-09-29T00:57:29.049947Z",
     "iopub.status.idle": "2020-09-29T00:57:29.099918Z",
     "shell.execute_reply": "2020-09-29T00:57:29.100348Z"
    }
   },
   "outputs": [],
   "source": [
    "most_recent_composite = create_mosaic(landsat_ds, reverse_time=True)"
   ]
  }
 ],
 "metadata": {
  "kernelspec": {
   "display_name": "Python 3",
   "language": "python",
   "name": "python3"
  },
  "language_info": {
   "codemirror_mode": {
    "name": "ipython",
    "version": 3
   },
   "file_extension": ".py",
   "mimetype": "text/x-python",
   "name": "python",
   "nbconvert_exporter": "python",
   "pygments_lexer": "ipython3",
   "version": "3.6.9"
  }
 },
 "nbformat": 4,
 "nbformat_minor": 4
}
