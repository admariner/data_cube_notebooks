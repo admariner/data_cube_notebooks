{
 "cells": [
  {
   "cell_type": "code",
   "execution_count": null,
   "metadata": {
    "execution": {
     "iopub.execute_input": "2020-09-29T01:00:49.523846Z",
     "iopub.status.busy": "2020-09-29T01:00:49.523424Z",
     "iopub.status.idle": "2020-09-29T01:00:49.525870Z",
     "shell.execute_reply": "2020-09-29T01:00:49.525388Z"
    }
   },
   "outputs": [],
   "source": [
    "# Enable importing of utilities.\n",
    "import sys\n",
    "import os\n",
    "sys.path.append(os.environ.get('NOTEBOOK_ROOT'))"
   ]
  },
  {
   "cell_type": "markdown",
   "metadata": {},
   "source": [
    "# ARDC Training: Python Notebooks\n",
    "Task-C: Fractional Cover (FC) and Spectral Indices (NDBI and NDVI)"
   ]
  },
  {
   "cell_type": "markdown",
   "metadata": {},
   "source": [
    "> ### Import the Datacube Configuration"
   ]
  },
  {
   "cell_type": "code",
   "execution_count": null,
   "metadata": {
    "execution": {
     "iopub.execute_input": "2020-09-29T01:00:49.529138Z",
     "iopub.status.busy": "2020-09-29T01:00:49.528718Z",
     "iopub.status.idle": "2020-09-29T01:00:50.802948Z",
     "shell.execute_reply": "2020-09-29T01:00:50.803416Z"
    }
   },
   "outputs": [],
   "source": [
    "import datacube\n",
    "import utils.data_cube_utilities.data_access_api as dc_api  \n",
    "\n",
    "from datacube.utils.aws import configure_s3_access\n",
    "configure_s3_access(requester_pays=True)\n",
    "\n",
    "api = dc_api.DataAccessApi()\n",
    "dc = datacube.Datacube(app = 'ardc_task_c')\n",
    "api.dc = dc"
   ]
  },
  {
   "cell_type": "markdown",
   "metadata": {},
   "source": [
    ">### Browse the available Data Cubes   "
   ]
  },
  {
   "cell_type": "code",
   "execution_count": null,
   "metadata": {
    "execution": {
     "iopub.execute_input": "2020-09-29T01:00:50.807905Z",
     "iopub.status.busy": "2020-09-29T01:00:50.807201Z",
     "iopub.status.idle": "2020-09-29T01:00:50.854592Z",
     "shell.execute_reply": "2020-09-29T01:00:50.855029Z"
    },
    "scrolled": false
   },
   "outputs": [],
   "source": [
    "list_of_products = dc.list_products()\n",
    "netCDF_products = list_of_products[list_of_products['format'] == 'NetCDF']\n",
    "netCDF_products"
   ]
  },
  {
   "cell_type": "markdown",
   "metadata": {},
   "source": [
    ">### Pick a product  \n",
    ">Use the platform and product names from the previous block to select a Data Cube.  "
   ]
  },
  {
   "cell_type": "code",
   "execution_count": null,
   "metadata": {
    "execution": {
     "iopub.execute_input": "2020-09-29T01:00:50.858289Z",
     "iopub.status.busy": "2020-09-29T01:00:50.857854Z",
     "iopub.status.idle": "2020-09-29T01:00:50.859968Z",
     "shell.execute_reply": "2020-09-29T01:00:50.859531Z"
    }
   },
   "outputs": [],
   "source": [
    "# Change the data platform and data cube here\n",
    "\n",
    "platform = 'LANDSAT_7'\n",
    "product = 'ls7_usgs_sr_scene'"
   ]
  },
  {
   "cell_type": "markdown",
   "metadata": {},
   "source": [
    "> #### Display Latitude-Longitude and Time Bounds of the Data Cube"
   ]
  },
  {
   "cell_type": "code",
   "execution_count": null,
   "metadata": {
    "execution": {
     "iopub.execute_input": "2020-09-29T01:00:50.865153Z",
     "iopub.status.busy": "2020-09-29T01:00:50.864287Z",
     "iopub.status.idle": "2020-09-29T01:00:53.043647Z",
     "shell.execute_reply": "2020-09-29T01:00:53.043172Z"
    }
   },
   "outputs": [],
   "source": [
    "from utils.data_cube_utilities.dc_time import _n64_to_datetime, dt_to_str\n",
    "\n",
    "extents = api.get_full_dataset_extent(platform = platform, product = product, measurements=[])\n",
    "\n",
    "latitude_extents = (min(extents['latitude'].values),max(extents['latitude'].values))\n",
    "longitude_extents = (min(extents['longitude'].values),max(extents['longitude'].values))\n",
    "time_extents = (min(extents['time'].values),max(extents['time'].values))\n",
    "\n",
    "print(\"Latitude Extents:\", latitude_extents)\n",
    "print(\"Longitude Extents:\", longitude_extents)\n",
    "print(\"Time Extents:\", list(map(dt_to_str, map(_n64_to_datetime, time_extents))))"
   ]
  },
  {
   "cell_type": "markdown",
   "metadata": {},
   "source": [
    "# Visualize Data Cube Region"
   ]
  },
  {
   "cell_type": "code",
   "execution_count": null,
   "metadata": {
    "execution": {
     "iopub.execute_input": "2020-09-29T01:00:53.047009Z",
     "iopub.status.busy": "2020-09-29T01:00:53.046589Z",
     "iopub.status.idle": "2020-09-29T01:00:53.220781Z",
     "shell.execute_reply": "2020-09-29T01:00:53.220303Z"
    }
   },
   "outputs": [],
   "source": [
    "## The code below renders a map that can be used to orient yourself with the region.\n",
    "from utils.data_cube_utilities.dc_display_map import display_map\n",
    "display_map(latitude = latitude_extents, longitude = longitude_extents)"
   ]
  },
  {
   "cell_type": "markdown",
   "metadata": {},
   "source": [
    "> ### Pick a smaller analysis region and display that region\n",
    "Try to keep your region to less than 0.2-deg x 0.2-deg for rapid processing. You can click on the map above to find the Lat-Lon coordinates of any location. You will want to identify a region with an urban aree or some known vegetation. Pick a time window of a few months to a year so we can pick out some clear pixels."
   ]
  },
  {
   "cell_type": "code",
   "execution_count": null,
   "metadata": {
    "execution": {
     "iopub.execute_input": "2020-09-29T01:00:53.224069Z",
     "iopub.status.busy": "2020-09-29T01:00:53.223659Z",
     "iopub.status.idle": "2020-09-29T01:00:53.225919Z",
     "shell.execute_reply": "2020-09-29T01:00:53.225470Z"
    }
   },
   "outputs": [],
   "source": [
    "## Vietnam - Central Lam Dong Province ##\n",
    "# longitude_extents = (105.2, 105.3)\n",
    "# latitude_extents  = (11.25, 11.35)\n",
    "\n",
    "## Sierra Leone - Freetown\n",
    "latitude_extents = (8.35, 8.51)\n",
    "longitude_extents = (-13.30, -13.13)\n",
    "\n",
    "time_extents = ('2015-01-01', '2015-12-31')"
   ]
  },
  {
   "cell_type": "code",
   "execution_count": null,
   "metadata": {
    "execution": {
     "iopub.execute_input": "2020-09-29T01:00:53.229390Z",
     "iopub.status.busy": "2020-09-29T01:00:53.228979Z",
     "iopub.status.idle": "2020-09-29T01:00:53.236397Z",
     "shell.execute_reply": "2020-09-29T01:00:53.236806Z"
    },
    "scrolled": false
   },
   "outputs": [],
   "source": [
    "display_map(latitude = latitude_extents, longitude = longitude_extents)"
   ]
  },
  {
   "cell_type": "markdown",
   "metadata": {},
   "source": [
    "## Load the dataset and the required spectral bands or other parameters\n",
    "After loading, you will view the Xarray dataset. Notice the dimensions represent the number of pixels in your latitude and longitude dimension as well as the number of time slices (time) in your time series."
   ]
  },
  {
   "cell_type": "code",
   "execution_count": null,
   "metadata": {
    "execution": {
     "iopub.execute_input": "2020-09-29T01:00:53.240756Z",
     "iopub.status.busy": "2020-09-29T01:00:53.240336Z",
     "iopub.status.idle": "2020-09-29T01:00:57.233154Z",
     "shell.execute_reply": "2020-09-29T01:00:57.234034Z"
    }
   },
   "outputs": [],
   "source": [
    "landsat_dataset = dc.load(latitude = latitude_extents,\n",
    "                          longitude = longitude_extents,\n",
    "                          platform = platform,\n",
    "                          time = time_extents,\n",
    "                          product = product,\n",
    "                          measurements = ['red', 'green', 'blue', 'nir', 'swir1', 'swir2', 'pixel_qa']) "
   ]
  },
  {
   "cell_type": "code",
   "execution_count": null,
   "metadata": {
    "execution": {
     "iopub.execute_input": "2020-09-29T01:00:57.251480Z",
     "iopub.status.busy": "2020-09-29T01:00:57.250718Z",
     "iopub.status.idle": "2020-09-29T01:00:57.270724Z",
     "shell.execute_reply": "2020-09-29T01:00:57.271202Z"
    }
   },
   "outputs": [],
   "source": [
    "landsat_dataset\n",
    "#view the dimensions and sample content from the cube"
   ]
  },
  {
   "cell_type": "markdown",
   "metadata": {},
   "source": [
    "# Display Example Images  \n",
    "\n",
    ">#### Single band visualization   \n",
    "> For a quick inspection, let's look at one image. The code will allow the selection of any band (red, blue, green, nir, swir1, swir2) to produce a grey-scale image. Select the desired acquisition (time slice) in the block below. You can select from 1 to #, where the max value is the number of time slices noted in the block above. Change the comment statements below to select the bands for the first image."
   ]
  },
  {
   "cell_type": "code",
   "execution_count": null,
   "metadata": {
    "execution": {
     "iopub.execute_input": "2020-09-29T01:00:57.275220Z",
     "iopub.status.busy": "2020-09-29T01:00:57.274812Z",
     "iopub.status.idle": "2020-09-29T01:00:57.277905Z",
     "shell.execute_reply": "2020-09-29T01:00:57.277503Z"
    }
   },
   "outputs": [],
   "source": [
    "acquisition_number = 0\n",
    "# select an acquisition number from 0 (first time layer) to \"time\" using the array limits above"
   ]
  },
  {
   "cell_type": "code",
   "execution_count": null,
   "metadata": {
    "execution": {
     "iopub.execute_input": "2020-09-29T01:00:57.282355Z",
     "iopub.status.busy": "2020-09-29T01:00:57.281684Z",
     "iopub.status.idle": "2020-09-29T01:00:57.728983Z",
     "shell.execute_reply": "2020-09-29T01:00:57.729422Z"
    }
   },
   "outputs": [],
   "source": [
    "%matplotlib inline\n",
    "#landsat_dataset.red.isel(time = acquisition_number).plot(cmap = \"Greys\")\n",
    "landsat_dataset.green.isel(time = acquisition_number).plot(cmap = \"Greys\")\n",
    "#landsat_dataset.blue.isel(time = acquisition_number).plot(cmap = \"Greys\")\n",
    "#landsat_dataset.nir.isel(time = acquisition_number).plot(cmap = \"Greys\")\n",
    "#landsat_dataset.swir1.isel(time = acquisition_number).plot(cmap = \"Greys\")\n",
    "#landsat_dataset.swir2.isel(time = acquisition_number).plot(cmap = \"Greys\")"
   ]
  },
  {
   "cell_type": "markdown",
   "metadata": {},
   "source": [
    ">#### Define Cloud Masking Function   \n",
    "Removes clouds and cloud shadows based on the Landsat pixel QA information\n",
    "This is only for reference ... nothing to modify here"
   ]
  },
  {
   "cell_type": "code",
   "execution_count": 4,
   "metadata": {},
   "outputs": [
    {
     "name": "stdout",
     "output_type": "stream",
     "text": [
      "./Training_TaskF_DataExport.ipynb:     \"evalue\": \"name 'water_xarray' is not defined\",\r\n",
      "./Training_TaskF_DataExport.ipynb:      \"\\u001b[0;32m<ipython-input-17-d51b8b9b5d33>\\u001b[0m in \\u001b[0;36m<module>\\u001b[0;34m\\u001b[0m\\n\\u001b[1;32m      1\\u001b[0m \\u001b[0;32mfrom\\u001b[0m \\u001b[0mutils\\u001b[0m\\u001b[0;34m.\\u001b[0m\\u001b[0mdata_cube_utilities\\u001b[0m\\u001b[0;34m.\\u001b[0m\\u001b[0mdc_water_quality\\u001b[0m \\u001b[0;32mimport\\u001b[0m \\u001b[0mtsm\\u001b[0m\\u001b[0;34m\\u001b[0m\\u001b[0;34m\\u001b[0m\\u001b[0m\\n\\u001b[1;32m      2\\u001b[0m \\u001b[0;34m\\u001b[0m\\u001b[0m\\n\\u001b[0;32m----> 3\\u001b[0;31m \\u001b[0mtsm_xarray\\u001b[0m \\u001b[0;34m=\\u001b[0m \\u001b[0mtsm\\u001b[0m\\u001b[0;34m(\\u001b[0m\\u001b[0mlandsat_dataset\\u001b[0m\\u001b[0;34m,\\u001b[0m \\u001b[0mclean_mask\\u001b[0m \\u001b[0;34m=\\u001b[0m \\u001b[0mwater_xarray\\u001b[0m\\u001b[0;34m.\\u001b[0m\\u001b[0mvalues\\u001b[0m\\u001b[0;34m.\\u001b[0m\\u001b[0mastype\\u001b[0m\\u001b[0;34m(\\u001b[0m\\u001b[0mbool\\u001b[0m\\u001b[0;34m)\\u001b[0m \\u001b[0;34m)\\u001b[0m\\u001b[0;34m.\\u001b[0m\\u001b[0mtsm\\u001b[0m\\u001b[0;34m\\u001b[0m\\u001b[0;34m\\u001b[0m\\u001b[0m\\n\\u001b[0m\",\r\n",
      "./Training_TaskF_DataExport.ipynb:      \"\\u001b[0;31mNameError\\u001b[0m: name 'water_xarray' is not defined\"\r\n",
      "./Training_TaskF_DataExport.ipynb:    \"tsm_xarray = tsm(landsat_dataset, clean_mask = water_xarray.values.astype(bool) ).tsm\"\r\n",
      "./Training_TaskF_DataExport.ipynb:    \"          water_xarray,\\n\",\r\n",
      "./.ipynb_checkpoints/Training_TaskF_DataExport-checkpoint.ipynb:    \"tsm_xarray = tsm(landsat_dataset, clean_mask = water_xarray.values.astype(bool) ).tsm\"\r\n",
      "./.ipynb_checkpoints/Training_TaskF_DataExport-checkpoint.ipynb:    \"          water_xarray,\\n\",\r\n",
      "./.ipynb_checkpoints/Training_TaskE_Transect-checkpoint.ipynb:    \"water_xarray  = landsat_qa_clean_mask(landsat_dataset, cover_types=['water'], **plt_col_lvl_params)\\n\",\r\n",
      "./.ipynb_checkpoints/Training_TaskE_Transect-checkpoint.ipynb:    \"clean_xarray = (clear_xarray | water_xarray).rename(\\\"clean_mask\\\")\"\r\n",
      "./.ipynb_checkpoints/Training_TaskE_Transect-checkpoint.ipynb:    \"tsm_xarray = tsm(landsat_dataset, clean_mask = water_xarray.values.astype(bool) ).tsm\"\r\n",
      "./.ipynb_checkpoints/Training_TaskE_Transect-checkpoint.ipynb:    \"          water_xarray,\\n\",\r\n",
      "./.ipynb_checkpoints/Training_TaskE_Transect-checkpoint.ipynb:    \"transect_plot(start, end, water_xarray.isel(time = acquisition_number))\"\r\n",
      "./.ipynb_checkpoints/Training_TaskE_Transect-checkpoint.ipynb:    \"transect_plot(start, end, water_xarray)\"\r\n",
      "./Training_TaskE_Transect.ipynb:    \"water_xarray  = landsat_qa_clean_mask(landsat_dataset, cover_types=['water'], **plt_col_lvl_params)\\n\",\r\n",
      "./Training_TaskE_Transect.ipynb:    \"clean_xarray = (clear_xarray | water_xarray).rename(\\\"clean_mask\\\")\"\r\n",
      "./Training_TaskE_Transect.ipynb:    \"tsm_xarray = tsm(landsat_dataset, clean_mask = water_xarray.values.astype(bool) ).tsm\"\r\n",
      "./Training_TaskE_Transect.ipynb:    \"          water_xarray,\\n\",\r\n",
      "./Training_TaskE_Transect.ipynb:    \"transect_plot(start, end, water_xarray.isel(time = acquisition_number))\"\r\n",
      "./Training_TaskE_Transect.ipynb:    \"transect_plot(start, end, water_xarray)\"\r\n"
     ]
    }
   ],
   "source": [
    "!grep -re 'water_xarray' ."
   ]
  },
  {
   "cell_type": "code",
   "execution_count": null,
   "metadata": {
    "execution": {
     "iopub.execute_input": "2020-09-29T01:00:57.738786Z",
     "iopub.status.busy": "2020-09-29T01:00:57.738364Z",
     "iopub.status.idle": "2020-09-29T01:00:57.740284Z",
     "shell.execute_reply": "2020-09-29T01:00:57.740708Z"
    }
   },
   "outputs": [],
   "source": [
    "import numpy as np  \n",
    "\n",
    "def generate_cloud_mask(dataset, include_shadows = False):\n",
    "    #Create boolean Masks for clear and water pixels\n",
    "    clear_pixels = dataset.pixel_qa.values == 2  + 64\n",
    "    water_pixels = dataset.pixel_qa.values == 4  + 64\n",
    "    shadow_pixels= dataset.pixel_qa.values == 8 + 64\n",
    "    \n",
    "    a_clean_mask = np.logical_or(clear_pixels, water_pixels)\n",
    "    \n",
    "    if include_shadows:\n",
    "        a_clean_mask = np.logical_or(a_clean_mask, shadow_pixels)\n",
    "        \n",
    "    return np.invert(a_clean_mask)\n",
    "\n",
    "def remove_clouds(dataset, include_shadows = False):\n",
    "    #Create boolean Masks for clear and water pixels\n",
    "    clear_pixels = dataset.pixel_qa.values == 2  + 64\n",
    "    water_pixels = dataset.pixel_qa.values == 4  + 64\n",
    "    shadow_pixels= dataset.pixel_qa.values == 8 + 64\n",
    "    \n",
    "    a_clean_mask = np.logical_or(clear_pixels, water_pixels)\n",
    "    \n",
    "    if include_shadows:\n",
    "        a_clean_mask = np.logical_or(a_clean_mask, shadow_pixels)\n",
    "        \n",
    "    return dataset.where(a_clean_mask)"
   ]
  },
  {
   "cell_type": "code",
   "execution_count": null,
   "metadata": {
    "execution": {
     "iopub.execute_input": "2020-09-29T01:00:57.743733Z",
     "iopub.status.busy": "2020-09-29T01:00:57.743322Z",
     "iopub.status.idle": "2020-09-29T01:00:57.839083Z",
     "shell.execute_reply": "2020-09-29T01:00:57.838612Z"
    }
   },
   "outputs": [],
   "source": [
    "cloud_mask = generate_cloud_mask(landsat_dataset)\n",
    "cloudless = remove_clouds(landsat_dataset) #landsat_dataset.where(image_is_clean)"
   ]
  },
  {
   "cell_type": "markdown",
   "metadata": {},
   "source": [
    ">Set up plotting function (to be used later)\n",
    ">Nothing to modify here"
   ]
  },
  {
   "cell_type": "markdown",
   "metadata": {},
   "source": [
    "> **Median Mosaic**  \n",
    ">  Masks clouds from imagery using the median valued cloud-free pixels in the time series  "
   ]
  },
  {
   "cell_type": "code",
   "execution_count": null,
   "metadata": {
    "execution": {
     "iopub.execute_input": "2020-09-29T01:00:57.842736Z",
     "iopub.status.busy": "2020-09-29T01:00:57.842310Z",
     "iopub.status.idle": "2020-09-29T01:00:57.854671Z",
     "shell.execute_reply": "2020-09-29T01:00:57.855104Z"
    }
   },
   "outputs": [],
   "source": [
    "from utils.data_cube_utilities.dc_mosaic import create_median_mosaic\n",
    "\n",
    "def median_mosaic(dataset):\n",
    "    # The mask here is based on pixel_qa products. It comes bundled in with most Landsat Products.\n",
    "    cloud_free_boolean_mask = np.invert(generate_cloud_mask(dataset))\n",
    "    return create_median_mosaic(dataset, clean_mask = cloud_free_boolean_mask)"
   ]
  },
  {
   "cell_type": "code",
   "execution_count": null,
   "metadata": {
    "execution": {
     "iopub.execute_input": "2020-09-29T01:00:57.858239Z",
     "iopub.status.busy": "2020-09-29T01:00:57.857823Z",
     "iopub.status.idle": "2020-09-29T01:00:58.688047Z",
     "shell.execute_reply": "2020-09-29T01:00:58.688514Z"
    }
   },
   "outputs": [],
   "source": [
    "median_composite = median_mosaic(landsat_dataset)"
   ]
  },
  {
   "cell_type": "code",
   "execution_count": null,
   "metadata": {
    "execution": {
     "iopub.execute_input": "2020-09-29T01:00:58.692809Z",
     "iopub.status.busy": "2020-09-29T01:00:58.692161Z",
     "iopub.status.idle": "2020-09-29T01:00:58.966828Z",
     "shell.execute_reply": "2020-09-29T01:00:58.967269Z"
    }
   },
   "outputs": [],
   "source": [
    "median_composite.nir.plot(cmap = \"Greys\")"
   ]
  },
  {
   "cell_type": "code",
   "execution_count": null,
   "metadata": {
    "execution": {
     "iopub.execute_input": "2020-09-29T01:00:58.970708Z",
     "iopub.status.busy": "2020-09-29T01:00:58.970075Z",
     "iopub.status.idle": "2020-09-29T01:00:59.392003Z",
     "shell.execute_reply": "2020-09-29T01:00:59.392451Z"
    }
   },
   "outputs": [],
   "source": [
    "from utils.data_cube_utilities.dc_rgb import rgb\n",
    "rgb(median_composite)"
   ]
  },
  {
   "cell_type": "markdown",
   "metadata": {},
   "source": [
    "# Fractional Cover  \n",
    "\n",
    "Fractional Cover (FC) is used for landcover type estimation (vegetation, non-green vegetation, bare soil) of each pixel. We use a model from CSIRO (Juan Gerschmann) and apply it to a median mosaic.  "
   ]
  },
  {
   "cell_type": "code",
   "execution_count": null,
   "metadata": {
    "execution": {
     "iopub.execute_input": "2020-09-29T01:00:59.396114Z",
     "iopub.status.busy": "2020-09-29T01:00:59.395676Z",
     "iopub.status.idle": "2020-09-29T01:01:05.719664Z",
     "shell.execute_reply": "2020-09-29T01:01:05.720126Z"
    }
   },
   "outputs": [],
   "source": [
    "from utils.data_cube_utilities.dc_fractional_coverage_classifier import frac_coverage_classify \n",
    "frac_classes = frac_coverage_classify(median_composite, clean_mask = np.ones(median_composite.pixel_qa.shape).astype(np.bool)) "
   ]
  },
  {
   "cell_type": "markdown",
   "metadata": {},
   "source": [
    "## Plotting Fractional Cover Results\n",
    "Plot Bare Soil (bs), Photosynthetic Vegetation (pv) or Non Photosynthetic Vegetation (npv)\n",
    "<br>\n",
    "Plot a False Color RGB result where RGB = bs/pv/npv."
   ]
  },
  {
   "cell_type": "code",
   "execution_count": null,
   "metadata": {
    "execution": {
     "iopub.execute_input": "2020-09-29T01:01:05.723660Z",
     "iopub.status.busy": "2020-09-29T01:01:05.723250Z",
     "iopub.status.idle": "2020-09-29T01:01:06.064178Z",
     "shell.execute_reply": "2020-09-29T01:01:06.064626Z"
    }
   },
   "outputs": [],
   "source": [
    "frac_classes.bs.plot(cmap = \"Greys\")\n",
    "#frac_classes.pv.plot(cmap = \"Greys\")\n",
    "#frac_classes.npv.plot(cmap = \"Greys\")"
   ]
  },
  {
   "cell_type": "code",
   "execution_count": null,
   "metadata": {
    "execution": {
     "iopub.execute_input": "2020-09-29T01:01:06.068548Z",
     "iopub.status.busy": "2020-09-29T01:01:06.068144Z",
     "iopub.status.idle": "2020-09-29T01:01:06.479581Z",
     "shell.execute_reply": "2020-09-29T01:01:06.480044Z"
    }
   },
   "outputs": [],
   "source": [
    "rgb(frac_classes, bands = ['bs', 'pv', 'npv']) "
   ]
  },
  {
   "cell_type": "markdown",
   "metadata": {},
   "source": [
    "# Spectral Indices\n",
    "NDVI (vegetation) and NDBI (urbanization)"
   ]
  },
  {
   "cell_type": "markdown",
   "metadata": {},
   "source": [
    "### NDVI = Normalized Difference Vegetation Index\n",
    "A derived index that correlates well with the existance of vegetation.  \n",
    "\n",
    "$$ NDVI =  \\frac{(NIR - RED)}{(NIR + RED)}$$  "
   ]
  },
  {
   "cell_type": "code",
   "execution_count": null,
   "metadata": {
    "execution": {
     "iopub.execute_input": "2020-09-29T01:01:06.483574Z",
     "iopub.status.busy": "2020-09-29T01:01:06.483158Z",
     "iopub.status.idle": "2020-09-29T01:01:06.485474Z",
     "shell.execute_reply": "2020-09-29T01:01:06.485030Z"
    }
   },
   "outputs": [],
   "source": [
    "def NDVI(dataset):\n",
    "    return (dataset.nir - dataset.red)/(dataset.nir + dataset.red)"
   ]
  },
  {
   "cell_type": "markdown",
   "metadata": {},
   "source": [
    "### NDBI = Normalized Difference Build-Up Index \n",
    "A derived index that correlates well with the existance of urbanization.  \n",
    "<br>\n",
    "  \n",
    "$$NDBI =  \\frac{(SWIR1 - NIR)}{(SWIR1 + NIR)}$$  "
   ]
  },
  {
   "cell_type": "code",
   "execution_count": null,
   "metadata": {
    "execution": {
     "iopub.execute_input": "2020-09-29T01:01:06.488612Z",
     "iopub.status.busy": "2020-09-29T01:01:06.488204Z",
     "iopub.status.idle": "2020-09-29T01:01:06.490554Z",
     "shell.execute_reply": "2020-09-29T01:01:06.490106Z"
    }
   },
   "outputs": [],
   "source": [
    "def NDBI(dataset):\n",
    "        return (dataset.swir1 - dataset.nir)/(dataset.swir1 + dataset.nir)"
   ]
  },
  {
   "cell_type": "code",
   "execution_count": null,
   "metadata": {
    "execution": {
     "iopub.execute_input": "2020-09-29T01:01:06.493685Z",
     "iopub.status.busy": "2020-09-29T01:01:06.493252Z",
     "iopub.status.idle": "2020-09-29T01:01:07.325840Z",
     "shell.execute_reply": "2020-09-29T01:01:07.326310Z"
    }
   },
   "outputs": [],
   "source": [
    "landsat_mosaic = median_mosaic(landsat_dataset)  \n",
    "\n",
    "ndbi = NDBI(landsat_mosaic)  # Urbanization - Reds\n",
    "ndvi_mosaic = NDVI(landsat_mosaic)  # Dense Vegetation - Greens"
   ]
  },
  {
   "cell_type": "code",
   "execution_count": null,
   "metadata": {
    "execution": {
     "iopub.execute_input": "2020-09-29T01:01:07.329961Z",
     "iopub.status.busy": "2020-09-29T01:01:07.329486Z",
     "iopub.status.idle": "2020-09-29T01:01:07.609269Z",
     "shell.execute_reply": "2020-09-29T01:01:07.609737Z"
    }
   },
   "outputs": [],
   "source": [
    "(ndbi).plot(cmap = \"Reds\")"
   ]
  },
  {
   "cell_type": "code",
   "execution_count": null,
   "metadata": {
    "execution": {
     "iopub.execute_input": "2020-09-29T01:01:07.614029Z",
     "iopub.status.busy": "2020-09-29T01:01:07.613251Z",
     "iopub.status.idle": "2020-09-29T01:01:07.895006Z",
     "shell.execute_reply": "2020-09-29T01:01:07.895446Z"
    }
   },
   "outputs": [],
   "source": [
    "(ndvi_mosaic).plot(cmap = \"Greens\")"
   ]
  },
  {
   "cell_type": "markdown",
   "metadata": {},
   "source": [
    "## Create a threshold plot\n",
    "First we will define a minimum threshold and a maximum threshold. Then you will create a plot that colors the region between the threshold a single color (e.g. red) and the region outside the threshold will be BLACK or WHITE. Also, we will calculate the % of pixels and the number of pixels in the threshold range."
   ]
  },
  {
   "cell_type": "code",
   "execution_count": null,
   "metadata": {
    "execution": {
     "iopub.execute_input": "2020-09-29T01:01:07.899618Z",
     "iopub.status.busy": "2020-09-29T01:01:07.899201Z",
     "iopub.status.idle": "2020-09-29T01:01:07.910670Z",
     "shell.execute_reply": "2020-09-29T01:01:07.910219Z"
    }
   },
   "outputs": [],
   "source": [
    "# Select the time slice for the NVDI output (first slice=0)\n",
    "t = 0\n",
    "ndvi_dataset_at_time_t = NDVI(landsat_dataset).isel(time = t)  \n",
    "mask_at_time_t = generate_cloud_mask(landsat_dataset.isel(time = t))"
   ]
  },
  {
   "cell_type": "code",
   "execution_count": null,
   "metadata": {
    "execution": {
     "iopub.execute_input": "2020-09-29T01:01:07.913836Z",
     "iopub.status.busy": "2020-09-29T01:01:07.913325Z",
     "iopub.status.idle": "2020-09-29T01:01:07.915508Z",
     "shell.execute_reply": "2020-09-29T01:01:07.915065Z"
    }
   },
   "outputs": [],
   "source": [
    "# Define the threshold region bounds\n",
    "minimum_threshold = 0.6\n",
    "maximum_threshold = 0.9"
   ]
  },
  {
   "cell_type": "code",
   "execution_count": null,
   "metadata": {
    "execution": {
     "iopub.execute_input": "2020-09-29T01:01:07.924049Z",
     "iopub.status.busy": "2020-09-29T01:01:07.923543Z",
     "iopub.status.idle": "2020-09-29T01:01:07.925708Z",
     "shell.execute_reply": "2020-09-29T01:01:07.925247Z"
    }
   },
   "outputs": [],
   "source": [
    "from matplotlib.ticker import FuncFormatter\n",
    "import matplotlib.pyplot as plt\n",
    "\n",
    "def threshold_plot(da, min_threshold, max_threshold, mask = None, width = 10, *args, **kwargs): \n",
    "    color_in    = np.array([255,0,0])\n",
    "    color_out   = np.array([0,0,0])\n",
    "    color_cloud = np.array([255,255,255])\n",
    "    \n",
    "    array = np.zeros((*da.values.shape, 3)).astype(np.int16)\n",
    "    \n",
    "    inside  = np.logical_and(da.values > min_threshold, da.values < max_threshold)\n",
    "    outside = np.invert(inside)\n",
    "    masked  = np.zeros(da.values.shape).astype(bool) if mask is None else mask\n",
    "    \n",
    "    array[inside] =  color_in\n",
    "    array[outside] = color_out\n",
    "    array[masked] =  color_cloud\n",
    "\n",
    "    def figure_ratio(ds, fixed_width = 10):\n",
    "        width = fixed_width\n",
    "        height = len(ds.latitude) * (fixed_width / len(ds.longitude))\n",
    "        return (width, height)\n",
    "\n",
    "\n",
    "    fig, ax = plt.subplots(figsize = figure_ratio(da,fixed_width = width))\n",
    "    \n",
    "    lat_formatter = FuncFormatter(lambda y_val, tick_pos: \"{0:.3f}\".format(da.latitude.values[tick_pos] ))\n",
    "    lon_formatter = FuncFormatter(lambda x_val, tick_pos: \"{0:.3f}\".format(da.longitude.values[tick_pos]))\n",
    "\n",
    "    ax.xaxis.set_major_formatter(lon_formatter)\n",
    "    ax.yaxis.set_major_formatter(lat_formatter)\n",
    "    \n",
    "    plt.title(\"Threshold: {} < x < {}\".format(min_threshold, max_threshold))\n",
    "    plt.xlabel('Longitude')\n",
    "    plt.ylabel('Latitude')\n",
    "    \n",
    "    plt.imshow(array, *args, **kwargs)\n",
    "    plt.show()"
   ]
  },
  {
   "cell_type": "markdown",
   "metadata": {},
   "source": [
    "### Plot NDVI Mosaic"
   ]
  },
  {
   "cell_type": "code",
   "execution_count": null,
   "metadata": {
    "execution": {
     "iopub.execute_input": "2020-09-29T01:01:07.928605Z",
     "iopub.status.busy": "2020-09-29T01:01:07.928193Z",
     "iopub.status.idle": "2020-09-29T01:01:08.168124Z",
     "shell.execute_reply": "2020-09-29T01:01:08.168563Z"
    },
    "scrolled": false
   },
   "outputs": [],
   "source": [
    "# Plot the NDVI threshold product using a cloud-filterd mosaic\n",
    "threshold_plot(ndvi_mosaic, minimum_threshold, maximum_threshold, width = 10)"
   ]
  },
  {
   "cell_type": "markdown",
   "metadata": {},
   "source": [
    "### Plot NDVI at time t"
   ]
  },
  {
   "cell_type": "code",
   "execution_count": null,
   "metadata": {
    "execution": {
     "iopub.execute_input": "2020-09-29T01:01:08.171852Z",
     "iopub.status.busy": "2020-09-29T01:01:08.171436Z",
     "iopub.status.idle": "2020-09-29T01:01:08.403131Z",
     "shell.execute_reply": "2020-09-29T01:01:08.402673Z"
    }
   },
   "outputs": [],
   "source": [
    "# Plot the NDVI threshold product using a single time slice (one scene)\n",
    "threshold_plot(ndvi_dataset_at_time_t, minimum_threshold, maximum_threshold, width = 10, mask = mask_at_time_t,)"
   ]
  },
  {
   "cell_type": "code",
   "execution_count": null,
   "metadata": {
    "execution": {
     "iopub.execute_input": "2020-09-29T01:01:08.409354Z",
     "iopub.status.busy": "2020-09-29T01:01:08.408921Z",
     "iopub.status.idle": "2020-09-29T01:01:08.411254Z",
     "shell.execute_reply": "2020-09-29T01:01:08.410813Z"
    }
   },
   "outputs": [],
   "source": [
    "def threshold_count(da, min_threshold, max_threshold, mask = None):\n",
    "    def count_not_nans(arr):\n",
    "        return np.count_nonzero(~np.isnan(arr))\n",
    "    \n",
    "    in_threshold = np.logical_and( da.values > min_threshold, da.values < max_threshold)\n",
    "    \n",
    "    total_non_cloudy = count_not_nans(da.values) if mask is None else np.sum(mask) \n",
    "    \n",
    "    return dict(total = np.size(da.values),\n",
    "                total_non_cloudy = total_non_cloudy,\n",
    "                inside = np.nansum(in_threshold),\n",
    "                outside = total_non_cloudy - np.nansum(in_threshold)\n",
    "               )    \n",
    "    \n",
    "def threshold_percentage(da, min_threshold, max_threshold, mask = None):\n",
    "    counts = threshold_count(da, min_threshold, max_threshold, mask = mask)\n",
    "    return dict(percent_inside_threshold = (counts[\"inside\"]   / counts[\"total\"]) * 100.0,\n",
    "                percent_outside_threshold = (counts[\"outside\"] / counts[\"total\"]) * 100.0,\n",
    "                percent_clouds = ( 100.0-counts[\"total_non_cloudy\"] / counts[\"total\"] * 100.0))\n"
   ]
  },
  {
   "cell_type": "code",
   "execution_count": null,
   "metadata": {
    "execution": {
     "iopub.execute_input": "2020-09-29T01:01:08.414074Z",
     "iopub.status.busy": "2020-09-29T01:01:08.413662Z",
     "iopub.status.idle": "2020-09-29T01:01:08.417690Z",
     "shell.execute_reply": "2020-09-29T01:01:08.417242Z"
    },
    "scrolled": false
   },
   "outputs": [],
   "source": [
    "threshold_count(ndvi_mosaic,\n",
    "                minimum_threshold,\n",
    "                maximum_threshold)"
   ]
  },
  {
   "cell_type": "code",
   "execution_count": null,
   "metadata": {
    "execution": {
     "iopub.execute_input": "2020-09-29T01:01:08.420500Z",
     "iopub.status.busy": "2020-09-29T01:01:08.420070Z",
     "iopub.status.idle": "2020-09-29T01:01:08.424339Z",
     "shell.execute_reply": "2020-09-29T01:01:08.423915Z"
    },
    "scrolled": true
   },
   "outputs": [],
   "source": [
    "threshold_percentage(ndvi_mosaic,\n",
    "                     minimum_threshold,\n",
    "                     maximum_threshold)"
   ]
  },
  {
   "cell_type": "code",
   "execution_count": null,
   "metadata": {
    "execution": {
     "iopub.execute_input": "2020-09-29T01:01:08.427582Z",
     "iopub.status.busy": "2020-09-29T01:01:08.426897Z",
     "iopub.status.idle": "2020-09-29T01:01:08.430829Z",
     "shell.execute_reply": "2020-09-29T01:01:08.430401Z"
    }
   },
   "outputs": [],
   "source": [
    "threshold_count(ndvi_dataset_at_time_t,\n",
    "                minimum_threshold,\n",
    "                maximum_threshold,\n",
    "                mask = mask_at_time_t)"
   ]
  },
  {
   "cell_type": "code",
   "execution_count": null,
   "metadata": {
    "execution": {
     "iopub.execute_input": "2020-09-29T01:01:08.434024Z",
     "iopub.status.busy": "2020-09-29T01:01:08.433332Z",
     "iopub.status.idle": "2020-09-29T01:01:08.437117Z",
     "shell.execute_reply": "2020-09-29T01:01:08.436695Z"
    }
   },
   "outputs": [],
   "source": [
    "threshold_percentage(ndvi_dataset_at_time_t,\n",
    "                     minimum_threshold,\n",
    "                     maximum_threshold,\n",
    "                     mask = mask_at_time_t )"
   ]
  },
  {
   "cell_type": "markdown",
   "metadata": {},
   "source": [
    "## Select a single pixel and plot an index value over time"
   ]
  },
  {
   "cell_type": "code",
   "execution_count": null,
   "metadata": {
    "execution": {
     "iopub.execute_input": "2020-09-29T01:01:08.439782Z",
     "iopub.status.busy": "2020-09-29T01:01:08.439380Z",
     "iopub.status.idle": "2020-09-29T01:01:08.441229Z",
     "shell.execute_reply": "2020-09-29T01:01:08.441671Z"
    }
   },
   "outputs": [],
   "source": [
    "pixel_lat = 11.45\n",
    "pixel_lon = 105.40"
   ]
  },
  {
   "cell_type": "code",
   "execution_count": null,
   "metadata": {
    "execution": {
     "iopub.execute_input": "2020-09-29T01:01:08.444731Z",
     "iopub.status.busy": "2020-09-29T01:01:08.444309Z",
     "iopub.status.idle": "2020-09-29T01:01:08.550271Z",
     "shell.execute_reply": "2020-09-29T01:01:08.549774Z"
    }
   },
   "outputs": [],
   "source": [
    "pixel = NDVI(remove_clouds(landsat_dataset)).sel(latitude  = pixel_lat,\n",
    "                                                longitude = pixel_lon,\n",
    "                                                method = 'nearest') # nearest neighbor selection  "
   ]
  },
  {
   "cell_type": "code",
   "execution_count": null,
   "metadata": {
    "execution": {
     "iopub.execute_input": "2020-09-29T01:01:08.564171Z",
     "iopub.status.busy": "2020-09-29T01:01:08.558680Z",
     "iopub.status.idle": "2020-09-29T01:01:08.826021Z",
     "shell.execute_reply": "2020-09-29T01:01:08.826448Z"
    }
   },
   "outputs": [],
   "source": [
    "plt.figure(figsize = (20,5)) \n",
    "plt.scatter(pixel.time.values, pixel.values)"
   ]
  }
 ],
 "metadata": {
  "kernelspec": {
   "display_name": "Python 3",
   "language": "python",
   "name": "python3"
  },
  "language_info": {
   "codemirror_mode": {
    "name": "ipython",
    "version": 3
   },
   "file_extension": ".py",
   "mimetype": "text/x-python",
   "name": "python",
   "nbconvert_exporter": "python",
   "pygments_lexer": "ipython3",
   "version": "3.6.9"
  },
  "pycharm": {
   "stem_cell": {
    "cell_type": "raw",
    "metadata": {
     "collapsed": false
    },
    "source": []
   }
  }
 },
 "nbformat": 4,
 "nbformat_minor": 2
}
