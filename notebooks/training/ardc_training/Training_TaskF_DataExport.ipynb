{
 "cells": [
  {
   "cell_type": "code",
   "execution_count": null,
   "metadata": {
    "execution": {
     "iopub.execute_input": "2020-09-29T01:01:38.800018Z",
     "iopub.status.busy": "2020-09-29T01:01:38.799126Z",
     "iopub.status.idle": "2020-09-29T01:01:38.801449Z",
     "shell.execute_reply": "2020-09-29T01:01:38.801010Z"
    }
   },
   "outputs": [],
   "source": [
    "# Enable importing of utilities.\n",
    "import sys\n",
    "import os\n",
    "sys.path.append(os.environ.get('NOTEBOOK_ROOT'))\n",
    "\n",
    "import xarray as xr"
   ]
  },
  {
   "cell_type": "markdown",
   "metadata": {},
   "source": [
    "# ARDC Training: Python Notebooks\n",
    "Task-F: Data Export\n",
    "<br><br>\n",
    "The code in this notebook subsets a data cube, selects a specific set of variables, creates a new XARRAY, and then outputs that data into a GeoTIFF file and CSV file. This output file can be used in other software programs (e.g. QGIS, ArcGIS, EXCEL) for more specific analyses. We will keep the region small so that we can control file sizes. "
   ]
  },
  {
   "cell_type": "markdown",
   "metadata": {},
   "source": [
    "> ### Import the Datacube Configuration"
   ]
  },
  {
   "cell_type": "code",
   "execution_count": null,
   "metadata": {
    "execution": {
     "iopub.execute_input": "2020-09-29T01:01:38.805120Z",
     "iopub.status.busy": "2020-09-29T01:01:38.804243Z",
     "iopub.status.idle": "2020-09-29T01:01:40.104682Z",
     "shell.execute_reply": "2020-09-29T01:01:40.105150Z"
    }
   },
   "outputs": [],
   "source": [
    "import datacube\n",
    "import utils.data_cube_utilities.data_access_api as dc_api  \n",
    "\n",
    "from datacube.utils.aws import configure_s3_access\n",
    "configure_s3_access(requester_pays=True)\n",
    "\n",
    "api = dc_api.DataAccessApi()\n",
    "dc = datacube.Datacube(app = 'ardc_task_f')\n",
    "api.dc = dc"
   ]
  },
  {
   "cell_type": "markdown",
   "metadata": {},
   "source": [
    ">### Browse the available Data Cubes on the storage platform    \n",
    "> You might want to learn more about what data is stored and how it is stored.\n"
   ]
  },
  {
   "cell_type": "code",
   "execution_count": null,
   "metadata": {
    "execution": {
     "iopub.execute_input": "2020-09-29T01:01:40.108986Z",
     "iopub.status.busy": "2020-09-29T01:01:40.108514Z",
     "iopub.status.idle": "2020-09-29T01:01:40.155805Z",
     "shell.execute_reply": "2020-09-29T01:01:40.156231Z"
    }
   },
   "outputs": [],
   "source": [
    "list_of_products = dc.list_products()\n",
    "netCDF_products = list_of_products[list_of_products['format'] == 'NetCDF']\n",
    "netCDF_products"
   ]
  },
  {
   "cell_type": "markdown",
   "metadata": {},
   "source": [
    ">### Pick a product  \n",
    ">Use the platform and product names from the previous block to select a Data Cube.  "
   ]
  },
  {
   "cell_type": "code",
   "execution_count": null,
   "metadata": {
    "execution": {
     "iopub.execute_input": "2020-09-29T01:01:40.159483Z",
     "iopub.status.busy": "2020-09-29T01:01:40.158980Z",
     "iopub.status.idle": "2020-09-29T01:01:40.160647Z",
     "shell.execute_reply": "2020-09-29T01:01:40.161063Z"
    }
   },
   "outputs": [],
   "source": [
    "# Change the data platform and data cube here\n",
    "# This data export notebook will only work for Landsat-7 datasets\n",
    "\n",
    "platform = 'LANDSAT_7'\n",
    "product = 'ls7_usgs_sr_scene'\n",
    "collection = 'c1'\n",
    "level = 'l2'"
   ]
  },
  {
   "cell_type": "code",
   "execution_count": null,
   "metadata": {
    "execution": {
     "iopub.execute_input": "2020-09-29T01:01:40.166994Z",
     "iopub.status.busy": "2020-09-29T01:01:40.165345Z",
     "iopub.status.idle": "2020-09-29T01:01:42.317974Z",
     "shell.execute_reply": "2020-09-29T01:01:42.318405Z"
    },
    "scrolled": true
   },
   "outputs": [],
   "source": [
    "from utils.data_cube_utilities.dc_time import _n64_to_datetime, dt_to_str\n",
    "\n",
    "extents = api.get_full_dataset_extent(platform = platform, product = product, measurements=[])\n",
    "\n",
    "latitude_extents = (min(extents['latitude'].values),max(extents['latitude'].values))\n",
    "longitude_extents = (min(extents['longitude'].values),max(extents['longitude'].values))\n",
    "time_extents = (min(extents['time'].values),max(extents['time'].values))\n",
    "\n",
    "print(\"Latitude Extents:\", latitude_extents)\n",
    "print(\"Longitude Extents:\", longitude_extents)\n",
    "print(\"Time Extents:\", list(map(dt_to_str, map(_n64_to_datetime, time_extents))))"
   ]
  },
  {
   "cell_type": "markdown",
   "metadata": {},
   "source": [
    "# Visualize Data Cube Region"
   ]
  },
  {
   "cell_type": "code",
   "execution_count": null,
   "metadata": {
    "execution": {
     "iopub.execute_input": "2020-09-29T01:01:42.321648Z",
     "iopub.status.busy": "2020-09-29T01:01:42.321198Z",
     "iopub.status.idle": "2020-09-29T01:01:42.494586Z",
     "shell.execute_reply": "2020-09-29T01:01:42.494123Z"
    }
   },
   "outputs": [],
   "source": [
    "## The code below renders a map that can be used to orient yourself with the region.\n",
    "from utils.data_cube_utilities.dc_display_map import display_map\n",
    "display_map(latitude = latitude_extents, longitude = longitude_extents)"
   ]
  },
  {
   "cell_type": "markdown",
   "metadata": {},
   "source": [
    "> ### Pick a smaller analysis region and display that region\n",
    "Try to keep your region to less than 0.2-deg x 0.2-deg for rapid processing. You can click on the map above to find the Lat-Lon coordinates of any location. Pick a time window of 1 year to keep the file small."
   ]
  },
  {
   "cell_type": "code",
   "execution_count": null,
   "metadata": {
    "execution": {
     "iopub.execute_input": "2020-09-29T01:01:42.497915Z",
     "iopub.status.busy": "2020-09-29T01:01:42.497453Z",
     "iopub.status.idle": "2020-09-29T01:01:42.499557Z",
     "shell.execute_reply": "2020-09-29T01:01:42.499128Z"
    }
   },
   "outputs": [],
   "source": [
    "## Vietnam - Central Lam Dong Province ##\n",
    "# longitude_extents = (105.2, 105.5)\n",
    "# latitude_extents  = (11.25, 11.55)\n",
    "\n",
    "## Kenya - Mombasa\n",
    "longitude_extents = (39.55, 39.74)\n",
    "latitude_extents = (-4.12, -3.98)\n",
    "\n",
    "time_extents = ('2010-01-01', '2010-12-31')"
   ]
  },
  {
   "cell_type": "code",
   "execution_count": null,
   "metadata": {
    "execution": {
     "iopub.execute_input": "2020-09-29T01:01:42.503344Z",
     "iopub.status.busy": "2020-09-29T01:01:42.502686Z",
     "iopub.status.idle": "2020-09-29T01:01:42.510209Z",
     "shell.execute_reply": "2020-09-29T01:01:42.510621Z"
    }
   },
   "outputs": [],
   "source": [
    "from utils.data_cube_utilities.dc_display_map import display_map\n",
    "display_map(latitude = latitude_extents, longitude = longitude_extents)"
   ]
  },
  {
   "cell_type": "code",
   "execution_count": null,
   "metadata": {
    "execution": {
     "iopub.execute_input": "2020-09-29T01:01:42.514402Z",
     "iopub.status.busy": "2020-09-29T01:01:42.513999Z",
     "iopub.status.idle": "2020-09-29T01:01:48.397793Z",
     "shell.execute_reply": "2020-09-29T01:01:48.397015Z"
    }
   },
   "outputs": [],
   "source": [
    "landsat_dataset = dc.load(latitude = latitude_extents,\n",
    "                          longitude = longitude_extents,\n",
    "                          platform = platform,\n",
    "                          time = time_extents,\n",
    "                          product = product,\n",
    "                          measurements = ['red', 'green', 'blue', 'nir', 'swir1', 'swir2', 'pixel_qa'],\n",
    "                          dask_chunks={'time':1, 'latitude':1000, 'longitude':1000})"
   ]
  },
  {
   "cell_type": "code",
   "execution_count": null,
   "metadata": {
    "execution": {
     "iopub.execute_input": "2020-09-29T01:01:48.430499Z",
     "iopub.status.busy": "2020-09-29T01:01:48.422107Z",
     "iopub.status.idle": "2020-09-29T01:01:48.442360Z",
     "shell.execute_reply": "2020-09-29T01:01:48.442843Z"
    }
   },
   "outputs": [],
   "source": [
    "landsat_dataset # this is a printout of the first few values of each parameter in the XARRAY"
   ]
  },
  {
   "cell_type": "markdown",
   "metadata": {},
   "source": [
    "# Create Several Common Application Products"
   ]
  },
  {
   "cell_type": "markdown",
   "metadata": {},
   "source": [
    ">## Unpack pixel_qa\n",
    "This is the Landsat-7 pixel quality data that is used to screen for clouds, shadows, snow, etc. These values can be quite valuable when doing an analysis in a GIS tool, but you will not need all of them."
   ]
  },
  {
   "cell_type": "code",
   "execution_count": null,
   "metadata": {
    "execution": {
     "iopub.execute_input": "2020-09-29T01:01:48.459594Z",
     "iopub.status.busy": "2020-09-29T01:01:48.458806Z",
     "iopub.status.idle": "2020-09-29T01:01:48.676255Z",
     "shell.execute_reply": "2020-09-29T01:01:48.676706Z"
    }
   },
   "outputs": [],
   "source": [
    "from utils.data_cube_utilities.clean_mask import landsat_clean_mask_full, landsat_qa_clean_mask\n",
    "\n",
    "# obtain the clean mask\n",
    "plt_col_lvl_params = dict(platform=platform, collection=collection, level=level)\n",
    "clean_mask = landsat_clean_mask_full(dc, landsat_dataset, product=product, **plt_col_lvl_params)\n",
    "clear_xarray  = landsat_qa_clean_mask(landsat_dataset, cover_types=['clear'], **plt_col_lvl_params)\n",
    "water_xarray  = landsat_qa_clean_mask(landsat_dataset, cover_types=['water'], **plt_col_lvl_params)\n",
    "shadow_xarray = landsat_qa_clean_mask(landsat_dataset, cover_types=['cld_shd'], **plt_col_lvl_params) \n",
    "cloud_xarray  = landsat_qa_clean_mask(landsat_dataset, cover_types=['cloud'], **plt_col_lvl_params)"
   ]
  },
  {
   "cell_type": "code",
   "execution_count": null,
   "metadata": {},
   "outputs": [],
   "source": [
    "clean_xarray = (clear_xarray | water_xarray).rename(\"clean_mask\")"
   ]
  },
  {
   "cell_type": "markdown",
   "metadata": {},
   "source": [
    "> ##  Spectral Indices\n",
    "Below are a number of common spectral indices. "
   ]
  },
  {
   "cell_type": "code",
   "execution_count": null,
   "metadata": {
    "execution": {
     "iopub.execute_input": "2020-09-29T01:01:48.709136Z",
     "iopub.status.busy": "2020-09-29T01:01:48.708605Z",
     "iopub.status.idle": "2020-09-29T01:01:48.710395Z",
     "shell.execute_reply": "2020-09-29T01:01:48.710818Z"
    }
   },
   "outputs": [],
   "source": [
    "def NDVI(dataset):\n",
    "    return ((dataset.nir - dataset.red)/(dataset.nir + dataset.red)).rename(\"NDVI\")"
   ]
  },
  {
   "cell_type": "code",
   "execution_count": null,
   "metadata": {
    "execution": {
     "iopub.execute_input": "2020-09-29T01:01:48.714362Z",
     "iopub.status.busy": "2020-09-29T01:01:48.713934Z",
     "iopub.status.idle": "2020-09-29T01:01:48.715659Z",
     "shell.execute_reply": "2020-09-29T01:01:48.716080Z"
    }
   },
   "outputs": [],
   "source": [
    "def NDWI(dataset):\n",
    "    return ((dataset.green - dataset.nir)/(dataset.green + dataset.nir)).rename(\"NDWI\")"
   ]
  },
  {
   "cell_type": "code",
   "execution_count": null,
   "metadata": {
    "execution": {
     "iopub.execute_input": "2020-09-29T01:01:48.719434Z",
     "iopub.status.busy": "2020-09-29T01:01:48.719018Z",
     "iopub.status.idle": "2020-09-29T01:01:48.720672Z",
     "shell.execute_reply": "2020-09-29T01:01:48.721084Z"
    }
   },
   "outputs": [],
   "source": [
    "def NDBI(dataset):\n",
    "        return ((dataset.swir2 - dataset.nir)/(dataset.swir2 + dataset.nir)).rename(\"NDBI\")"
   ]
  },
  {
   "cell_type": "code",
   "execution_count": null,
   "metadata": {
    "execution": {
     "iopub.execute_input": "2020-09-29T01:01:48.724744Z",
     "iopub.status.busy": "2020-09-29T01:01:48.724313Z",
     "iopub.status.idle": "2020-09-29T01:01:48.726422Z",
     "shell.execute_reply": "2020-09-29T01:01:48.725988Z"
    }
   },
   "outputs": [],
   "source": [
    "def EVI(dataset, c1 = None, c2 = None, L = None):\n",
    "        return ((dataset.nir - dataset.red)/((dataset.nir  + (c1 * dataset.red) - (c2 *dataset.blue) + L))).rename(\"EVI\")"
   ]
  },
  {
   "cell_type": "code",
   "execution_count": null,
   "metadata": {
    "execution": {
     "iopub.execute_input": "2020-09-29T01:01:48.730290Z",
     "iopub.status.busy": "2020-09-29T01:01:48.729885Z",
     "iopub.status.idle": "2020-09-29T01:01:49.133918Z",
     "shell.execute_reply": "2020-09-29T01:01:49.134380Z"
    }
   },
   "outputs": [],
   "source": [
    "ndbi_xarray = NDBI(landsat_dataset)  # Urbanization - Reds\n",
    "ndvi_xarray = NDVI(landsat_dataset)  # Dense Vegetation - Greens\n",
    "ndwi_xarray = NDWI(landsat_dataset)  # High Concentrations of Water - Blues  \n",
    "evi_xarray = EVI(landsat_dataset, c1 = 6, c2 = 7.5, L = 1 ) # Enhanced Vegetation Index"
   ]
  },
  {
   "cell_type": "markdown",
   "metadata": {},
   "source": [
    ">## TSM\n",
    "This is the Total Suspended Matter (TSM) index which measures the quality of water using a simple equation with one of Landsat bands. For the analysis below we will use the water pixels from the Landsat \"pixel_qa\" so that the code run faster than using the WOFS water analysis. "
   ]
  },
  {
   "cell_type": "code",
   "execution_count": null,
   "metadata": {
    "execution": {
     "iopub.execute_input": "2020-09-29T01:01:49.138366Z",
     "iopub.status.busy": "2020-09-29T01:01:49.137674Z",
     "iopub.status.idle": "2020-09-29T01:01:49.887867Z",
     "shell.execute_reply": "2020-09-29T01:01:49.887341Z"
    },
    "scrolled": true
   },
   "outputs": [],
   "source": [
    "from utils.data_cube_utilities.dc_water_quality import tsm\n",
    "\n",
    "tsm_xarray = tsm(landsat_dataset, clean_mask = water_xarray.values.astype(bool) ).tsm"
   ]
  },
  {
   "cell_type": "markdown",
   "metadata": {},
   "source": [
    "# Combine Everything  "
   ]
  },
  {
   "cell_type": "code",
   "execution_count": null,
   "metadata": {
    "execution": {
     "iopub.execute_input": "2020-09-29T01:01:49.901277Z",
     "iopub.status.busy": "2020-09-29T01:01:49.897625Z",
     "iopub.status.idle": "2020-09-29T01:01:49.954703Z",
     "shell.execute_reply": "2020-09-29T01:01:49.955140Z"
    },
    "scrolled": true
   },
   "outputs": [],
   "source": [
    "combined_dataset = xr.merge([landsat_dataset,\n",
    "          clean_xarray,\n",
    "          clear_xarray,\n",
    "          water_xarray,\n",
    "          shadow_xarray,\n",
    "          cloud_xarray,                  \n",
    "          evi_xarray,\n",
    "          ndbi_xarray,\n",
    "          ndvi_xarray,\n",
    "          ndwi_xarray,\n",
    "          tsm_xarray])\n",
    "\n",
    "# Copy original crs to merged dataset \n",
    "combined_dataset = combined_dataset.assign_attrs(landsat_dataset.attrs)\n",
    "\n",
    "combined_dataset  # this is a printout of the first few values of each parameter in the XARRAY"
   ]
  },
  {
   "cell_type": "markdown",
   "metadata": {},
   "source": [
    "## Export CSV\n",
    "This section will be used to create a CSV export file for a given pixel. You will identify the pixel by selecting a specific Lat-Lon position and then the code will find the closest pixel to that point (nearest neighbor). Use the map at the top of this notebook to view your region and pick a Lat-Lon location. You can find an exact location by clicking on the map. The CSV file will contain the time series data for each XARRAY parameter."
   ]
  },
  {
   "cell_type": "code",
   "execution_count": null,
   "metadata": {
    "execution": {
     "iopub.execute_input": "2020-09-29T01:01:49.958353Z",
     "iopub.status.busy": "2020-09-29T01:01:49.957875Z",
     "iopub.status.idle": "2020-09-29T01:01:49.960007Z",
     "shell.execute_reply": "2020-09-29T01:01:49.959574Z"
    }
   },
   "outputs": [],
   "source": [
    "# Lat and Lon coordinates extracted from the map above \n",
    "pixel_lat = 11.3972\n",
    "pixel_lon = 105.3528"
   ]
  },
  {
   "cell_type": "code",
   "execution_count": null,
   "metadata": {
    "execution": {
     "iopub.execute_input": "2020-09-29T01:01:49.964938Z",
     "iopub.status.busy": "2020-09-29T01:01:49.963825Z",
     "iopub.status.idle": "2020-09-29T01:01:49.966985Z",
     "shell.execute_reply": "2020-09-29T01:01:49.966555Z"
    }
   },
   "outputs": [],
   "source": [
    "pixel = combined_dataset.sel(latitude  = pixel_lat,\n",
    "                             longitude = pixel_lon,\n",
    "                              method = 'nearest') # nearest neighbor selection  "
   ]
  },
  {
   "cell_type": "code",
   "execution_count": null,
   "metadata": {
    "execution": {
     "iopub.execute_input": "2020-09-29T01:01:49.972324Z",
     "iopub.status.busy": "2020-09-29T01:01:49.971852Z",
     "iopub.status.idle": "2020-09-29T01:01:49.974023Z",
     "shell.execute_reply": "2020-09-29T01:01:49.973582Z"
    }
   },
   "outputs": [],
   "source": [
    "import xarray as xr\n",
    "import csv\n",
    "\n",
    "def ts_pixel_to_csv(pixel: xr.Dataset,\n",
    "                    csv_file_name: str):\n",
    "    def __yield_from_time_axis(px):\n",
    "        for i in range(len(px.time)):\n",
    "            yield px.isel(time = i)\n",
    "    def __format_time(t):\n",
    "        return t\n",
    "    \n",
    "    with open(csv_file_name,'w') as out:\n",
    "        csv_out=csv.writer(out)\n",
    "        column_names = ['time'] + list(pixel.data_vars)\n",
    "        csv_out.writerow(column_names)\n",
    "\n",
    "        for row in __yield_from_time_axis(pixel):\n",
    "            csv_out.writerow([__format_time(row.time.values)] + [row[key].values for key in list(pixel.data_vars)])"
   ]
  },
  {
   "cell_type": "code",
   "execution_count": null,
   "metadata": {
    "execution": {
     "iopub.execute_input": "2020-09-29T01:01:49.976747Z",
     "iopub.status.busy": "2020-09-29T01:01:49.976347Z",
     "iopub.status.idle": "2020-09-29T01:01:49.978577Z",
     "shell.execute_reply": "2020-09-29T01:01:49.978147Z"
    }
   },
   "outputs": [],
   "source": [
    "csv_name = 'test.csv'"
   ]
  },
  {
   "cell_type": "code",
   "execution_count": null,
   "metadata": {
    "execution": {
     "iopub.execute_input": "2020-09-29T01:01:49.993187Z",
     "iopub.status.busy": "2020-09-29T01:01:49.991451Z",
     "iopub.status.idle": "2020-09-29T01:01:49.995144Z",
     "shell.execute_reply": "2020-09-29T01:01:49.995573Z"
    }
   },
   "outputs": [],
   "source": [
    "ts_pixel_to_csv(pixel, csv_name)"
   ]
  },
  {
   "cell_type": "markdown",
   "metadata": {},
   "source": [
    "## Export GeoTIFF\n",
    "This section will be used to create a GeoTIFF export."
   ]
  },
  {
   "cell_type": "markdown",
   "metadata": {},
   "source": [
    "----  \n",
    "File formatting  "
   ]
  },
  {
   "cell_type": "code",
   "execution_count": null,
   "metadata": {
    "execution": {
     "iopub.execute_input": "2020-09-29T01:01:49.999209Z",
     "iopub.status.busy": "2020-09-29T01:01:49.998784Z",
     "iopub.status.idle": "2020-09-29T01:01:50.000888Z",
     "shell.execute_reply": "2020-09-29T01:01:50.000452Z"
    }
   },
   "outputs": [],
   "source": [
    "import time\n",
    "def time_to_string(t):\n",
    "    return time.strftime(\"%Y_%m_%d_%H_%M_%S\", time.gmtime(t.astype(int)/1000000000))"
   ]
  },
  {
   "cell_type": "markdown",
   "metadata": {},
   "source": [
    "----  \n",
    "This function can be used to write a single time slice from an xarray to geotiff"
   ]
  },
  {
   "cell_type": "code",
   "execution_count": null,
   "metadata": {
    "execution": {
     "iopub.execute_input": "2020-09-29T01:01:50.004516Z",
     "iopub.status.busy": "2020-09-29T01:01:50.004086Z",
     "iopub.status.idle": "2020-09-29T01:01:50.005820Z",
     "shell.execute_reply": "2020-09-29T01:01:50.006247Z"
    }
   },
   "outputs": [],
   "source": [
    "from utils.data_cube_utilities import dc_utilities\n",
    "def export_slice_to_geotiff(ds, path):\n",
    "    dc_utilities.write_geotiff_from_xr(path,\n",
    "                                        ds.astype(np.float32),\n",
    "                                        list(combined_dataset.data_vars.keys()),\n",
    "                                        crs=\"EPSG:4326\")"
   ]
  },
  {
   "cell_type": "markdown",
   "metadata": {},
   "source": [
    "----  \n",
    "For each time slice in a dataset we call `export_slice_to_geotif`  "
   ]
  },
  {
   "cell_type": "code",
   "execution_count": null,
   "metadata": {
    "execution": {
     "iopub.execute_input": "2020-09-29T01:01:50.009799Z",
     "iopub.status.busy": "2020-09-29T01:01:50.009343Z",
     "iopub.status.idle": "2020-09-29T01:01:50.011047Z",
     "shell.execute_reply": "2020-09-29T01:01:50.011463Z"
    }
   },
   "outputs": [],
   "source": [
    "def export_xarray_to_geotiff(ds, path):\n",
    "    for t in ds.time:\n",
    "        time_slice_xarray = ds.sel(time = t)\n",
    "        export_slice_to_geotiff(time_slice_xarray,\n",
    "                                path + \"_\" + time_to_string(t) + \".tif\")"
   ]
  },
  {
   "cell_type": "markdown",
   "metadata": {},
   "source": [
    "## Start Export\n",
    "This is where we will start the GeoTIFF export and review the final product. The lines after this text box have been \"commented out\" so that they can be run at the end, after you have completed the creation of the XARRAY above and reviewed the data. "
   ]
  },
  {
   "cell_type": "code",
   "execution_count": null,
   "metadata": {
    "execution": {
     "iopub.execute_input": "2020-09-29T01:01:50.014292Z",
     "iopub.status.busy": "2020-09-29T01:01:50.013821Z",
     "iopub.status.idle": "2020-09-29T01:01:50.016023Z",
     "shell.execute_reply": "2020-09-29T01:01:50.015664Z"
    }
   },
   "outputs": [],
   "source": [
    "# export_xarray_to_geotiff(combined_dataset, \"geotiffs/landsat7\")"
   ]
  },
  {
   "cell_type": "markdown",
   "metadata": {},
   "source": [
    "----  \n",
    "Check to see what files exist in `geotiffs`"
   ]
  },
  {
   "cell_type": "code",
   "execution_count": null,
   "metadata": {
    "execution": {
     "iopub.execute_input": "2020-09-29T01:01:50.018629Z",
     "iopub.status.busy": "2020-09-29T01:01:50.018229Z",
     "iopub.status.idle": "2020-09-29T01:01:50.020396Z",
     "shell.execute_reply": "2020-09-29T01:01:50.019979Z"
    }
   },
   "outputs": [],
   "source": [
    "# !ls -lah geotiffs/*.tif"
   ]
  }
 ],
 "metadata": {
  "kernelspec": {
   "display_name": "Python 3",
   "language": "python",
   "name": "python3"
  },
  "language_info": {
   "codemirror_mode": {
    "name": "ipython",
    "version": 3
   },
   "file_extension": ".py",
   "mimetype": "text/x-python",
   "name": "python",
   "nbconvert_exporter": "python",
   "pygments_lexer": "ipython3",
   "version": "3.6.9"
  }
 },
 "nbformat": 4,
 "nbformat_minor": 2
}
