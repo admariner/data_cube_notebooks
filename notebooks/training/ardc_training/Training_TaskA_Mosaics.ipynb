{
 "cells": [
  {
   "cell_type": "code",
   "execution_count": null,
   "metadata": {
    "execution": {
     "iopub.execute_input": "2020-09-29T00:59:53.652655Z",
     "iopub.status.busy": "2020-09-29T00:59:53.652123Z",
     "iopub.status.idle": "2020-09-29T00:59:53.654406Z",
     "shell.execute_reply": "2020-09-29T00:59:53.653944Z"
    }
   },
   "outputs": [],
   "source": [
    "# Enable importing of utilities.\n",
    "import sys\n",
    "import os\n",
    "sys.path.append(os.environ.get('NOTEBOOK_ROOT'))"
   ]
  },
  {
   "cell_type": "markdown",
   "metadata": {},
   "source": [
    "# ARDC Training: Python Notebooks\n",
    "Task-A: Cloud-free Mosaics and K-means Clustering"
   ]
  },
  {
   "cell_type": "markdown",
   "metadata": {},
   "source": [
    "> ### Import the Datacube Configuration"
   ]
  },
  {
   "cell_type": "code",
   "execution_count": null,
   "metadata": {
    "execution": {
     "iopub.execute_input": "2020-09-29T00:59:53.657729Z",
     "iopub.status.busy": "2020-09-29T00:59:53.657274Z",
     "iopub.status.idle": "2020-09-29T00:59:54.933537Z",
     "shell.execute_reply": "2020-09-29T00:59:54.933002Z"
    }
   },
   "outputs": [],
   "source": [
    "import datacube\n",
    "import utils.data_cube_utilities.data_access_api as dc_api  \n",
    "\n",
    "from datacube.utils.aws import configure_s3_access\n",
    "configure_s3_access(requester_pays=True)\n",
    "\n",
    "api = dc_api.DataAccessApi()\n",
    "dc = datacube.Datacube(app = 'ardc_task_a')\n",
    "api.dc = dc"
   ]
  },
  {
   "cell_type": "markdown",
   "metadata": {},
   "source": [
    ">### Browse the available Data Cubes   "
   ]
  },
  {
   "cell_type": "code",
   "execution_count": null,
   "metadata": {
    "execution": {
     "iopub.execute_input": "2020-09-29T00:59:54.937310Z",
     "iopub.status.busy": "2020-09-29T00:59:54.936891Z",
     "iopub.status.idle": "2020-09-29T00:59:54.984179Z",
     "shell.execute_reply": "2020-09-29T00:59:54.984651Z"
    }
   },
   "outputs": [],
   "source": [
    "list_of_products = dc.list_products()\n",
    "netCDF_products = list_of_products[list_of_products['format'] == 'NetCDF']\n",
    "netCDF_products"
   ]
  },
  {
   "cell_type": "markdown",
   "metadata": {},
   "source": [
    ">### Pick a product  \n",
    ">Use the platform and product names from the previous block to select a Data Cube.  "
   ]
  },
  {
   "cell_type": "code",
   "execution_count": null,
   "metadata": {
    "execution": {
     "iopub.execute_input": "2020-09-29T00:59:54.987970Z",
     "iopub.status.busy": "2020-09-29T00:59:54.987529Z",
     "iopub.status.idle": "2020-09-29T00:59:54.989152Z",
     "shell.execute_reply": "2020-09-29T00:59:54.989593Z"
    }
   },
   "outputs": [],
   "source": [
    "# Change the data platform and data cube here\n",
    "\n",
    "platform = 'LANDSAT_7'\n",
    "product = 'ls7_usgs_sr_scene'"
   ]
  },
  {
   "cell_type": "markdown",
   "metadata": {},
   "source": [
    "> #### Display Latitude-Longitude and Time Bounds of the Data Cube"
   ]
  },
  {
   "cell_type": "code",
   "execution_count": null,
   "metadata": {
    "execution": {
     "iopub.execute_input": "2020-09-29T00:59:54.994338Z",
     "iopub.status.busy": "2020-09-29T00:59:54.993854Z",
     "iopub.status.idle": "2020-09-29T00:59:57.148765Z",
     "shell.execute_reply": "2020-09-29T00:59:57.148296Z"
    }
   },
   "outputs": [],
   "source": [
    "from utils.data_cube_utilities.dc_time import _n64_to_datetime, dt_to_str\n",
    "\n",
    "extents = api.get_full_dataset_extent(platform = platform, product = product, measurements=[])\n",
    "\n",
    "latitude_extents = (min(extents['latitude'].values),max(extents['latitude'].values))\n",
    "longitude_extents = (min(extents['longitude'].values),max(extents['longitude'].values))\n",
    "time_extents = (min(extents['time'].values),max(extents['time'].values))\n",
    "\n",
    "print(\"Latitude Extents:\", latitude_extents)\n",
    "print(\"Longitude Extents:\", longitude_extents)\n",
    "print(\"Time Extents:\", list(map(dt_to_str, map(_n64_to_datetime, time_extents))))"
   ]
  },
  {
   "cell_type": "markdown",
   "metadata": {},
   "source": [
    "# Visualize Data Cube Region"
   ]
  },
  {
   "cell_type": "code",
   "execution_count": null,
   "metadata": {
    "execution": {
     "iopub.execute_input": "2020-09-29T00:59:57.151927Z",
     "iopub.status.busy": "2020-09-29T00:59:57.151503Z",
     "iopub.status.idle": "2020-09-29T00:59:57.324579Z",
     "shell.execute_reply": "2020-09-29T00:59:57.324923Z"
    }
   },
   "outputs": [],
   "source": [
    "## The code below renders a map that can be used to orient yourself with the region.\n",
    "from utils.data_cube_utilities.dc_display_map import display_map\n",
    "display_map(latitude = latitude_extents, longitude = longitude_extents)"
   ]
  },
  {
   "cell_type": "markdown",
   "metadata": {},
   "source": [
    "> ### Pick a smaller analysis region and display that region\n",
    "Try to keep your region to less than 0.2-deg x 0.2-deg for rapid processing.\n",
    "Pick the time extents for your mosaic product (keep to 1 year or less)."
   ]
  },
  {
   "cell_type": "code",
   "execution_count": null,
   "metadata": {
    "execution": {
     "iopub.execute_input": "2020-09-29T00:59:57.328336Z",
     "iopub.status.busy": "2020-09-29T00:59:57.327837Z",
     "iopub.status.idle": "2020-09-29T00:59:57.330055Z",
     "shell.execute_reply": "2020-09-29T00:59:57.329597Z"
    }
   },
   "outputs": [],
   "source": [
    "## Vietnam - Central Lam Dong Province ##\n",
    "# longitude_extents = (107.80, 108.00)\n",
    "# latitude_extents  = (11.70, 11.90)\n",
    "\n",
    "## Zanzibar - Zanzibar City\n",
    "latitude_extents  = (-6.25, -6.07)\n",
    "longitude_extents = (39.15, 39.29)\n",
    "\n",
    "time_extents = ('2015-01-01', '2015-12-31')"
   ]
  },
  {
   "cell_type": "code",
   "execution_count": null,
   "metadata": {
    "execution": {
     "iopub.execute_input": "2020-09-29T00:59:57.333937Z",
     "iopub.status.busy": "2020-09-29T00:59:57.333245Z",
     "iopub.status.idle": "2020-09-29T00:59:57.341207Z",
     "shell.execute_reply": "2020-09-29T00:59:57.340786Z"
    }
   },
   "outputs": [],
   "source": [
    "display_map(latitude = latitude_extents, longitude = longitude_extents)"
   ]
  },
  {
   "cell_type": "markdown",
   "metadata": {},
   "source": [
    "## Load the dataset and the required spectral bands or other parameters\n",
    "After loading, you will view the Xarray dataset. Notice the dimensions represent the number of pixels in your latitude and longitude dimension as well as the number of time slices (time) in your time series."
   ]
  },
  {
   "cell_type": "code",
   "execution_count": null,
   "metadata": {
    "execution": {
     "iopub.execute_input": "2020-09-29T00:59:57.346052Z",
     "iopub.status.busy": "2020-09-29T00:59:57.345632Z",
     "iopub.status.idle": "2020-09-29T01:00:03.222090Z",
     "shell.execute_reply": "2020-09-29T01:00:03.222559Z"
    }
   },
   "outputs": [],
   "source": [
    "landsat_dataset = dc.load(latitude = latitude_extents,\n",
    "                          longitude = longitude_extents,\n",
    "                          platform = platform,\n",
    "                          time = time_extents,\n",
    "                          product = product,\n",
    "                          measurements = ['red', 'green', 'blue', 'nir', 'swir1', 'swir2', 'pixel_qa']) "
   ]
  },
  {
   "cell_type": "code",
   "execution_count": null,
   "metadata": {
    "execution": {
     "iopub.execute_input": "2020-09-29T01:00:03.247788Z",
     "iopub.status.busy": "2020-09-29T01:00:03.244557Z",
     "iopub.status.idle": "2020-09-29T01:00:03.259930Z",
     "shell.execute_reply": "2020-09-29T01:00:03.259429Z"
    }
   },
   "outputs": [],
   "source": [
    "landsat_dataset\n",
    "#view the dimensions and sample content from the cube"
   ]
  },
  {
   "cell_type": "markdown",
   "metadata": {},
   "source": [
    "# Display Example Images  \n",
    "\n",
    ">#### Single band visualization   \n",
    "> For a quick inspection, let's look at two images. The first image will allow the selection of any band (red, blue, green, nir, swir1, swir2) to produce a grey-scale image of any band. The second image will mask clouds with bright red on an RGB image. \n",
    "> Select the desired acquisition (time slice) in the block below. You can select from 1 to #, where the max value is the number of time slices noted in the block above. Change the comment statements below to select the bands for the first image."
   ]
  },
  {
   "cell_type": "code",
   "execution_count": null,
   "metadata": {
    "execution": {
     "iopub.execute_input": "2020-09-29T01:00:03.263642Z",
     "iopub.status.busy": "2020-09-29T01:00:03.262439Z",
     "iopub.status.idle": "2020-09-29T01:00:03.265598Z",
     "shell.execute_reply": "2020-09-29T01:00:03.266018Z"
    }
   },
   "outputs": [],
   "source": [
    "acquisition_number = 10\n",
    "# select an acquisition number from 1 to \"time\" using the array limits above"
   ]
  },
  {
   "cell_type": "code",
   "execution_count": null,
   "metadata": {
    "execution": {
     "iopub.execute_input": "2020-09-29T01:00:03.272004Z",
     "iopub.status.busy": "2020-09-29T01:00:03.271574Z",
     "iopub.status.idle": "2020-09-29T01:00:03.925176Z",
     "shell.execute_reply": "2020-09-29T01:00:03.925622Z"
    }
   },
   "outputs": [],
   "source": [
    "%matplotlib inline\n",
    "# landsat_dataset.red.isel(time = acquisition_number).plot(cmap = \"Greys\")\n",
    "landsat_dataset.green.isel(time = acquisition_number).plot(cmap = \"Greys\")\n",
    "# landsat_dataset.blue.isel(time = acquisition_number).plot(cmap = \"Greys\")\n",
    "#landsat_dataset.nir.isel(time = acquisition_number).plot(cmap = \"Greys\")\n",
    "#landsat_dataset.swir1.isel(time = acquisition_number).plot(cmap = \"Greys\")\n",
    "#landsat_dataset.swir2.isel(time = acquisition_number).plot(cmap = \"Greys\")"
   ]
  },
  {
   "cell_type": "markdown",
   "metadata": {},
   "source": [
    ">#### Define Cloud Masking Function   \n",
    "Removes clouds and cloud shadows based on the Landsat pixel QA information\n",
    "This is only for reference ... nothing to modify here"
   ]
  },
  {
   "cell_type": "code",
   "execution_count": null,
   "metadata": {
    "execution": {
     "iopub.execute_input": "2020-09-29T01:00:03.935332Z",
     "iopub.status.busy": "2020-09-29T01:00:03.934787Z",
     "iopub.status.idle": "2020-09-29T01:00:03.936504Z",
     "shell.execute_reply": "2020-09-29T01:00:03.936924Z"
    }
   },
   "outputs": [],
   "source": [
    "import numpy as np  \n",
    "\n",
    "def generate_cloud_mask(dataset, include_shadows = False):\n",
    "    #Create boolean Masks for clear and water pixels\n",
    "    clear_pixels = dataset.pixel_qa.values == 2  + 64\n",
    "    water_pixels = dataset.pixel_qa.values == 4  + 64\n",
    "    shadow_pixels= dataset.pixel_qa.values == 8 + 64\n",
    "    \n",
    "    a_clean_mask = np.logical_or(clear_pixels, water_pixels)\n",
    "    \n",
    "    if include_shadows:\n",
    "        a_clean_mask = np.logical_or(a_clean_mask, shadow_pixels)\n",
    "        \n",
    "    return np.invert(a_clean_mask)\n",
    "\n",
    "def remove_clouds(dataset, include_shadows = False):\n",
    "    #Create boolean Masks for clear and water pixels\n",
    "    clear_pixels = dataset.pixel_qa.values == 2  + 64\n",
    "    water_pixels = dataset.pixel_qa.values == 4  + 64\n",
    "    shadow_pixels= dataset.pixel_qa.values == 8 + 64\n",
    "    \n",
    "    a_clean_mask = np.logical_or(clear_pixels, water_pixels)\n",
    "    \n",
    "    if include_shadows:\n",
    "        a_clean_mask = np.logical_or(a_clean_mask, shadow_pixels)\n",
    "        \n",
    "    return dataset.where(a_clean_mask)"
   ]
  },
  {
   "cell_type": "markdown",
   "metadata": {},
   "source": [
    "> #### Mask clouds from your selected acquisition and visualize the scene and mask \n",
    "Now we will look at two RGB images where the second image includes the cloud, cloud shadow and no data mask in RED. Also, the scene is the same as the acquistion selected above."
   ]
  },
  {
   "cell_type": "code",
   "execution_count": null,
   "metadata": {
    "execution": {
     "iopub.execute_input": "2020-09-29T01:00:03.939945Z",
     "iopub.status.busy": "2020-09-29T01:00:03.939532Z",
     "iopub.status.idle": "2020-09-29T01:00:04.431172Z",
     "shell.execute_reply": "2020-09-29T01:00:04.431630Z"
    }
   },
   "outputs": [],
   "source": [
    "cloud_mask = generate_cloud_mask(landsat_dataset)\n",
    "cloudless = remove_clouds(landsat_dataset)"
   ]
  },
  {
   "cell_type": "code",
   "execution_count": null,
   "metadata": {
    "execution": {
     "iopub.execute_input": "2020-09-29T01:00:04.435111Z",
     "iopub.status.busy": "2020-09-29T01:00:04.434688Z",
     "iopub.status.idle": "2020-09-29T01:00:08.545449Z",
     "shell.execute_reply": "2020-09-29T01:00:08.545913Z"
    }
   },
   "outputs": [],
   "source": [
    "import matplotlib.pyplot as plt\n",
    "from utils.data_cube_utilities.dc_rgb import rgb\n",
    "\n",
    "rgb(landsat_dataset, time_index = acquisition_number)\n",
    "plt.show()"
   ]
  },
  {
   "cell_type": "code",
   "execution_count": null,
   "metadata": {
    "execution": {
     "iopub.execute_input": "2020-09-29T01:00:08.549019Z",
     "iopub.status.busy": "2020-09-29T01:00:08.548612Z",
     "iopub.status.idle": "2020-09-29T01:00:08.550964Z",
     "shell.execute_reply": "2020-09-29T01:00:08.550516Z"
    }
   },
   "outputs": [],
   "source": [
    "red = [255,0,0]"
   ]
  },
  {
   "cell_type": "code",
   "execution_count": null,
   "metadata": {
    "execution": {
     "iopub.execute_input": "2020-09-29T01:00:08.554919Z",
     "iopub.status.busy": "2020-09-29T01:00:08.554507Z",
     "iopub.status.idle": "2020-09-29T01:00:12.608001Z",
     "shell.execute_reply": "2020-09-29T01:00:12.608448Z"
    }
   },
   "outputs": [],
   "source": [
    "rgb(landsat_dataset,time_index = acquisition_number,\n",
    "    paint_on_mask = [(cloud_mask, red)])"
   ]
  },
  {
   "cell_type": "markdown",
   "metadata": {},
   "source": [
    "\n",
    "# Cleaning up the clouds and creating a cloud-free mosaic\n",
    "Remember that this process will filter clouds from the entire time series stack"
   ]
  },
  {
   "cell_type": "markdown",
   "metadata": {},
   "source": [
    ">** Most Recent Pixel Mosaic **   \n",
    ">Masks clouds from imagery and uses the most recent cloud-free pixels.  "
   ]
  },
  {
   "cell_type": "code",
   "execution_count": null,
   "metadata": {
    "execution": {
     "iopub.execute_input": "2020-09-29T01:00:12.612366Z",
     "iopub.status.busy": "2020-09-29T01:00:12.611875Z",
     "iopub.status.idle": "2020-09-29T01:00:12.624740Z",
     "shell.execute_reply": "2020-09-29T01:00:12.625185Z"
    }
   },
   "outputs": [],
   "source": [
    "from utils.data_cube_utilities.dc_mosaic import create_mosaic\n",
    "\n",
    "def mrf_mosaic(dataset):\n",
    "    # The mask here is based on pixel_qa products. It comes bundled in with most Landsat Products.\n",
    "    cloud_free_boolean_mask = np.invert(generate_cloud_mask(dataset))\n",
    "    return create_mosaic(dataset, clean_mask = cloud_free_boolean_mask)"
   ]
  },
  {
   "cell_type": "code",
   "execution_count": null,
   "metadata": {
    "execution": {
     "iopub.execute_input": "2020-09-29T01:00:12.628374Z",
     "iopub.status.busy": "2020-09-29T01:00:12.627952Z",
     "iopub.status.idle": "2020-09-29T01:00:13.506127Z",
     "shell.execute_reply": "2020-09-29T01:00:13.505604Z"
    }
   },
   "outputs": [],
   "source": [
    "recent_composite = mrf_mosaic(landsat_dataset)"
   ]
  },
  {
   "cell_type": "code",
   "execution_count": null,
   "metadata": {
    "execution": {
     "iopub.execute_input": "2020-09-29T01:00:13.510074Z",
     "iopub.status.busy": "2020-09-29T01:00:13.509634Z",
     "iopub.status.idle": "2020-09-29T01:00:13.953082Z",
     "shell.execute_reply": "2020-09-29T01:00:13.953557Z"
    }
   },
   "outputs": [],
   "source": [
    "recent_composite.nir.plot(cmap = \"Greys\")"
   ]
  },
  {
   "cell_type": "code",
   "execution_count": null,
   "metadata": {
    "execution": {
     "iopub.execute_input": "2020-09-29T01:00:13.957270Z",
     "iopub.status.busy": "2020-09-29T01:00:13.956861Z",
     "iopub.status.idle": "2020-09-29T01:00:14.400135Z",
     "shell.execute_reply": "2020-09-29T01:00:14.400587Z"
    }
   },
   "outputs": [],
   "source": [
    "rgb(recent_composite)"
   ]
  },
  {
   "cell_type": "markdown",
   "metadata": {},
   "source": [
    "----  \n",
    "> **Median Mosaic**  \n",
    ">  Masks clouds from imagery using the median valued cloud-free pixels in the time series  "
   ]
  },
  {
   "cell_type": "code",
   "execution_count": null,
   "metadata": {
    "execution": {
     "iopub.execute_input": "2020-09-29T01:00:14.404443Z",
     "iopub.status.busy": "2020-09-29T01:00:14.404006Z",
     "iopub.status.idle": "2020-09-29T01:00:14.405917Z",
     "shell.execute_reply": "2020-09-29T01:00:14.406338Z"
    }
   },
   "outputs": [],
   "source": [
    "from utils.data_cube_utilities.dc_mosaic import create_median_mosaic\n",
    "\n",
    "def median_mosaic(dataset):\n",
    "    # The mask here is based on pixel_qa products. It comes bundled in with most Landsat Products.\n",
    "    cloud_free_boolean_mask = np.invert(generate_cloud_mask(dataset))\n",
    "    return create_median_mosaic(dataset, clean_mask = cloud_free_boolean_mask)"
   ]
  },
  {
   "cell_type": "code",
   "execution_count": null,
   "metadata": {
    "execution": {
     "iopub.execute_input": "2020-09-29T01:00:14.409381Z",
     "iopub.status.busy": "2020-09-29T01:00:14.408968Z",
     "iopub.status.idle": "2020-09-29T01:00:19.625229Z",
     "shell.execute_reply": "2020-09-29T01:00:19.625727Z"
    }
   },
   "outputs": [],
   "source": [
    "median_composite = median_mosaic(landsat_dataset)"
   ]
  },
  {
   "cell_type": "code",
   "execution_count": null,
   "metadata": {
    "execution": {
     "iopub.execute_input": "2020-09-29T01:00:19.629699Z",
     "iopub.status.busy": "2020-09-29T01:00:19.629224Z",
     "iopub.status.idle": "2020-09-29T01:00:20.081645Z",
     "shell.execute_reply": "2020-09-29T01:00:20.082090Z"
    }
   },
   "outputs": [],
   "source": [
    "median_composite.nir.plot(cmap = \"Greys\")"
   ]
  },
  {
   "cell_type": "code",
   "execution_count": null,
   "metadata": {
    "execution": {
     "iopub.execute_input": "2020-09-29T01:00:20.085821Z",
     "iopub.status.busy": "2020-09-29T01:00:20.085367Z",
     "iopub.status.idle": "2020-09-29T01:00:20.543579Z",
     "shell.execute_reply": "2020-09-29T01:00:20.544034Z"
    },
    "scrolled": false
   },
   "outputs": [],
   "source": [
    "rgb(median_composite)"
   ]
  },
  {
   "cell_type": "markdown",
   "metadata": {},
   "source": [
    "## Select bands used for clustering"
   ]
  },
  {
   "cell_type": "code",
   "execution_count": null,
   "metadata": {
    "execution": {
     "iopub.execute_input": "2020-09-29T01:00:20.547360Z",
     "iopub.status.busy": "2020-09-29T01:00:20.546954Z",
     "iopub.status.idle": "2020-09-29T01:00:20.548830Z",
     "shell.execute_reply": "2020-09-29T01:00:20.549256Z"
    }
   },
   "outputs": [],
   "source": [
    "cluster_bands = ['red', 'green', 'blue', 'swir1']"
   ]
  },
  {
   "cell_type": "markdown",
   "metadata": {},
   "source": [
    "# Perform K-Means clustering and view the output"
   ]
  },
  {
   "cell_type": "code",
   "execution_count": null,
   "metadata": {
    "execution": {
     "iopub.execute_input": "2020-09-29T01:00:20.552756Z",
     "iopub.status.busy": "2020-09-29T01:00:20.552344Z",
     "iopub.status.idle": "2020-09-29T01:00:20.554133Z",
     "shell.execute_reply": "2020-09-29T01:00:20.554556Z"
    }
   },
   "outputs": [],
   "source": [
    "def figure_ratio(ds, fixed_width = 10):\n",
    "    width = fixed_width\n",
    "    height = len(ds.latitude) * (fixed_width / len(ds.longitude))\n",
    "    return (width, height)"
   ]
  },
  {
   "cell_type": "code",
   "execution_count": null,
   "metadata": {
    "execution": {
     "iopub.execute_input": "2020-09-29T01:00:20.557628Z",
     "iopub.status.busy": "2020-09-29T01:00:20.557157Z",
     "iopub.status.idle": "2020-09-29T01:00:30.314769Z",
     "shell.execute_reply": "2020-09-29T01:00:30.315296Z"
    }
   },
   "outputs": [],
   "source": [
    "from utils.data_cube_utilities.dc_clustering import kmeans_cluster_dataset\n",
    "\n",
    "# change the number of clusters in the line below, as desired\n",
    "# this example uses the \"median composite\" image from above\n",
    "classification_x =  kmeans_cluster_dataset(median_composite, cluster_bands, n_clusters=8)"
   ]
  },
  {
   "cell_type": "code",
   "execution_count": null,
   "metadata": {
    "execution": {
     "iopub.execute_input": "2020-09-29T01:00:30.318545Z",
     "iopub.status.busy": "2020-09-29T01:00:30.317614Z",
     "iopub.status.idle": "2020-09-29T01:00:30.965070Z",
     "shell.execute_reply": "2020-09-29T01:00:30.965731Z"
    }
   },
   "outputs": [],
   "source": [
    "# plot the k-mean classification result \n",
    "classification_x.plot(figsize = figure_ratio(classification_x))"
   ]
  }
 ],
 "metadata": {
  "kernelspec": {
   "display_name": "Python 3",
   "language": "python",
   "name": "python3"
  },
  "language_info": {
   "codemirror_mode": {
    "name": "ipython",
    "version": 3
   },
   "file_extension": ".py",
   "mimetype": "text/x-python",
   "name": "python",
   "nbconvert_exporter": "python",
   "pygments_lexer": "ipython3",
   "version": "3.6.9"
  },
  "pycharm": {
   "stem_cell": {
    "cell_type": "raw",
    "metadata": {
     "collapsed": false
    },
    "source": []
   }
  }
 },
 "nbformat": 4,
 "nbformat_minor": 2
}
