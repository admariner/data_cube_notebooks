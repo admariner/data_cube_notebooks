{
 "cells": [
  {
   "cell_type": "code",
   "execution_count": null,
   "metadata": {
    "execution": {
     "iopub.execute_input": "2020-09-29T14:49:31.450043Z",
     "iopub.status.busy": "2020-09-29T14:49:31.449462Z",
     "iopub.status.idle": "2020-09-29T14:49:31.451755Z",
     "shell.execute_reply": "2020-09-29T14:49:31.451297Z"
    }
   },
   "outputs": [],
   "source": [
    "# Enable importing of utilities.\n",
    "import sys\n",
    "import os\n",
    "sys.path.append(os.environ.get('NOTEBOOK_ROOT'))"
   ]
  },
  {
   "cell_type": "markdown",
   "metadata": {},
   "source": [
    "# ARDC Training: Python Notebooks\n",
    "Task-D: Land Change"
   ]
  },
  {
   "cell_type": "markdown",
   "metadata": {},
   "source": [
    "> ### Import the Datacube Configuration"
   ]
  },
  {
   "cell_type": "code",
   "execution_count": null,
   "metadata": {
    "execution": {
     "iopub.execute_input": "2020-09-29T14:49:31.456613Z",
     "iopub.status.busy": "2020-09-29T14:49:31.455939Z",
     "iopub.status.idle": "2020-09-29T14:49:32.705366Z",
     "shell.execute_reply": "2020-09-29T14:49:32.705867Z"
    }
   },
   "outputs": [],
   "source": [
    "import datacube\n",
    "import utils.data_cube_utilities.data_access_api as dc_api  \n",
    "\n",
    "from datacube.utils.aws import configure_s3_access\n",
    "configure_s3_access(requester_pays=True)\n",
    "\n",
    "api = dc_api.DataAccessApi()\n",
    "dc = datacube.Datacube(app = 'ardc_task_d')\n",
    "api.dc = dc"
   ]
  },
  {
   "cell_type": "code",
   "execution_count": null,
   "metadata": {
    "execution": {
     "iopub.execute_input": "2020-09-29T14:49:32.709299Z",
     "iopub.status.busy": "2020-09-29T14:49:32.708886Z",
     "iopub.status.idle": "2020-09-29T14:49:32.862111Z",
     "shell.execute_reply": "2020-09-29T14:49:32.862557Z"
    }
   },
   "outputs": [],
   "source": [
    "# Enable plotting\n",
    "%matplotlib inline"
   ]
  },
  {
   "cell_type": "code",
   "execution_count": null,
   "metadata": {
    "execution": {
     "iopub.execute_input": "2020-09-29T14:49:32.865700Z",
     "iopub.status.busy": "2020-09-29T14:49:32.865171Z",
     "iopub.status.idle": "2020-09-29T14:49:32.867268Z",
     "shell.execute_reply": "2020-09-29T14:49:32.866845Z"
    }
   },
   "outputs": [],
   "source": [
    "# Supress Warning \n",
    "import warnings\n",
    "warnings.filterwarnings('ignore')"
   ]
  },
  {
   "cell_type": "markdown",
   "metadata": {},
   "source": [
    ">### Browse the available Data Cubes   "
   ]
  },
  {
   "cell_type": "code",
   "execution_count": null,
   "metadata": {
    "execution": {
     "iopub.execute_input": "2020-09-29T14:49:32.870819Z",
     "iopub.status.busy": "2020-09-29T14:49:32.870417Z",
     "iopub.status.idle": "2020-09-29T14:49:32.914143Z",
     "shell.execute_reply": "2020-09-29T14:49:32.913712Z"
    },
    "scrolled": false
   },
   "outputs": [],
   "source": [
    "list_of_products = dc.list_products()\n",
    "netCDF_products = list_of_products[list_of_products['format'] == 'NetCDF']\n",
    "netCDF_products"
   ]
  },
  {
   "cell_type": "markdown",
   "metadata": {},
   "source": [
    ">### Pick a product  \n",
    ">Use the platform and product names from the previous block to select a Data Cube.  "
   ]
  },
  {
   "cell_type": "code",
   "execution_count": null,
   "metadata": {
    "execution": {
     "iopub.execute_input": "2020-09-29T14:49:32.917735Z",
     "iopub.status.busy": "2020-09-29T14:49:32.917290Z",
     "iopub.status.idle": "2020-09-29T14:49:35.035844Z",
     "shell.execute_reply": "2020-09-29T14:49:35.036298Z"
    }
   },
   "outputs": [],
   "source": [
    "# Change the data platform and data cube here\n",
    "\n",
    "platform = 'LANDSAT_7'\n",
    "product = 'ls7_usgs_sr_scene'\n",
    "collection = 'c1'\n",
    "level = 'l2'\n",
    "\n",
    "# Get Coordinates\n",
    "coordinates = api.get_full_dataset_extent(platform = platform, product = product)"
   ]
  },
  {
   "cell_type": "markdown",
   "metadata": {},
   "source": [
    "> #### Display Latitude-Longitude and Time Bounds of the Data Cube"
   ]
  },
  {
   "cell_type": "code",
   "execution_count": null,
   "metadata": {
    "execution": {
     "iopub.execute_input": "2020-09-29T14:49:35.041143Z",
     "iopub.status.busy": "2020-09-29T14:49:35.040724Z",
     "iopub.status.idle": "2020-09-29T14:49:37.154734Z",
     "shell.execute_reply": "2020-09-29T14:49:37.154293Z"
    }
   },
   "outputs": [],
   "source": [
    "from utils.data_cube_utilities.dc_time import _n64_to_datetime, dt_to_str\n",
    "\n",
    "extents = api.get_full_dataset_extent(platform = platform, product = product, measurements=[])\n",
    "\n",
    "latitude_extents = (min(extents['latitude'].values),max(extents['latitude'].values))\n",
    "longitude_extents = (min(extents['longitude'].values),max(extents['longitude'].values))\n",
    "time_extents = (min(extents['time'].values),max(extents['time'].values))\n",
    "\n",
    "print(\"Latitude Extents:\", latitude_extents)\n",
    "print(\"Longitude Extents:\", longitude_extents)\n",
    "print(\"Time Extents:\", list(map(dt_to_str, map(_n64_to_datetime, time_extents))))"
   ]
  },
  {
   "cell_type": "markdown",
   "metadata": {},
   "source": [
    "# Visualize Data Cube Region"
   ]
  },
  {
   "cell_type": "code",
   "execution_count": null,
   "metadata": {
    "execution": {
     "iopub.execute_input": "2020-09-29T14:49:37.157953Z",
     "iopub.status.busy": "2020-09-29T14:49:37.157526Z",
     "iopub.status.idle": "2020-09-29T14:49:37.331191Z",
     "shell.execute_reply": "2020-09-29T14:49:37.330750Z"
    }
   },
   "outputs": [],
   "source": [
    "## The code below renders a map that can be used to orient yourself with the region.\n",
    "from utils.data_cube_utilities.dc_display_map import display_map\n",
    "display_map(latitude = latitude_extents, longitude = longitude_extents)"
   ]
  },
  {
   "cell_type": "markdown",
   "metadata": {},
   "source": [
    "> ### Pick a smaller analysis region and display that region\n",
    "Try to keep your region to less than 0.02-deg x 0.02-deg for rapid processing. This will give you a region of about 75x75 pixels. You can click on the map above to find the Lat-Lon coordinates of any location. You will want to identify a region with an urban aree or some known vegetation. Pick a time window of 10+ years, as the curvefit algorithm requires a long time series to detect change.\n",
    "<br><br>\n",
    "Here is what to expect ... 0.02-deg x 0.02-deg (75x75 pixels) over 10 years will take 10 to 15 minutes to execute. Be patient ... "
   ]
  },
  {
   "cell_type": "code",
   "execution_count": null,
   "metadata": {
    "execution": {
     "iopub.execute_input": "2020-09-29T14:49:37.338051Z",
     "iopub.status.busy": "2020-09-29T14:49:37.337630Z",
     "iopub.status.idle": "2020-09-29T14:49:37.339256Z",
     "shell.execute_reply": "2020-09-29T14:49:37.339665Z"
    }
   },
   "outputs": [],
   "source": [
    "## Vietnam\n",
    "# Lam Dong Province near reservior \n",
    "# lat =  (11.843, 11.922)\n",
    "# lon =  (107.723, 107.821)\n",
    "# Field near Gia Nghia\n",
    "# lat =  (11.90, 11.92)\n",
    "# lon =  (107.76, 107.78)\n",
    "\n",
    "## Ghana\n",
    "# Weija Reservoir\n",
    "lat = (5.5388, 5.6126)\n",
    "lon = (-0.4089, -0.3327)\n",
    "time_extents = ('2001-01-01', '2005-12-31')"
   ]
  },
  {
   "cell_type": "code",
   "execution_count": null,
   "metadata": {
    "execution": {
     "iopub.execute_input": "2020-09-29T14:49:37.342942Z",
     "iopub.status.busy": "2020-09-29T14:49:37.342545Z",
     "iopub.status.idle": "2020-09-29T14:49:37.350056Z",
     "shell.execute_reply": "2020-09-29T14:49:37.349630Z"
    },
    "scrolled": false
   },
   "outputs": [],
   "source": [
    "display_map(lat, lon)"
   ]
  },
  {
   "cell_type": "markdown",
   "metadata": {},
   "source": [
    "## Load the dataset and the required spectral bands or other parameters\n",
    "After loading, you will view the Xarray dataset. Notice the dimensions represent the number of pixels in your latitude and longitude dimension as well as the number of time slices (time) in your time series."
   ]
  },
  {
   "cell_type": "code",
   "execution_count": null,
   "metadata": {
    "execution": {
     "iopub.execute_input": "2020-09-29T14:49:37.353845Z",
     "iopub.status.busy": "2020-09-29T14:49:37.353378Z",
     "iopub.status.idle": "2020-09-29T14:49:42.357756Z",
     "shell.execute_reply": "2020-09-29T14:49:42.358222Z"
    }
   },
   "outputs": [],
   "source": [
    "measurements = ['red', 'green', 'blue', 'nir', 'swir1', 'swir2', 'pixel_qa']\n",
    "landsat_dataset = \\\n",
    "    dc.load(latitude = lat,\n",
    "            longitude = lon,\n",
    "            platform = platform,\n",
    "             time = time_extents,\n",
    "             product = product,\n",
    "             measurements = measurements)"
   ]
  },
  {
   "cell_type": "code",
   "execution_count": null,
   "metadata": {
    "execution": {
     "iopub.execute_input": "2020-09-29T14:49:42.368346Z",
     "iopub.status.busy": "2020-09-29T14:49:42.367178Z",
     "iopub.status.idle": "2020-09-29T14:49:42.392563Z",
     "shell.execute_reply": "2020-09-29T14:49:42.392983Z"
    }
   },
   "outputs": [],
   "source": [
    "landsat_dataset\n",
    "#view the dimensions and sample content from the cube"
   ]
  },
  {
   "cell_type": "code",
   "execution_count": null,
   "metadata": {},
   "outputs": [],
   "source": [
    "from utils.data_cube_utilities.clean_mask import landsat_clean_mask_full\n",
    "\n",
    "# obtain the clean mask\n",
    "clean_mask = landsat_clean_mask_full(dc, landsat_dataset, product=product, platform=platform,\n",
    "                                     collection=collection, level=level)"
   ]
  },
  {
   "cell_type": "code",
   "execution_count": null,
   "metadata": {},
   "outputs": [],
   "source": [
    "landsat_dataset = landsat_dataset.where(clean_mask)"
   ]
  },
  {
   "cell_type": "markdown",
   "metadata": {},
   "source": [
    "## PyCCD\n",
    "The compute time of PyCCD scales sharply with extent sizes. Seemingly small areas can take anywhere from 10-15 minutes to process."
   ]
  },
  {
   "cell_type": "code",
   "execution_count": null,
   "metadata": {
    "execution": {
     "iopub.execute_input": "2020-09-29T14:49:42.395881Z",
     "iopub.status.busy": "2020-09-29T14:49:42.395466Z",
     "iopub.status.idle": "2020-09-29T14:49:42.397083Z",
     "shell.execute_reply": "2020-09-29T14:49:42.397487Z"
    }
   },
   "outputs": [],
   "source": [
    "# import utils.data_cube_utilities.dc_ccd as ccd"
   ]
  },
  {
   "cell_type": "code",
   "execution_count": null,
   "metadata": {
    "execution": {
     "iopub.execute_input": "2020-09-29T14:49:42.400042Z",
     "iopub.status.busy": "2020-09-29T14:49:42.399647Z",
     "iopub.status.idle": "2020-09-29T14:49:42.401870Z",
     "shell.execute_reply": "2020-09-29T14:49:42.401411Z"
    },
    "scrolled": false
   },
   "outputs": [],
   "source": [
    "# %time change_matrix = ccd.process_xarray(landsat_dataset, distributed = True, process = \"matrix\") #Run process xarray on large dataset"
   ]
  },
  {
   "cell_type": "code",
   "execution_count": null,
   "metadata": {
    "execution": {
     "iopub.execute_input": "2020-09-29T14:49:42.404535Z",
     "iopub.status.busy": "2020-09-29T14:49:42.404128Z",
     "iopub.status.idle": "2020-09-29T14:49:42.405780Z",
     "shell.execute_reply": "2020-09-29T14:49:42.406197Z"
    }
   },
   "outputs": [],
   "source": [
    "# %time change_volume = (change_matrix.sum(dim='time') - 1).rename('change_volume')"
   ]
  },
  {
   "cell_type": "markdown",
   "metadata": {},
   "source": [
    "## Plotting change volume  \n",
    "Plot change volume to identify regions/areas of change. The change volume represents the number of land changes for a pixel over the time series."
   ]
  },
  {
   "cell_type": "code",
   "execution_count": null,
   "metadata": {
    "execution": {
     "iopub.execute_input": "2020-09-29T14:49:42.408823Z",
     "iopub.status.busy": "2020-09-29T14:49:42.408409Z",
     "iopub.status.idle": "2020-09-29T14:49:42.410065Z",
     "shell.execute_reply": "2020-09-29T14:49:42.410491Z"
    }
   },
   "outputs": [],
   "source": [
    "# import matplotlib.pyplot as plt  \n",
    "# from utils.data_cube_utilities.plotter_utils import figure_ratio\n",
    "\n",
    "# plt.figure(figsize = figure_ratio(change_volume, fixed_width=8))\n",
    "# change_volume.plot()\n",
    "# plt.axes().set_aspect(\"equal\")"
   ]
  },
  {
   "cell_type": "markdown",
   "metadata": {},
   "source": [
    "## Plot the time of first changes"
   ]
  },
  {
   "cell_type": "code",
   "execution_count": null,
   "metadata": {
    "execution": {
     "iopub.execute_input": "2020-09-29T14:49:42.413014Z",
     "iopub.status.busy": "2020-09-29T14:49:42.412604Z",
     "iopub.status.idle": "2020-09-29T14:49:42.414669Z",
     "shell.execute_reply": "2020-09-29T14:49:42.414245Z"
    }
   },
   "outputs": [],
   "source": [
    "# %time\n",
    "# time_map_ccd_product = ccd._nth_occurence_in_ccd_matrix(change_matrix, 1, f = ccd._n64_datetime_to_scalar)"
   ]
  },
  {
   "cell_type": "code",
   "execution_count": null,
   "metadata": {
    "execution": {
     "iopub.execute_input": "2020-09-29T14:49:42.417211Z",
     "iopub.status.busy": "2020-09-29T14:49:42.416729Z",
     "iopub.status.idle": "2020-09-29T14:49:42.418823Z",
     "shell.execute_reply": "2020-09-29T14:49:42.418401Z"
    }
   },
   "outputs": [],
   "source": [
    "# import datetime\n",
    "# from matplotlib.ticker import FuncFormatter\n",
    "\n",
    "# plt.figure(figsize = figure_ratio(time_map_ccd_product, fixed_width=8))\n",
    "# epochFormatter = FuncFormatter(lambda x, pos: datetime.datetime.utcfromtimestamp(x).strftime('%Y-%m-%d'))\n",
    "# time_map_ccd_product.plot(cmap = \"magma\", cbar_kwargs=({'format': epochFormatter}))\n",
    "# plt.axes().set_aspect(\"equal\")"
   ]
  },
  {
   "cell_type": "markdown",
   "metadata": {},
   "source": [
    "## Validating Change\n",
    "Use the two images below to review scenes at the beginning of the time series and the end of the time series. "
   ]
  },
  {
   "cell_type": "markdown",
   "metadata": {},
   "source": [
    "### Review of RGB images\n",
    "Choose an image from the start and end of the time series. Remember that 0 is the first acquisition and the last acquisition if the number of time steps. You can find that number in the XARRAY report above. Try various combinations of the start and end images to identify the land changes using visual interpretation. You will see some images will have clouds and others will have Landsat-7 \"bands\". You can also change the RGB image bands to give you an combination you desire. "
   ]
  },
  {
   "cell_type": "code",
   "execution_count": null,
   "metadata": {
    "execution": {
     "iopub.execute_input": "2020-09-29T14:49:42.422559Z",
     "iopub.status.busy": "2020-09-29T14:49:42.421783Z",
     "iopub.status.idle": "2020-09-29T14:49:42.584900Z",
     "shell.execute_reply": "2020-09-29T14:49:42.585329Z"
    }
   },
   "outputs": [],
   "source": [
    "from utils.data_cube_utilities.dc_rgb import rgb\n",
    "\n",
    "first = 2 # Acquisition Number ... change here\n",
    "\n",
    "print( landsat_dataset.time.values[first] )\n",
    "\n",
    "rgb( landsat_dataset,\n",
    "     time_index = first,\n",
    "     bands = ['swir2','nir','green'])"
   ]
  },
  {
   "cell_type": "code",
   "execution_count": null,
   "metadata": {
    "execution": {
     "iopub.execute_input": "2020-09-29T14:49:42.589962Z",
     "iopub.status.busy": "2020-09-29T14:49:42.589548Z",
     "iopub.status.idle": "2020-09-29T14:49:42.734307Z",
     "shell.execute_reply": "2020-09-29T14:49:42.734741Z"
    },
    "scrolled": false
   },
   "outputs": [],
   "source": [
    "last = 10 # Acquisition Number ... change here\n",
    "\n",
    "print( landsat_dataset.time.values[last] )\n",
    "\n",
    "rgb(landsat_dataset,\n",
    "    time_index = last,\n",
    "    bands = ['swir2','nir','green'])"
   ]
  },
  {
   "cell_type": "markdown",
   "metadata": {},
   "source": [
    "# Vogelmann NDVI Trend "
   ]
  },
  {
   "cell_type": "code",
   "execution_count": null,
   "metadata": {
    "execution": {
     "iopub.execute_input": "2020-09-29T14:49:42.738088Z",
     "iopub.status.busy": "2020-09-29T14:49:42.737501Z",
     "iopub.status.idle": "2020-09-29T14:49:42.740261Z",
     "shell.execute_reply": "2020-09-29T14:49:42.739825Z"
    }
   },
   "outputs": [],
   "source": [
    "import utils.data_cube_utilities.trend as trend"
   ]
  },
  {
   "cell_type": "code",
   "execution_count": null,
   "metadata": {
    "execution": {
     "iopub.execute_input": "2020-09-29T14:49:42.784649Z",
     "iopub.status.busy": "2020-09-29T14:49:42.784246Z",
     "iopub.status.idle": "2020-09-29T14:49:42.785027Z",
     "shell.execute_reply": "2020-09-29T14:49:42.783783Z"
    }
   },
   "outputs": [],
   "source": [
    "import numpy as np\n",
    "\n",
    "def land_and_water_masking_ls7(dataset):    \n",
    "    #Create boolean Masks for clear and water pixels\n",
    "    clear_pixels = dataset.pixel_qa.values == 2 + 64\n",
    "    water_pixels = dataset.pixel_qa.values == 4 + 64\n",
    "\n",
    "    a_clean_mask = np.logical_or(clear_pixels, water_pixels)\n",
    "    return a_clean_mask"
   ]
  },
  {
   "cell_type": "code",
   "execution_count": null,
   "metadata": {
    "execution": {
     "iopub.execute_input": "2020-09-29T14:49:42.788476Z",
     "iopub.status.busy": "2020-09-29T14:49:42.788047Z",
     "iopub.status.idle": "2020-09-29T14:49:42.789827Z",
     "shell.execute_reply": "2020-09-29T14:49:42.790253Z"
    }
   },
   "outputs": [],
   "source": [
    "def remove_clouds(dataset):  \n",
    "    return dataset.where(land_and_water_masking_ls7(dataset)).drop('pixel_qa')"
   ]
  },
  {
   "cell_type": "code",
   "execution_count": null,
   "metadata": {
    "execution": {
     "iopub.execute_input": "2020-09-29T14:49:42.793278Z",
     "iopub.status.busy": "2020-09-29T14:49:42.792879Z",
     "iopub.status.idle": "2020-09-29T14:49:42.795108Z",
     "shell.execute_reply": "2020-09-29T14:49:42.794686Z"
    }
   },
   "outputs": [],
   "source": [
    "def NDVI(dataset):\n",
    "    return (dataset.nir - dataset.red)/(dataset.nir + dataset.red)"
   ]
  },
  {
   "cell_type": "code",
   "execution_count": null,
   "metadata": {
    "execution": {
     "iopub.execute_input": "2020-09-29T14:49:42.798658Z",
     "iopub.status.busy": "2020-09-29T14:49:42.797853Z",
     "iopub.status.idle": "2020-09-29T14:49:43.171019Z",
     "shell.execute_reply": "2020-09-29T14:49:43.171470Z"
    }
   },
   "outputs": [],
   "source": [
    "ndvi_trend_product = trend.linear(NDVI(remove_clouds(landsat_dataset)))"
   ]
  },
  {
   "cell_type": "code",
   "execution_count": null,
   "metadata": {
    "execution": {
     "iopub.execute_input": "2020-09-29T14:49:43.175016Z",
     "iopub.status.busy": "2020-09-29T14:49:43.174601Z",
     "iopub.status.idle": "2020-09-29T14:49:43.381231Z",
     "shell.execute_reply": "2020-09-29T14:49:43.381677Z"
    },
    "scrolled": true
   },
   "outputs": [],
   "source": [
    "(-ndvi_trend_product).plot()"
   ]
  }
 ],
 "metadata": {
  "kernelspec": {
   "display_name": "Python 3",
   "language": "python",
   "name": "python3"
  },
  "language_info": {
   "codemirror_mode": {
    "name": "ipython",
    "version": 3
   },
   "file_extension": ".py",
   "mimetype": "text/x-python",
   "name": "python",
   "nbconvert_exporter": "python",
   "pygments_lexer": "ipython3",
   "version": "3.6.9"
  }
 },
 "nbformat": 4,
 "nbformat_minor": 2
}
