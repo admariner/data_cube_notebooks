{
 "cells": [
  {
   "cell_type": "code",
   "execution_count": null,
   "metadata": {
    "execution": {
     "iopub.execute_input": "2020-09-29T01:01:24.272589Z",
     "iopub.status.busy": "2020-09-29T01:01:24.272084Z",
     "iopub.status.idle": "2020-09-29T01:01:24.273870Z",
     "shell.execute_reply": "2020-09-29T01:01:24.274292Z"
    }
   },
   "outputs": [],
   "source": [
    "# Enable importing of utilities.\n",
    "import sys\n",
    "import os\n",
    "sys.path.append(os.environ.get('NOTEBOOK_ROOT'))"
   ]
  },
  {
   "cell_type": "markdown",
   "metadata": {},
   "source": [
    "# ARDC Training: Python Notebooks\n",
    "Task-E: This notebook will demonstrate 2D transect analyses and 3D Hovmoller plots. We will run these for NDVI (land) and TSM (water quality) to show the spatial and temporal variation of data along a line (transect) for a given time slice and for the entire time series. "
   ]
  },
  {
   "cell_type": "markdown",
   "metadata": {},
   "source": [
    "> ### Import the Datacube Configuration"
   ]
  },
  {
   "cell_type": "code",
   "execution_count": null,
   "metadata": {
    "execution": {
     "iopub.execute_input": "2020-09-29T01:01:24.277857Z",
     "iopub.status.busy": "2020-09-29T01:01:24.277163Z",
     "iopub.status.idle": "2020-09-29T01:01:25.560232Z",
     "shell.execute_reply": "2020-09-29T01:01:25.560707Z"
    }
   },
   "outputs": [],
   "source": [
    "import xarray as xr\n",
    "import numpy as np\n",
    "\n",
    "import datacube\n",
    "import utils.data_cube_utilities.data_access_api as dc_api  \n",
    "\n",
    "from datacube.utils.aws import configure_s3_access\n",
    "configure_s3_access(requester_pays=True)\n",
    "\n",
    "api = dc_api.DataAccessApi()\n",
    "dc = api.dc"
   ]
  },
  {
   "cell_type": "markdown",
   "metadata": {},
   "source": [
    ">### Browse the available Data Cubes   "
   ]
  },
  {
   "cell_type": "code",
   "execution_count": null,
   "metadata": {
    "execution": {
     "iopub.execute_input": "2020-09-29T01:01:25.564608Z",
     "iopub.status.busy": "2020-09-29T01:01:25.564169Z",
     "iopub.status.idle": "2020-09-29T01:01:25.612154Z",
     "shell.execute_reply": "2020-09-29T01:01:25.612596Z"
    }
   },
   "outputs": [],
   "source": [
    "list_of_products = dc.list_products()\n",
    "netCDF_products = list_of_products[list_of_products['format'] == 'NetCDF']\n",
    "netCDF_products"
   ]
  },
  {
   "cell_type": "markdown",
   "metadata": {},
   "source": [
    ">### Pick a product  \n",
    ">Use the platform and product names from the previous block to select a Data Cube.  "
   ]
  },
  {
   "cell_type": "code",
   "execution_count": null,
   "metadata": {
    "execution": {
     "iopub.execute_input": "2020-09-29T01:01:25.615924Z",
     "iopub.status.busy": "2020-09-29T01:01:25.615415Z",
     "iopub.status.idle": "2020-09-29T01:01:25.617075Z",
     "shell.execute_reply": "2020-09-29T01:01:25.617489Z"
    }
   },
   "outputs": [],
   "source": [
    "# Change the data platform and data cube here\n",
    "\n",
    "platform = 'LANDSAT_7'\n",
    "product = 'ls7_usgs_sr_scene'\n",
    "collection = 'c1'\n",
    "level = 'l2'"
   ]
  },
  {
   "cell_type": "markdown",
   "metadata": {},
   "source": [
    "> #### Display Latitude-Longitude and Time Bounds of the Data Cube"
   ]
  },
  {
   "cell_type": "code",
   "execution_count": null,
   "metadata": {
    "execution": {
     "iopub.execute_input": "2020-09-29T01:01:25.622165Z",
     "iopub.status.busy": "2020-09-29T01:01:25.621746Z",
     "iopub.status.idle": "2020-09-29T01:01:27.792239Z",
     "shell.execute_reply": "2020-09-29T01:01:27.792715Z"
    }
   },
   "outputs": [],
   "source": [
    "from utils.data_cube_utilities.dc_time import _n64_to_datetime, dt_to_str\n",
    "\n",
    "extents = api.get_full_dataset_extent(platform = platform, product = product, measurements=[])\n",
    "\n",
    "latitude_extents = (min(extents['latitude'].values),max(extents['latitude'].values))\n",
    "longitude_extents = (min(extents['longitude'].values),max(extents['longitude'].values))\n",
    "time_extents = (min(extents['time'].values),max(extents['time'].values))\n",
    "\n",
    "print(\"Latitude Extents:\", latitude_extents)\n",
    "print(\"Longitude Extents:\", longitude_extents)\n",
    "print(\"Time Extents:\", list(map(dt_to_str, map(_n64_to_datetime, time_extents))))"
   ]
  },
  {
   "cell_type": "markdown",
   "metadata": {},
   "source": [
    "# Visualize Data Cube Region"
   ]
  },
  {
   "cell_type": "code",
   "execution_count": null,
   "metadata": {
    "execution": {
     "iopub.execute_input": "2020-09-29T01:01:27.796409Z",
     "iopub.status.busy": "2020-09-29T01:01:27.795724Z",
     "iopub.status.idle": "2020-09-29T01:01:27.970571Z",
     "shell.execute_reply": "2020-09-29T01:01:27.970084Z"
    }
   },
   "outputs": [],
   "source": [
    "## The code below renders a map that can be used to orient yourself with the region.\n",
    "from utils.data_cube_utilities.dc_display_map import display_map\n",
    "display_map(latitude = latitude_extents, longitude = longitude_extents)"
   ]
  },
  {
   "cell_type": "markdown",
   "metadata": {},
   "source": [
    "> ### Pick a smaller analysis region and display that region\n",
    "Try to keep your region to less than 0.2-deg x 0.2-deg for rapid processing. You can click on the map above to find the Lat-Lon coordinates of any location. You will want to identify a region with an inland water body and some vegetation. Pick a time window of several years."
   ]
  },
  {
   "cell_type": "code",
   "execution_count": null,
   "metadata": {
    "execution": {
     "iopub.execute_input": "2020-09-29T01:01:27.974225Z",
     "iopub.status.busy": "2020-09-29T01:01:27.973682Z",
     "iopub.status.idle": "2020-09-29T01:01:27.975834Z",
     "shell.execute_reply": "2020-09-29T01:01:27.975394Z"
    }
   },
   "outputs": [],
   "source": [
    "## Vietnam - Central Lam Dong Province ##\n",
    "# longitude_extents = (107.0, 107.2)\n",
    "# latitude_extents  = (11.7, 12.0)\n",
    "\n",
    "## Vietnam Ho Tri An Lake\n",
    "# longitude_extents = (107.0, 107.2)\n",
    "# latitude_extents  = (11.1, 11.3)\n",
    "\n",
    "## Sierra Leone - Delta du Saloum\n",
    "latitude_extents = (13.55, 14.12)\n",
    "longitude_extents = (-16.80, -16.38)\n",
    "\n",
    "time_extents = ('2005-01-01', '2005-12-31')"
   ]
  },
  {
   "cell_type": "code",
   "execution_count": null,
   "metadata": {
    "execution": {
     "iopub.execute_input": "2020-09-29T01:01:27.979396Z",
     "iopub.status.busy": "2020-09-29T01:01:27.978979Z",
     "iopub.status.idle": "2020-09-29T01:01:27.986768Z",
     "shell.execute_reply": "2020-09-29T01:01:27.986333Z"
    },
    "scrolled": false
   },
   "outputs": [],
   "source": [
    "display_map(latitude = latitude_extents, longitude = longitude_extents)"
   ]
  },
  {
   "cell_type": "markdown",
   "metadata": {},
   "source": [
    "## Load the dataset and the required spectral bands or other parameters\n",
    "After loading, you will view the Xarray dataset. Notice the dimensions represent the number of pixels in your latitude and longitude dimension as well as the number of time slices (time) in your time series."
   ]
  },
  {
   "cell_type": "code",
   "execution_count": null,
   "metadata": {
    "execution": {
     "iopub.execute_input": "2020-09-29T01:01:27.991131Z",
     "iopub.status.busy": "2020-09-29T01:01:27.990468Z",
     "iopub.status.idle": "2020-09-29T01:01:32.939941Z",
     "shell.execute_reply": "2020-09-29T01:01:32.940403Z"
    }
   },
   "outputs": [],
   "source": [
    "landsat_dataset = dc.load(latitude = latitude_extents,\n",
    "                          longitude = longitude_extents,\n",
    "                          platform = platform,\n",
    "                          time = time_extents,\n",
    "                          product = product,\n",
    "                          measurements = ['red', 'green', 'blue', 'nir', 'swir1', 'swir2', 'pixel_qa']) "
   ]
  },
  {
   "cell_type": "code",
   "execution_count": null,
   "metadata": {
    "execution": {
     "iopub.execute_input": "2020-09-29T01:01:32.965785Z",
     "iopub.status.busy": "2020-09-29T01:01:32.958130Z",
     "iopub.status.idle": "2020-09-29T01:01:32.979520Z",
     "shell.execute_reply": "2020-09-29T01:01:32.980312Z"
    },
    "scrolled": false
   },
   "outputs": [],
   "source": [
    "landsat_dataset\n",
    "#view the dimensions and sample content from the cube"
   ]
  },
  {
   "cell_type": "markdown",
   "metadata": {},
   "source": [
    "## Preparing the data\n",
    "We will filter out the clouds and the water using the Landsat pixel_qa information. Next, we will calculate the values of NDVI (vegetation index) and TSM (water quality). "
   ]
  },
  {
   "cell_type": "code",
   "execution_count": null,
   "metadata": {
    "execution": {
     "iopub.execute_input": "2020-09-29T01:01:32.992864Z",
     "iopub.status.busy": "2020-09-29T01:01:32.992396Z",
     "iopub.status.idle": "2020-09-29T01:01:33.215098Z",
     "shell.execute_reply": "2020-09-29T01:01:33.214603Z"
    }
   },
   "outputs": [],
   "source": [
    "from utils.data_cube_utilities.clean_mask import landsat_qa_clean_mask\n",
    "\n",
    "plt_col_lvl_params = dict(platform=platform, collection=collection, level=level)\n",
    "clear_xarray  = landsat_qa_clean_mask(landsat_dataset, cover_types=['clear'], **plt_col_lvl_params)\n",
    "water_xarray  = landsat_qa_clean_mask(landsat_dataset, cover_types=['water'], **plt_col_lvl_params)\n",
    "shadow_xarray = landsat_qa_clean_mask(landsat_dataset, cover_types=['cld_shd'], **plt_col_lvl_params) \n",
    "cloud_xarray  = landsat_qa_clean_mask(landsat_dataset, cover_types=['cloud'], **plt_col_lvl_params) "
   ]
  },
  {
   "cell_type": "code",
   "execution_count": null,
   "metadata": {
    "execution": {
     "iopub.execute_input": "2020-09-29T01:01:33.219717Z",
     "iopub.status.busy": "2020-09-29T01:01:33.219299Z",
     "iopub.status.idle": "2020-09-29T01:01:33.273405Z",
     "shell.execute_reply": "2020-09-29T01:01:33.273883Z"
    }
   },
   "outputs": [],
   "source": [
    "clean_xarray = (clear_xarray | water_xarray).rename(\"clean_mask\")"
   ]
  },
  {
   "cell_type": "code",
   "execution_count": null,
   "metadata": {
    "execution": {
     "iopub.execute_input": "2020-09-29T01:01:33.277467Z",
     "iopub.status.busy": "2020-09-29T01:01:33.277054Z",
     "iopub.status.idle": "2020-09-29T01:01:33.279375Z",
     "shell.execute_reply": "2020-09-29T01:01:33.278933Z"
    }
   },
   "outputs": [],
   "source": [
    "def NDVI(dataset):\n",
    "    return ((dataset.nir - dataset.red)/(dataset.nir + dataset.red)).rename(\"NDVI\")"
   ]
  },
  {
   "cell_type": "code",
   "execution_count": null,
   "metadata": {
    "execution": {
     "iopub.execute_input": "2020-09-29T01:01:33.283010Z",
     "iopub.status.busy": "2020-09-29T01:01:33.282609Z",
     "iopub.status.idle": "2020-09-29T01:01:33.344988Z",
     "shell.execute_reply": "2020-09-29T01:01:33.345444Z"
    }
   },
   "outputs": [],
   "source": [
    "ndvi_xarray = NDVI(landsat_dataset)  # Vegetation Index"
   ]
  },
  {
   "cell_type": "code",
   "execution_count": null,
   "metadata": {
    "execution": {
     "iopub.execute_input": "2020-09-29T01:01:33.349301Z",
     "iopub.status.busy": "2020-09-29T01:01:33.348633Z",
     "iopub.status.idle": "2020-09-29T01:01:33.943044Z",
     "shell.execute_reply": "2020-09-29T01:01:33.942637Z"
    }
   },
   "outputs": [],
   "source": [
    "from utils.data_cube_utilities.dc_water_quality import tsm\n",
    "\n",
    "tsm_xarray = tsm(landsat_dataset, clean_mask = water_xarray.values.astype(bool) ).tsm"
   ]
  },
  {
   "cell_type": "markdown",
   "metadata": {},
   "source": [
    "### Combine everything into one XARRAY for further analysis"
   ]
  },
  {
   "cell_type": "code",
   "execution_count": null,
   "metadata": {
    "execution": {
     "iopub.execute_input": "2020-09-29T01:01:33.948051Z",
     "iopub.status.busy": "2020-09-29T01:01:33.947599Z",
     "iopub.status.idle": "2020-09-29T01:01:33.953450Z",
     "shell.execute_reply": "2020-09-29T01:01:33.953014Z"
    }
   },
   "outputs": [],
   "source": [
    "combined_dataset = xr.merge([landsat_dataset,\n",
    "          clean_xarray,\n",
    "          clear_xarray,\n",
    "          water_xarray,\n",
    "          shadow_xarray,\n",
    "          cloud_xarray,                  \n",
    "          ndvi_xarray,\n",
    "          tsm_xarray])\n",
    "\n",
    "# Copy original crs to merged dataset \n",
    "combined_dataset = combined_dataset.assign_attrs(landsat_dataset.attrs)"
   ]
  },
  {
   "cell_type": "markdown",
   "metadata": {},
   "source": [
    "## Define a path for a transect  \n",
    "A transect is just a line that will run across our region of interest. Use the display map above to find the end points of your desired line. If you click on the map it will give you precise Lat-Lon positions for a point."
   ]
  },
  {
   "cell_type": "markdown",
   "metadata": {},
   "source": [
    "### Start with a line across a mix of water and land"
   ]
  },
  {
   "cell_type": "code",
   "execution_count": null,
   "metadata": {
    "execution": {
     "iopub.execute_input": "2020-09-29T01:01:33.956824Z",
     "iopub.status.busy": "2020-09-29T01:01:33.956313Z",
     "iopub.status.idle": "2020-09-29T01:01:33.958442Z",
     "shell.execute_reply": "2020-09-29T01:01:33.958018Z"
    }
   },
   "outputs": [],
   "source": [
    "# Water and Land Mixed Examples\n",
    "\n",
    "mid_lon = np.mean(longitude_extents)\n",
    "mid_lat = np.mean(latitude_extents)\n",
    "\n",
    "# North-South Path\n",
    "start = (latitude_extents[0], mid_lon)\n",
    "end = (latitude_extents[1], mid_lon)\n",
    "\n",
    "# East-West Path\n",
    "# start = (mid_lat, longitude_extents[0])\n",
    "# end = (mid_lat, longitude_extents[1])\n",
    "\n",
    "# East-West Path for Lake Ho Tri An\n",
    "# start = ( 11.25, 107.02 )\n",
    "# end   = ( 11.25, 107.18 )"
   ]
  },
  {
   "cell_type": "markdown",
   "metadata": {},
   "source": [
    "### Plot the transect line"
   ]
  },
  {
   "cell_type": "code",
   "execution_count": null,
   "metadata": {
    "execution": {
     "iopub.execute_input": "2020-09-29T01:01:33.964377Z",
     "iopub.status.busy": "2020-09-29T01:01:33.963953Z",
     "iopub.status.idle": "2020-09-29T01:01:33.972553Z",
     "shell.execute_reply": "2020-09-29T01:01:33.972103Z"
    }
   },
   "outputs": [],
   "source": [
    "import folium\n",
    "import numpy as np  \n",
    "from folium.features import CustomIcon\n",
    "\n",
    "def plot_a_path(points , zoom = 15):\n",
    "    xs,ys = zip(*points)\n",
    "    \n",
    "    map_center_point = (np.mean(xs), np.mean(ys))\n",
    "    the_map = folium.Map(location=[map_center_point[0], map_center_point[1]], zoom_start = zoom, tiles='http://mt1.google.com/vt/lyrs=y&z={z}&x={x}&y={y}', attr = \"Google Attribution\")\n",
    "    path = folium.PolyLine(locations=points, weight=5, color = 'orange')\n",
    "    the_map.add_child(path)\n",
    "    \n",
    "    start = ( xs[0] ,ys[0] )\n",
    "    end   = ( xs[-1],ys[-1])\n",
    "    \n",
    "    return the_map  \n",
    "\n",
    "plot_a_path([start,end])    "
   ]
  },
  {
   "cell_type": "markdown",
   "metadata": {},
   "source": [
    "### Find the nearest pixels along the transect path"
   ]
  },
  {
   "cell_type": "code",
   "execution_count": null,
   "metadata": {
    "execution": {
     "iopub.execute_input": "2020-09-29T01:01:33.978677Z",
     "iopub.status.busy": "2020-09-29T01:01:33.978252Z",
     "iopub.status.idle": "2020-09-29T01:01:33.983246Z",
     "shell.execute_reply": "2020-09-29T01:01:33.982799Z"
    }
   },
   "outputs": [],
   "source": [
    "from utils.data_cube_utilities.transect import line_scan\n",
    "\n",
    "import numpy as np\n",
    "\n",
    "def get_index_at(coords, ds):\n",
    "    '''Returns an integer index pair.'''\n",
    "    lat = coords[0]\n",
    "    lon = coords[1]\n",
    "    \n",
    "    nearest_lat = ds.sel(latitude = lat, method = 'nearest').latitude.values\n",
    "    nearest_lon = ds.sel(longitude = lon, method = 'nearest').longitude.values\n",
    "    \n",
    "    lat_index = np.where(ds.latitude.values == nearest_lat)[0]\n",
    "    lon_index = np.where(ds.longitude.values == nearest_lon)[0]\n",
    "    \n",
    "    return (int(lat_index), int(lon_index))\n",
    "\n",
    "def create_pixel_trail(start, end, ds):\n",
    "    a = get_index_at(start, ds)\n",
    "    b = get_index_at(end, ds)\n",
    "    \n",
    "    indices = line_scan.line_scan(a, b)\n",
    "\n",
    "    pixels = [ ds.isel(latitude = x, longitude = y) for x, y in indices]\n",
    "    return pixels"
   ]
  },
  {
   "cell_type": "code",
   "execution_count": null,
   "metadata": {
    "execution": {
     "iopub.execute_input": "2020-09-29T01:01:34.000900Z",
     "iopub.status.busy": "2020-09-29T01:01:33.987479Z",
     "iopub.status.idle": "2020-09-29T01:01:34.140384Z",
     "shell.execute_reply": "2020-09-29T01:01:34.140834Z"
    }
   },
   "outputs": [],
   "source": [
    "list_of_pixels_along_segment = create_pixel_trail(start, end, landsat_dataset)"
   ]
  },
  {
   "cell_type": "markdown",
   "metadata": {},
   "source": [
    "## Groundwork for Transect (2-D) and Hovmöller (3-D) Plots"
   ]
  },
  {
   "cell_type": "code",
   "execution_count": null,
   "metadata": {
    "execution": {
     "iopub.execute_input": "2020-09-29T01:01:34.151715Z",
     "iopub.status.busy": "2020-09-29T01:01:34.150427Z",
     "iopub.status.idle": "2020-09-29T01:01:34.310197Z",
     "shell.execute_reply": "2020-09-29T01:01:34.310632Z"
    }
   },
   "outputs": [],
   "source": [
    "import xarray\n",
    "import matplotlib.pyplot as plt  \n",
    "from matplotlib.ticker import FuncFormatter  \n",
    "from datetime import datetime  \n",
    "import time\n",
    "\n",
    "def plot_list_of_pixels(list_of_pixels, band_name, y = None): \n",
    "    start = (\n",
    "             \"{0:.2f}\".format(float(list_of_pixels[0].latitude.values )),\n",
    "             \"{0:.2f}\".format(float(list_of_pixels[0].longitude.values))\n",
    "            )  \n",
    "    end = (\n",
    "             \"{0:.2f}\".format(float(list_of_pixels[-1].latitude.values)),\n",
    "             \"{0:.2f}\".format(float(list_of_pixels[-1].longitude.values))\n",
    "            )\n",
    "    \n",
    "    def reformat_n64(t):\n",
    "        return time.strftime(\"%Y.%m.%d\", time.gmtime(t.astype(int)/1000000000))   \n",
    "    \n",
    "    def pixel_to_array(pixel):\n",
    "        return(pixel.values)\n",
    "    \n",
    "    def figure_ratio(x,y, fixed_width = 10):\n",
    "        width = fixed_width\n",
    "        height = y * (fixed_width / x)\n",
    "        return (width, height)\n",
    "    \n",
    "    pixel_array = np.transpose([pixel_to_array(pix) for pix in list_of_pixels])\n",
    "    \n",
    "    #If the data has one acquisition, then plot transect (2-D), else Hovmöller (3-D) \n",
    "    if y.size == 1:\n",
    "        plt.figure(figsize = (15,5))\n",
    "        plt.scatter(np.arange(pixel_array.size), pixel_array)\n",
    "        plt.title(\"Transect (2-D) \\n Acquisition date: {}\".format(reformat_n64(y)))\n",
    "        plt.xlabel(\"Pixels along the transect \\n {} -  {} \\n \".format(start,end))\n",
    "        plt.ylabel(band_name)\n",
    "\n",
    "    else:\n",
    "        m = FuncFormatter(lambda x :x )\n",
    "        figure = plt.figure(figsize = figure_ratio(len(list_of_pixels),\n",
    "                                                   len(list_of_pixels[0].values),\n",
    "                                                   fixed_width = 15))\n",
    "        number_of_y_ticks = 5 \n",
    "\n",
    "        ax = plt.gca()\n",
    "        cax = ax.imshow(pixel_array, interpolation='none')\n",
    "        figure.colorbar(cax,fraction=0.110, pad=0.04)\n",
    "\n",
    "        ax.set_title(\"Hovmöller (3-D) \\n Acquisition range: {} -  {} \\n \".format(reformat_n64(y[0]),reformat_n64(y[-1])))\n",
    "        plt.xlabel(\"Pixels along the transect \\n {} -  {} \\n \".format(start,end))\n",
    "        ax.get_yaxis().set_major_formatter( FuncFormatter(lambda x, p: reformat_n64(list_of_pixels[0].time.values[int(x)]) if int(x) < len(list_of_pixels[0].time) else \"\"))    \n",
    "        plt.ylabel(\"Time\")\n",
    "    plt.show()"
   ]
  },
  {
   "cell_type": "code",
   "execution_count": null,
   "metadata": {
    "execution": {
     "iopub.execute_input": "2020-09-29T01:01:34.318925Z",
     "iopub.status.busy": "2020-09-29T01:01:34.318510Z",
     "iopub.status.idle": "2020-09-29T01:01:34.320235Z",
     "shell.execute_reply": "2020-09-29T01:01:34.320642Z"
    }
   },
   "outputs": [],
   "source": [
    "def transect_plot(start,\n",
    "                  end,\n",
    "                  da):\n",
    "    if type(da) is not xarray.DataArray and (type(da) is xarray.Dataset)  :\n",
    "        raise Exception('You should be passing in a data-array, not a Dataset')\n",
    "\n",
    "    pixels = create_pixel_trail(start, end,da)\n",
    "    dates = da.time.values  \n",
    "\n",
    "    lats = [x.latitude.values for x in pixels]\n",
    "    lons = [x.longitude.values for x in pixels]\n",
    "    plot_list_of_pixels(pixels, da.name, y = dates)"
   ]
  },
  {
   "cell_type": "code",
   "execution_count": null,
   "metadata": {
    "execution": {
     "iopub.execute_input": "2020-09-29T01:01:34.388741Z",
     "iopub.status.busy": "2020-09-29T01:01:34.353009Z",
     "iopub.status.idle": "2020-09-29T01:01:34.480272Z",
     "shell.execute_reply": "2020-09-29T01:01:34.479806Z"
    }
   },
   "outputs": [],
   "source": [
    "pixels = create_pixel_trail(start, end, landsat_dataset)"
   ]
  },
  {
   "cell_type": "code",
   "execution_count": null,
   "metadata": {
    "execution": {
     "iopub.execute_input": "2020-09-29T01:01:34.553810Z",
     "iopub.status.busy": "2020-09-29T01:01:34.518057Z",
     "iopub.status.idle": "2020-09-29T01:01:34.571773Z",
     "shell.execute_reply": "2020-09-29T01:01:34.571300Z"
    }
   },
   "outputs": [],
   "source": [
    "t = 2\n",
    "subset = list( map(lambda x: x.isel(time = t), pixels))"
   ]
  },
  {
   "cell_type": "markdown",
   "metadata": {},
   "source": [
    "### Mask Clouds"
   ]
  },
  {
   "cell_type": "code",
   "execution_count": null,
   "metadata": {},
   "outputs": [],
   "source": [
    "from utils.data_cube_utilities.clean_mask import landsat_qa_clean_mask\n",
    "\n",
    "clean_mask = landsat_qa_clean_mask(landsat_dataset, platform=platform, \n",
    "                                   collection=collection, level=level)"
   ]
  },
  {
   "cell_type": "code",
   "execution_count": null,
   "metadata": {},
   "outputs": [],
   "source": [
    "cloudless_dataset = landsat_dataset.where(clean_mask)"
   ]
  },
  {
   "cell_type": "markdown",
   "metadata": {},
   "source": [
    "### Select an acquisition date and then plot a 2D transect without clouds"
   ]
  },
  {
   "cell_type": "code",
   "execution_count": null,
   "metadata": {
    "execution": {
     "iopub.execute_input": "2020-09-29T01:01:35.197316Z",
     "iopub.status.busy": "2020-09-29T01:01:35.196817Z",
     "iopub.status.idle": "2020-09-29T01:01:35.198553Z",
     "shell.execute_reply": "2020-09-29T01:01:35.198966Z"
    }
   },
   "outputs": [],
   "source": [
    "# select an acquisition number from the start (t=0) to \"time\" using the array limits above\n",
    "acquisition_number = 10"
   ]
  },
  {
   "cell_type": "code",
   "execution_count": null,
   "metadata": {
    "execution": {
     "iopub.execute_input": "2020-09-29T01:01:35.202444Z",
     "iopub.status.busy": "2020-09-29T01:01:35.201949Z",
     "iopub.status.idle": "2020-09-29T01:01:35.203667Z",
     "shell.execute_reply": "2020-09-29T01:01:35.204080Z"
    }
   },
   "outputs": [],
   "source": [
    "#If plotted will create the 2-D transect\n",
    "cloudless_dataset_for_acq_no = cloudless_dataset.isel(time = acquisition_number) "
   ]
  },
  {
   "cell_type": "code",
   "execution_count": null,
   "metadata": {
    "execution": {
     "iopub.execute_input": "2020-09-29T01:01:35.210274Z",
     "iopub.status.busy": "2020-09-29T01:01:35.209764Z",
     "iopub.status.idle": "2020-09-29T01:01:35.211415Z",
     "shell.execute_reply": "2020-09-29T01:01:35.211820Z"
    }
   },
   "outputs": [],
   "source": [
    "#If Plotted will create the 3-D Hovmoller plot for a portion of the time series (min to max)\n",
    "min_acq = 1\n",
    "max_acq = 4\n",
    "\n",
    "cloudless_dataset_from_1_to_acq_no = cloudless_dataset.isel(time = slice(min_acq, max_acq)) "
   ]
  },
  {
   "cell_type": "markdown",
   "metadata": {},
   "source": [
    "## Select one of the XARRAY parameters for analysis"
   ]
  },
  {
   "cell_type": "code",
   "execution_count": null,
   "metadata": {
    "execution": {
     "iopub.execute_input": "2020-09-29T01:01:35.214725Z",
     "iopub.status.busy": "2020-09-29T01:01:35.214291Z",
     "iopub.status.idle": "2020-09-29T01:01:35.215939Z",
     "shell.execute_reply": "2020-09-29T01:01:35.216343Z"
    }
   },
   "outputs": [],
   "source": [
    "band = 'green'"
   ]
  },
  {
   "cell_type": "markdown",
   "metadata": {},
   "source": [
    "### Create a 2D Transect plot of the \"band\" for one date"
   ]
  },
  {
   "cell_type": "code",
   "execution_count": null,
   "metadata": {
    "execution": {
     "iopub.execute_input": "2020-09-29T01:01:35.220577Z",
     "iopub.status.busy": "2020-09-29T01:01:35.220097Z",
     "iopub.status.idle": "2020-09-29T01:01:35.572568Z",
     "shell.execute_reply": "2020-09-29T01:01:35.572052Z"
    },
    "scrolled": false
   },
   "outputs": [],
   "source": [
    "transect_plot(start, end, cloudless_dataset_for_acq_no[band])"
   ]
  },
  {
   "cell_type": "markdown",
   "metadata": {},
   "source": [
    "### Create a 2D Transect plot of NDVI for one date"
   ]
  },
  {
   "cell_type": "code",
   "execution_count": null,
   "metadata": {
    "execution": {
     "iopub.execute_input": "2020-09-29T01:01:35.576741Z",
     "iopub.status.busy": "2020-09-29T01:01:35.576332Z",
     "iopub.status.idle": "2020-09-29T01:01:35.850069Z",
     "shell.execute_reply": "2020-09-29T01:01:35.849572Z"
    }
   },
   "outputs": [],
   "source": [
    "transect_plot(start, end, NDVI(cloudless_dataset_for_acq_no))"
   ]
  },
  {
   "cell_type": "markdown",
   "metadata": {},
   "source": [
    "### Create a 3D Hovmoller plot of NDVI for the entire time series"
   ]
  },
  {
   "cell_type": "code",
   "execution_count": null,
   "metadata": {
    "execution": {
     "iopub.execute_input": "2020-09-29T01:01:35.854828Z",
     "iopub.status.busy": "2020-09-29T01:01:35.853872Z",
     "iopub.status.idle": "2020-09-29T01:01:36.392708Z",
     "shell.execute_reply": "2020-09-29T01:01:36.392257Z"
    }
   },
   "outputs": [],
   "source": [
    "transect_plot(start, end, NDVI(cloudless_dataset))"
   ]
  },
  {
   "cell_type": "markdown",
   "metadata": {},
   "source": [
    "### Create a 2D Transect plot of water existence for one date"
   ]
  },
  {
   "cell_type": "code",
   "execution_count": null,
   "metadata": {
    "execution": {
     "iopub.execute_input": "2020-09-29T01:01:36.397900Z",
     "iopub.status.busy": "2020-09-29T01:01:36.397058Z",
     "iopub.status.idle": "2020-09-29T01:01:36.647179Z",
     "shell.execute_reply": "2020-09-29T01:01:36.647598Z"
    }
   },
   "outputs": [],
   "source": [
    "transect_plot(start, end, water_xarray.isel(time = acquisition_number))"
   ]
  },
  {
   "cell_type": "markdown",
   "metadata": {},
   "source": [
    "### Create a 3D Hovmoller plot of water extent for the entire time series"
   ]
  },
  {
   "cell_type": "code",
   "execution_count": null,
   "metadata": {
    "execution": {
     "iopub.execute_input": "2020-09-29T01:01:36.689817Z",
     "iopub.status.busy": "2020-09-29T01:01:36.653563Z",
     "iopub.status.idle": "2020-09-29T01:01:36.948949Z",
     "shell.execute_reply": "2020-09-29T01:01:36.948510Z"
    },
    "scrolled": true
   },
   "outputs": [],
   "source": [
    "transect_plot(start, end, water_xarray)"
   ]
  },
  {
   "cell_type": "markdown",
   "metadata": {},
   "source": [
    "### Create a 2D Transect plot of water quality (TSM) for one date"
   ]
  },
  {
   "cell_type": "code",
   "execution_count": null,
   "metadata": {
    "execution": {
     "iopub.execute_input": "2020-09-29T01:01:36.954108Z",
     "iopub.status.busy": "2020-09-29T01:01:36.953256Z",
     "iopub.status.idle": "2020-09-29T01:01:37.196464Z",
     "shell.execute_reply": "2020-09-29T01:01:37.196883Z"
    }
   },
   "outputs": [],
   "source": [
    "transect_plot(start, end, tsm_xarray.isel(time = acquisition_number))"
   ]
  },
  {
   "cell_type": "markdown",
   "metadata": {},
   "source": [
    "### Create a 3D Hovmoller plot of water quality (TSM) for one date"
   ]
  },
  {
   "cell_type": "code",
   "execution_count": null,
   "metadata": {
    "execution": {
     "iopub.execute_input": "2020-09-29T01:01:37.202931Z",
     "iopub.status.busy": "2020-09-29T01:01:37.200950Z",
     "iopub.status.idle": "2020-09-29T01:01:37.496174Z",
     "shell.execute_reply": "2020-09-29T01:01:37.496592Z"
    }
   },
   "outputs": [],
   "source": [
    "transect_plot(start, end, tsm_xarray)"
   ]
  }
 ],
 "metadata": {
  "kernelspec": {
   "display_name": "Python 3",
   "language": "python",
   "name": "python3"
  },
  "language_info": {
   "codemirror_mode": {
    "name": "ipython",
    "version": 3
   },
   "file_extension": ".py",
   "mimetype": "text/x-python",
   "name": "python",
   "nbconvert_exporter": "python",
   "pygments_lexer": "ipython3",
   "version": "3.6.9"
  }
 },
 "nbformat": 4,
 "nbformat_minor": 2
}
