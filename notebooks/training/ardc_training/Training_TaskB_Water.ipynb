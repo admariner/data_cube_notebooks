{
 "cells": [
  {
   "cell_type": "code",
   "execution_count": null,
   "metadata": {
    "execution": {
     "iopub.execute_input": "2020-09-29T01:00:32.377279Z",
     "iopub.status.busy": "2020-09-29T01:00:32.376860Z",
     "iopub.status.idle": "2020-09-29T01:00:32.379296Z",
     "shell.execute_reply": "2020-09-29T01:00:32.378845Z"
    }
   },
   "outputs": [],
   "source": [
    "# Enable importing of utilities.\n",
    "import sys\n",
    "import os\n",
    "sys.path.append(os.environ.get('NOTEBOOK_ROOT'))"
   ]
  },
  {
   "cell_type": "markdown",
   "metadata": {},
   "source": [
    "# ARDC Training: Python Notebooks\n",
    "Task-B: Water Extent (WOFS) and Water Quality (TSM)"
   ]
  },
  {
   "cell_type": "markdown",
   "metadata": {},
   "source": [
    "> ### Import the Datacube Configuration"
   ]
  },
  {
   "cell_type": "code",
   "execution_count": null,
   "metadata": {
    "execution": {
     "iopub.execute_input": "2020-09-29T01:00:32.382561Z",
     "iopub.status.busy": "2020-09-29T01:00:32.382143Z",
     "iopub.status.idle": "2020-09-29T01:00:33.657251Z",
     "shell.execute_reply": "2020-09-29T01:00:33.657746Z"
    }
   },
   "outputs": [],
   "source": [
    "import datacube\n",
    "import utils.data_cube_utilities.data_access_api as dc_api  \n",
    "\n",
    "from datacube.utils.aws import configure_s3_access\n",
    "configure_s3_access(requester_pays=True)\n",
    "\n",
    "api = dc_api.DataAccessApi()\n",
    "dc = datacube.Datacube(app = 'ardc_task_b')\n",
    "api.dc = dc"
   ]
  },
  {
   "cell_type": "markdown",
   "metadata": {},
   "source": [
    ">### Browse the available Data Cubes   "
   ]
  },
  {
   "cell_type": "code",
   "execution_count": null,
   "metadata": {
    "execution": {
     "iopub.execute_input": "2020-09-29T01:00:33.662142Z",
     "iopub.status.busy": "2020-09-29T01:00:33.661408Z",
     "iopub.status.idle": "2020-09-29T01:00:33.709380Z",
     "shell.execute_reply": "2020-09-29T01:00:33.708971Z"
    }
   },
   "outputs": [],
   "source": [
    "list_of_products = dc.list_products()\n",
    "netCDF_products = list_of_products[list_of_products['format'] == 'NetCDF']\n",
    "netCDF_products"
   ]
  },
  {
   "cell_type": "markdown",
   "metadata": {},
   "source": [
    ">### Pick a product  \n",
    ">Use the platform and product names from the previous block to select a Data Cube.  "
   ]
  },
  {
   "cell_type": "code",
   "execution_count": null,
   "metadata": {
    "execution": {
     "iopub.execute_input": "2020-09-29T01:00:33.712553Z",
     "iopub.status.busy": "2020-09-29T01:00:33.712131Z",
     "iopub.status.idle": "2020-09-29T01:00:33.714423Z",
     "shell.execute_reply": "2020-09-29T01:00:33.713961Z"
    }
   },
   "outputs": [],
   "source": [
    "# Change the data platform and data cube here\n",
    "\n",
    "platform = 'LANDSAT_7'\n",
    "product = 'ls7_usgs_sr_scene'"
   ]
  },
  {
   "cell_type": "markdown",
   "metadata": {},
   "source": [
    "> #### Display Latitude-Longitude and Time Bounds of the Data Cube"
   ]
  },
  {
   "cell_type": "code",
   "execution_count": null,
   "metadata": {
    "execution": {
     "iopub.execute_input": "2020-09-29T01:00:33.719610Z",
     "iopub.status.busy": "2020-09-29T01:00:33.718669Z",
     "iopub.status.idle": "2020-09-29T01:00:35.861989Z",
     "shell.execute_reply": "2020-09-29T01:00:35.862452Z"
    },
    "scrolled": false
   },
   "outputs": [],
   "source": [
    "from utils.data_cube_utilities.dc_time import _n64_to_datetime, dt_to_str\n",
    "\n",
    "extents = api.get_full_dataset_extent(platform = platform, product = product, measurements=[])\n",
    "\n",
    "latitude_extents = (min(extents['latitude'].values),max(extents['latitude'].values))\n",
    "longitude_extents = (min(extents['longitude'].values),max(extents['longitude'].values))\n",
    "time_extents = (min(extents['time'].values),max(extents['time'].values))\n",
    "\n",
    "print(\"Latitude Extents:\", latitude_extents)\n",
    "print(\"Longitude Extents:\", longitude_extents)\n",
    "print(\"Time Extents:\", list(map(dt_to_str, map(_n64_to_datetime, time_extents))))"
   ]
  },
  {
   "cell_type": "markdown",
   "metadata": {},
   "source": [
    "# Visualize Data Cube Region"
   ]
  },
  {
   "cell_type": "code",
   "execution_count": null,
   "metadata": {
    "execution": {
     "iopub.execute_input": "2020-09-29T01:00:35.865746Z",
     "iopub.status.busy": "2020-09-29T01:00:35.865276Z",
     "iopub.status.idle": "2020-09-29T01:00:36.038571Z",
     "shell.execute_reply": "2020-09-29T01:00:36.038996Z"
    }
   },
   "outputs": [],
   "source": [
    "## The code below renders a map that can be used to orient yourself with the region.\n",
    "from utils.data_cube_utilities.dc_display_map import display_map\n",
    "display_map(latitude = latitude_extents, longitude = longitude_extents)"
   ]
  },
  {
   "cell_type": "markdown",
   "metadata": {},
   "source": [
    "> ### Pick a smaller analysis region and display that region\n",
    "Try to keep your region to less than 0.2-deg x 0.2-deg for rapid processing. You can click on the map above to find the Lat-Lon coordinates of any location. You will want to identify a region with an inland water body. Pick a time window of a few months so we can pick out some clear pixels and plot the water. "
   ]
  },
  {
   "cell_type": "code",
   "execution_count": null,
   "metadata": {
    "execution": {
     "iopub.execute_input": "2020-09-29T01:00:36.042326Z",
     "iopub.status.busy": "2020-09-29T01:00:36.041904Z",
     "iopub.status.idle": "2020-09-29T01:00:36.043570Z",
     "shell.execute_reply": "2020-09-29T01:00:36.043981Z"
    }
   },
   "outputs": [],
   "source": [
    "## Vietnam - Central Lam Dong Province ##\n",
    "longitude_extents = (107.0, 107.2)\n",
    "latitude_extents  = (11.7, 12.0)\n",
    "\n",
    "## Tanzania - Lake Sulunga\n",
    "longitude_extents = (35.00, 35.37)\n",
    "latitude_extents = (-6.28,-5.87)\n",
    "\n",
    "time_extents = ('2015-01-01', '2015-12-31')"
   ]
  },
  {
   "cell_type": "code",
   "execution_count": null,
   "metadata": {
    "execution": {
     "iopub.execute_input": "2020-09-29T01:00:36.047832Z",
     "iopub.status.busy": "2020-09-29T01:00:36.047171Z",
     "iopub.status.idle": "2020-09-29T01:00:36.055239Z",
     "shell.execute_reply": "2020-09-29T01:00:36.054802Z"
    },
    "scrolled": false
   },
   "outputs": [],
   "source": [
    "display_map(latitude = latitude_extents, longitude = longitude_extents)"
   ]
  },
  {
   "cell_type": "markdown",
   "metadata": {},
   "source": [
    "## Load the dataset and the required spectral bands or other parameters\n",
    "After loading, you will view the Xarray dataset. Notice the dimensions represent the number of pixels in your latitude and longitude dimension as well as the number of time slices (time) in your time series."
   ]
  },
  {
   "cell_type": "code",
   "execution_count": null,
   "metadata": {
    "execution": {
     "iopub.execute_input": "2020-09-29T01:00:36.060080Z",
     "iopub.status.busy": "2020-09-29T01:00:36.059666Z",
     "iopub.status.idle": "2020-09-29T01:00:40.483818Z",
     "shell.execute_reply": "2020-09-29T01:00:40.482710Z"
    }
   },
   "outputs": [],
   "source": [
    "landsat_dataset = dc.load(latitude = latitude_extents,\n",
    "                          longitude = longitude_extents,\n",
    "                          platform = platform,\n",
    "                          time = time_extents,\n",
    "                          product = product,\n",
    "                          measurements = ['red', 'green', 'blue', 'nir', 'swir1', 'swir2', 'pixel_qa']) "
   ]
  },
  {
   "cell_type": "code",
   "execution_count": null,
   "metadata": {
    "execution": {
     "iopub.execute_input": "2020-09-29T01:00:40.498207Z",
     "iopub.status.busy": "2020-09-29T01:00:40.497104Z",
     "iopub.status.idle": "2020-09-29T01:00:40.519704Z",
     "shell.execute_reply": "2020-09-29T01:00:40.520094Z"
    }
   },
   "outputs": [],
   "source": [
    "landsat_dataset\n",
    "#view the dimensions and sample content from the cube"
   ]
  },
  {
   "cell_type": "markdown",
   "metadata": {},
   "source": [
    "# Display Example Images  \n",
    "\n",
    ">#### Single band visualization   \n",
    "> For a quick inspection, let's look at one image. The code will allow the selection of any band (red, blue, green, nir, swir1, swir2) to produce a grey-scale image. Select the desired acquisition (time slice) in the block below. You can select from 1 to #, where the max value is the number of time slices noted in the block above. Change the comment statements below to select the bands for the first image."
   ]
  },
  {
   "cell_type": "code",
   "execution_count": null,
   "metadata": {
    "execution": {
     "iopub.execute_input": "2020-09-29T01:00:40.523521Z",
     "iopub.status.busy": "2020-09-29T01:00:40.522984Z",
     "iopub.status.idle": "2020-09-29T01:00:40.525621Z",
     "shell.execute_reply": "2020-09-29T01:00:40.525185Z"
    }
   },
   "outputs": [],
   "source": [
    "acquisition_number = 2\n",
    "# select an acquisition number from 1 to \"time\" using the array limits above"
   ]
  },
  {
   "cell_type": "code",
   "execution_count": null,
   "metadata": {
    "execution": {
     "iopub.execute_input": "2020-09-29T01:00:40.531815Z",
     "iopub.status.busy": "2020-09-29T01:00:40.531381Z",
     "iopub.status.idle": "2020-09-29T01:00:41.271791Z",
     "shell.execute_reply": "2020-09-29T01:00:41.271336Z"
    }
   },
   "outputs": [],
   "source": [
    "%matplotlib inline\n",
    "#landsat_dataset.red.isel(time = acquisition_number).plot(cmap = \"Greys\")\n",
    "landsat_dataset.green.isel(time = acquisition_number).plot(cmap = \"Greys\")\n",
    "#landsat_dataset.blue.isel(time = acquisition_number).plot(cmap = \"Greys\")\n",
    "#landsat_dataset.nir.isel(time = acquisition_number).plot(cmap = \"Greys\")\n",
    "#landsat_dataset.swir1.isel(time = acquisition_number).plot(cmap = \"Greys\")\n",
    "#landsat_dataset.swir2.isel(time = acquisition_number).plot(cmap = \"Greys\")"
   ]
  },
  {
   "cell_type": "markdown",
   "metadata": {},
   "source": [
    ">#### Define Cloud Masking Function   \n",
    "Removes clouds and cloud shadows based on the Landsat pixel QA information\n",
    "This is only for reference ... nothing to modify here"
   ]
  },
  {
   "cell_type": "code",
   "execution_count": null,
   "metadata": {
    "execution": {
     "iopub.execute_input": "2020-09-29T01:00:41.281407Z",
     "iopub.status.busy": "2020-09-29T01:00:41.280959Z",
     "iopub.status.idle": "2020-09-29T01:00:41.282615Z",
     "shell.execute_reply": "2020-09-29T01:00:41.283032Z"
    }
   },
   "outputs": [],
   "source": [
    "import numpy as np  \n",
    "\n",
    "def generate_cloud_mask(dataset, include_shadows = False):\n",
    "    #Create boolean Masks for clear and water pixels\n",
    "    clear_pixels = dataset.pixel_qa.values == 2  + 64\n",
    "    water_pixels = dataset.pixel_qa.values == 4  + 64\n",
    "    shadow_pixels= dataset.pixel_qa.values == 8 + 64\n",
    "    \n",
    "    a_clean_mask = np.logical_or(clear_pixels, water_pixels)\n",
    "    \n",
    "    if include_shadows:\n",
    "        a_clean_mask = np.logical_or(a_clean_mask, shadow_pixels)\n",
    "        \n",
    "    return np.invert(a_clean_mask)\n",
    "\n",
    "def remove_clouds(dataset, include_shadows = False):\n",
    "    #Create boolean Masks for clear and water pixels\n",
    "    clear_pixels = dataset.pixel_qa.values == 2  + 64\n",
    "    water_pixels = dataset.pixel_qa.values == 4  + 64\n",
    "    shadow_pixels= dataset.pixel_qa.values == 8 + 64\n",
    "    \n",
    "    a_clean_mask = np.logical_or(clear_pixels, water_pixels)\n",
    "    \n",
    "    if include_shadows:\n",
    "        a_clean_mask = np.logical_or(a_clean_mask, shadow_pixels)\n",
    "        \n",
    "    return dataset.where(a_clean_mask)"
   ]
  },
  {
   "cell_type": "code",
   "execution_count": null,
   "metadata": {
    "execution": {
     "iopub.execute_input": "2020-09-29T01:00:41.286117Z",
     "iopub.status.busy": "2020-09-29T01:00:41.285695Z",
     "iopub.status.idle": "2020-09-29T01:00:41.751012Z",
     "shell.execute_reply": "2020-09-29T01:00:41.751479Z"
    }
   },
   "outputs": [],
   "source": [
    "cloud_mask = generate_cloud_mask(landsat_dataset)\n",
    "cloudless = remove_clouds(landsat_dataset) #landsat_dataset.where(image_is_clean)"
   ]
  },
  {
   "cell_type": "markdown",
   "metadata": {},
   "source": [
    ">Set up plotting function (to be used later)\n",
    ">Nothing to modify here"
   ]
  },
  {
   "cell_type": "code",
   "execution_count": null,
   "metadata": {
    "execution": {
     "iopub.execute_input": "2020-09-29T01:00:41.754839Z",
     "iopub.status.busy": "2020-09-29T01:00:41.754404Z",
     "iopub.status.idle": "2020-09-29T01:00:41.756488Z",
     "shell.execute_reply": "2020-09-29T01:00:41.756908Z"
    }
   },
   "outputs": [],
   "source": [
    "from utils.data_cube_utilities.dc_rgb import rgb"
   ]
  },
  {
   "cell_type": "markdown",
   "metadata": {},
   "source": [
    ">** Most Recent Pixel Mosaic **   \n",
    ">Masks clouds from imagery and uses the most recent cloud-free pixels.  "
   ]
  },
  {
   "cell_type": "code",
   "execution_count": null,
   "metadata": {
    "execution": {
     "iopub.execute_input": "2020-09-29T01:00:41.760234Z",
     "iopub.status.busy": "2020-09-29T01:00:41.759821Z",
     "iopub.status.idle": "2020-09-29T01:00:41.772488Z",
     "shell.execute_reply": "2020-09-29T01:00:41.772055Z"
    }
   },
   "outputs": [],
   "source": [
    "from utils.data_cube_utilities.dc_mosaic import create_mosaic\n",
    "\n",
    "def mrf_mosaic(dataset):\n",
    "    # The mask here is based on pixel_qa products. It comes bundled in with most Landsat Products.\n",
    "    cloud_free_boolean_mask = np.invert(generate_cloud_mask(dataset))\n",
    "    return create_mosaic(dataset, clean_mask = cloud_free_boolean_mask)"
   ]
  },
  {
   "cell_type": "code",
   "execution_count": null,
   "metadata": {
    "execution": {
     "iopub.execute_input": "2020-09-29T01:00:41.775485Z",
     "iopub.status.busy": "2020-09-29T01:00:41.775076Z",
     "iopub.status.idle": "2020-09-29T01:00:42.644453Z",
     "shell.execute_reply": "2020-09-29T01:00:42.644925Z"
    }
   },
   "outputs": [],
   "source": [
    "recent_composite = mrf_mosaic(landsat_dataset)"
   ]
  },
  {
   "cell_type": "code",
   "execution_count": null,
   "metadata": {
    "execution": {
     "iopub.execute_input": "2020-09-29T01:00:42.648711Z",
     "iopub.status.busy": "2020-09-29T01:00:42.648292Z",
     "iopub.status.idle": "2020-09-29T01:00:43.217365Z",
     "shell.execute_reply": "2020-09-29T01:00:43.217853Z"
    }
   },
   "outputs": [],
   "source": [
    "recent_composite.nir.plot(cmap = \"Greys\")"
   ]
  },
  {
   "cell_type": "code",
   "execution_count": null,
   "metadata": {
    "execution": {
     "iopub.execute_input": "2020-09-29T01:00:43.221423Z",
     "iopub.status.busy": "2020-09-29T01:00:43.220763Z",
     "iopub.status.idle": "2020-09-29T01:00:43.839414Z",
     "shell.execute_reply": "2020-09-29T01:00:43.839868Z"
    }
   },
   "outputs": [],
   "source": [
    "rgb(recent_composite, width = 20)"
   ]
  },
  {
   "cell_type": "markdown",
   "metadata": {},
   "source": [
    "## Plot WOFS water detection results\n",
    "This example uses the Australian Water Detection from Space (WOFS) algorithm for water detection. The base image will use a most-recent pixel composite (from above). When reviewing the results, 1=water, 0=no water. "
   ]
  },
  {
   "cell_type": "code",
   "execution_count": null,
   "metadata": {
    "execution": {
     "iopub.execute_input": "2020-09-29T01:00:43.843192Z",
     "iopub.status.busy": "2020-09-29T01:00:43.842780Z",
     "iopub.status.idle": "2020-09-29T01:00:43.845569Z",
     "shell.execute_reply": "2020-09-29T01:00:43.845096Z"
    }
   },
   "outputs": [],
   "source": [
    "from utils.data_cube_utilities.dc_water_classifier import wofs_classify"
   ]
  },
  {
   "cell_type": "code",
   "execution_count": null,
   "metadata": {
    "execution": {
     "iopub.execute_input": "2020-09-29T01:00:43.848871Z",
     "iopub.status.busy": "2020-09-29T01:00:43.848465Z",
     "iopub.status.idle": "2020-09-29T01:00:43.959418Z",
     "shell.execute_reply": "2020-09-29T01:00:43.959862Z"
    }
   },
   "outputs": [],
   "source": [
    "water_classification = wofs_classify(recent_composite, clean_mask = np.ones(recent_composite.pixel_qa.shape).astype(np.bool),  mosaic = True) "
   ]
  },
  {
   "cell_type": "code",
   "execution_count": null,
   "metadata": {
    "execution": {
     "iopub.execute_input": "2020-09-29T01:00:43.963800Z",
     "iopub.status.busy": "2020-09-29T01:00:43.963384Z",
     "iopub.status.idle": "2020-09-29T01:00:44.503600Z",
     "shell.execute_reply": "2020-09-29T01:00:44.503952Z"
    }
   },
   "outputs": [],
   "source": [
    "water_classification.wofs.plot(cmap='Blues')"
   ]
  },
  {
   "cell_type": "markdown",
   "metadata": {},
   "source": [
    "## Plot NDWI water detection results\n",
    "This example uses the Normalized Difference Water Index (NDWI) which is a spectral \"index\" that correlates well with the existance of water. \n",
    "<br>\n",
    "$$ NDWI =  \\frac{GREEN - NIR}{GREEN + NIR}$$  "
   ]
  },
  {
   "cell_type": "code",
   "execution_count": null,
   "metadata": {
    "execution": {
     "iopub.execute_input": "2020-09-29T01:00:44.507467Z",
     "iopub.status.busy": "2020-09-29T01:00:44.506955Z",
     "iopub.status.idle": "2020-09-29T01:00:44.509102Z",
     "shell.execute_reply": "2020-09-29T01:00:44.508661Z"
    }
   },
   "outputs": [],
   "source": [
    "def NDWI(dataset):\n",
    "    return (dataset.green - dataset.nir)/(dataset.green + dataset.nir)"
   ]
  },
  {
   "cell_type": "code",
   "execution_count": null,
   "metadata": {
    "execution": {
     "iopub.execute_input": "2020-09-29T01:00:44.512424Z",
     "iopub.status.busy": "2020-09-29T01:00:44.512022Z",
     "iopub.status.idle": "2020-09-29T01:00:44.518091Z",
     "shell.execute_reply": "2020-09-29T01:00:44.517644Z"
    }
   },
   "outputs": [],
   "source": [
    "ndwi = NDWI(recent_composite)  # High Concentrations of Water - Blues  "
   ]
  },
  {
   "cell_type": "code",
   "execution_count": null,
   "metadata": {
    "execution": {
     "iopub.execute_input": "2020-09-29T01:00:44.521289Z",
     "iopub.status.busy": "2020-09-29T01:00:44.520881Z",
     "iopub.status.idle": "2020-09-29T01:00:45.106253Z",
     "shell.execute_reply": "2020-09-29T01:00:45.106692Z"
    }
   },
   "outputs": [],
   "source": [
    "(ndwi).plot(cmap = \"Blues\")"
   ]
  },
  {
   "cell_type": "markdown",
   "metadata": {},
   "source": [
    "## Plot TSM water quality results\n",
    "This example uses the Australian Total Suspended Matter (TSM) algorithm. The TSM value is the mean over the entire time range. This parameter is a measure of the particulate matter in water and is often a proxy for water quality."
   ]
  },
  {
   "cell_type": "code",
   "execution_count": null,
   "metadata": {
    "execution": {
     "iopub.execute_input": "2020-09-29T01:00:45.110174Z",
     "iopub.status.busy": "2020-09-29T01:00:45.109716Z",
     "iopub.status.idle": "2020-09-29T01:00:45.112153Z",
     "shell.execute_reply": "2020-09-29T01:00:45.111712Z"
    }
   },
   "outputs": [],
   "source": [
    "from utils.data_cube_utilities.dc_water_quality import tsm"
   ]
  },
  {
   "cell_type": "code",
   "execution_count": null,
   "metadata": {
    "execution": {
     "iopub.execute_input": "2020-09-29T01:00:45.115283Z",
     "iopub.status.busy": "2020-09-29T01:00:45.114880Z",
     "iopub.status.idle": "2020-09-29T01:00:45.176286Z",
     "shell.execute_reply": "2020-09-29T01:00:45.176734Z"
    }
   },
   "outputs": [],
   "source": [
    "mask_that_only_includes_water_pixels = water_classification.wofs == 1  \n",
    "tsm_dataset = tsm(recent_composite, clean_mask = mask_that_only_includes_water_pixels )"
   ]
  },
  {
   "cell_type": "code",
   "execution_count": null,
   "metadata": {
    "execution": {
     "iopub.execute_input": "2020-09-29T01:00:45.180461Z",
     "iopub.status.busy": "2020-09-29T01:00:45.180046Z",
     "iopub.status.idle": "2020-09-29T01:00:45.747519Z",
     "shell.execute_reply": "2020-09-29T01:00:45.747971Z"
    }
   },
   "outputs": [],
   "source": [
    "tsm_dataset.tsm.plot(cmap = \"jet\")"
   ]
  },
  {
   "cell_type": "markdown",
   "metadata": {},
   "source": [
    "## Time Series Water Detection Analysis\n",
    "Time series output of the Australian Water Detection from Space (WOFS) results. The results show the percent of time that a pixel is classified as water over the entire time series. BLUE = frequent water, RED = infrequent water."
   ]
  },
  {
   "cell_type": "code",
   "execution_count": null,
   "metadata": {
    "execution": {
     "iopub.execute_input": "2020-09-29T01:00:45.751152Z",
     "iopub.status.busy": "2020-09-29T01:00:45.750729Z",
     "iopub.status.idle": "2020-09-29T01:00:46.350647Z",
     "shell.execute_reply": "2020-09-29T01:00:46.351099Z"
    }
   },
   "outputs": [],
   "source": [
    "ts_water_classification = wofs_classify(landsat_dataset,clean_mask = np.invert(cloud_mask)) "
   ]
  },
  {
   "cell_type": "code",
   "execution_count": null,
   "metadata": {
    "execution": {
     "iopub.execute_input": "2020-09-29T01:00:46.354960Z",
     "iopub.status.busy": "2020-09-29T01:00:46.354168Z",
     "iopub.status.idle": "2020-09-29T01:00:46.494990Z",
     "shell.execute_reply": "2020-09-29T01:00:46.494508Z"
    }
   },
   "outputs": [],
   "source": [
    "# Apply nan to no_data values\n",
    "ts_water_classification = ts_water_classification.where(ts_water_classification != -9999)\n",
    "\n",
    "##Time series aggregation that ignores nan values.    \n",
    "water_classification_percentages = (ts_water_classification.mean(dim = ['time']) * 100).wofs.rename('water_classification_percentages')"
   ]
  },
  {
   "cell_type": "code",
   "execution_count": null,
   "metadata": {
    "execution": {
     "iopub.execute_input": "2020-09-29T01:00:46.498963Z",
     "iopub.status.busy": "2020-09-29T01:00:46.498192Z",
     "iopub.status.idle": "2020-09-29T01:00:47.046196Z",
     "shell.execute_reply": "2020-09-29T01:00:47.045733Z"
    }
   },
   "outputs": [],
   "source": [
    "## import color-scheme and set nans to black\n",
    "from matplotlib.cm import jet_r as jet_r\n",
    "jet_r.set_bad('black',1)\n",
    "\n",
    "## apply nan to percentage values that aren't greater than 0, then plot\n",
    "water_classification_percentages\\\n",
    "    .where(water_classification_percentages > 0)\\\n",
    "    .plot(cmap = jet_r)"
   ]
  },
  {
   "cell_type": "markdown",
   "metadata": {},
   "source": [
    "## Create a WOFS plot for a single pixel\n",
    "First select the Lat-Lon position. Then the code will find the closest pixel in the dataset using a \"nearest neighbor\" selection."
   ]
  },
  {
   "cell_type": "code",
   "execution_count": null,
   "metadata": {
    "execution": {
     "iopub.execute_input": "2020-09-29T01:00:47.049328Z",
     "iopub.status.busy": "2020-09-29T01:00:47.048814Z",
     "iopub.status.idle": "2020-09-29T01:00:47.050472Z",
     "shell.execute_reply": "2020-09-29T01:00:47.050883Z"
    }
   },
   "outputs": [],
   "source": [
    "pixel_lat = 11.84\n",
    "pixel_lon = 107.09"
   ]
  },
  {
   "cell_type": "code",
   "execution_count": null,
   "metadata": {
    "execution": {
     "iopub.execute_input": "2020-09-29T01:00:47.055233Z",
     "iopub.status.busy": "2020-09-29T01:00:47.054001Z",
     "iopub.status.idle": "2020-09-29T01:00:47.057260Z",
     "shell.execute_reply": "2020-09-29T01:00:47.056828Z"
    }
   },
   "outputs": [],
   "source": [
    "pixel = ts_water_classification.sel( latitude  = pixel_lat,\n",
    "                                     longitude = pixel_lon,\n",
    "                                     method = 'nearest') # nearest neighbor selection  "
   ]
  },
  {
   "cell_type": "code",
   "execution_count": null,
   "metadata": {
    "execution": {
     "iopub.execute_input": "2020-09-29T01:00:47.069573Z",
     "iopub.status.busy": "2020-09-29T01:00:47.066655Z",
     "iopub.status.idle": "2020-09-29T01:00:47.312923Z",
     "shell.execute_reply": "2020-09-29T01:00:47.313430Z"
    },
    "scrolled": true
   },
   "outputs": [],
   "source": [
    "import matplotlib.pyplot as plt \n",
    "plt.figure(figsize = (20,5)) \n",
    "plt.scatter(pixel.time.values, pixel.wofs.values)"
   ]
  }
 ],
 "metadata": {
  "kernelspec": {
   "display_name": "Python 3",
   "language": "python",
   "name": "python3"
  },
  "language_info": {
   "codemirror_mode": {
    "name": "ipython",
    "version": 3
   },
   "file_extension": ".py",
   "mimetype": "text/x-python",
   "name": "python",
   "nbconvert_exporter": "python",
   "pygments_lexer": "ipython3",
   "version": "3.6.9"
  },
  "pycharm": {
   "stem_cell": {
    "cell_type": "raw",
    "metadata": {
     "collapsed": false
    },
    "source": []
   }
  }
 },
 "nbformat": 4,
 "nbformat_minor": 2
}
