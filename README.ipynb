{
 "cells": [
  {
   "cell_type": "markdown",
   "source": [
    "# CEOS Open Data Cube Notebooks\n",
    "\n",
    "The CEOS Data Cube Notebooks is a collection of Jupyter Notebooks in a [JupyterLabs](https://jupyter.org/) environment using the [Open Data Cube](https://www.opendatacube.org/) to analyze satellite data.\n",
    "\n",
    "For an overview of the available notebooks, see the [Notebooks Overview](docs/notebooks_overview.md) document.\n",
    "\n",
    "## Installation\n",
    "-------\n",
    "\n",
    "First follow the instructions in the [Environment Setup Guide](https://ceos-odc.readthedocs.io/en/latest/modules/install_docs/environment_setup.html) if you have not yet.\n",
    "\n",
    "Follow the instructions in the [Open Data Cube Database Installation Guide](https://ceos-odc.readthedocs.io/en/latest/modules/install_docs/database_install.html) to setup the Open Data Cube (ODC) database.\n",
    "\n",
    "Follow the instructions in the [Operation Manual](docs/notebooks_operation_manual.md) to set up and operate the Jupyter Notebook environment.\n",
    "\n",
    "Some notebooks make use of Google Earth Engine (GEE) data. For information on how to set up and use the [ODC-GEE integration package](https://github.com/ceos-seo/odc-gee) to load data from GEE, see [this documentation page](https://ceos-odc.readthedocs.io/en/latest/modules/odc_products_technical_docs/odc_gee_technical_doc.html).\n",
    "\n",
    "## Obtaining Help\n",
    "-------\n",
    "\n",
    "If you need help with the Open Data Cube or derived products such as this one, see [this documentation page](https://ceos-odc.readthedocs.io/en/latest/modules/help/obtaining_help.html) for instructions on obtaining help.\n"
   ],
   "metadata": {}
  }
 ],
 "metadata": {
  "kernelspec": {
   "display_name": "Python 3",
   "language": "python",
   "name": "python3"
  },
  "language_info": {
   "codemirror_mode": {
    "name": "ipython",
    "version": 3
   },
   "file_extension": ".py",
   "mimetype": "text/x-python",
   "name": "python",
   "nbconvert_exporter": "python",
   "pygments_lexer": "ipython3",
   "version": "3.6.9"
  }
 },
 "nbformat": 4,
 "nbformat_minor": 4
}